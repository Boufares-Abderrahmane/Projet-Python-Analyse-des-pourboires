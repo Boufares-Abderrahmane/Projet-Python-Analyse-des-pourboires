{
 "cells": [
  {
   "cell_type": "markdown",
   "id": "5b73560e",
   "metadata": {},
   "source": [
    "# **Notebook realisé par Abderrahmane BOUFARES**"
   ]
  },
  {
   "cell_type": "markdown",
   "id": "8710eadd",
   "metadata": {},
   "source": [
    "**Question 1 :Importer les données de ce fichier et faire une description. Bien faire attention à regarder si tous les objets ont bien le type défini (attention aux décimales avec des virgules !)**"
   ]
  },
  {
   "cell_type": "code",
   "execution_count": 1,
   "id": "0fc41aad",
   "metadata": {},
   "outputs": [],
   "source": [
    "import pandas as pd \n",
    "import  numpy as np\n",
    "import matplotlib.pyplot as plt\n",
    "import seaborn as sns #Ces codes serrent a importer des librairies de python"
   ]
  },
  {
   "cell_type": "code",
   "execution_count": 2,
   "id": "00253b7f",
   "metadata": {},
   "outputs": [
    {
     "data": {
      "text/html": [
       "<div>\n",
       "<style scoped>\n",
       "    .dataframe tbody tr th:only-of-type {\n",
       "        vertical-align: middle;\n",
       "    }\n",
       "\n",
       "    .dataframe tbody tr th {\n",
       "        vertical-align: top;\n",
       "    }\n",
       "\n",
       "    .dataframe thead th {\n",
       "        text-align: right;\n",
       "    }\n",
       "</style>\n",
       "<table border=\"1\" class=\"dataframe\">\n",
       "  <thead>\n",
       "    <tr style=\"text-align: right;\">\n",
       "      <th></th>\n",
       "      <th>Note</th>\n",
       "      <th>Pourboire</th>\n",
       "      <th>Genre</th>\n",
       "      <th>Jour</th>\n",
       "      <th>Repas</th>\n",
       "      <th>Nombre d'individus</th>\n",
       "    </tr>\n",
       "  </thead>\n",
       "  <tbody>\n",
       "    <tr>\n",
       "      <th>0</th>\n",
       "      <td>169,90</td>\n",
       "      <td>10,00</td>\n",
       "      <td>Femme</td>\n",
       "      <td>Dimanche</td>\n",
       "      <td>Dîner</td>\n",
       "      <td>2,00</td>\n",
       "    </tr>\n",
       "    <tr>\n",
       "      <th>1</th>\n",
       "      <td>103,40</td>\n",
       "      <td>17,00</td>\n",
       "      <td>Homme</td>\n",
       "      <td>Dimanche</td>\n",
       "      <td>Dîner</td>\n",
       "      <td>3,00</td>\n",
       "    </tr>\n",
       "    <tr>\n",
       "      <th>2</th>\n",
       "      <td>210,10</td>\n",
       "      <td>35,00</td>\n",
       "      <td>Homme</td>\n",
       "      <td>Dimanche</td>\n",
       "      <td>Dîner</td>\n",
       "      <td>3,00</td>\n",
       "    </tr>\n",
       "    <tr>\n",
       "      <th>3</th>\n",
       "      <td>236,80</td>\n",
       "      <td>33,00</td>\n",
       "      <td>Homme</td>\n",
       "      <td>Dimanche</td>\n",
       "      <td>Dîner</td>\n",
       "      <td>2,00</td>\n",
       "    </tr>\n",
       "    <tr>\n",
       "      <th>4</th>\n",
       "      <td>245,90</td>\n",
       "      <td>36,00</td>\n",
       "      <td>Femme</td>\n",
       "      <td>Dimanche</td>\n",
       "      <td>Dîner</td>\n",
       "      <td>4,00</td>\n",
       "    </tr>\n",
       "    <tr>\n",
       "      <th>5</th>\n",
       "      <td>252,90</td>\n",
       "      <td>47,00</td>\n",
       "      <td>Homme</td>\n",
       "      <td>Dimanche</td>\n",
       "      <td>Dîner</td>\n",
       "      <td>4,00</td>\n",
       "    </tr>\n",
       "    <tr>\n",
       "      <th>6</th>\n",
       "      <td>87,70</td>\n",
       "      <td>20,00</td>\n",
       "      <td>Homme</td>\n",
       "      <td>Dimanche</td>\n",
       "      <td>Dîner</td>\n",
       "      <td>2,00</td>\n",
       "    </tr>\n",
       "    <tr>\n",
       "      <th>7</th>\n",
       "      <td>268,80</td>\n",
       "      <td>31,00</td>\n",
       "      <td>Homme</td>\n",
       "      <td>Dimanche</td>\n",
       "      <td>Dîner</td>\n",
       "      <td>4,00</td>\n",
       "    </tr>\n",
       "    <tr>\n",
       "      <th>8</th>\n",
       "      <td>150,40</td>\n",
       "      <td>20,00</td>\n",
       "      <td>Homme</td>\n",
       "      <td>Dimanche</td>\n",
       "      <td>Dîner</td>\n",
       "      <td>2,00</td>\n",
       "    </tr>\n",
       "    <tr>\n",
       "      <th>9</th>\n",
       "      <td>147,80</td>\n",
       "      <td>32,00</td>\n",
       "      <td>Homme</td>\n",
       "      <td>Dimanche</td>\n",
       "      <td>Dîner</td>\n",
       "      <td>2,00</td>\n",
       "    </tr>\n",
       "  </tbody>\n",
       "</table>\n",
       "</div>"
      ],
      "text/plain": [
       "     Note Pourboire  Genre      Jour  Repas Nombre d'individus\n",
       "0  169,90     10,00  Femme  Dimanche  Dîner               2,00\n",
       "1  103,40     17,00  Homme  Dimanche  Dîner               3,00\n",
       "2  210,10     35,00  Homme  Dimanche  Dîner               3,00\n",
       "3  236,80     33,00  Homme  Dimanche  Dîner               2,00\n",
       "4  245,90     36,00  Femme  Dimanche  Dîner               4,00\n",
       "5  252,90     47,00  Homme  Dimanche  Dîner               4,00\n",
       "6   87,70     20,00  Homme  Dimanche  Dîner               2,00\n",
       "7  268,80     31,00  Homme  Dimanche  Dîner               4,00\n",
       "8  150,40     20,00  Homme  Dimanche  Dîner               2,00\n",
       "9  147,80     32,00  Homme  Dimanche  Dîner               2,00"
      ]
     },
     "execution_count": 2,
     "metadata": {},
     "output_type": "execute_result"
    }
   ],
   "source": [
    "df=pd.read_csv(\"C:/Users/ASUS ROG Zephyrus S/Desktop/Downloads/Pourboire.csv\", sep=\";\", encoding=\"latin1\") \n",
    "df.head(10) #Ce code nous permet de lire un fichier csv present sur notre ordinateur et l'afficher"
   ]
  },
  {
   "cell_type": "markdown",
   "id": "7c78bf8f",
   "metadata": {},
   "source": [
    "**Question 2 : Changer l’intitulé de la variable « nombre d’individus » et le nommé tout simplement « n » pour que cela soit plus pratique.**"
   ]
  },
  {
   "cell_type": "code",
   "execution_count": 3,
   "id": "de1a9ca0",
   "metadata": {},
   "outputs": [],
   "source": [
    "df=df.rename(columns={df.columns[5]: 'n'}) #Ce code sert a renomer la colonne 5 par n sachant que python compte les colonnes de 0 et non pas de 1 "
   ]
  },
  {
   "cell_type": "code",
   "execution_count": 4,
   "id": "fa37375c",
   "metadata": {
    "scrolled": false
   },
   "outputs": [
    {
     "data": {
      "text/html": [
       "<div>\n",
       "<style scoped>\n",
       "    .dataframe tbody tr th:only-of-type {\n",
       "        vertical-align: middle;\n",
       "    }\n",
       "\n",
       "    .dataframe tbody tr th {\n",
       "        vertical-align: top;\n",
       "    }\n",
       "\n",
       "    .dataframe thead th {\n",
       "        text-align: right;\n",
       "    }\n",
       "</style>\n",
       "<table border=\"1\" class=\"dataframe\">\n",
       "  <thead>\n",
       "    <tr style=\"text-align: right;\">\n",
       "      <th></th>\n",
       "      <th>Note</th>\n",
       "      <th>Pourboire</th>\n",
       "      <th>Genre</th>\n",
       "      <th>Jour</th>\n",
       "      <th>Repas</th>\n",
       "      <th>n</th>\n",
       "    </tr>\n",
       "  </thead>\n",
       "  <tbody>\n",
       "    <tr>\n",
       "      <th>0</th>\n",
       "      <td>169,90</td>\n",
       "      <td>10,00</td>\n",
       "      <td>Femme</td>\n",
       "      <td>Dimanche</td>\n",
       "      <td>Dîner</td>\n",
       "      <td>2,00</td>\n",
       "    </tr>\n",
       "    <tr>\n",
       "      <th>1</th>\n",
       "      <td>103,40</td>\n",
       "      <td>17,00</td>\n",
       "      <td>Homme</td>\n",
       "      <td>Dimanche</td>\n",
       "      <td>Dîner</td>\n",
       "      <td>3,00</td>\n",
       "    </tr>\n",
       "    <tr>\n",
       "      <th>2</th>\n",
       "      <td>210,10</td>\n",
       "      <td>35,00</td>\n",
       "      <td>Homme</td>\n",
       "      <td>Dimanche</td>\n",
       "      <td>Dîner</td>\n",
       "      <td>3,00</td>\n",
       "    </tr>\n",
       "    <tr>\n",
       "      <th>3</th>\n",
       "      <td>236,80</td>\n",
       "      <td>33,00</td>\n",
       "      <td>Homme</td>\n",
       "      <td>Dimanche</td>\n",
       "      <td>Dîner</td>\n",
       "      <td>2,00</td>\n",
       "    </tr>\n",
       "    <tr>\n",
       "      <th>4</th>\n",
       "      <td>245,90</td>\n",
       "      <td>36,00</td>\n",
       "      <td>Femme</td>\n",
       "      <td>Dimanche</td>\n",
       "      <td>Dîner</td>\n",
       "      <td>4,00</td>\n",
       "    </tr>\n",
       "    <tr>\n",
       "      <th>...</th>\n",
       "      <td>...</td>\n",
       "      <td>...</td>\n",
       "      <td>...</td>\n",
       "      <td>...</td>\n",
       "      <td>...</td>\n",
       "      <td>...</td>\n",
       "    </tr>\n",
       "    <tr>\n",
       "      <th>239</th>\n",
       "      <td>290,30</td>\n",
       "      <td>59,00</td>\n",
       "      <td>Homme</td>\n",
       "      <td>Samedi</td>\n",
       "      <td>Dîner</td>\n",
       "      <td>3,00</td>\n",
       "    </tr>\n",
       "    <tr>\n",
       "      <th>240</th>\n",
       "      <td>271,80</td>\n",
       "      <td>20,00</td>\n",
       "      <td>Femme</td>\n",
       "      <td>Samedi</td>\n",
       "      <td>Dîner</td>\n",
       "      <td>2,00</td>\n",
       "    </tr>\n",
       "    <tr>\n",
       "      <th>241</th>\n",
       "      <td>226,70</td>\n",
       "      <td>20,00</td>\n",
       "      <td>Homme</td>\n",
       "      <td>Samedi</td>\n",
       "      <td>Dîner</td>\n",
       "      <td>2,00</td>\n",
       "    </tr>\n",
       "    <tr>\n",
       "      <th>242</th>\n",
       "      <td>178,20</td>\n",
       "      <td>18,00</td>\n",
       "      <td>Homme</td>\n",
       "      <td>Samedi</td>\n",
       "      <td>Dîner</td>\n",
       "      <td>2,00</td>\n",
       "    </tr>\n",
       "    <tr>\n",
       "      <th>243</th>\n",
       "      <td>187,80</td>\n",
       "      <td>30,00</td>\n",
       "      <td>Femme</td>\n",
       "      <td>Dimanche</td>\n",
       "      <td>Dîner</td>\n",
       "      <td>2,00</td>\n",
       "    </tr>\n",
       "  </tbody>\n",
       "</table>\n",
       "<p>244 rows × 6 columns</p>\n",
       "</div>"
      ],
      "text/plain": [
       "       Note Pourboire  Genre      Jour  Repas     n\n",
       "0    169,90     10,00  Femme  Dimanche  Dîner  2,00\n",
       "1    103,40     17,00  Homme  Dimanche  Dîner  3,00\n",
       "2    210,10     35,00  Homme  Dimanche  Dîner  3,00\n",
       "3    236,80     33,00  Homme  Dimanche  Dîner  2,00\n",
       "4    245,90     36,00  Femme  Dimanche  Dîner  4,00\n",
       "..      ...       ...    ...       ...    ...   ...\n",
       "239  290,30     59,00  Homme    Samedi  Dîner  3,00\n",
       "240  271,80     20,00  Femme    Samedi  Dîner  2,00\n",
       "241  226,70     20,00  Homme    Samedi  Dîner  2,00\n",
       "242  178,20     18,00  Homme    Samedi  Dîner  2,00\n",
       "243  187,80     30,00  Femme  Dimanche  Dîner  2,00\n",
       "\n",
       "[244 rows x 6 columns]"
      ]
     },
     "execution_count": 4,
     "metadata": {},
     "output_type": "execute_result"
    }
   ],
   "source": [
    "df #Ce code nous permet d'afficher notre Dataframe"
   ]
  },
  {
   "cell_type": "code",
   "execution_count": 5,
   "id": "f89530f4",
   "metadata": {},
   "outputs": [],
   "source": [
    "df['Note'] = df['Note'].str.strip() #Ce code me permet de supprimer les espaces en debut et en fin de chaque chaine de caractere de la variable \"Note\""
   ]
  },
  {
   "cell_type": "code",
   "execution_count": 6,
   "id": "7e749d58",
   "metadata": {},
   "outputs": [],
   "source": [
    "df['n'] = df['n'].str.strip() #Ce code me permet de supprimer les espaces en debut et en fin de chaque chaine de caractere de la variable \"n\""
   ]
  },
  {
   "cell_type": "code",
   "execution_count": 7,
   "id": "c68fdb8d",
   "metadata": {},
   "outputs": [],
   "source": [
    "df['Note'] = df['Note'].str.replace(',', '.') # Ce code me permet de remplacer les virgules par des points"
   ]
  },
  {
   "cell_type": "code",
   "execution_count": 8,
   "id": "16e2ad96",
   "metadata": {},
   "outputs": [],
   "source": [
    "df['n'] = df['n'].str.replace(',', '.')"
   ]
  },
  {
   "cell_type": "code",
   "execution_count": 9,
   "id": "0a7044df",
   "metadata": {},
   "outputs": [],
   "source": [
    "df['Note'] = pd.to_numeric(df['Note'], errors='coerce') #Ce code Convertit les valeurs de la colonne \"Note\" en format numérique"
   ]
  },
  {
   "cell_type": "code",
   "execution_count": 10,
   "id": "c4c8ac4d",
   "metadata": {},
   "outputs": [],
   "source": [
    "df['n'] = pd.to_numeric(df['n'], errors='coerce')"
   ]
  },
  {
   "cell_type": "markdown",
   "id": "d4ef104e",
   "metadata": {},
   "source": [
    "**Question 3 : Faire deux autres Variables : Note selon le nombre de personnes et pourboire selon le nombre de personnes.**"
   ]
  },
  {
   "cell_type": "code",
   "execution_count": 11,
   "id": "08bba457",
   "metadata": {},
   "outputs": [],
   "source": [
    "df[\"Note selon le nombre de personnes\"] = df.apply(lambda row: row[\"Note\"] / row[\"n\"], axis=1) #Ce code me permet de creer une nouvelle variable du resultat de la \"Note\" divisé par n "
   ]
  },
  {
   "cell_type": "code",
   "execution_count": 12,
   "id": "ae5710dc",
   "metadata": {},
   "outputs": [],
   "source": [
    "df=df.rename(columns={df.columns[6]: 'f'})"
   ]
  },
  {
   "cell_type": "code",
   "execution_count": 13,
   "id": "4946ec8c",
   "metadata": {},
   "outputs": [
    {
     "data": {
      "text/html": [
       "<div>\n",
       "<style scoped>\n",
       "    .dataframe tbody tr th:only-of-type {\n",
       "        vertical-align: middle;\n",
       "    }\n",
       "\n",
       "    .dataframe tbody tr th {\n",
       "        vertical-align: top;\n",
       "    }\n",
       "\n",
       "    .dataframe thead th {\n",
       "        text-align: right;\n",
       "    }\n",
       "</style>\n",
       "<table border=\"1\" class=\"dataframe\">\n",
       "  <thead>\n",
       "    <tr style=\"text-align: right;\">\n",
       "      <th></th>\n",
       "      <th>Note</th>\n",
       "      <th>Pourboire</th>\n",
       "      <th>Genre</th>\n",
       "      <th>Jour</th>\n",
       "      <th>Repas</th>\n",
       "      <th>n</th>\n",
       "      <th>f</th>\n",
       "    </tr>\n",
       "  </thead>\n",
       "  <tbody>\n",
       "    <tr>\n",
       "      <th>0</th>\n",
       "      <td>169.9</td>\n",
       "      <td>10,00</td>\n",
       "      <td>Femme</td>\n",
       "      <td>Dimanche</td>\n",
       "      <td>Dîner</td>\n",
       "      <td>2.0</td>\n",
       "      <td>84.950000</td>\n",
       "    </tr>\n",
       "    <tr>\n",
       "      <th>1</th>\n",
       "      <td>103.4</td>\n",
       "      <td>17,00</td>\n",
       "      <td>Homme</td>\n",
       "      <td>Dimanche</td>\n",
       "      <td>Dîner</td>\n",
       "      <td>3.0</td>\n",
       "      <td>34.466667</td>\n",
       "    </tr>\n",
       "    <tr>\n",
       "      <th>2</th>\n",
       "      <td>210.1</td>\n",
       "      <td>35,00</td>\n",
       "      <td>Homme</td>\n",
       "      <td>Dimanche</td>\n",
       "      <td>Dîner</td>\n",
       "      <td>3.0</td>\n",
       "      <td>70.033333</td>\n",
       "    </tr>\n",
       "    <tr>\n",
       "      <th>3</th>\n",
       "      <td>236.8</td>\n",
       "      <td>33,00</td>\n",
       "      <td>Homme</td>\n",
       "      <td>Dimanche</td>\n",
       "      <td>Dîner</td>\n",
       "      <td>2.0</td>\n",
       "      <td>118.400000</td>\n",
       "    </tr>\n",
       "    <tr>\n",
       "      <th>4</th>\n",
       "      <td>245.9</td>\n",
       "      <td>36,00</td>\n",
       "      <td>Femme</td>\n",
       "      <td>Dimanche</td>\n",
       "      <td>Dîner</td>\n",
       "      <td>4.0</td>\n",
       "      <td>61.475000</td>\n",
       "    </tr>\n",
       "  </tbody>\n",
       "</table>\n",
       "</div>"
      ],
      "text/plain": [
       "    Note Pourboire  Genre      Jour  Repas    n           f\n",
       "0  169.9     10,00  Femme  Dimanche  Dîner  2.0   84.950000\n",
       "1  103.4     17,00  Homme  Dimanche  Dîner  3.0   34.466667\n",
       "2  210.1     35,00  Homme  Dimanche  Dîner  3.0   70.033333\n",
       "3  236.8     33,00  Homme  Dimanche  Dîner  2.0  118.400000\n",
       "4  245.9     36,00  Femme  Dimanche  Dîner  4.0   61.475000"
      ]
     },
     "execution_count": 13,
     "metadata": {},
     "output_type": "execute_result"
    }
   ],
   "source": [
    "df.head() #Ce code sert a afficher mon Dataframe"
   ]
  },
  {
   "cell_type": "code",
   "execution_count": 14,
   "id": "89626088",
   "metadata": {},
   "outputs": [],
   "source": [
    "df['f'] = df['f'].astype(int)"
   ]
  },
  {
   "cell_type": "code",
   "execution_count": 15,
   "id": "7a15b6aa",
   "metadata": {
    "scrolled": true
   },
   "outputs": [
    {
     "data": {
      "text/html": [
       "<div>\n",
       "<style scoped>\n",
       "    .dataframe tbody tr th:only-of-type {\n",
       "        vertical-align: middle;\n",
       "    }\n",
       "\n",
       "    .dataframe tbody tr th {\n",
       "        vertical-align: top;\n",
       "    }\n",
       "\n",
       "    .dataframe thead th {\n",
       "        text-align: right;\n",
       "    }\n",
       "</style>\n",
       "<table border=\"1\" class=\"dataframe\">\n",
       "  <thead>\n",
       "    <tr style=\"text-align: right;\">\n",
       "      <th></th>\n",
       "      <th>Note</th>\n",
       "      <th>Pourboire</th>\n",
       "      <th>Genre</th>\n",
       "      <th>Jour</th>\n",
       "      <th>Repas</th>\n",
       "      <th>n</th>\n",
       "      <th>f</th>\n",
       "    </tr>\n",
       "  </thead>\n",
       "  <tbody>\n",
       "    <tr>\n",
       "      <th>0</th>\n",
       "      <td>169.9</td>\n",
       "      <td>10,00</td>\n",
       "      <td>Femme</td>\n",
       "      <td>Dimanche</td>\n",
       "      <td>Dîner</td>\n",
       "      <td>2.0</td>\n",
       "      <td>84</td>\n",
       "    </tr>\n",
       "    <tr>\n",
       "      <th>1</th>\n",
       "      <td>103.4</td>\n",
       "      <td>17,00</td>\n",
       "      <td>Homme</td>\n",
       "      <td>Dimanche</td>\n",
       "      <td>Dîner</td>\n",
       "      <td>3.0</td>\n",
       "      <td>34</td>\n",
       "    </tr>\n",
       "    <tr>\n",
       "      <th>2</th>\n",
       "      <td>210.1</td>\n",
       "      <td>35,00</td>\n",
       "      <td>Homme</td>\n",
       "      <td>Dimanche</td>\n",
       "      <td>Dîner</td>\n",
       "      <td>3.0</td>\n",
       "      <td>70</td>\n",
       "    </tr>\n",
       "    <tr>\n",
       "      <th>3</th>\n",
       "      <td>236.8</td>\n",
       "      <td>33,00</td>\n",
       "      <td>Homme</td>\n",
       "      <td>Dimanche</td>\n",
       "      <td>Dîner</td>\n",
       "      <td>2.0</td>\n",
       "      <td>118</td>\n",
       "    </tr>\n",
       "    <tr>\n",
       "      <th>4</th>\n",
       "      <td>245.9</td>\n",
       "      <td>36,00</td>\n",
       "      <td>Femme</td>\n",
       "      <td>Dimanche</td>\n",
       "      <td>Dîner</td>\n",
       "      <td>4.0</td>\n",
       "      <td>61</td>\n",
       "    </tr>\n",
       "  </tbody>\n",
       "</table>\n",
       "</div>"
      ],
      "text/plain": [
       "    Note Pourboire  Genre      Jour  Repas    n    f\n",
       "0  169.9     10,00  Femme  Dimanche  Dîner  2.0   84\n",
       "1  103.4     17,00  Homme  Dimanche  Dîner  3.0   34\n",
       "2  210.1     35,00  Homme  Dimanche  Dîner  3.0   70\n",
       "3  236.8     33,00  Homme  Dimanche  Dîner  2.0  118\n",
       "4  245.9     36,00  Femme  Dimanche  Dîner  4.0   61"
      ]
     },
     "execution_count": 15,
     "metadata": {},
     "output_type": "execute_result"
    }
   ],
   "source": [
    "df.head()"
   ]
  },
  {
   "cell_type": "code",
   "execution_count": 16,
   "id": "54d28523",
   "metadata": {},
   "outputs": [],
   "source": [
    "df['Pourboire'] = df['Pourboire'].str.strip()"
   ]
  },
  {
   "cell_type": "code",
   "execution_count": 17,
   "id": "b77eea2c",
   "metadata": {},
   "outputs": [],
   "source": [
    "df['Pourboire'] = df['Pourboire'].str.replace(',', '.')"
   ]
  },
  {
   "cell_type": "code",
   "execution_count": 18,
   "id": "c47137d2",
   "metadata": {},
   "outputs": [],
   "source": [
    "df['Pourboire'] = pd.to_numeric(df['Pourboire'], errors='coerce')"
   ]
  },
  {
   "cell_type": "code",
   "execution_count": 19,
   "id": "9566215b",
   "metadata": {},
   "outputs": [],
   "source": [
    "df[\"Pourboire selon le nombre de personnes\"] = df.apply(lambda row: row[\"Pourboire\"] / row[\"n\"], axis=1)"
   ]
  },
  {
   "cell_type": "code",
   "execution_count": 20,
   "id": "920e3bd7",
   "metadata": {},
   "outputs": [],
   "source": [
    "df['Pourboire selon le nombre de personnes'] = df['Pourboire selon le nombre de personnes'].astype(int)"
   ]
  },
  {
   "cell_type": "code",
   "execution_count": 21,
   "id": "4cc4f5cf",
   "metadata": {},
   "outputs": [],
   "source": [
    "df=df.rename(columns={df.columns[7]: 'g'})"
   ]
  },
  {
   "cell_type": "code",
   "execution_count": 22,
   "id": "e6291e59",
   "metadata": {},
   "outputs": [
    {
     "data": {
      "text/html": [
       "<div>\n",
       "<style scoped>\n",
       "    .dataframe tbody tr th:only-of-type {\n",
       "        vertical-align: middle;\n",
       "    }\n",
       "\n",
       "    .dataframe tbody tr th {\n",
       "        vertical-align: top;\n",
       "    }\n",
       "\n",
       "    .dataframe thead th {\n",
       "        text-align: right;\n",
       "    }\n",
       "</style>\n",
       "<table border=\"1\" class=\"dataframe\">\n",
       "  <thead>\n",
       "    <tr style=\"text-align: right;\">\n",
       "      <th></th>\n",
       "      <th>Note</th>\n",
       "      <th>Pourboire</th>\n",
       "      <th>Genre</th>\n",
       "      <th>Jour</th>\n",
       "      <th>Repas</th>\n",
       "      <th>n</th>\n",
       "      <th>f</th>\n",
       "      <th>g</th>\n",
       "    </tr>\n",
       "  </thead>\n",
       "  <tbody>\n",
       "    <tr>\n",
       "      <th>0</th>\n",
       "      <td>169.9</td>\n",
       "      <td>10.0</td>\n",
       "      <td>Femme</td>\n",
       "      <td>Dimanche</td>\n",
       "      <td>Dîner</td>\n",
       "      <td>2.0</td>\n",
       "      <td>84</td>\n",
       "      <td>5</td>\n",
       "    </tr>\n",
       "    <tr>\n",
       "      <th>1</th>\n",
       "      <td>103.4</td>\n",
       "      <td>17.0</td>\n",
       "      <td>Homme</td>\n",
       "      <td>Dimanche</td>\n",
       "      <td>Dîner</td>\n",
       "      <td>3.0</td>\n",
       "      <td>34</td>\n",
       "      <td>5</td>\n",
       "    </tr>\n",
       "    <tr>\n",
       "      <th>2</th>\n",
       "      <td>210.1</td>\n",
       "      <td>35.0</td>\n",
       "      <td>Homme</td>\n",
       "      <td>Dimanche</td>\n",
       "      <td>Dîner</td>\n",
       "      <td>3.0</td>\n",
       "      <td>70</td>\n",
       "      <td>11</td>\n",
       "    </tr>\n",
       "    <tr>\n",
       "      <th>3</th>\n",
       "      <td>236.8</td>\n",
       "      <td>33.0</td>\n",
       "      <td>Homme</td>\n",
       "      <td>Dimanche</td>\n",
       "      <td>Dîner</td>\n",
       "      <td>2.0</td>\n",
       "      <td>118</td>\n",
       "      <td>16</td>\n",
       "    </tr>\n",
       "    <tr>\n",
       "      <th>4</th>\n",
       "      <td>245.9</td>\n",
       "      <td>36.0</td>\n",
       "      <td>Femme</td>\n",
       "      <td>Dimanche</td>\n",
       "      <td>Dîner</td>\n",
       "      <td>4.0</td>\n",
       "      <td>61</td>\n",
       "      <td>9</td>\n",
       "    </tr>\n",
       "  </tbody>\n",
       "</table>\n",
       "</div>"
      ],
      "text/plain": [
       "    Note  Pourboire  Genre      Jour  Repas    n    f   g\n",
       "0  169.9       10.0  Femme  Dimanche  Dîner  2.0   84   5\n",
       "1  103.4       17.0  Homme  Dimanche  Dîner  3.0   34   5\n",
       "2  210.1       35.0  Homme  Dimanche  Dîner  3.0   70  11\n",
       "3  236.8       33.0  Homme  Dimanche  Dîner  2.0  118  16\n",
       "4  245.9       36.0  Femme  Dimanche  Dîner  4.0   61   9"
      ]
     },
     "execution_count": 22,
     "metadata": {},
     "output_type": "execute_result"
    }
   ],
   "source": [
    "df.head()"
   ]
  },
  {
   "cell_type": "markdown",
   "id": "c61697a2",
   "metadata": {},
   "source": [
    "**Question 4 : Faire une description statistique des variables, toutes les variables. Vous pourrez faire des tableaux dans ce notebook.**"
   ]
  },
  {
   "cell_type": "code",
   "execution_count": 23,
   "id": "27185a66",
   "metadata": {},
   "outputs": [],
   "source": [
    "descriptive_stats = df.describe() #cette fonction nous permet de faire les statistiques discriptives des variables quantitatives"
   ]
  },
  {
   "cell_type": "code",
   "execution_count": 24,
   "id": "eda09bcf",
   "metadata": {
    "scrolled": true
   },
   "outputs": [
    {
     "name": "stdout",
     "output_type": "stream",
     "text": [
      "             Note   Pourboire           n           f           g\n",
      "count  244.000000  244.000000  244.000000  244.000000  244.000000\n",
      "mean   197.859426   30.020492    2.569672   78.430328   11.893443\n",
      "std     89.024120   13.843763    0.951100   29.157287    4.938815\n",
      "min     30.700000   10.000000    1.000000   28.000000    4.000000\n",
      "25%    133.475000   20.000000    2.000000   57.750000    8.000000\n",
      "50%    177.950000   29.000000    2.000000   72.000000   11.000000\n",
      "75%    241.275000   36.000000    3.000000   93.000000   15.000000\n",
      "max    508.100000  100.000000    6.000000  202.000000   33.000000\n"
     ]
    }
   ],
   "source": [
    "print(descriptive_stats)"
   ]
  },
  {
   "cell_type": "markdown",
   "id": "1a02a62f",
   "metadata": {},
   "source": [
    "# **Statistiques descriptives**\n",
    "\n",
    "**Liste de variables :** \n",
    "1. Note\n",
    "2. Pourboire\n",
    "3. Nombre d'individus (n)\n",
    "4. Note selon le nombre d'individus (f)\n",
    "5. Pourboire selon le nombre d'individus (g)\n",
    "\n",
    "**Statistiques pertinents générées par le code**\n",
    "1. count (nombre d'observations)\n",
    "2. mean (moyenne)\n",
    "3. std (écart type)\n",
    "\n",
    "**Interprétation**\n",
    "il existe 244 observations pour chaque variable, la moyenne de chaque variable respectivement est 197.85, 30.02, 2.5, 78.43, 11.89, l'écart-type est 89.02, 13.84, 0.95, 29.15, 4.93. Il existe d'autres statistiques générées par ce même code tel que la valeur minimale et maximale pour chaque variable ainsi que les quartiles de chaque variable.\n",
    "l'ensemble de ses statistiques nous permet de mieux comprendre la distribution de nos variables dans cette échantillon de 244 observations, sa forme, sa tendance et sa dispersion."
   ]
  },
  {
   "cell_type": "code",
   "execution_count": 25,
   "id": "264ad94d",
   "metadata": {},
   "outputs": [],
   "source": [
    "descriptive_stats_all = df.describe(include='all') #cette fonction nous permet d'avoir les statistiques discriptives pour toutes les variables du Data"
   ]
  },
  {
   "cell_type": "code",
   "execution_count": 26,
   "id": "6697822a",
   "metadata": {
    "scrolled": true
   },
   "outputs": [
    {
     "name": "stdout",
     "output_type": "stream",
     "text": [
      "              Note   Pourboire  Genre    Jour  Repas           n           f  \\\n",
      "count   244.000000  244.000000    244     244    244  244.000000  244.000000   \n",
      "unique         NaN         NaN      2       4      2         NaN         NaN   \n",
      "top            NaN         NaN  Homme  Samedi  Dîner         NaN         NaN   \n",
      "freq           NaN         NaN    157      87    176         NaN         NaN   \n",
      "mean    197.859426   30.020492    NaN     NaN    NaN    2.569672   78.430328   \n",
      "std      89.024120   13.843763    NaN     NaN    NaN    0.951100   29.157287   \n",
      "min      30.700000   10.000000    NaN     NaN    NaN    1.000000   28.000000   \n",
      "25%     133.475000   20.000000    NaN     NaN    NaN    2.000000   57.750000   \n",
      "50%     177.950000   29.000000    NaN     NaN    NaN    2.000000   72.000000   \n",
      "75%     241.275000   36.000000    NaN     NaN    NaN    3.000000   93.000000   \n",
      "max     508.100000  100.000000    NaN     NaN    NaN    6.000000  202.000000   \n",
      "\n",
      "                 g  \n",
      "count   244.000000  \n",
      "unique         NaN  \n",
      "top            NaN  \n",
      "freq           NaN  \n",
      "mean     11.893443  \n",
      "std       4.938815  \n",
      "min       4.000000  \n",
      "25%       8.000000  \n",
      "50%      11.000000  \n",
      "75%      15.000000  \n",
      "max      33.000000  \n"
     ]
    }
   ],
   "source": [
    "print(descriptive_stats_all)"
   ]
  },
  {
   "cell_type": "markdown",
   "id": "a573da59",
   "metadata": {},
   "source": [
    "# **Statistiques descriptives pour les variables qualitatives**\n",
    "\n",
    "**Liste de variables :** \n",
    "1. Genre\n",
    "2. Jour\n",
    "3. Repas\n",
    "\n",
    "**Statistiques pertinents générées par le code**\n",
    "1. Unique (Nombre de modalités) \n",
    "2. Top (Modalité la plus fréquente)\n",
    "3. Freq (Fréquence de la modalité la plus fréquente)\n",
    "\n",
    "**Interprétation**\n",
    "il existe 244 observations pour chaque variable, le nobre de modalité de chaque variables qualitatives respectivement est 2, 4, 2, la modalité la plus fréquente est **homme** pour **genre**, **samedi** pour **jour** et **diner** pour **repas**."
   ]
  },
  {
   "cell_type": "markdown",
   "id": "0ddd7591",
   "metadata": {},
   "source": [
    "**Question 5 : Vous pourrez calculer les déciles des notes et des notes par individus.**"
   ]
  },
  {
   "cell_type": "code",
   "execution_count": 27,
   "id": "455d4ea0",
   "metadata": {},
   "outputs": [],
   "source": [
    "deciles1 = df['Note'].quantile([0.1, 0.2, 0.3, 0.4, 0.5, 0.6, 0.7, 0.8, 0.9])"
   ]
  },
  {
   "cell_type": "code",
   "execution_count": 28,
   "id": "3a6e6b06",
   "metadata": {},
   "outputs": [
    {
     "name": "stdout",
     "output_type": "stream",
     "text": [
      "0.1    103.40\n",
      "0.2    126.36\n",
      "0.3    142.49\n",
      "0.4    162.22\n",
      "0.5    177.95\n",
      "0.6    198.18\n",
      "0.7    225.08\n",
      "0.8    260.98\n",
      "0.9    322.35\n",
      "Name: Note, dtype: float64\n"
     ]
    }
   ],
   "source": [
    "print(deciles1)"
   ]
  },
  {
   "cell_type": "code",
   "execution_count": 29,
   "id": "8f7f4e36",
   "metadata": {},
   "outputs": [],
   "source": [
    "deciles2 = df['f'].quantile([0.1, 0.2, 0.3, 0.4, 0.5, 0.6, 0.7, 0.8, 0.9])"
   ]
  },
  {
   "cell_type": "code",
   "execution_count": 30,
   "id": "1bb7f04f",
   "metadata": {},
   "outputs": [
    {
     "name": "stdout",
     "output_type": "stream",
     "text": [
      "0.1     49.0\n",
      "0.2     55.0\n",
      "0.3     60.9\n",
      "0.4     65.2\n",
      "0.5     72.0\n",
      "0.6     80.0\n",
      "0.7     88.0\n",
      "0.8     99.4\n",
      "0.9    117.4\n",
      "Name: f, dtype: float64\n"
     ]
    }
   ],
   "source": [
    "print(deciles2)"
   ]
  },
  {
   "cell_type": "markdown",
   "id": "7d6e93ab",
   "metadata": {},
   "source": [
    "**Question 6 : Faire un data frame avec pour les notes inférieures au D1 (décile d’ordre 1) et supérieur au D9 (décile d’ordre 9) et comparer les distributions de différentes variables entre les deux.**"
   ]
  },
  {
   "cell_type": "code",
   "execution_count": 31,
   "id": "742c894b",
   "metadata": {},
   "outputs": [],
   "source": [
    "deciles3 = df['Note'].quantile([0.1, 0.9])"
   ]
  },
  {
   "cell_type": "code",
   "execution_count": 32,
   "id": "00871a3d",
   "metadata": {},
   "outputs": [],
   "source": [
    "df_selected = df[(df['Note'] < deciles3[0.1]) | (df['Note'] > deciles3[0.9])] #Ici nous selectionnons les deciles inferieure a 0.1 et superieur a 0.9"
   ]
  },
  {
   "cell_type": "code",
   "execution_count": 33,
   "id": "9b105759",
   "metadata": {},
   "outputs": [],
   "source": [
    "comparison_stats = df_selected.groupby('Note').agg({'Pourboire': 'mean', 'n': 'std', 'f': 'median','g':'mean'})"
   ]
  },
  {
   "cell_type": "code",
   "execution_count": 34,
   "id": "578e6fe9",
   "metadata": {},
   "outputs": [
    {
     "name": "stdout",
     "output_type": "stream",
     "text": [
      "       Pourboire         n      f     g\n",
      "Note                                   \n",
      "30.7        10.0       NaN   30.0  10.0\n",
      "57.5        10.0       NaN   28.0   5.0\n",
      "72.5        31.0  0.707107   54.0  18.0\n",
      "75.1        20.0       NaN   37.0  10.0\n",
      "75.6        14.0       NaN   37.0   7.0\n",
      "77.4        14.0       NaN   38.0   7.0\n",
      "83.5        15.0       NaN   41.0   7.0\n",
      "85.1        13.0       NaN   42.0   6.0\n",
      "85.2        15.0       NaN   42.0   7.0\n",
      "85.8        19.0       NaN   85.0  19.0\n",
      "87.7        20.0       NaN   43.0  10.0\n",
      "95.5        15.0       NaN   47.0   7.0\n",
      "96.0        40.0       NaN   48.0  20.0\n",
      "96.8        13.0       NaN   48.0   6.0\n",
      "97.8        17.0       NaN   48.0   8.0\n",
      "99.4        16.0       NaN   49.0   8.0\n",
      "100.7       15.5  0.707107   75.0  12.0\n",
      "100.9       20.0       NaN   50.0  10.0\n",
      "102.7       17.0       NaN   51.0   8.0\n",
      "102.9       26.0       NaN   51.0  13.0\n",
      "103.3       18.5  0.707107   42.5   7.5\n",
      "324.0       60.0       NaN   81.0  15.0\n",
      "326.8       50.0       NaN  163.0  25.0\n",
      "328.3       12.0       NaN  164.0   6.0\n",
      "329.0       31.0       NaN  164.0  15.0\n",
      "343.0       67.0       NaN   57.0  11.0\n",
      "346.3       36.0       NaN  173.0  18.0\n",
      "346.5       37.0       NaN   86.0   9.0\n",
      "348.1       52.0       NaN   87.0  13.0\n",
      "348.3       52.0       NaN   87.0  13.0\n",
      "352.6       50.0       NaN   88.0  12.0\n",
      "358.3       47.0       NaN  119.0  15.0\n",
      "380.1       30.0       NaN   95.0   7.0\n",
      "380.7       40.0       NaN  126.0  13.0\n",
      "387.3       30.0       NaN   96.0   7.0\n",
      "394.2       76.0       NaN   98.0  19.0\n",
      "401.7       47.0       NaN  100.0  11.0\n",
      "405.5       30.0       NaN  202.0  15.0\n",
      "411.9       50.0       NaN   82.0  10.0\n",
      "431.1       50.0       NaN  107.0  12.0\n",
      "443.0       25.0       NaN  147.0   8.0\n",
      "453.5       35.0       NaN  151.0  11.0\n",
      "481.7       50.0       NaN   80.0   8.0\n",
      "482.7       67.0       NaN  120.0  16.0\n",
      "483.3       90.0       NaN  120.0  22.0\n",
      "508.1      100.0       NaN  169.0  33.0\n"
     ]
    }
   ],
   "source": [
    "print(comparison_stats)"
   ]
  },
  {
   "cell_type": "code",
   "execution_count": 35,
   "id": "44d68678",
   "metadata": {},
   "outputs": [],
   "source": [
    "categorical_variables = ['Genre', 'Jour', 'Repas'] #Pour les variables qualitatives, la methode precedentes ne marche pas, il faut specifié au langage que se sont des variables qualitatives et c'est a quoi sert cette fonction"
   ]
  },
  {
   "cell_type": "code",
   "execution_count": 36,
   "id": "9d0e4883",
   "metadata": {},
   "outputs": [],
   "source": [
    "categorical_stats = pd.DataFrame() #Cette fonction me permet de creer une nouvelle dataframe vide afin de stocker les frequences des variables qualitatives"
   ]
  },
  {
   "cell_type": "code",
   "execution_count": 37,
   "id": "c170eedb",
   "metadata": {},
   "outputs": [],
   "source": [
    "for variable in categorical_variables:\n",
    "    freq_counts = df_selected.groupby(['Note', variable]).size().unstack(fill_value=0)\n",
    "    freq_counts = freq_counts.div(freq_counts.sum(axis=1), axis=0)\n",
    "    categorical_stats = pd.concat([categorical_stats, freq_counts], axis=1) #Cette boucle me permet de calculer les frequences pour chaque variables qualitatives"
   ]
  },
  {
   "cell_type": "code",
   "execution_count": 38,
   "id": "9b408e36",
   "metadata": {},
   "outputs": [
    {
     "name": "stdout",
     "output_type": "stream",
     "text": [
      "\n",
      "Fréquences pour les variables qualitatives :\n",
      "        Femme  Homme  Dimanche  Jeudi  Samedi  Vendredi  Déjeuner  Dîner\n",
      "Note                                                                   \n",
      "30.7     1.0    0.0       0.0    0.0     1.0       0.0       0.0    1.0\n",
      "57.5     1.0    0.0       0.0    0.0     0.0       1.0       0.0    1.0\n",
      "72.5     0.5    0.5       0.5    0.0     0.5       0.0       0.0    1.0\n",
      "75.1     0.0    1.0       0.0    1.0     0.0       0.0       1.0    0.0\n",
      "75.6     0.0    1.0       0.0    1.0     0.0       0.0       1.0    0.0\n",
      "77.4     0.0    1.0       0.0    0.0     1.0       0.0       0.0    1.0\n",
      "83.5     1.0    0.0       0.0    1.0     0.0       0.0       1.0    0.0\n",
      "85.1     1.0    0.0       0.0    1.0     0.0       0.0       1.0    0.0\n",
      "85.2     0.0    1.0       0.0    1.0     0.0       0.0       1.0    0.0\n",
      "85.8     0.0    1.0       0.0    0.0     0.0       1.0       1.0    0.0\n",
      "87.7     0.0    1.0       1.0    0.0     0.0       0.0       0.0    1.0\n",
      "95.5     0.0    1.0       0.0    0.0     1.0       0.0       0.0    1.0\n",
      "96.0     1.0    0.0       1.0    0.0     0.0       0.0       0.0    1.0\n",
      "96.8     0.0    1.0       1.0    0.0     0.0       0.0       0.0    1.0\n",
      "97.8     0.0    1.0       0.0    1.0     0.0       0.0       1.0    0.0\n",
      "99.4     0.0    1.0       1.0    0.0     0.0       0.0       0.0    1.0\n",
      "100.7    0.5    0.5       0.0    0.5     0.5       0.0       0.5    0.5\n",
      "100.9    1.0    0.0       0.0    0.0     0.0       1.0       1.0    0.0\n",
      "102.7    0.0    1.0       1.0    0.0     0.0       0.0       0.0    1.0\n",
      "102.9    1.0    0.0       1.0    0.0     0.0       0.0       0.0    1.0\n",
      "103.3    1.0    0.0       0.5    0.5     0.0       0.0       0.5    0.5\n",
      "324.0    0.0    1.0       1.0    0.0     0.0       0.0       0.0    1.0\n",
      "326.8    0.0    1.0       0.0    1.0     0.0       0.0       1.0    0.0\n",
      "328.3    0.0    1.0       0.0    0.0     1.0       0.0       0.0    1.0\n",
      "329.0    0.0    1.0       1.0    0.0     0.0       0.0       0.0    1.0\n",
      "343.0    0.0    1.0       0.0    1.0     0.0       0.0       1.0    0.0\n",
      "346.3    0.0    1.0       1.0    0.0     0.0       0.0       0.0    1.0\n",
      "346.5    0.0    1.0       1.0    0.0     0.0       0.0       0.0    1.0\n",
      "348.1    1.0    0.0       1.0    0.0     0.0       0.0       0.0    1.0\n",
      "348.3    1.0    0.0       0.0    1.0     0.0       0.0       1.0    0.0\n",
      "352.6    1.0    0.0       1.0    0.0     0.0       0.0       0.0    1.0\n",
      "358.3    1.0    0.0       0.0    0.0     1.0       0.0       0.0    1.0\n",
      "380.1    0.0    1.0       0.0    0.0     1.0       0.0       0.0    1.0\n",
      "380.7    0.0    1.0       1.0    0.0     0.0       0.0       0.0    1.0\n",
      "387.3    0.0    1.0       0.0    0.0     1.0       0.0       0.0    1.0\n",
      "394.2    0.0    1.0       0.0    0.0     1.0       0.0       0.0    1.0\n",
      "401.7    0.0    1.0       0.0    0.0     0.0       1.0       0.0    1.0\n",
      "405.5    0.0    1.0       1.0    0.0     0.0       0.0       0.0    1.0\n",
      "411.9    0.0    1.0       0.0    1.0     0.0       0.0       1.0    0.0\n",
      "431.1    1.0    0.0       0.0    1.0     0.0       0.0       1.0    0.0\n",
      "443.0    1.0    0.0       0.0    0.0     1.0       0.0       0.0    1.0\n",
      "453.5    0.0    1.0       1.0    0.0     0.0       0.0       0.0    1.0\n",
      "481.7    0.0    1.0       1.0    0.0     0.0       0.0       0.0    1.0\n",
      "482.7    0.0    1.0       0.0    0.0     1.0       0.0       0.0    1.0\n",
      "483.3    0.0    1.0       0.0    0.0     1.0       0.0       0.0    1.0\n",
      "508.1    0.0    1.0       0.0    0.0     1.0       0.0       0.0    1.0\n"
     ]
    }
   ],
   "source": [
    "print(\"\\nFréquences pour les variables qualitatives :\\n\", categorical_stats)"
   ]
  },
  {
   "cell_type": "code",
   "execution_count": 39,
   "id": "60844423",
   "metadata": {},
   "outputs": [],
   "source": [
    "numeric_variables = ['Note', 'Pourboire', 'n', 'f','g']"
   ]
  },
  {
   "cell_type": "code",
   "execution_count": 40,
   "id": "a2d116dd",
   "metadata": {},
   "outputs": [],
   "source": [
    "numeric_stats = df_selected.groupby('Note')[numeric_variables].agg(['mean', 'std', 'median'])\n"
   ]
  },
  {
   "cell_type": "code",
   "execution_count": 41,
   "id": "583a4c82",
   "metadata": {},
   "outputs": [
    {
     "name": "stdout",
     "output_type": "stream",
     "text": [
      "Statistiques pour les variables numériques :\n",
      "         Note             Pourboire                      n                   \\\n",
      "        mean  std median      mean        std median mean       std median   \n",
      "Note                                                                         \n",
      "30.7    30.7  NaN   30.7      10.0        NaN   10.0  1.0       NaN    1.0   \n",
      "57.5    57.5  NaN   57.5      10.0        NaN   10.0  2.0       NaN    2.0   \n",
      "72.5    72.5  0.0   72.5      31.0  29.698485   31.0  1.5  0.707107    1.5   \n",
      "75.1    75.1  NaN   75.1      20.0        NaN   20.0  2.0       NaN    2.0   \n",
      "75.6    75.6  NaN   75.6      14.0        NaN   14.0  2.0       NaN    2.0   \n",
      "77.4    77.4  NaN   77.4      14.0        NaN   14.0  2.0       NaN    2.0   \n",
      "83.5    83.5  NaN   83.5      15.0        NaN   15.0  2.0       NaN    2.0   \n",
      "85.1    85.1  NaN   85.1      13.0        NaN   13.0  2.0       NaN    2.0   \n",
      "85.2    85.2  NaN   85.2      15.0        NaN   15.0  2.0       NaN    2.0   \n",
      "85.8    85.8  NaN   85.8      19.0        NaN   19.0  1.0       NaN    1.0   \n",
      "87.7    87.7  NaN   87.7      20.0        NaN   20.0  2.0       NaN    2.0   \n",
      "95.5    95.5  NaN   95.5      15.0        NaN   15.0  2.0       NaN    2.0   \n",
      "96.0    96.0  NaN   96.0      40.0        NaN   40.0  2.0       NaN    2.0   \n",
      "96.8    96.8  NaN   96.8      13.0        NaN   13.0  2.0       NaN    2.0   \n",
      "97.8    97.8  NaN   97.8      17.0        NaN   17.0  2.0       NaN    2.0   \n",
      "99.4    99.4  NaN   99.4      16.0        NaN   16.0  2.0       NaN    2.0   \n",
      "100.7  100.7  0.0  100.7      15.5   3.535534   15.5  1.5  0.707107    1.5   \n",
      "100.9  100.9  NaN  100.9      20.0        NaN   20.0  2.0       NaN    2.0   \n",
      "102.7  102.7  NaN  102.7      17.0        NaN   17.0  2.0       NaN    2.0   \n",
      "102.9  102.9  NaN  102.9      26.0        NaN   26.0  2.0       NaN    2.0   \n",
      "103.3  103.3  0.0  103.3      18.5   2.121320   18.5  2.5  0.707107    2.5   \n",
      "324.0  324.0  NaN  324.0      60.0        NaN   60.0  4.0       NaN    4.0   \n",
      "326.8  326.8  NaN  326.8      50.0        NaN   50.0  2.0       NaN    2.0   \n",
      "328.3  328.3  NaN  328.3      12.0        NaN   12.0  2.0       NaN    2.0   \n",
      "329.0  329.0  NaN  329.0      31.0        NaN   31.0  2.0       NaN    2.0   \n",
      "343.0  343.0  NaN  343.0      67.0        NaN   67.0  6.0       NaN    6.0   \n",
      "346.3  346.3  NaN  346.3      36.0        NaN   36.0  2.0       NaN    2.0   \n",
      "346.5  346.5  NaN  346.5      37.0        NaN   37.0  4.0       NaN    4.0   \n",
      "348.1  348.1  NaN  348.1      52.0        NaN   52.0  4.0       NaN    4.0   \n",
      "348.3  348.3  NaN  348.3      52.0        NaN   52.0  4.0       NaN    4.0   \n",
      "352.6  352.6  NaN  352.6      50.0        NaN   50.0  4.0       NaN    4.0   \n",
      "358.3  358.3  NaN  358.3      47.0        NaN   47.0  3.0       NaN    3.0   \n",
      "380.1  380.1  NaN  380.1      30.0        NaN   30.0  4.0       NaN    4.0   \n",
      "380.7  380.7  NaN  380.7      40.0        NaN   40.0  3.0       NaN    3.0   \n",
      "387.3  387.3  NaN  387.3      30.0        NaN   30.0  4.0       NaN    4.0   \n",
      "394.2  394.2  NaN  394.2      76.0        NaN   76.0  4.0       NaN    4.0   \n",
      "401.7  401.7  NaN  401.7      47.0        NaN   47.0  4.0       NaN    4.0   \n",
      "405.5  405.5  NaN  405.5      30.0        NaN   30.0  2.0       NaN    2.0   \n",
      "411.9  411.9  NaN  411.9      50.0        NaN   50.0  5.0       NaN    5.0   \n",
      "431.1  431.1  NaN  431.1      50.0        NaN   50.0  4.0       NaN    4.0   \n",
      "443.0  443.0  NaN  443.0      25.0        NaN   25.0  3.0       NaN    3.0   \n",
      "453.5  453.5  NaN  453.5      35.0        NaN   35.0  3.0       NaN    3.0   \n",
      "481.7  481.7  NaN  481.7      50.0        NaN   50.0  6.0       NaN    6.0   \n",
      "482.7  482.7  NaN  482.7      67.0        NaN   67.0  4.0       NaN    4.0   \n",
      "483.3  483.3  NaN  483.3      90.0        NaN   90.0  4.0       NaN    4.0   \n",
      "508.1  508.1  NaN  508.1     100.0        NaN  100.0  3.0       NaN    3.0   \n",
      "\n",
      "           f                       g                    \n",
      "        mean        std median  mean        std median  \n",
      "Note                                                    \n",
      "30.7    30.0        NaN   30.0  10.0        NaN   10.0  \n",
      "57.5    28.0        NaN   28.0   5.0        NaN    5.0  \n",
      "72.5    54.0  25.455844   54.0  18.0  11.313708   18.0  \n",
      "75.1    37.0        NaN   37.0  10.0        NaN   10.0  \n",
      "75.6    37.0        NaN   37.0   7.0        NaN    7.0  \n",
      "77.4    38.0        NaN   38.0   7.0        NaN    7.0  \n",
      "83.5    41.0        NaN   41.0   7.0        NaN    7.0  \n",
      "85.1    42.0        NaN   42.0   6.0        NaN    6.0  \n",
      "85.2    42.0        NaN   42.0   7.0        NaN    7.0  \n",
      "85.8    85.0        NaN   85.0  19.0        NaN   19.0  \n",
      "87.7    43.0        NaN   43.0  10.0        NaN   10.0  \n",
      "95.5    47.0        NaN   47.0   7.0        NaN    7.0  \n",
      "96.0    48.0        NaN   48.0  20.0        NaN   20.0  \n",
      "96.8    48.0        NaN   48.0   6.0        NaN    6.0  \n",
      "97.8    48.0        NaN   48.0   8.0        NaN    8.0  \n",
      "99.4    49.0        NaN   49.0   8.0        NaN    8.0  \n",
      "100.7   75.0  35.355339   75.0  12.0   8.485281   12.0  \n",
      "100.9   50.0        NaN   50.0  10.0        NaN   10.0  \n",
      "102.7   51.0        NaN   51.0   8.0        NaN    8.0  \n",
      "102.9   51.0        NaN   51.0  13.0        NaN   13.0  \n",
      "103.3   42.5  12.020815   42.5   7.5   3.535534    7.5  \n",
      "324.0   81.0        NaN   81.0  15.0        NaN   15.0  \n",
      "326.8  163.0        NaN  163.0  25.0        NaN   25.0  \n",
      "328.3  164.0        NaN  164.0   6.0        NaN    6.0  \n",
      "329.0  164.0        NaN  164.0  15.0        NaN   15.0  \n",
      "343.0   57.0        NaN   57.0  11.0        NaN   11.0  \n",
      "346.3  173.0        NaN  173.0  18.0        NaN   18.0  \n",
      "346.5   86.0        NaN   86.0   9.0        NaN    9.0  \n",
      "348.1   87.0        NaN   87.0  13.0        NaN   13.0  \n",
      "348.3   87.0        NaN   87.0  13.0        NaN   13.0  \n",
      "352.6   88.0        NaN   88.0  12.0        NaN   12.0  \n",
      "358.3  119.0        NaN  119.0  15.0        NaN   15.0  \n",
      "380.1   95.0        NaN   95.0   7.0        NaN    7.0  \n",
      "380.7  126.0        NaN  126.0  13.0        NaN   13.0  \n",
      "387.3   96.0        NaN   96.0   7.0        NaN    7.0  \n",
      "394.2   98.0        NaN   98.0  19.0        NaN   19.0  \n",
      "401.7  100.0        NaN  100.0  11.0        NaN   11.0  \n",
      "405.5  202.0        NaN  202.0  15.0        NaN   15.0  \n",
      "411.9   82.0        NaN   82.0  10.0        NaN   10.0  \n",
      "431.1  107.0        NaN  107.0  12.0        NaN   12.0  \n",
      "443.0  147.0        NaN  147.0   8.0        NaN    8.0  \n",
      "453.5  151.0        NaN  151.0  11.0        NaN   11.0  \n",
      "481.7   80.0        NaN   80.0   8.0        NaN    8.0  \n",
      "482.7  120.0        NaN  120.0  16.0        NaN   16.0  \n",
      "483.3  120.0        NaN  120.0  22.0        NaN   22.0  \n",
      "508.1  169.0        NaN  169.0  33.0        NaN   33.0  \n"
     ]
    }
   ],
   "source": [
    "print(\"Statistiques pour les variables numériques :\\n\", numeric_stats)"
   ]
  },
  {
   "cell_type": "code",
   "execution_count": 42,
   "id": "48a19c03",
   "metadata": {},
   "outputs": [],
   "source": [
    "quantitative_variables = ['Note', 'Pourboire', 'f', 'g']"
   ]
  },
  {
   "cell_type": "markdown",
   "id": "58af2012",
   "metadata": {},
   "source": [
    "**Question 7 : Faire des comparaisons entre les variables concernant les tables à 1 personne et à 6 personnes.**"
   ]
  },
  {
   "cell_type": "code",
   "execution_count": 43,
   "id": "def1b4fc",
   "metadata": {},
   "outputs": [],
   "source": [
    "df_filtered = df[df['n'].isin([1, 6])]"
   ]
  },
  {
   "cell_type": "markdown",
   "id": "4f848bfe",
   "metadata": {},
   "source": [
    "**Question 8 : Comparer les notes ou les notes par individu, voir les deux, selon le dîner ou le déjeuner.**"
   ]
  },
  {
   "cell_type": "code",
   "execution_count": 44,
   "id": "9d666dcc",
   "metadata": {},
   "outputs": [],
   "source": [
    "mean_comparison = df_filtered.groupby('n')[quantitative_variables].mean()"
   ]
  },
  {
   "cell_type": "code",
   "execution_count": 45,
   "id": "747e8013",
   "metadata": {},
   "outputs": [],
   "source": [
    "median_comparison = df_filtered.groupby('n')[quantitative_variables].median()"
   ]
  },
  {
   "cell_type": "code",
   "execution_count": 46,
   "id": "53626e34",
   "metadata": {},
   "outputs": [
    {
     "name": "stdout",
     "output_type": "stream",
     "text": [
      "Comparaison des moyennes :\n",
      "         Note  Pourboire      f      g\n",
      "n                                    \n",
      "1.0   72.425      14.25  71.75  14.25\n",
      "6.0  348.300      52.25  57.75   8.50\n"
     ]
    }
   ],
   "source": [
    "print(\"Comparaison des moyennes :\\n\", mean_comparison)"
   ]
  },
  {
   "cell_type": "markdown",
   "id": "7beb611d",
   "metadata": {},
   "source": [
    "# **Comparaison des moyennes des variables quantitatives**\n",
    "La comparaison des moyennes pourra nous aider à identifier les tendances en fonction du nombre de clients par table, par exemple si un clent seul dans une table a plus tendance de payer plus cher qu'il soit accompagné avec d'autres personnes, le même cas pour donner des pourboires aux serveurs.\n",
    "\n",
    "**Interprétation**\n",
    "Dans notre echantillon les résultats les plus pertinents sont ceux des variables f et g, qui nous montre qu'un client seul paye plus qu'un client dans une table de 6 personnes, il a tendance à payer en moyennes 71.75 euros le repas et laisser un pourboire de 14.25 euros au serveur, en revanche un client dans une table de 6 à tendance de payer 57.75 en moyenne le repas et laisser un pourboire de 8.5 euros en moyenne au serveur."
   ]
  },
  {
   "cell_type": "code",
   "execution_count": 47,
   "id": "b1feb659",
   "metadata": {},
   "outputs": [
    {
     "name": "stdout",
     "output_type": "stream",
     "text": [
      "\n",
      "Comparaison des médianes :\n",
      "        Note  Pourboire     f     g\n",
      "n                                 \n",
      "1.0   79.15       14.0  78.5  14.0\n",
      "6.0  320.50       50.0  53.0   8.0\n"
     ]
    }
   ],
   "source": [
    "print(\"\\nComparaison des médianes :\\n\", median_comparison)"
   ]
  },
  {
   "cell_type": "markdown",
   "id": "17a3977f",
   "metadata": {},
   "source": [
    "# **Comparaison des medianes des variables quantitatives**\n",
    "La comparaison des moyennes pourra nous aider à identifier la distribution en fonction du nombre de clients par table, par exemple si un clent seul dans une table a plus tendance de payer plus cher qu'il soit accompagné avec d'autres personnes, le même cas pour donner des pourboires aux serveurs. La différence entre la moyenne et la médiane est que la première est influencée par les variables aberrantes, la deuxième nous permet d'identifier les tendances centrales.\n",
    "\n",
    "**Interprétation**\n",
    "Dans notre echantillon les résultats les plus pertinents sont ceux des variables f et g, qui nous montre qu'un client seul paye plus qu'un client dans une table de 6 personnes, il a tendance à payer en mediane 78.5 euros le repas et laisser un pourboire de 14 euros au serveur, en revanche un client dans une table de 6 à tendance de payer 50 euros en mediane le repas et laisser un pourboire de 8 euros en mediane au serveur. "
   ]
  },
  {
   "cell_type": "code",
   "execution_count": 48,
   "id": "69dbada4",
   "metadata": {},
   "outputs": [],
   "source": [
    "qualitative_variables = ['Genre', 'Jour', 'Repas']"
   ]
  },
  {
   "cell_type": "code",
   "execution_count": 49,
   "id": "5d75dcf9",
   "metadata": {},
   "outputs": [],
   "source": [
    "df_filtered = df[df['n'].isin([1, 6])] #isin est la fonction qui nous permet de filtrer un Dataframe, il est possible qu'elle ne marche pas s'il y a beaucoup de condition, dans ce cas il faut creer une boucle pour respecter tout les conditions"
   ]
  },
  {
   "cell_type": "code",
   "execution_count": 50,
   "id": "87019c5a",
   "metadata": {},
   "outputs": [],
   "source": [
    "cross_tab = pd.crosstab(df_filtered['n'], [df_filtered[var] for var in qualitative_variables], normalize='index') # cette fonction nous permet de creer un tableau croisé pour comparer les frequences des variables qualitatives"
   ]
  },
  {
   "cell_type": "code",
   "execution_count": 51,
   "id": "4ac8d867",
   "metadata": {},
   "outputs": [
    {
     "name": "stdout",
     "output_type": "stream",
     "text": [
      "Tableau croisé dynamique des fréquences :\n",
      " Genre    Femme           Homme                  \n",
      "Jour     Jeudi Samedi Dimanche    Jeudi Vendredi\n",
      "Repas Déjeuner  Dîner    Dîner Déjeuner Déjeuner\n",
      "n                                               \n",
      "1.0       0.25    0.5     0.00     0.00     0.25\n",
      "6.0       0.50    0.0     0.25     0.25     0.00\n"
     ]
    }
   ],
   "source": [
    "print(\"Tableau croisé dynamique des fréquences :\\n\", cross_tab) # Cette fonction nous permet d'afficher le tableau precedent"
   ]
  },
  {
   "cell_type": "markdown",
   "id": "bf2f7e46",
   "metadata": {},
   "source": []
  },
  {
   "cell_type": "code",
   "execution_count": 52,
   "id": "ce169eec",
   "metadata": {},
   "outputs": [],
   "source": [
    "note_variable = 'Note'"
   ]
  },
  {
   "cell_type": "code",
   "execution_count": 53,
   "id": "15897533",
   "metadata": {},
   "outputs": [],
   "source": [
    "mean_comparison_note = df.groupby('Repas')[note_variable].mean() # Nous comparons la moyenne des notes par repas (Dejeuner, Diner)"
   ]
  },
  {
   "cell_type": "code",
   "execution_count": 54,
   "id": "3835f558",
   "metadata": {},
   "outputs": [],
   "source": [
    "median_comparison_note = df.groupby('Repas')[note_variable].median() #Nous comparons la moyenne des notes par repas (Dejeuner, Diner)"
   ]
  },
  {
   "cell_type": "code",
   "execution_count": 55,
   "id": "816fad77",
   "metadata": {},
   "outputs": [
    {
     "name": "stdout",
     "output_type": "stream",
     "text": [
      "Comparaison des moyennes des notes :\n",
      " Repas\n",
      "Déjeuner    171.686765\n",
      "Dîner       207.971591\n",
      "Name: Note, dtype: float64\n"
     ]
    }
   ],
   "source": [
    "print(\"Comparaison des moyennes des notes :\\n\", mean_comparison_note) # On affiche la comparaison des moyennes des notes"
   ]
  },
  {
   "cell_type": "markdown",
   "id": "5d28b863",
   "metadata": {},
   "source": [
    "# **Comparaison de la moyenne des notes par repas**\n",
    "\n",
    "Cette comparaison est d'une forte utilité  pour le gérant afin d'organiser le planning des employés, elle sert à identifier si le restaurant a plus besoin de personnel le soir ou le midi. Dans notre cas la moyenne de note des déjeuners est inférieure à celle du diner, égalent à 171.68 et 207.97 respectivement."
   ]
  },
  {
   "cell_type": "code",
   "execution_count": 56,
   "id": "f0e079eb",
   "metadata": {},
   "outputs": [
    {
     "name": "stdout",
     "output_type": "stream",
     "text": [
      "\n",
      "Comparaison des médianes des notes :\n",
      " Repas\n",
      "Déjeuner    159.65\n",
      "Dîner       183.90\n",
      "Name: Note, dtype: float64\n"
     ]
    }
   ],
   "source": [
    "print(\"\\nComparaison des médianes des notes :\\n\", median_comparison_note) # On affiche la comparaison des medianes des notes"
   ]
  },
  {
   "cell_type": "markdown",
   "id": "15e19325",
   "metadata": {},
   "source": [
    "# **Comparaison de la mediane des notes par repas**\n",
    "\n",
    "Cette comparaison est d'une forte utilité  pour le gérant afin d'organiser le planning des employés, elle sert à identifier si le restaurant a plus besoin de personnel le soir ou le midi. Dans notre cas la moyenne de note des déjeuners est inférieure à celle du diner, égalent à 159.65 et 193.90 respectivement."
   ]
  },
  {
   "cell_type": "code",
   "execution_count": 57,
   "id": "f82a01a3",
   "metadata": {},
   "outputs": [],
   "source": [
    "note_per_individual_variable = 'f'"
   ]
  },
  {
   "cell_type": "code",
   "execution_count": 58,
   "id": "6ace3663",
   "metadata": {},
   "outputs": [],
   "source": [
    "mean_comparison_note_per_individual = df.groupby('Repas')[note_per_individual_variable].mean() # Nous comparent la moyenne des notes par individu selon le repas"
   ]
  },
  {
   "cell_type": "code",
   "execution_count": 59,
   "id": "9f60264b",
   "metadata": {},
   "outputs": [],
   "source": [
    "median_comparison_note_per_individual = df.groupby('Repas')[note_per_individual_variable].median() #Nous comparent la mediane des notes par individu selon le repas"
   ]
  },
  {
   "cell_type": "code",
   "execution_count": 60,
   "id": "53479f74",
   "metadata": {},
   "outputs": [
    {
     "name": "stdout",
     "output_type": "stream",
     "text": [
      "Comparaison des moyennes des notes par individu :\n",
      " Repas\n",
      "Déjeuner    72.720588\n",
      "Dîner       80.636364\n",
      "Name: f, dtype: float64\n"
     ]
    }
   ],
   "source": [
    "print(\"Comparaison des moyennes des notes par individu :\\n\", mean_comparison_note_per_individual)"
   ]
  },
  {
   "cell_type": "markdown",
   "id": "df8a6c24",
   "metadata": {},
   "source": [
    "# **Comparaison de la moyenne des notes par individus et par repas**\n",
    "\n",
    "La moyenne des notes par individu pour le déjeuner est inférieure à celle du diner, égale à 72.72 pour le déjeuner et 80.63 pour le dîner. Il est vrai qu'il n'existe pas une grosse différence mais on l'a miltuplie par le nombre de personnes par table, elle sera d'une grande différence."
   ]
  },
  {
   "cell_type": "code",
   "execution_count": 61,
   "id": "fd898d89",
   "metadata": {},
   "outputs": [
    {
     "name": "stdout",
     "output_type": "stream",
     "text": [
      "\n",
      "Comparaison des médianes des notes par individu :\n",
      " Repas\n",
      "Déjeuner    67.0\n",
      "Dîner       75.0\n",
      "Name: f, dtype: float64\n"
     ]
    }
   ],
   "source": [
    "print(\"\\nComparaison des médianes des notes par individu :\\n\", median_comparison_note_per_individual)"
   ]
  },
  {
   "cell_type": "markdown",
   "id": "d1421f5c",
   "metadata": {},
   "source": [
    "# **Comparaison de la mediane des notes par individus et par repas**\n",
    "\n",
    "La mediane des notes par individu pour le déjeuner est inférieure à celle du diner, égale à 67 pour le déjeuner et 75 pour le dîner. Il est vrai qu'il n'existe pas une grosse différence mais on l'a miltuplie par le nombre de personnes par table, elle sera d'une grande différence."
   ]
  },
  {
   "cell_type": "raw",
   "id": "53ec3028",
   "metadata": {},
   "source": [
    "Question : Pareil mais également selon le genre"
   ]
  },
  {
   "cell_type": "code",
   "execution_count": 62,
   "id": "1c4c5873",
   "metadata": {},
   "outputs": [],
   "source": [
    "mean_comparison_note = df.groupby(['Genre'])[note_variable].mean() # Comparaison des moyennes des notes en fonction du genre"
   ]
  },
  {
   "cell_type": "code",
   "execution_count": 63,
   "id": "6f719c87",
   "metadata": {},
   "outputs": [],
   "source": [
    "median_comparison_note = df.groupby(['Genre'])[note_variable].median() #Comparaison des medianes des notes en fonction du genre"
   ]
  },
  {
   "cell_type": "code",
   "execution_count": 64,
   "id": "3d8a0478",
   "metadata": {},
   "outputs": [
    {
     "name": "stdout",
     "output_type": "stream",
     "text": [
      "Comparaison des moyennes des notes :\n",
      " Genre\n",
      "Femme    180.568966\n",
      "Homme    207.440764\n",
      "Name: Note, dtype: float64\n"
     ]
    }
   ],
   "source": [
    "print(\"Comparaison des moyennes des notes :\\n\", mean_comparison_note)"
   ]
  },
  {
   "cell_type": "markdown",
   "id": "2c73059c",
   "metadata": {},
   "source": [
    "**Question 9 : Pareil mais également selon le genre.**"
   ]
  },
  {
   "cell_type": "markdown",
   "id": "d9431bd7",
   "metadata": {},
   "source": [
    "# **Comparaison de la moyenne des notes par genre**\n",
    "\n",
    "Cette comparaison est d'une forte utilité pour le gérant afin d'organiser sa politique de ciblage, elle sert à identifier si le restaurant a besoin de mettre en place des offres pour susciter un genre a plus consommé. Dans notre cas la moyenne de note des femmes est inférieure à celle des hommes, égalent à 180.56 et 207.44 respectivement."
   ]
  },
  {
   "cell_type": "code",
   "execution_count": 65,
   "id": "299c63ac",
   "metadata": {},
   "outputs": [
    {
     "name": "stdout",
     "output_type": "stream",
     "text": [
      "\n",
      "Comparaison des médianes des notes :\n",
      " Genre\n",
      "Femme    164.0\n",
      "Homme    183.5\n",
      "Name: Note, dtype: float64\n"
     ]
    }
   ],
   "source": [
    "print(\"\\nComparaison des médianes des notes :\\n\", median_comparison_note)"
   ]
  },
  {
   "cell_type": "markdown",
   "id": "b4764165",
   "metadata": {},
   "source": [
    "# **Comparaison de la mediane des notes par genre**\n",
    "\n",
    "Cette comparaison est d'une forte utilité pour le gérant afin d'organiser sa politique de ciblage, elle sert à identifier si le restaurant a besoin de mettre en place des offres pour susciter un genre a plus consommé. Dans notre cas la mediane de note des femmes est inférieure à celle des hommes, égalent à 180.56 et 207.44 respectivement."
   ]
  },
  {
   "cell_type": "code",
   "execution_count": 66,
   "id": "c6b2b315",
   "metadata": {},
   "outputs": [],
   "source": [
    "mean_comparison_note_per_individual = df.groupby(['Genre'])[note_per_individual_variable].mean()"
   ]
  },
  {
   "cell_type": "code",
   "execution_count": 67,
   "id": "6e55d860",
   "metadata": {},
   "outputs": [],
   "source": [
    "median_comparison_note_per_individual = df.groupby(['Genre'])[note_per_individual_variable].median()\n"
   ]
  },
  {
   "cell_type": "code",
   "execution_count": 68,
   "id": "2ddf340d",
   "metadata": {},
   "outputs": [
    {
     "name": "stdout",
     "output_type": "stream",
     "text": [
      "Comparaison des moyennes des notes par individu :\n",
      " Genre\n",
      "Femme    74.160920\n",
      "Homme    80.796178\n",
      "Name: f, dtype: float64\n"
     ]
    }
   ],
   "source": [
    "print(\"Comparaison des moyennes des notes par individu :\\n\", mean_comparison_note_per_individual) #Comparaison des moyennes des notes par individu en fonction du"
   ]
  },
  {
   "cell_type": "markdown",
   "id": "f6a3c7c9",
   "metadata": {},
   "source": [
    "# **Comparaison de la mediane des notes par individu et par genre**\n",
    "\n",
    "Cette comparaison est d'une forte utilité pour le gérant afin d'organiser sa politique de ciblage, elle sert à identifier si le restaurant a besoin de mettre en place des offres pour susciter un genre a plus consommé. Dans notre cas la moyenne de note par individu des femmes est inférieure à celle des hommes, égalent à 74.16 euros et 80.79 euros respectivement."
   ]
  },
  {
   "cell_type": "code",
   "execution_count": 69,
   "id": "31bd58ea",
   "metadata": {},
   "outputs": [
    {
     "name": "stdout",
     "output_type": "stream",
     "text": [
      "\n",
      "Comparaison des médianes des notes par individu :\n",
      " Genre\n",
      "Femme    67.0\n",
      "Homme    76.0\n",
      "Name: f, dtype: float64\n"
     ]
    }
   ],
   "source": [
    "print(\"\\nComparaison des médianes des notes par individu :\\n\", median_comparison_note_per_individual) #Comparaison des medianes des notes par individu en fonction du"
   ]
  },
  {
   "cell_type": "markdown",
   "id": "344bf379",
   "metadata": {},
   "source": [
    "# **Comparaison de la mediane des notes par individu et par genre**\n",
    "\n",
    "Cette comparaison est d'une forte utilité pour le gérant afin d'organiser sa politique de ciblage, elle sert à identifier si le restaurant a besoin de mettre en place des offres pour susciter un genre a plus consommé. Dans notre cas la mediane de note par individu des femmes est inférieure à celle des hommes, égalent à 67 euros et 76 euros respectivement."
   ]
  },
  {
   "cell_type": "markdown",
   "id": "8daa5909",
   "metadata": {},
   "source": [
    "**Question 10 : Faire l’histogramme des notes par individus ; des notes par individus selon le genre, des notes par individus selon le repas et faire un boxplot des notes par individus selon le repas ; selon le jour.**"
   ]
  },
  {
   "cell_type": "code",
   "execution_count": 70,
   "id": "cfab510a",
   "metadata": {},
   "outputs": [],
   "source": [
    "import matplotlib.pyplot as plt #Il faut importer la librairie \"matplotlib.pyplot\" pour faire des graphes"
   ]
  },
  {
   "cell_type": "code",
   "execution_count": 71,
   "id": "01ccec8a",
   "metadata": {},
   "outputs": [],
   "source": [
    "import seaborn as sns #Il faut importer la librairie \"matplotlib.pyplot\" pour faire des graphes"
   ]
  },
  {
   "cell_type": "code",
   "execution_count": 72,
   "id": "2a5eb342",
   "metadata": {},
   "outputs": [
    {
     "data": {
      "image/png": "[encoded data removed]",
      "text/plain": [
       "<Figure size 640x480 with 1 Axes>"
      ]
     },
     "metadata": {},
     "output_type": "display_data"
    }
   ],
   "source": [
    "df[note_per_individual_variable].plot(kind='hist', bins=10, edgecolor='black', alpha=0.7) #Cette fonction nous permet de realiser des histogramme\n",
    "plt.title('Histogramme des Notes par Individu') #Cette fonction nous permet de donner un titre a notre graphe\n",
    "plt.xlabel('Note par Individu')\n",
    "plt.ylabel('Fréquence') # Ses deux fonctions nous permettent de nomer les axes de notre graphe\n",
    "plt.show()"
   ]
  },
  {
   "cell_type": "markdown",
   "id": "2a7bc717",
   "metadata": {},
   "source": [
    "# **Histogramme des notes par individu**\n",
    "\n",
    "La forme de distribution de notre histogramme est une asymétrie à droite, le centre de distribution se situe entre la troisième et quatrième barres en se basant sur la moyenne et la médiane, ils sont moins nombreux les clients qui payent plus que la moyenne d'où la forme fine de la queue de notre histogramme et d'où les fréquences plus élevé de la deuxième barre et la troisième barre."
   ]
  },
  {
   "cell_type": "code",
   "execution_count": 102,
   "id": "6055f0fb",
   "metadata": {
    "scrolled": true
   },
   "outputs": [
    {
     "data": {
      "image/png": "[encoded data removed]",
      "text/plain": [
       "<Figure size 1500x600 with 2 Axes>"
      ]
     },
     "metadata": {},
     "output_type": "display_data"
    }
   ],
   "source": [
    "df_homme = df[df['Genre'] == 'Homme']\n",
    "df_femme = df[df['Genre'] == 'Femme']\n",
    "fig, axes = plt.subplots(1, 2, figsize=(15, 6))\n",
    "axes[0].hist(df_homme['f'], bins=10, density=True, alpha=0.5, color='blue')\n",
    "axes[0].set_title('Hommes')\n",
    "axes[0].set_xlabel('Note par individu')\n",
    "axes[0].set_ylabel('Densité')\n",
    "sns.kdeplot(df['f'], color='r', linestyle='--', ax=axes[0])\n",
    "axes[1].hist(df_femme['f'], bins=10, density=True, alpha=0.5, color='green')\n",
    "axes[1].set_title('Femmes')\n",
    "axes[1].set_xlabel('Note par individu')\n",
    "axes[1].set_ylabel('Densité')\n",
    "sns.kdeplot(df['f'], color='r', linestyle='--', ax=axes[1])\n",
    "plt.suptitle(\"Histogramme de note par individu selon le Genre\", fontsize=16)\n",
    "plt.show()"
   ]
  },
  {
   "cell_type": "markdown",
   "id": "30ced0fb",
   "metadata": {},
   "source": [
    "# **Histogramme de note par individu selon le Genre**\n",
    "\n",
    "les différentes valeurs de l'axe x représentent les différentes plages des notes par individu, l'axe y représente les densités et la courbe en rouge représente la courbe de densité.\n",
    "\n",
    "**Histogramme a gauche**\n",
    "\n",
    "Cet histogramme représente la distribution des notes par individu selon les hommes. Sa forme de distribution est une asymétrie à droite, le centre de distribution se situe entre la deusième et troisiième barres en se basant sur la moyenne et la médiane, ils sont moins nombreux les hommes qui payent plus que la moyenne d'où la forme fine de la queue de notre histogramme et d'où les fréquences sont plus élevé dans la deuxième barre et la troisième barre.\n",
    "\n",
    "**Histogramme a droite**\n",
    "\n",
    "Cet histogramme représente la distribution des notes par individu selon les femmes. Sa forme de distribution est une asymétrie à droite, le centre de distribution se situe entre la deusième et troisiième barres en se basant sur la moyenne et la médiane, ils sont moins nombreux les femmes qui payent plus que la moyenne d'où les fréquences sont plus élevé dans la deuxième barre et la troisième barre. Nous remarquons un deuxieme pic a la neuvieme barre, d'où l'existence de valeures aberrantes."
   ]
  },
  {
   "cell_type": "code",
   "execution_count": 107,
   "id": "eae45092",
   "metadata": {},
   "outputs": [
    {
     "data": {
      "image/png": "[encoded data removed]",
      "text/plain": [
       "<Figure size 1500x600 with 2 Axes>"
      ]
     },
     "metadata": {},
     "output_type": "display_data"
    }
   ],
   "source": [
    "df_dej = df[df['Repas'] == 'Déjeuner']\n",
    "df_femme = df[df['Repas'] == 'Dîner']\n",
    "fig, axes = plt.subplots(1, 2, figsize=(15, 6))\n",
    "axes[0].hist(df_homme['f'], bins=10, density=True, alpha=0.5, color='blue')\n",
    "axes[0].set_title('Déjeuner')\n",
    "axes[0].set_xlabel('Note par individu')\n",
    "axes[0].set_ylabel('Densité')\n",
    "sns.kdeplot(df['f'], color='r', linestyle='--', ax=axes[0])\n",
    "axes[1].hist(df_femme['f'], bins=10, density=True, alpha=0.5, color='green')\n",
    "axes[1].set_title('Dîner')\n",
    "axes[1].set_xlabel('Note par individu')\n",
    "axes[1].set_ylabel('Densité')\n",
    "sns.kdeplot(df['f'], color='r', linestyle='--', ax=axes[1])\n",
    "plt.suptitle(\"Histogramme de note par individu selon le repas\", fontsize=16)\n",
    "plt.show()"
   ]
  },
  {
   "cell_type": "markdown",
   "id": "5ac501c9",
   "metadata": {},
   "source": [
    "# **Histogramme de note par individu selon le repas**\n",
    "\n",
    "les différentes valeurs de l'axe x représentent les différentes plages des notes par individu, l'axe y représente les densités et la courbe en rouge représente la courbe de densité.\n",
    "\n",
    "**Histogramme a gauche**\n",
    "\n",
    "Cet histogramme représente la distribution des notes par individu selon le dejeuner. Sa forme de distribution est une asymétrie à droite, le pic se maniffeste dans la deuxième barre qui atteint plus de 0.016 de densité, le centre de distribution se situe entre la deusième et troisiième barres en se basant sur la moyenne et la médiane, ils sont moins nombreux les clients qui payent plus que la moyenne d'où la forme fine de la queue de notre histogramme et d'où les fréquences sont plus élevé dans la deuxième barre et la troisième barre.\n",
    "\n",
    "**Histogramme a droite**\n",
    "\n",
    "Cet histogramme représente la distribution des notes par individu selon le diner. Sa forme de distribution est une asymétrie à droite, le pic se maniffeste entre la deuxième barre et la troisième barres qui atteinnent entre 0.014 et 0.016 de densité, le centre de distribution se situe entre la deusième et troisiième barres en se basant sur la moyenne et la médiane, ils sont moins nombreux les clients qui payent plus que la moyenne d'où la forme fine de la queue de notre histogramme et d'où les fréquences sont plus élevé dans la deuxième barre et la troisième barre."
   ]
  },
  {
   "cell_type": "code",
   "execution_count": 109,
   "id": "c1a5558d",
   "metadata": {},
   "outputs": [
    {
     "data": {
      "image/png": "[encoded data removed]",
      "text/plain": [
       "<Figure size 1000x600 with 1 Axes>"
      ]
     },
     "metadata": {},
     "output_type": "display_data"
    }
   ],
   "source": [
    "sns.set(style=\"whitegrid\")\n",
    "plt.figure(figsize=(10, 6))\n",
    "sns.boxplot(x='Repas', y='f', data=df, palette='Set3') #Cette fonction nous permet de creer un boxplot avec les notes par individus selon le repas\n",
    "plt.title('Boxplot des notes par Individu selon le Repas')\n",
    "plt.xlabel('Repas')\n",
    "plt.ylabel('Note par Individu')\n",
    "plt.show()"
   ]
  },
  {
   "cell_type": "markdown",
   "id": "602c7a92",
   "metadata": {},
   "source": [
    "# **Boxplot des notes par Individu selon le repas**\n",
    "\n",
    "**Boxplot a gauche**\n",
    "\n",
    "Notre box plot à gauche représente les notes par individu dans le service de diner situé entre le deuxième et le troisième quartile plus précisément entre l'intervalle de [55 et 98] euros, la ligne horizontal au milieu de le box représente la médiane qui est égale à 75 euros et la moustache en haut représente la note maximale qui est égale à 152 euros, la moustache en bas la note minimale qui est égale a 26 euros. Les 5 points en haut sont des valeurs aberrantes.\n",
    "\n",
    "**Boxplot a droite**\n",
    "\n",
    "Notre box plot à droite représente les notes par individu dans le service de déjeuner situé entre le deuxième et le troisième quartile plus précisément entre l'intervalle de [55 et 80] euros, la ligne horizontal au milieu de le box représente la médiane qui est égale à 70 euros et la moustache en haut représente la note maximale qui est égale à 124 euros, la moustache en bas la note minimale qui est égale a 37 euros. Les deux points en haut sont des valeurs aberrantes."
   ]
  },
  {
   "cell_type": "raw",
   "id": "8d4c84f9",
   "metadata": {},
   "source": [
    "Question : Note selon le nombre de personnes"
   ]
  },
  {
   "cell_type": "markdown",
   "id": "cea7828f",
   "metadata": {},
   "source": []
  },
  {
   "cell_type": "code",
   "execution_count": 111,
   "id": "61d37c7e",
   "metadata": {},
   "outputs": [
    {
     "data": {
      "image/png": "[encoded data removed]",
      "text/plain": [
       "<Figure size 1000x600 with 1 Axes>"
      ]
     },
     "metadata": {},
     "output_type": "display_data"
    }
   ],
   "source": [
    "sns.set(style=\"whitegrid\")\n",
    "plt.figure(figsize=(10, 6))\n",
    "sns.boxplot(x='Jour', y='f', data=df, palette='Set3') #Cette fonction nous permet de creer un boxplot avec les notes par individus selon le jour\n",
    "plt.title('Boxplot des Notes par Individus selon le jour')\n",
    "plt.xlabel('Jour')\n",
    "plt.ylabel('Note par Individu')\n",
    "plt.show()"
   ]
  },
  {
   "cell_type": "markdown",
   "id": "594bd118",
   "metadata": {},
   "source": [
    "# **Boxplot des notes par Individu selon le jour**\n",
    "\n",
    "**1ere Boxplot**\n",
    "\n",
    "Notre box plot représente les notes par individu dans le service de dimanche,  situé entre le deuxième et le troisième quartile plus précisément entre l'intervalle de [60 et 82] euros, la ligne horizontal au milieu de le box représente la médiane qui est égale à 74 euros et la moustache en haut représente la note maximale qui est égale à 125 euros, la moustache en bas la note minimale qui est égale a 30 euros. Les 5 points en heut sont des valeurs aberrantes.\n",
    "\n",
    "**2eme Boxplot**\n",
    "\n",
    "Notre box plot à droite représente les notes par individu dans le service de samedi situé entre le deuxième et le troisième quartile plus précisément entre l'intervalle de [59 et 100] euros, la ligne horizontal au milieu de le box représente la médiane qui est égale à 75 euros et la moustache en haut représente la note maximale qui est égale à 170 euros, la moustache en bas la note minimale qui est égale a 27 euros. Le point en haut est une valeur aberrante.\n",
    "\n",
    "**3eme Boxplot**\n",
    "\n",
    "Notre box plot représente les notes par individu dans le service de jeudi,  situé entre le deuxième et le troisième quartile plus précisément entre l'intervalle de [59 et 82] euros, la ligne horizontal au milieu de le box représente la médiane qui est égale à 70 euros et la moustache en haut représente la note maximale qui est égale à 124 euros, la moustache en bas la note minimale qui est égale a 32 euros. Les 2 points en heut sont des valeurs aberrantes.\n",
    "\n",
    "**4eme Boxplot**\n",
    "\n",
    "Notre box plot représente les notes par individu dans le service de vendredi,  situé entre le deuxième et le troisième quartile plus précisément entre l'intervalle de [61 et 101] euros, la ligne horizontal au milieu de le box représente la médiane qui est égale à 76 euros et la moustache en haut représente la note maximale qui est égale à 145 euros, la moustache en bas la note minimale qui est égale a 26 euros. "
   ]
  },
  {
   "cell_type": "code",
   "execution_count": 115,
   "id": "2f7a5c93",
   "metadata": {
    "scrolled": false
   },
   "outputs": [
    {
     "data": {
      "image/png": "[encoded data removed]",
      "text/plain": [
       "<Figure size 1000x600 with 1 Axes>"
      ]
     },
     "metadata": {},
     "output_type": "display_data"
    }
   ],
   "source": [
    "sns.set(style=\"whitegrid\")\n",
    "plt.figure(figsize=(10, 6))\n",
    "sns.boxplot(x='Repas', y='f', hue='Jour', data=df, palette='Set3') #Cette fonction nous permet de creer un boxplot avec les notes par individus selon le repas et les jours\n",
    "plt.title('Boxplot des notes par Individus selon le repas et le jour')\n",
    "plt.xlabel('Repas')\n",
    "plt.ylabel('Note par Individu')\n",
    "plt.legend(title='Jour', loc='upper right')\n",
    "plt.show()"
   ]
  },
  {
   "cell_type": "markdown",
   "id": "0da4060c",
   "metadata": {},
   "source": [
    "# **Boxplot des Notes par Individus selon le repas et le jour**\n",
    "\n",
    "Ce graphe nous permet de comparer visuellement la distribution des notes par individu selon les repas et les jours à l'aide de box plot.\n",
    "\n",
    "Les boxplot nous montre que les clients on tendance a payer plus le vendredi, samedi et dimanche soir qu'aux jeudi et vendredi matin."
   ]
  },
  {
   "cell_type": "markdown",
   "id": "c21746c0",
   "metadata": {},
   "source": [
    "**Question 11 : Regarder la relation entre la note et le pourboire avec un nuage de point selon les repas ; selon les jours. Vous pourrez y ajouter les densités de chaque côté en différenciant les repas ; en différenciant les jours.**"
   ]
  },
  {
   "cell_type": "code",
   "execution_count": 116,
   "id": "b8e31dd6",
   "metadata": {},
   "outputs": [],
   "source": [
    "import warnings\n",
    "warnings.filterwarnings('ignore', category=UserWarning)"
   ]
  },
  {
   "cell_type": "code",
   "execution_count": 119,
   "id": "42d60bb7",
   "metadata": {
    "scrolled": false
   },
   "outputs": [
    {
     "data": {
      "image/png": "[encoded data removed]",
      "text/plain": [
       "<Figure size 617.125x500 with 1 Axes>"
      ]
     },
     "metadata": {},
     "output_type": "display_data"
    }
   ],
   "source": [
    "sns.lmplot(data=df, x=\"Note\", y='Pourboire', hue=\"Repas\")\n",
    "plt.title(\"Relation entre note et pourboire selon repas\")\n",
    "plt.show() #J'ai utilisé la fonction sns.scatterplot car la fonction \"plt.plot\" ne prend pas en charge le parametre \"hue\" qui sert a rajouter une variable de comparaison tel que Repas."
   ]
  },
  {
   "cell_type": "markdown",
   "id": "e4c40f1e",
   "metadata": {},
   "source": [
    "# **Relation entre note et pourboire selon repas**\n",
    "\n",
    "Ce graphique nous permet de visualiser la relation entre les pourboires et notes selon les repas, les points bleus définissent la relation entre pourboire et note par rapport au diner,  les points orange définissent la relation entre pourboire et note par rapport au déjeuner. La ligne bleue représente la variation des moyennes du pourboire et note selon le diner, la ligne orange représente la variation des moyennes du pourboire et note selon le déjeuner, les deux lignes ont des pentes positives ce qui nous affirme que la relation entre le variable pourboire et note est positive. Les zones de couleurs autour des lignes représentées les intervalles de confiances pour chaque ligne, il montre que plus on s'éloigne de la moyenne plus la zone s'élargit, ce qui veut plus la courbe s'élargit, l'incertitude sur la position de la ligne augmente."
   ]
  },
  {
   "cell_type": "code",
   "execution_count": 118,
   "id": "9bc4c055",
   "metadata": {},
   "outputs": [
    {
     "data": {
      "image/png": "[encoded data removed]",
      "text/plain": [
       "<Figure size 623.75x500 with 1 Axes>"
      ]
     },
     "metadata": {},
     "output_type": "display_data"
    }
   ],
   "source": [
    "sns.lmplot(data=df, x=\"Note\", y='Pourboire', hue=\"Jour\")\n",
    "plt.title(\"Relation entre Note et Pourboire selon Jour\")\n",
    "plt.show()"
   ]
  },
  {
   "cell_type": "markdown",
   "id": "97244130",
   "metadata": {},
   "source": [
    "# ** Relation entre note et pourboire selon le jour**\n",
    "\n",
    "Ce graphique nous permet de visualiser la relation entre les pourboires et notes selon les jours de la semaine, les points bleus définissent la relation entre pourboire et note par rapport au dimanche, les points oranges définissent la relation entre pourboire et note par rapport au samedi, les points verts définissent la relation entre pourboire et note par rapport au jeudi, les points rouges définissent la relation entre pourboire et note par rapport au vendredi. La ligne bleue représente la variation des moyennes du pourboire et note selon le dimanche, la ligne orange représente la variation des moyennes du pourboire et note selon le samedi, la ligne verte représente la variation des moyennes du pourboire et note selon le jeudi, la ligne rouge représente la variation des moyennes du pourboire et note selon le vendredi, les quatre lignes ont des pentes positives ce qui nous affirme que la relation entre le variable pourboire et note est positive. Les zones de couleurs autour des lignes représentent les intervalles de confiances pour chaque ligne, il montre que plus on s'éloigne de la moyenne plus la zone s'élargit, ce qui veut plus la courbe s'élargit, l'incertitude sur la position de la ligne augmente."
   ]
  },
  {
   "cell_type": "markdown",
   "id": "31858f38",
   "metadata": {},
   "source": [
    "**Question 12 : Faire un diagramme en barre du nombre de personnes selon le repas. Le faire avec les fréquences (en abscisses il faut le nombre de personnes et en légende le repas).**"
   ]
  },
  {
   "cell_type": "code",
   "execution_count": 121,
   "id": "224c3d7f",
   "metadata": {},
   "outputs": [
    {
     "data": {
      "image/png": "[encoded data removed]",
      "text/plain": [
       "<Figure size 640x480 with 1 Axes>"
      ]
     },
     "metadata": {},
     "output_type": "display_data"
    }
   ],
   "source": [
    "nbj=df['Repas'].value_counts(normalize=True) * 100\n",
    "Jr=nbj.index\n",
    "sns.barplot(x=Jr, y=nbj)\n",
    "plt.suptitle(\"Repartition des nombres de personnes selon les repas\", y=1)\n",
    "plt.xlabel(\"Repas\")\n",
    "plt.ylabel(\"Fréquence des nombres de personnes (%)\")\n",
    "plt.show()"
   ]
  },
  {
   "cell_type": "markdown",
   "id": "0fac7b63",
   "metadata": {},
   "source": [
    "**Repartition des nombres de personnes selon les repas**\n",
    "\n",
    "Ce graphe nous montre que 72% des clients viennent pour diner et 28% pour le dejeuner."
   ]
  },
  {
   "cell_type": "markdown",
   "id": "96dbee30",
   "metadata": {},
   "source": [
    "# **Analyse bivarié entre variables qualitatives**"
   ]
  },
  {
   "cell_type": "code",
   "execution_count": 122,
   "id": "082a02da",
   "metadata": {},
   "outputs": [],
   "source": [
    "import pandas as pd \n",
    "import  numpy as np  \n",
    "import matplotlib.pyplot as plt\n",
    "import seaborn as sns\n",
    "import os"
   ]
  },
  {
   "cell_type": "code",
   "execution_count": 123,
   "id": "8d6f4a2c",
   "metadata": {},
   "outputs": [
    {
     "data": {
      "text/html": [
       "<div>\n",
       "<style scoped>\n",
       "    .dataframe tbody tr th:only-of-type {\n",
       "        vertical-align: middle;\n",
       "    }\n",
       "\n",
       "    .dataframe tbody tr th {\n",
       "        vertical-align: top;\n",
       "    }\n",
       "\n",
       "    .dataframe thead th {\n",
       "        text-align: right;\n",
       "    }\n",
       "</style>\n",
       "<table border=\"1\" class=\"dataframe\">\n",
       "  <thead>\n",
       "    <tr style=\"text-align: right;\">\n",
       "      <th>Jour</th>\n",
       "      <th>Dimanche</th>\n",
       "      <th>Jeudi</th>\n",
       "      <th>Samedi</th>\n",
       "      <th>Vendredi</th>\n",
       "    </tr>\n",
       "    <tr>\n",
       "      <th>Genre</th>\n",
       "      <th></th>\n",
       "      <th></th>\n",
       "      <th></th>\n",
       "      <th></th>\n",
       "    </tr>\n",
       "  </thead>\n",
       "  <tbody>\n",
       "    <tr>\n",
       "      <th>Femme</th>\n",
       "      <td>19</td>\n",
       "      <td>31</td>\n",
       "      <td>28</td>\n",
       "      <td>9</td>\n",
       "    </tr>\n",
       "    <tr>\n",
       "      <th>Homme</th>\n",
       "      <td>58</td>\n",
       "      <td>30</td>\n",
       "      <td>59</td>\n",
       "      <td>10</td>\n",
       "    </tr>\n",
       "  </tbody>\n",
       "</table>\n",
       "</div>"
      ],
      "text/plain": [
       "Jour   Dimanche  Jeudi  Samedi  Vendredi\n",
       "Genre                                   \n",
       "Femme        19     31      28         9\n",
       "Homme        58     30      59        10"
      ]
     },
     "execution_count": 123,
     "metadata": {},
     "output_type": "execute_result"
    }
   ],
   "source": [
    "tab1=pd.crosstab(df['Genre'], df[\"Jour\"])\n",
    "tab1"
   ]
  },
  {
   "cell_type": "markdown",
   "id": "1a1b3194",
   "metadata": {},
   "source": [
    "**Ce tableau croisé sert à repartir le genre des clients par jour**"
   ]
  },
  {
   "cell_type": "code",
   "execution_count": 127,
   "id": "de5385d5",
   "metadata": {},
   "outputs": [
    {
     "data": {
      "text/plain": [
       "Chi2ContingencyResult(statistic=11.75364338058846, pvalue=0.008276531221766349, dof=3, expected_freq=array([[27.45491803, 21.75      , 31.0204918 ,  6.77459016],\n",
       "       [49.54508197, 39.25      , 55.9795082 , 12.22540984]]))"
      ]
     },
     "execution_count": 127,
     "metadata": {},
     "output_type": "execute_result"
    }
   ],
   "source": [
    "chi2_contingency(tab1)"
   ]
  },
  {
   "cell_type": "markdown",
   "id": "6cf5ede6",
   "metadata": {},
   "source": [
    "**Selon le test les variables genre et jour sont dépendantes**"
   ]
  },
  {
   "cell_type": "code",
   "execution_count": 124,
   "id": "158dadc3",
   "metadata": {},
   "outputs": [
    {
     "data": {
      "text/html": [
       "<div>\n",
       "<style scoped>\n",
       "    .dataframe tbody tr th:only-of-type {\n",
       "        vertical-align: middle;\n",
       "    }\n",
       "\n",
       "    .dataframe tbody tr th {\n",
       "        vertical-align: top;\n",
       "    }\n",
       "\n",
       "    .dataframe thead th {\n",
       "        text-align: right;\n",
       "    }\n",
       "</style>\n",
       "<table border=\"1\" class=\"dataframe\">\n",
       "  <thead>\n",
       "    <tr style=\"text-align: right;\">\n",
       "      <th>Repas</th>\n",
       "      <th>Déjeuner</th>\n",
       "      <th>Dîner</th>\n",
       "    </tr>\n",
       "    <tr>\n",
       "      <th>Genre</th>\n",
       "      <th></th>\n",
       "      <th></th>\n",
       "    </tr>\n",
       "  </thead>\n",
       "  <tbody>\n",
       "    <tr>\n",
       "      <th>Femme</th>\n",
       "      <td>35</td>\n",
       "      <td>52</td>\n",
       "    </tr>\n",
       "    <tr>\n",
       "      <th>Homme</th>\n",
       "      <td>33</td>\n",
       "      <td>124</td>\n",
       "    </tr>\n",
       "  </tbody>\n",
       "</table>\n",
       "</div>"
      ],
      "text/plain": [
       "Repas  Déjeuner  Dîner\n",
       "Genre                 \n",
       "Femme        35     52\n",
       "Homme        33    124"
      ]
     },
     "execution_count": 124,
     "metadata": {},
     "output_type": "execute_result"
    }
   ],
   "source": [
    "tab2=pd.crosstab(df['Genre'], df[\"Repas\"])\n",
    "tab2"
   ]
  },
  {
   "cell_type": "markdown",
   "id": "67059ac5",
   "metadata": {},
   "source": [
    "**Ce tableau croisé sert à repartir le genre des clients par repas**"
   ]
  },
  {
   "cell_type": "code",
   "execution_count": 128,
   "id": "e2a94020",
   "metadata": {},
   "outputs": [
    {
     "data": {
      "text/plain": [
       "Chi2ContingencyResult(statistic=9.343808982970623, pvalue=0.002237400118075248, dof=1, expected_freq=array([[ 24.24590164,  62.75409836],\n",
       "       [ 43.75409836, 113.24590164]]))"
      ]
     },
     "execution_count": 128,
     "metadata": {},
     "output_type": "execute_result"
    }
   ],
   "source": [
    "chi2_contingency(tab2)"
   ]
  },
  {
   "cell_type": "markdown",
   "id": "c35a40d0",
   "metadata": {},
   "source": [
    "**Selon le test les variables genre et repas sont dépendantes**"
   ]
  },
  {
   "cell_type": "code",
   "execution_count": 125,
   "id": "296ec4c7",
   "metadata": {},
   "outputs": [
    {
     "data": {
      "text/html": [
       "<div>\n",
       "<style scoped>\n",
       "    .dataframe tbody tr th:only-of-type {\n",
       "        vertical-align: middle;\n",
       "    }\n",
       "\n",
       "    .dataframe tbody tr th {\n",
       "        vertical-align: top;\n",
       "    }\n",
       "\n",
       "    .dataframe thead th {\n",
       "        text-align: right;\n",
       "    }\n",
       "</style>\n",
       "<table border=\"1\" class=\"dataframe\">\n",
       "  <thead>\n",
       "    <tr style=\"text-align: right;\">\n",
       "      <th>Jour</th>\n",
       "      <th>Dimanche</th>\n",
       "      <th>Jeudi</th>\n",
       "      <th>Samedi</th>\n",
       "      <th>Vendredi</th>\n",
       "    </tr>\n",
       "    <tr>\n",
       "      <th>Repas</th>\n",
       "      <th></th>\n",
       "      <th></th>\n",
       "      <th></th>\n",
       "      <th></th>\n",
       "    </tr>\n",
       "  </thead>\n",
       "  <tbody>\n",
       "    <tr>\n",
       "      <th>Déjeuner</th>\n",
       "      <td>0</td>\n",
       "      <td>61</td>\n",
       "      <td>0</td>\n",
       "      <td>7</td>\n",
       "    </tr>\n",
       "    <tr>\n",
       "      <th>Dîner</th>\n",
       "      <td>77</td>\n",
       "      <td>0</td>\n",
       "      <td>87</td>\n",
       "      <td>12</td>\n",
       "    </tr>\n",
       "  </tbody>\n",
       "</table>\n",
       "</div>"
      ],
      "text/plain": [
       "Jour      Dimanche  Jeudi  Samedi  Vendredi\n",
       "Repas                                      \n",
       "Déjeuner         0     61       0         7\n",
       "Dîner           77      0      87        12"
      ]
     },
     "execution_count": 125,
     "metadata": {},
     "output_type": "execute_result"
    }
   ],
   "source": [
    "tab3=pd.crosstab(df['Repas'], df[\"Jour\"])\n",
    "tab3"
   ]
  },
  {
   "cell_type": "markdown",
   "id": "caf10f46",
   "metadata": {},
   "source": [
    "**Ce tableau croisé sert à repartir le nombre de de clients par repas et par jour**"
   ]
  },
  {
   "cell_type": "code",
   "execution_count": 129,
   "id": "e6b9064a",
   "metadata": {},
   "outputs": [
    {
     "data": {
      "text/plain": [
       "Chi2ContingencyResult(statistic=222.00703630734589, pvalue=7.393519043748656e-48, dof=3, expected_freq=array([[21.45901639, 17.        , 24.24590164,  5.29508197],\n",
       "       [55.54098361, 44.        , 62.75409836, 13.70491803]]))"
      ]
     },
     "execution_count": 129,
     "metadata": {},
     "output_type": "execute_result"
    }
   ],
   "source": [
    "chi2_contingency(tab3)"
   ]
  },
  {
   "cell_type": "markdown",
   "id": "8a3389e6",
   "metadata": {},
   "source": [
    "**Selon le test les variables repas et jour sont dépendantes**"
   ]
  },
  {
   "cell_type": "code",
   "execution_count": 126,
   "id": "846a57c8",
   "metadata": {},
   "outputs": [],
   "source": [
    "from scipy.stats import chi2_contingency"
   ]
  },
  {
   "cell_type": "code",
   "execution_count": null,
   "id": "2e064a60",
   "metadata": {},
   "outputs": [],
   "source": [
    "chi2_contingency(tab1)[0]"
   ]
  },
  {
   "cell_type": "code",
   "execution_count": null,
   "id": "b23edf9a",
   "metadata": {},
   "outputs": [],
   "source": [
    "chi2_contingency(tab1)[1]"
   ]
  },
  {
   "cell_type": "code",
   "execution_count": null,
   "id": "d94f2e47",
   "metadata": {},
   "outputs": [],
   "source": [
    "chi2_contingency(tab1)[2]"
   ]
  },
  {
   "cell_type": "code",
   "execution_count": null,
   "id": "0fd3befc",
   "metadata": {},
   "outputs": [],
   "source": [
    "chi2_contingency(tab1)[3]"
   ]
  },
  {
   "cell_type": "code",
   "execution_count": null,
   "id": "2bdedc09",
   "metadata": {},
   "outputs": [],
   "source": [
    "tab1-chi2_contingency(tab1)[3]"
   ]
  },
  {
   "cell_type": "code",
   "execution_count": null,
   "id": "f3704526",
   "metadata": {},
   "outputs": [],
   "source": [
    "(tab1-chi2_contingency(tab1)[3])/np.sqrt(chi2_contingency(tab1)[3])"
   ]
  },
  {
   "cell_type": "code",
   "execution_count": null,
   "id": "52a3e6c6",
   "metadata": {},
   "outputs": [],
   "source": [
    "from scipy.stats import fisher_exact"
   ]
  },
  {
   "cell_type": "code",
   "execution_count": null,
   "id": "c6ea5662",
   "metadata": {},
   "outputs": [],
   "source": [
    "fisher_exact(tab1)[1] #le test de Fisher ne fonctionne pas car le tab 1 n'est pas de dimenssion 2x2, alors il faut choisir un autre test plus approprié a cette situation."
   ]
  },
  {
   "cell_type": "code",
   "execution_count": null,
   "id": "94728bf4",
   "metadata": {},
   "outputs": [],
   "source": [
    "chi2_contingency(tab2)[0]"
   ]
  },
  {
   "cell_type": "code",
   "execution_count": null,
   "id": "df44e310",
   "metadata": {},
   "outputs": [],
   "source": [
    "chi2_contingency(tab2)[1]"
   ]
  },
  {
   "cell_type": "code",
   "execution_count": null,
   "id": "873fa27c",
   "metadata": {},
   "outputs": [],
   "source": [
    "chi2_contingency(tab2)[2]"
   ]
  },
  {
   "cell_type": "code",
   "execution_count": null,
   "id": "11b89d7d",
   "metadata": {},
   "outputs": [],
   "source": [
    "chi2_contingency(tab2)[3]"
   ]
  },
  {
   "cell_type": "code",
   "execution_count": null,
   "id": "eccf4d59",
   "metadata": {},
   "outputs": [],
   "source": [
    "tab2-chi2_contingency(tab2)[3]"
   ]
  },
  {
   "cell_type": "code",
   "execution_count": null,
   "id": "58903691",
   "metadata": {},
   "outputs": [],
   "source": [
    "(tab2-chi2_contingency(tab2)[3])/np.sqrt(chi2_contingency(tab2)[3])"
   ]
  },
  {
   "cell_type": "code",
   "execution_count": null,
   "id": "fb8270e4",
   "metadata": {},
   "outputs": [],
   "source": [
    "fisher_exact(tab2)[1] #ici le test Fisher fonctionne car la table est de dimenssion 2x2"
   ]
  },
  {
   "cell_type": "code",
   "execution_count": null,
   "id": "9125d473",
   "metadata": {},
   "outputs": [],
   "source": [
    "chi2_contingency(tab3)[0]"
   ]
  },
  {
   "cell_type": "code",
   "execution_count": null,
   "id": "dbbad08d",
   "metadata": {},
   "outputs": [],
   "source": [
    "chi2_contingency(tab3)[1]"
   ]
  },
  {
   "cell_type": "code",
   "execution_count": null,
   "id": "a1d6d0a4",
   "metadata": {},
   "outputs": [],
   "source": [
    "chi2_contingency(tab3)[2]"
   ]
  },
  {
   "cell_type": "code",
   "execution_count": null,
   "id": "eb98d8b0",
   "metadata": {},
   "outputs": [],
   "source": [
    "chi2_contingency(tab3)[3]"
   ]
  },
  {
   "cell_type": "code",
   "execution_count": null,
   "id": "ed1a9c1a",
   "metadata": {},
   "outputs": [],
   "source": [
    "tab3-chi2_contingency(tab3)[3]"
   ]
  },
  {
   "cell_type": "code",
   "execution_count": null,
   "id": "de89b187",
   "metadata": {},
   "outputs": [],
   "source": [
    "(tab3-chi2_contingency(tab3)[3])/np.sqrt(chi2_contingency(tab3)[3])"
   ]
  },
  {
   "cell_type": "code",
   "execution_count": null,
   "id": "18772ea7",
   "metadata": {},
   "outputs": [],
   "source": [
    "fisher_exact(tab3)[1] #le test ne va pas marcher comme pour tab1 car la dimenssion est superieure a 2x2, elle est de 2x4"
   ]
  },
  {
   "cell_type": "markdown",
   "id": "e8d3f6a8",
   "metadata": {},
   "source": [
    "# **Analyse bivarié entre variable quantitative et qualitative**"
   ]
  },
  {
   "cell_type": "code",
   "execution_count": 130,
   "id": "b5d23702",
   "metadata": {},
   "outputs": [
    {
     "data": {
      "text/html": [
       "<div>\n",
       "<style scoped>\n",
       "    .dataframe tbody tr th:only-of-type {\n",
       "        vertical-align: middle;\n",
       "    }\n",
       "\n",
       "    .dataframe tbody tr th {\n",
       "        vertical-align: top;\n",
       "    }\n",
       "\n",
       "    .dataframe thead tr th {\n",
       "        text-align: left;\n",
       "    }\n",
       "\n",
       "    .dataframe thead tr:last-of-type th {\n",
       "        text-align: right;\n",
       "    }\n",
       "</style>\n",
       "<table border=\"1\" class=\"dataframe\">\n",
       "  <thead>\n",
       "    <tr>\n",
       "      <th></th>\n",
       "      <th colspan=\"8\" halign=\"left\">Note</th>\n",
       "      <th colspan=\"2\" halign=\"left\">Pourboire</th>\n",
       "      <th>...</th>\n",
       "      <th colspan=\"2\" halign=\"left\">f</th>\n",
       "      <th colspan=\"8\" halign=\"left\">g</th>\n",
       "    </tr>\n",
       "    <tr>\n",
       "      <th></th>\n",
       "      <th>count</th>\n",
       "      <th>mean</th>\n",
       "      <th>std</th>\n",
       "      <th>min</th>\n",
       "      <th>25%</th>\n",
       "      <th>50%</th>\n",
       "      <th>75%</th>\n",
       "      <th>max</th>\n",
       "      <th>count</th>\n",
       "      <th>mean</th>\n",
       "      <th>...</th>\n",
       "      <th>75%</th>\n",
       "      <th>max</th>\n",
       "      <th>count</th>\n",
       "      <th>mean</th>\n",
       "      <th>std</th>\n",
       "      <th>min</th>\n",
       "      <th>25%</th>\n",
       "      <th>50%</th>\n",
       "      <th>75%</th>\n",
       "      <th>max</th>\n",
       "    </tr>\n",
       "    <tr>\n",
       "      <th>Genre</th>\n",
       "      <th></th>\n",
       "      <th></th>\n",
       "      <th></th>\n",
       "      <th></th>\n",
       "      <th></th>\n",
       "      <th></th>\n",
       "      <th></th>\n",
       "      <th></th>\n",
       "      <th></th>\n",
       "      <th></th>\n",
       "      <th></th>\n",
       "      <th></th>\n",
       "      <th></th>\n",
       "      <th></th>\n",
       "      <th></th>\n",
       "      <th></th>\n",
       "      <th></th>\n",
       "      <th></th>\n",
       "      <th></th>\n",
       "      <th></th>\n",
       "      <th></th>\n",
       "    </tr>\n",
       "  </thead>\n",
       "  <tbody>\n",
       "    <tr>\n",
       "      <th>Femme</th>\n",
       "      <td>87.0</td>\n",
       "      <td>180.568966</td>\n",
       "      <td>80.092090</td>\n",
       "      <td>30.7</td>\n",
       "      <td>127.5</td>\n",
       "      <td>164.0</td>\n",
       "      <td>215.2</td>\n",
       "      <td>443.0</td>\n",
       "      <td>87.0</td>\n",
       "      <td>28.367816</td>\n",
       "      <td>...</td>\n",
       "      <td>87.0</td>\n",
       "      <td>147.0</td>\n",
       "      <td>87.0</td>\n",
       "      <td>11.701149</td>\n",
       "      <td>4.294710</td>\n",
       "      <td>4.0</td>\n",
       "      <td>9.0</td>\n",
       "      <td>11.0</td>\n",
       "      <td>14.5</td>\n",
       "      <td>25.0</td>\n",
       "    </tr>\n",
       "    <tr>\n",
       "      <th>Homme</th>\n",
       "      <td>157.0</td>\n",
       "      <td>207.440764</td>\n",
       "      <td>92.464688</td>\n",
       "      <td>72.5</td>\n",
       "      <td>140.0</td>\n",
       "      <td>183.5</td>\n",
       "      <td>247.1</td>\n",
       "      <td>508.1</td>\n",
       "      <td>157.0</td>\n",
       "      <td>30.936306</td>\n",
       "      <td>...</td>\n",
       "      <td>96.0</td>\n",
       "      <td>202.0</td>\n",
       "      <td>157.0</td>\n",
       "      <td>12.000000</td>\n",
       "      <td>5.272084</td>\n",
       "      <td>4.0</td>\n",
       "      <td>8.0</td>\n",
       "      <td>10.0</td>\n",
       "      <td>15.0</td>\n",
       "      <td>33.0</td>\n",
       "    </tr>\n",
       "  </tbody>\n",
       "</table>\n",
       "<p>2 rows × 40 columns</p>\n",
       "</div>"
      ],
      "text/plain": [
       "        Note                                                           \\\n",
       "       count        mean        std   min    25%    50%    75%    max   \n",
       "Genre                                                                   \n",
       "Femme   87.0  180.568966  80.092090  30.7  127.5  164.0  215.2  443.0   \n",
       "Homme  157.0  207.440764  92.464688  72.5  140.0  183.5  247.1  508.1   \n",
       "\n",
       "      Pourboire             ...     f             g                            \\\n",
       "          count       mean  ...   75%    max  count       mean       std  min   \n",
       "Genre                       ...                                                 \n",
       "Femme      87.0  28.367816  ...  87.0  147.0   87.0  11.701149  4.294710  4.0   \n",
       "Homme     157.0  30.936306  ...  96.0  202.0  157.0  12.000000  5.272084  4.0   \n",
       "\n",
       "                              \n",
       "       25%   50%   75%   max  \n",
       "Genre                         \n",
       "Femme  9.0  11.0  14.5  25.0  \n",
       "Homme  8.0  10.0  15.0  33.0  \n",
       "\n",
       "[2 rows x 40 columns]"
      ]
     },
     "execution_count": 130,
     "metadata": {},
     "output_type": "execute_result"
    }
   ],
   "source": [
    "df_result=df.groupby(\"Genre\")\n",
    "df_result.describe()"
   ]
  },
  {
   "cell_type": "markdown",
   "id": "33b20f89",
   "metadata": {},
   "source": [
    "**Ce tableau nous affiche les proprietés statistiques de toutes les variables quantitatives par rapport au genre**"
   ]
  },
  {
   "cell_type": "code",
   "execution_count": 131,
   "id": "104c20bd",
   "metadata": {},
   "outputs": [],
   "source": [
    "df_result_note=df.groupby(\"Genre\")[\"Note\"]"
   ]
  },
  {
   "cell_type": "code",
   "execution_count": 132,
   "id": "c9370902",
   "metadata": {},
   "outputs": [
    {
     "data": {
      "text/html": [
       "<div>\n",
       "<style scoped>\n",
       "    .dataframe tbody tr th:only-of-type {\n",
       "        vertical-align: middle;\n",
       "    }\n",
       "\n",
       "    .dataframe tbody tr th {\n",
       "        vertical-align: top;\n",
       "    }\n",
       "\n",
       "    .dataframe thead th {\n",
       "        text-align: right;\n",
       "    }\n",
       "</style>\n",
       "<table border=\"1\" class=\"dataframe\">\n",
       "  <thead>\n",
       "    <tr style=\"text-align: right;\">\n",
       "      <th></th>\n",
       "      <th>count</th>\n",
       "      <th>mean</th>\n",
       "      <th>std</th>\n",
       "      <th>min</th>\n",
       "      <th>25%</th>\n",
       "      <th>50%</th>\n",
       "      <th>75%</th>\n",
       "      <th>max</th>\n",
       "    </tr>\n",
       "    <tr>\n",
       "      <th>Genre</th>\n",
       "      <th></th>\n",
       "      <th></th>\n",
       "      <th></th>\n",
       "      <th></th>\n",
       "      <th></th>\n",
       "      <th></th>\n",
       "      <th></th>\n",
       "      <th></th>\n",
       "    </tr>\n",
       "  </thead>\n",
       "  <tbody>\n",
       "    <tr>\n",
       "      <th>Femme</th>\n",
       "      <td>87.0</td>\n",
       "      <td>180.568966</td>\n",
       "      <td>80.092090</td>\n",
       "      <td>30.7</td>\n",
       "      <td>127.5</td>\n",
       "      <td>164.0</td>\n",
       "      <td>215.2</td>\n",
       "      <td>443.0</td>\n",
       "    </tr>\n",
       "    <tr>\n",
       "      <th>Homme</th>\n",
       "      <td>157.0</td>\n",
       "      <td>207.440764</td>\n",
       "      <td>92.464688</td>\n",
       "      <td>72.5</td>\n",
       "      <td>140.0</td>\n",
       "      <td>183.5</td>\n",
       "      <td>247.1</td>\n",
       "      <td>508.1</td>\n",
       "    </tr>\n",
       "  </tbody>\n",
       "</table>\n",
       "</div>"
      ],
      "text/plain": [
       "       count        mean        std   min    25%    50%    75%    max\n",
       "Genre                                                                \n",
       "Femme   87.0  180.568966  80.092090  30.7  127.5  164.0  215.2  443.0\n",
       "Homme  157.0  207.440764  92.464688  72.5  140.0  183.5  247.1  508.1"
      ]
     },
     "execution_count": 132,
     "metadata": {},
     "output_type": "execute_result"
    }
   ],
   "source": [
    "df_result_note.describe()"
   ]
  },
  {
   "cell_type": "code",
   "execution_count": 133,
   "id": "dddf4317",
   "metadata": {},
   "outputs": [
    {
     "data": {
      "text/html": [
       "<div>\n",
       "<style scoped>\n",
       "    .dataframe tbody tr th:only-of-type {\n",
       "        vertical-align: middle;\n",
       "    }\n",
       "\n",
       "    .dataframe tbody tr th {\n",
       "        vertical-align: top;\n",
       "    }\n",
       "\n",
       "    .dataframe thead th {\n",
       "        text-align: right;\n",
       "    }\n",
       "</style>\n",
       "<table border=\"1\" class=\"dataframe\">\n",
       "  <thead>\n",
       "    <tr style=\"text-align: right;\">\n",
       "      <th></th>\n",
       "      <th>mean</th>\n",
       "      <th>std</th>\n",
       "      <th>min</th>\n",
       "      <th>max</th>\n",
       "    </tr>\n",
       "    <tr>\n",
       "      <th>Genre</th>\n",
       "      <th></th>\n",
       "      <th></th>\n",
       "      <th></th>\n",
       "      <th></th>\n",
       "    </tr>\n",
       "  </thead>\n",
       "  <tbody>\n",
       "    <tr>\n",
       "      <th>Femme</th>\n",
       "      <td>180.568966</td>\n",
       "      <td>80.092090</td>\n",
       "      <td>30.7</td>\n",
       "      <td>443.0</td>\n",
       "    </tr>\n",
       "    <tr>\n",
       "      <th>Homme</th>\n",
       "      <td>207.440764</td>\n",
       "      <td>92.464688</td>\n",
       "      <td>72.5</td>\n",
       "      <td>508.1</td>\n",
       "    </tr>\n",
       "  </tbody>\n",
       "</table>\n",
       "</div>"
      ],
      "text/plain": [
       "             mean        std   min    max\n",
       "Genre                                    \n",
       "Femme  180.568966  80.092090  30.7  443.0\n",
       "Homme  207.440764  92.464688  72.5  508.1"
      ]
     },
     "execution_count": 133,
     "metadata": {},
     "output_type": "execute_result"
    }
   ],
   "source": [
    "df_result_note.agg([\"mean\", \"std\", \"min\", \"max\"])"
   ]
  },
  {
   "cell_type": "code",
   "execution_count": 134,
   "id": "1d37818d",
   "metadata": {},
   "outputs": [
    {
     "data": {
      "text/plain": [
       "Genre\n",
       "Femme    412.3\n",
       "Homme    435.6\n",
       "Name: Note, dtype: float64"
      ]
     },
     "execution_count": 134,
     "metadata": {},
     "output_type": "execute_result"
    }
   ],
   "source": [
    "df.groupby(\"Genre\")['Note'].apply(lambda x : x.max()-x.min())"
   ]
  },
  {
   "cell_type": "code",
   "execution_count": 135,
   "id": "81bbf0f9",
   "metadata": {},
   "outputs": [
    {
     "data": {
      "text/html": [
       "<div>\n",
       "<style scoped>\n",
       "    .dataframe tbody tr th:only-of-type {\n",
       "        vertical-align: middle;\n",
       "    }\n",
       "\n",
       "    .dataframe tbody tr th {\n",
       "        vertical-align: top;\n",
       "    }\n",
       "\n",
       "    .dataframe thead th {\n",
       "        text-align: right;\n",
       "    }\n",
       "</style>\n",
       "<table border=\"1\" class=\"dataframe\">\n",
       "  <thead>\n",
       "    <tr style=\"text-align: right;\">\n",
       "      <th></th>\n",
       "      <th>count</th>\n",
       "      <th>mean</th>\n",
       "      <th>std</th>\n",
       "      <th>min</th>\n",
       "      <th>25%</th>\n",
       "      <th>50%</th>\n",
       "      <th>75%</th>\n",
       "      <th>max</th>\n",
       "    </tr>\n",
       "    <tr>\n",
       "      <th>Genre</th>\n",
       "      <th></th>\n",
       "      <th></th>\n",
       "      <th></th>\n",
       "      <th></th>\n",
       "      <th></th>\n",
       "      <th></th>\n",
       "      <th></th>\n",
       "      <th></th>\n",
       "    </tr>\n",
       "  </thead>\n",
       "  <tbody>\n",
       "    <tr>\n",
       "      <th>Femme</th>\n",
       "      <td>87.0</td>\n",
       "      <td>180.568966</td>\n",
       "      <td>80.092090</td>\n",
       "      <td>30.7</td>\n",
       "      <td>127.5</td>\n",
       "      <td>164.0</td>\n",
       "      <td>215.2</td>\n",
       "      <td>443.0</td>\n",
       "    </tr>\n",
       "    <tr>\n",
       "      <th>Homme</th>\n",
       "      <td>157.0</td>\n",
       "      <td>207.440764</td>\n",
       "      <td>92.464688</td>\n",
       "      <td>72.5</td>\n",
       "      <td>140.0</td>\n",
       "      <td>183.5</td>\n",
       "      <td>247.1</td>\n",
       "      <td>508.1</td>\n",
       "    </tr>\n",
       "  </tbody>\n",
       "</table>\n",
       "</div>"
      ],
      "text/plain": [
       "       count        mean        std   min    25%    50%    75%    max\n",
       "Genre                                                                \n",
       "Femme   87.0  180.568966  80.092090  30.7  127.5  164.0  215.2  443.0\n",
       "Homme  157.0  207.440764  92.464688  72.5  140.0  183.5  247.1  508.1"
      ]
     },
     "execution_count": 135,
     "metadata": {},
     "output_type": "execute_result"
    }
   ],
   "source": [
    "df.groupby(\"Genre\")['Note'].describe()"
   ]
  },
  {
   "cell_type": "code",
   "execution_count": 136,
   "id": "ec14678b",
   "metadata": {},
   "outputs": [],
   "source": [
    "df_result_pourboire=df.groupby(\"Genre\")[\"Pourboire\"]"
   ]
  },
  {
   "cell_type": "code",
   "execution_count": 137,
   "id": "0339f000",
   "metadata": {},
   "outputs": [
    {
     "data": {
      "text/html": [
       "<div>\n",
       "<style scoped>\n",
       "    .dataframe tbody tr th:only-of-type {\n",
       "        vertical-align: middle;\n",
       "    }\n",
       "\n",
       "    .dataframe tbody tr th {\n",
       "        vertical-align: top;\n",
       "    }\n",
       "\n",
       "    .dataframe thead th {\n",
       "        text-align: right;\n",
       "    }\n",
       "</style>\n",
       "<table border=\"1\" class=\"dataframe\">\n",
       "  <thead>\n",
       "    <tr style=\"text-align: right;\">\n",
       "      <th></th>\n",
       "      <th>count</th>\n",
       "      <th>mean</th>\n",
       "      <th>std</th>\n",
       "      <th>min</th>\n",
       "      <th>25%</th>\n",
       "      <th>50%</th>\n",
       "      <th>75%</th>\n",
       "      <th>max</th>\n",
       "    </tr>\n",
       "    <tr>\n",
       "      <th>Genre</th>\n",
       "      <th></th>\n",
       "      <th></th>\n",
       "      <th></th>\n",
       "      <th></th>\n",
       "      <th></th>\n",
       "      <th></th>\n",
       "      <th></th>\n",
       "      <th></th>\n",
       "    </tr>\n",
       "  </thead>\n",
       "  <tbody>\n",
       "    <tr>\n",
       "      <th>Femme</th>\n",
       "      <td>87.0</td>\n",
       "      <td>28.367816</td>\n",
       "      <td>11.604044</td>\n",
       "      <td>10.0</td>\n",
       "      <td>20.0</td>\n",
       "      <td>28.0</td>\n",
       "      <td>35.0</td>\n",
       "      <td>65.0</td>\n",
       "    </tr>\n",
       "    <tr>\n",
       "      <th>Homme</th>\n",
       "      <td>157.0</td>\n",
       "      <td>30.936306</td>\n",
       "      <td>14.897376</td>\n",
       "      <td>10.0</td>\n",
       "      <td>20.0</td>\n",
       "      <td>30.0</td>\n",
       "      <td>38.0</td>\n",
       "      <td>100.0</td>\n",
       "    </tr>\n",
       "  </tbody>\n",
       "</table>\n",
       "</div>"
      ],
      "text/plain": [
       "       count       mean        std   min   25%   50%   75%    max\n",
       "Genre                                                            \n",
       "Femme   87.0  28.367816  11.604044  10.0  20.0  28.0  35.0   65.0\n",
       "Homme  157.0  30.936306  14.897376  10.0  20.0  30.0  38.0  100.0"
      ]
     },
     "execution_count": 137,
     "metadata": {},
     "output_type": "execute_result"
    }
   ],
   "source": [
    "df_result_pourboire.describe()"
   ]
  },
  {
   "cell_type": "code",
   "execution_count": 138,
   "id": "9b339149",
   "metadata": {},
   "outputs": [
    {
     "data": {
      "text/html": [
       "<div>\n",
       "<style scoped>\n",
       "    .dataframe tbody tr th:only-of-type {\n",
       "        vertical-align: middle;\n",
       "    }\n",
       "\n",
       "    .dataframe tbody tr th {\n",
       "        vertical-align: top;\n",
       "    }\n",
       "\n",
       "    .dataframe thead th {\n",
       "        text-align: right;\n",
       "    }\n",
       "</style>\n",
       "<table border=\"1\" class=\"dataframe\">\n",
       "  <thead>\n",
       "    <tr style=\"text-align: right;\">\n",
       "      <th></th>\n",
       "      <th>mean</th>\n",
       "      <th>std</th>\n",
       "      <th>min</th>\n",
       "      <th>max</th>\n",
       "    </tr>\n",
       "    <tr>\n",
       "      <th>Genre</th>\n",
       "      <th></th>\n",
       "      <th></th>\n",
       "      <th></th>\n",
       "      <th></th>\n",
       "    </tr>\n",
       "  </thead>\n",
       "  <tbody>\n",
       "    <tr>\n",
       "      <th>Femme</th>\n",
       "      <td>28.367816</td>\n",
       "      <td>11.604044</td>\n",
       "      <td>10.0</td>\n",
       "      <td>65.0</td>\n",
       "    </tr>\n",
       "    <tr>\n",
       "      <th>Homme</th>\n",
       "      <td>30.936306</td>\n",
       "      <td>14.897376</td>\n",
       "      <td>10.0</td>\n",
       "      <td>100.0</td>\n",
       "    </tr>\n",
       "  </tbody>\n",
       "</table>\n",
       "</div>"
      ],
      "text/plain": [
       "            mean        std   min    max\n",
       "Genre                                   \n",
       "Femme  28.367816  11.604044  10.0   65.0\n",
       "Homme  30.936306  14.897376  10.0  100.0"
      ]
     },
     "execution_count": 138,
     "metadata": {},
     "output_type": "execute_result"
    }
   ],
   "source": [
    "df_result_pourboire.agg([\"mean\", \"std\", \"min\", \"max\"])"
   ]
  },
  {
   "cell_type": "code",
   "execution_count": 139,
   "id": "44f1470c",
   "metadata": {},
   "outputs": [],
   "source": [
    "df_result_pourboire=df.groupby(\"Genre\")[\"Pourboire\"]"
   ]
  },
  {
   "cell_type": "code",
   "execution_count": 140,
   "id": "05c7c85e",
   "metadata": {},
   "outputs": [
    {
     "data": {
      "text/plain": [
       "Genre\n",
       "Femme    55.0\n",
       "Homme    90.0\n",
       "Name: Pourboire, dtype: float64"
      ]
     },
     "execution_count": 140,
     "metadata": {},
     "output_type": "execute_result"
    }
   ],
   "source": [
    "df.groupby(\"Genre\")['Pourboire'].apply(lambda x : x.max()-x.min())"
   ]
  },
  {
   "cell_type": "code",
   "execution_count": 141,
   "id": "167742cf",
   "metadata": {},
   "outputs": [
    {
     "data": {
      "text/html": [
       "<div>\n",
       "<style scoped>\n",
       "    .dataframe tbody tr th:only-of-type {\n",
       "        vertical-align: middle;\n",
       "    }\n",
       "\n",
       "    .dataframe tbody tr th {\n",
       "        vertical-align: top;\n",
       "    }\n",
       "\n",
       "    .dataframe thead th {\n",
       "        text-align: right;\n",
       "    }\n",
       "</style>\n",
       "<table border=\"1\" class=\"dataframe\">\n",
       "  <thead>\n",
       "    <tr style=\"text-align: right;\">\n",
       "      <th></th>\n",
       "      <th>count</th>\n",
       "      <th>mean</th>\n",
       "      <th>std</th>\n",
       "      <th>min</th>\n",
       "      <th>25%</th>\n",
       "      <th>50%</th>\n",
       "      <th>75%</th>\n",
       "      <th>max</th>\n",
       "    </tr>\n",
       "    <tr>\n",
       "      <th>Genre</th>\n",
       "      <th></th>\n",
       "      <th></th>\n",
       "      <th></th>\n",
       "      <th></th>\n",
       "      <th></th>\n",
       "      <th></th>\n",
       "      <th></th>\n",
       "      <th></th>\n",
       "    </tr>\n",
       "  </thead>\n",
       "  <tbody>\n",
       "    <tr>\n",
       "      <th>Femme</th>\n",
       "      <td>87.0</td>\n",
       "      <td>28.367816</td>\n",
       "      <td>11.604044</td>\n",
       "      <td>10.0</td>\n",
       "      <td>20.0</td>\n",
       "      <td>28.0</td>\n",
       "      <td>35.0</td>\n",
       "      <td>65.0</td>\n",
       "    </tr>\n",
       "    <tr>\n",
       "      <th>Homme</th>\n",
       "      <td>157.0</td>\n",
       "      <td>30.936306</td>\n",
       "      <td>14.897376</td>\n",
       "      <td>10.0</td>\n",
       "      <td>20.0</td>\n",
       "      <td>30.0</td>\n",
       "      <td>38.0</td>\n",
       "      <td>100.0</td>\n",
       "    </tr>\n",
       "  </tbody>\n",
       "</table>\n",
       "</div>"
      ],
      "text/plain": [
       "       count       mean        std   min   25%   50%   75%    max\n",
       "Genre                                                            \n",
       "Femme   87.0  28.367816  11.604044  10.0  20.0  28.0  35.0   65.0\n",
       "Homme  157.0  30.936306  14.897376  10.0  20.0  30.0  38.0  100.0"
      ]
     },
     "execution_count": 141,
     "metadata": {},
     "output_type": "execute_result"
    }
   ],
   "source": [
    "df.groupby(\"Genre\")['Pourboire'].describe()"
   ]
  },
  {
   "cell_type": "code",
   "execution_count": 142,
   "id": "1b8eec78",
   "metadata": {},
   "outputs": [],
   "source": [
    "df_result_Note_selon_le_nombre_de_personnes=df.groupby(\"Genre\")[\"f\"]"
   ]
  },
  {
   "cell_type": "code",
   "execution_count": 143,
   "id": "e4ffc76c",
   "metadata": {},
   "outputs": [
    {
     "data": {
      "text/html": [
       "<div>\n",
       "<style scoped>\n",
       "    .dataframe tbody tr th:only-of-type {\n",
       "        vertical-align: middle;\n",
       "    }\n",
       "\n",
       "    .dataframe tbody tr th {\n",
       "        vertical-align: top;\n",
       "    }\n",
       "\n",
       "    .dataframe thead th {\n",
       "        text-align: right;\n",
       "    }\n",
       "</style>\n",
       "<table border=\"1\" class=\"dataframe\">\n",
       "  <thead>\n",
       "    <tr style=\"text-align: right;\">\n",
       "      <th></th>\n",
       "      <th>count</th>\n",
       "      <th>mean</th>\n",
       "      <th>std</th>\n",
       "      <th>min</th>\n",
       "      <th>25%</th>\n",
       "      <th>50%</th>\n",
       "      <th>75%</th>\n",
       "      <th>max</th>\n",
       "    </tr>\n",
       "    <tr>\n",
       "      <th>Genre</th>\n",
       "      <th></th>\n",
       "      <th></th>\n",
       "      <th></th>\n",
       "      <th></th>\n",
       "      <th></th>\n",
       "      <th></th>\n",
       "      <th></th>\n",
       "      <th></th>\n",
       "    </tr>\n",
       "  </thead>\n",
       "  <tbody>\n",
       "    <tr>\n",
       "      <th>Femme</th>\n",
       "      <td>87.0</td>\n",
       "      <td>74.160920</td>\n",
       "      <td>24.629758</td>\n",
       "      <td>28.0</td>\n",
       "      <td>56.0</td>\n",
       "      <td>67.0</td>\n",
       "      <td>87.0</td>\n",
       "      <td>147.0</td>\n",
       "    </tr>\n",
       "    <tr>\n",
       "      <th>Homme</th>\n",
       "      <td>157.0</td>\n",
       "      <td>80.796178</td>\n",
       "      <td>31.209741</td>\n",
       "      <td>34.0</td>\n",
       "      <td>58.0</td>\n",
       "      <td>76.0</td>\n",
       "      <td>96.0</td>\n",
       "      <td>202.0</td>\n",
       "    </tr>\n",
       "  </tbody>\n",
       "</table>\n",
       "</div>"
      ],
      "text/plain": [
       "       count       mean        std   min   25%   50%   75%    max\n",
       "Genre                                                            \n",
       "Femme   87.0  74.160920  24.629758  28.0  56.0  67.0  87.0  147.0\n",
       "Homme  157.0  80.796178  31.209741  34.0  58.0  76.0  96.0  202.0"
      ]
     },
     "execution_count": 143,
     "metadata": {},
     "output_type": "execute_result"
    }
   ],
   "source": [
    "df_result_Note_selon_le_nombre_de_personnes.describe()"
   ]
  },
  {
   "cell_type": "code",
   "execution_count": 144,
   "id": "d646573e",
   "metadata": {},
   "outputs": [],
   "source": [
    "df_result_pourboire=df.groupby(\"Genre\")[\"f\"]"
   ]
  },
  {
   "cell_type": "code",
   "execution_count": 145,
   "id": "95ea04c6",
   "metadata": {},
   "outputs": [
    {
     "data": {
      "text/plain": [
       "Genre\n",
       "Femme    119\n",
       "Homme    168\n",
       "Name: f, dtype: int64"
      ]
     },
     "execution_count": 145,
     "metadata": {},
     "output_type": "execute_result"
    }
   ],
   "source": [
    "df.groupby(\"Genre\")['f'].apply(lambda x : x.max()-x.min())"
   ]
  },
  {
   "cell_type": "code",
   "execution_count": 146,
   "id": "438afa89",
   "metadata": {},
   "outputs": [
    {
     "data": {
      "text/html": [
       "<div>\n",
       "<style scoped>\n",
       "    .dataframe tbody tr th:only-of-type {\n",
       "        vertical-align: middle;\n",
       "    }\n",
       "\n",
       "    .dataframe tbody tr th {\n",
       "        vertical-align: top;\n",
       "    }\n",
       "\n",
       "    .dataframe thead th {\n",
       "        text-align: right;\n",
       "    }\n",
       "</style>\n",
       "<table border=\"1\" class=\"dataframe\">\n",
       "  <thead>\n",
       "    <tr style=\"text-align: right;\">\n",
       "      <th></th>\n",
       "      <th>count</th>\n",
       "      <th>mean</th>\n",
       "      <th>std</th>\n",
       "      <th>min</th>\n",
       "      <th>25%</th>\n",
       "      <th>50%</th>\n",
       "      <th>75%</th>\n",
       "      <th>max</th>\n",
       "    </tr>\n",
       "    <tr>\n",
       "      <th>Genre</th>\n",
       "      <th></th>\n",
       "      <th></th>\n",
       "      <th></th>\n",
       "      <th></th>\n",
       "      <th></th>\n",
       "      <th></th>\n",
       "      <th></th>\n",
       "      <th></th>\n",
       "    </tr>\n",
       "  </thead>\n",
       "  <tbody>\n",
       "    <tr>\n",
       "      <th>Femme</th>\n",
       "      <td>87.0</td>\n",
       "      <td>74.160920</td>\n",
       "      <td>24.629758</td>\n",
       "      <td>28.0</td>\n",
       "      <td>56.0</td>\n",
       "      <td>67.0</td>\n",
       "      <td>87.0</td>\n",
       "      <td>147.0</td>\n",
       "    </tr>\n",
       "    <tr>\n",
       "      <th>Homme</th>\n",
       "      <td>157.0</td>\n",
       "      <td>80.796178</td>\n",
       "      <td>31.209741</td>\n",
       "      <td>34.0</td>\n",
       "      <td>58.0</td>\n",
       "      <td>76.0</td>\n",
       "      <td>96.0</td>\n",
       "      <td>202.0</td>\n",
       "    </tr>\n",
       "  </tbody>\n",
       "</table>\n",
       "</div>"
      ],
      "text/plain": [
       "       count       mean        std   min   25%   50%   75%    max\n",
       "Genre                                                            \n",
       "Femme   87.0  74.160920  24.629758  28.0  56.0  67.0  87.0  147.0\n",
       "Homme  157.0  80.796178  31.209741  34.0  58.0  76.0  96.0  202.0"
      ]
     },
     "execution_count": 146,
     "metadata": {},
     "output_type": "execute_result"
    }
   ],
   "source": [
    "df.groupby(\"Genre\")['f'].describe()"
   ]
  },
  {
   "cell_type": "code",
   "execution_count": 147,
   "id": "c4929a61",
   "metadata": {},
   "outputs": [],
   "source": [
    "df_result_Pourboire_selon_le_nombre_de_personnes=df.groupby(\"Genre\")[\"g\"]"
   ]
  },
  {
   "cell_type": "code",
   "execution_count": 148,
   "id": "e5a45cd1",
   "metadata": {},
   "outputs": [
    {
     "data": {
      "text/html": [
       "<div>\n",
       "<style scoped>\n",
       "    .dataframe tbody tr th:only-of-type {\n",
       "        vertical-align: middle;\n",
       "    }\n",
       "\n",
       "    .dataframe tbody tr th {\n",
       "        vertical-align: top;\n",
       "    }\n",
       "\n",
       "    .dataframe thead th {\n",
       "        text-align: right;\n",
       "    }\n",
       "</style>\n",
       "<table border=\"1\" class=\"dataframe\">\n",
       "  <thead>\n",
       "    <tr style=\"text-align: right;\">\n",
       "      <th></th>\n",
       "      <th>count</th>\n",
       "      <th>mean</th>\n",
       "      <th>std</th>\n",
       "      <th>min</th>\n",
       "      <th>25%</th>\n",
       "      <th>50%</th>\n",
       "      <th>75%</th>\n",
       "      <th>max</th>\n",
       "    </tr>\n",
       "    <tr>\n",
       "      <th>Genre</th>\n",
       "      <th></th>\n",
       "      <th></th>\n",
       "      <th></th>\n",
       "      <th></th>\n",
       "      <th></th>\n",
       "      <th></th>\n",
       "      <th></th>\n",
       "      <th></th>\n",
       "    </tr>\n",
       "  </thead>\n",
       "  <tbody>\n",
       "    <tr>\n",
       "      <th>Femme</th>\n",
       "      <td>87.0</td>\n",
       "      <td>11.701149</td>\n",
       "      <td>4.294710</td>\n",
       "      <td>4.0</td>\n",
       "      <td>9.0</td>\n",
       "      <td>11.0</td>\n",
       "      <td>14.5</td>\n",
       "      <td>25.0</td>\n",
       "    </tr>\n",
       "    <tr>\n",
       "      <th>Homme</th>\n",
       "      <td>157.0</td>\n",
       "      <td>12.000000</td>\n",
       "      <td>5.272084</td>\n",
       "      <td>4.0</td>\n",
       "      <td>8.0</td>\n",
       "      <td>10.0</td>\n",
       "      <td>15.0</td>\n",
       "      <td>33.0</td>\n",
       "    </tr>\n",
       "  </tbody>\n",
       "</table>\n",
       "</div>"
      ],
      "text/plain": [
       "       count       mean       std  min  25%   50%   75%   max\n",
       "Genre                                                        \n",
       "Femme   87.0  11.701149  4.294710  4.0  9.0  11.0  14.5  25.0\n",
       "Homme  157.0  12.000000  5.272084  4.0  8.0  10.0  15.0  33.0"
      ]
     },
     "execution_count": 148,
     "metadata": {},
     "output_type": "execute_result"
    }
   ],
   "source": [
    "df_result_Pourboire_selon_le_nombre_de_personnes.describe()"
   ]
  },
  {
   "cell_type": "code",
   "execution_count": 149,
   "id": "9cb2f10e",
   "metadata": {},
   "outputs": [],
   "source": [
    "df_result_pourboire=df.groupby(\"Genre\")[\"g\"]"
   ]
  },
  {
   "cell_type": "code",
   "execution_count": 150,
   "id": "063451ba",
   "metadata": {},
   "outputs": [
    {
     "data": {
      "text/html": [
       "<div>\n",
       "<style scoped>\n",
       "    .dataframe tbody tr th:only-of-type {\n",
       "        vertical-align: middle;\n",
       "    }\n",
       "\n",
       "    .dataframe tbody tr th {\n",
       "        vertical-align: top;\n",
       "    }\n",
       "\n",
       "    .dataframe thead th {\n",
       "        text-align: right;\n",
       "    }\n",
       "</style>\n",
       "<table border=\"1\" class=\"dataframe\">\n",
       "  <thead>\n",
       "    <tr style=\"text-align: right;\">\n",
       "      <th></th>\n",
       "      <th>count</th>\n",
       "      <th>mean</th>\n",
       "      <th>std</th>\n",
       "      <th>min</th>\n",
       "      <th>25%</th>\n",
       "      <th>50%</th>\n",
       "      <th>75%</th>\n",
       "      <th>max</th>\n",
       "    </tr>\n",
       "    <tr>\n",
       "      <th>Genre</th>\n",
       "      <th></th>\n",
       "      <th></th>\n",
       "      <th></th>\n",
       "      <th></th>\n",
       "      <th></th>\n",
       "      <th></th>\n",
       "      <th></th>\n",
       "      <th></th>\n",
       "    </tr>\n",
       "  </thead>\n",
       "  <tbody>\n",
       "    <tr>\n",
       "      <th>Femme</th>\n",
       "      <td>87.0</td>\n",
       "      <td>11.701149</td>\n",
       "      <td>4.294710</td>\n",
       "      <td>4.0</td>\n",
       "      <td>9.0</td>\n",
       "      <td>11.0</td>\n",
       "      <td>14.5</td>\n",
       "      <td>25.0</td>\n",
       "    </tr>\n",
       "    <tr>\n",
       "      <th>Homme</th>\n",
       "      <td>157.0</td>\n",
       "      <td>12.000000</td>\n",
       "      <td>5.272084</td>\n",
       "      <td>4.0</td>\n",
       "      <td>8.0</td>\n",
       "      <td>10.0</td>\n",
       "      <td>15.0</td>\n",
       "      <td>33.0</td>\n",
       "    </tr>\n",
       "  </tbody>\n",
       "</table>\n",
       "</div>"
      ],
      "text/plain": [
       "       count       mean       std  min  25%   50%   75%   max\n",
       "Genre                                                        \n",
       "Femme   87.0  11.701149  4.294710  4.0  9.0  11.0  14.5  25.0\n",
       "Homme  157.0  12.000000  5.272084  4.0  8.0  10.0  15.0  33.0"
      ]
     },
     "execution_count": 150,
     "metadata": {},
     "output_type": "execute_result"
    }
   ],
   "source": [
    "df.groupby(\"Genre\")['g'].describe()"
   ]
  },
  {
   "cell_type": "code",
   "execution_count": 151,
   "id": "33d7b6cb",
   "metadata": {},
   "outputs": [
    {
     "data": {
      "text/plain": [
       "Genre\n",
       "Femme    21\n",
       "Homme    29\n",
       "Name: g, dtype: int64"
      ]
     },
     "execution_count": 151,
     "metadata": {},
     "output_type": "execute_result"
    }
   ],
   "source": [
    "df.groupby(\"Genre\")['g'].apply(lambda x : x.max()-x.min())"
   ]
  },
  {
   "cell_type": "code",
   "execution_count": 152,
   "id": "374c3700",
   "metadata": {},
   "outputs": [
    {
     "data": {
      "text/html": [
       "<div>\n",
       "<style scoped>\n",
       "    .dataframe tbody tr th:only-of-type {\n",
       "        vertical-align: middle;\n",
       "    }\n",
       "\n",
       "    .dataframe tbody tr th {\n",
       "        vertical-align: top;\n",
       "    }\n",
       "\n",
       "    .dataframe thead th {\n",
       "        text-align: right;\n",
       "    }\n",
       "</style>\n",
       "<table border=\"1\" class=\"dataframe\">\n",
       "  <thead>\n",
       "    <tr style=\"text-align: right;\">\n",
       "      <th></th>\n",
       "      <th>count</th>\n",
       "      <th>mean</th>\n",
       "      <th>std</th>\n",
       "      <th>min</th>\n",
       "      <th>25%</th>\n",
       "      <th>50%</th>\n",
       "      <th>75%</th>\n",
       "      <th>max</th>\n",
       "    </tr>\n",
       "    <tr>\n",
       "      <th>Genre</th>\n",
       "      <th></th>\n",
       "      <th></th>\n",
       "      <th></th>\n",
       "      <th></th>\n",
       "      <th></th>\n",
       "      <th></th>\n",
       "      <th></th>\n",
       "      <th></th>\n",
       "    </tr>\n",
       "  </thead>\n",
       "  <tbody>\n",
       "    <tr>\n",
       "      <th>Femme</th>\n",
       "      <td>87.0</td>\n",
       "      <td>11.701149</td>\n",
       "      <td>4.294710</td>\n",
       "      <td>4.0</td>\n",
       "      <td>9.0</td>\n",
       "      <td>11.0</td>\n",
       "      <td>14.5</td>\n",
       "      <td>25.0</td>\n",
       "    </tr>\n",
       "    <tr>\n",
       "      <th>Homme</th>\n",
       "      <td>157.0</td>\n",
       "      <td>12.000000</td>\n",
       "      <td>5.272084</td>\n",
       "      <td>4.0</td>\n",
       "      <td>8.0</td>\n",
       "      <td>10.0</td>\n",
       "      <td>15.0</td>\n",
       "      <td>33.0</td>\n",
       "    </tr>\n",
       "  </tbody>\n",
       "</table>\n",
       "</div>"
      ],
      "text/plain": [
       "       count       mean       std  min  25%   50%   75%   max\n",
       "Genre                                                        \n",
       "Femme   87.0  11.701149  4.294710  4.0  9.0  11.0  14.5  25.0\n",
       "Homme  157.0  12.000000  5.272084  4.0  8.0  10.0  15.0  33.0"
      ]
     },
     "execution_count": 152,
     "metadata": {},
     "output_type": "execute_result"
    }
   ],
   "source": [
    "df.groupby(\"Genre\")['g'].describe()"
   ]
  },
  {
   "cell_type": "code",
   "execution_count": 153,
   "id": "b4c0d3eb",
   "metadata": {},
   "outputs": [],
   "source": [
    "import matplotlib.pyplot as plt\n",
    "import seaborn as sns"
   ]
  },
  {
   "cell_type": "code",
   "execution_count": 154,
   "id": "19ae3fb3",
   "metadata": {},
   "outputs": [
    {
     "data": {
      "image/png": "[encoded data removed]",
      "text/plain": [
       "<Figure size 640x480 with 1 Axes>"
      ]
     },
     "metadata": {},
     "output_type": "display_data"
    }
   ],
   "source": [
    "sns.boxplot(data=df, x=\"Genre\", y='Note')\n",
    "plt.xlabel(\"Genre\")\n",
    "plt.ylabel(\"Note\")\n",
    "plt.suptitle(\"Genre et note\")\n",
    "plt.grid()"
   ]
  },
  {
   "cell_type": "code",
   "execution_count": 155,
   "id": "da2ba4d2",
   "metadata": {},
   "outputs": [
    {
     "data": {
      "image/png": "[encoded data removed]",
      "text/plain": [
       "<Figure size 640x480 with 1 Axes>"
      ]
     },
     "metadata": {},
     "output_type": "display_data"
    }
   ],
   "source": [
    "sns.boxplot(data=df, x=\"Genre\", y='Pourboire')\n",
    "plt.xlabel(\"Genre\")\n",
    "plt.ylabel(\"Pourboire\")\n",
    "plt.suptitle(\"Genre et pourboire\")\n",
    "plt.grid()"
   ]
  },
  {
   "cell_type": "code",
   "execution_count": 156,
   "id": "8ce73e0a",
   "metadata": {},
   "outputs": [
    {
     "data": {
      "image/png": "[encoded data removed]",
      "text/plain": [
       "<Figure size 640x480 with 1 Axes>"
      ]
     },
     "metadata": {},
     "output_type": "display_data"
    }
   ],
   "source": [
    "sns.boxplot(data=df, x=\"Genre\", y='f')\n",
    "plt.xlabel(\"Genre\")\n",
    "plt.ylabel(\"Note selon le nombre de personnes\")\n",
    "plt.suptitle(\"Genre et note selon le nombre de personnes\")\n",
    "plt.grid()"
   ]
  },
  {
   "cell_type": "code",
   "execution_count": 157,
   "id": "3f473927",
   "metadata": {},
   "outputs": [
    {
     "data": {
      "image/png": "[encoded data removed]",
      "text/plain": [
       "<Figure size 640x480 with 1 Axes>"
      ]
     },
     "metadata": {},
     "output_type": "display_data"
    }
   ],
   "source": [
    "sns.boxplot(data=df, x=\"Genre\", y='g')\n",
    "plt.xlabel(\"Genre\")\n",
    "plt.ylabel(\"Pourboire selon le nombre de personnes\")\n",
    "plt.suptitle(\"Genre et pourboire selon le nombre de personnes\")\n",
    "plt.grid()"
   ]
  },
  {
   "cell_type": "code",
   "execution_count": 158,
   "id": "a29622c9",
   "metadata": {},
   "outputs": [
    {
     "data": {
      "image/png": "[encoded data removed]",
      "text/plain": [
       "<Figure size 640x480 with 1 Axes>"
      ]
     },
     "metadata": {},
     "output_type": "display_data"
    }
   ],
   "source": [
    "sns.boxplot(data=df, x=\"Jour\", y='Note')\n",
    "plt.xlabel(\"Jour\")\n",
    "plt.ylabel(\"Note\")\n",
    "plt.suptitle(\"Jour et note\")\n",
    "plt.grid()"
   ]
  },
  {
   "cell_type": "code",
   "execution_count": 159,
   "id": "393e2c3c",
   "metadata": {},
   "outputs": [
    {
     "data": {
      "image/png": "[encoded data removed]",
      "text/plain": [
       "<Figure size 640x480 with 1 Axes>"
      ]
     },
     "metadata": {},
     "output_type": "display_data"
    }
   ],
   "source": [
    "sns.boxplot(data=df, x=\"Jour\", y='Pourboire')\n",
    "plt.xlabel(\"Jour\")\n",
    "plt.ylabel(\"Pourboire\")\n",
    "plt.suptitle(\"Jour et pourboire\")\n",
    "plt.grid()"
   ]
  },
  {
   "cell_type": "code",
   "execution_count": 160,
   "id": "77a2d4ee",
   "metadata": {},
   "outputs": [
    {
     "data": {
      "image/png": "[encoded data removed]",
      "text/plain": [
       "<Figure size 640x480 with 1 Axes>"
      ]
     },
     "metadata": {},
     "output_type": "display_data"
    }
   ],
   "source": [
    "sns.boxplot(data=df, x=\"Jour\", y='f')\n",
    "plt.xlabel(\"Jour\")\n",
    "plt.ylabel(\"Note selon le nombre de personnes\")\n",
    "plt.suptitle(\"Jour et note selon le nombre de personnes\")\n",
    "plt.grid()"
   ]
  },
  {
   "cell_type": "code",
   "execution_count": 161,
   "id": "d427d968",
   "metadata": {},
   "outputs": [
    {
     "data": {
      "image/png": "[encoded data removed]",
      "text/plain": [
       "<Figure size 640x480 with 1 Axes>"
      ]
     },
     "metadata": {},
     "output_type": "display_data"
    }
   ],
   "source": [
    "sns.boxplot(data=df, x=\"Jour\", y='g')\n",
    "plt.xlabel(\"Jour\")\n",
    "plt.ylabel(\"Pourboire selon le nombre de personnes\")\n",
    "plt.suptitle(\"Jour et pourboire selon le nombre de personnes\")\n",
    "plt.grid()"
   ]
  },
  {
   "cell_type": "code",
   "execution_count": 162,
   "id": "7cfee5e2",
   "metadata": {},
   "outputs": [
    {
     "data": {
      "image/png": "[encoded data removed]",
      "text/plain": [
       "<Figure size 640x480 with 1 Axes>"
      ]
     },
     "metadata": {},
     "output_type": "display_data"
    }
   ],
   "source": [
    "sns.boxplot(data=df, x=\"Repas\", y='Note')\n",
    "plt.xlabel(\"Repas\")\n",
    "plt.ylabel(\"Note\")\n",
    "plt.suptitle(\"Repas et note\")\n",
    "plt.grid()"
   ]
  },
  {
   "cell_type": "code",
   "execution_count": 163,
   "id": "fc44250d",
   "metadata": {},
   "outputs": [
    {
     "data": {
      "image/png": "[encoded data removed]",
      "text/plain": [
       "<Figure size 640x480 with 1 Axes>"
      ]
     },
     "metadata": {},
     "output_type": "display_data"
    }
   ],
   "source": [
    "sns.boxplot(data=df, x=\"Repas\", y='Pourboire')\n",
    "plt.xlabel(\"Repas\")\n",
    "plt.ylabel(\"Pourboire\")\n",
    "plt.suptitle(\"Repas et pourboire\")\n",
    "plt.grid()"
   ]
  },
  {
   "cell_type": "code",
   "execution_count": 164,
   "id": "60a291c9",
   "metadata": {},
   "outputs": [
    {
     "data": {
      "image/png": "[encoded data removed]",
      "text/plain": [
       "<Figure size 640x480 with 1 Axes>"
      ]
     },
     "metadata": {},
     "output_type": "display_data"
    }
   ],
   "source": [
    "sns.boxplot(data=df, x=\"Repas\", y='f')\n",
    "plt.xlabel(\"Repas\")\n",
    "plt.ylabel(\"Note selon le nombre de personnes\")\n",
    "plt.suptitle(\"Repas et note selon le nombre de personnes\")\n",
    "plt.grid()"
   ]
  },
  {
   "cell_type": "code",
   "execution_count": 165,
   "id": "b14a3fca",
   "metadata": {},
   "outputs": [
    {
     "data": {
      "image/png": "[encoded data removed]",
      "text/plain": [
       "<Figure size 640x480 with 1 Axes>"
      ]
     },
     "metadata": {},
     "output_type": "display_data"
    }
   ],
   "source": [
    "sns.boxplot(data=df, x=\"Repas\", y='g')\n",
    "plt.xlabel(\"Repas\")\n",
    "plt.ylabel(\"Pourboire selon le nombre de personnes\")\n",
    "plt.suptitle(\"Repas et pourboire selon le nombre de personnes\")\n",
    "plt.grid()"
   ]
  },
  {
   "cell_type": "code",
   "execution_count": 166,
   "id": "00f17bd9",
   "metadata": {},
   "outputs": [
    {
     "data": {
      "text/plain": [
       "Genre\n",
       "Femme    180.568966\n",
       "Homme    207.440764\n",
       "Name: Note, dtype: float64"
      ]
     },
     "execution_count": 166,
     "metadata": {},
     "output_type": "execute_result"
    }
   ],
   "source": [
    "df.groupby(\"Genre\")[\"Note\"].mean()"
   ]
  },
  {
   "cell_type": "code",
   "execution_count": 169,
   "id": "fa7ac810",
   "metadata": {},
   "outputs": [
    {
     "name": "stdout",
     "output_type": "stream",
     "text": [
      "                sum_sq     df         F    PR(>F)\n",
      "Genre     4.042244e+04    1.0  5.188346  0.023612\n",
      "Residual  1.885424e+06  242.0       NaN       NaN\n"
     ]
    }
   ],
   "source": [
    "import statsmodels.api as sm\n",
    "from statsmodels.formula.api import ols\n",
    "model = ols('Note ~ Genre', data=df).fit()\n",
    "anova_table = sm.stats.anova_lm(model, typ=2)\n",
    "print(anova_table)"
   ]
  },
  {
   "cell_type": "markdown",
   "id": "e3ae731e",
   "metadata": {},
   "source": [
    "**Il existe une difference entre les moyennes de note selon le genre**"
   ]
  },
  {
   "cell_type": "code",
   "execution_count": 170,
   "id": "bf468ef2",
   "metadata": {},
   "outputs": [],
   "source": [
    "def rap_cor(table_anova,n) :\n",
    "    VM=table_anova['sum_sq'][0]\n",
    "    MV=table_anova['sum_sq'][1]\n",
    "    rap_cor=round((VM/(VM+MV))**0.5,3)\n",
    "    return rap_cor"
   ]
  },
  {
   "cell_type": "code",
   "execution_count": 171,
   "id": "e67819d0",
   "metadata": {},
   "outputs": [
    {
     "data": {
      "text/plain": [
       "0.145"
      ]
     },
     "execution_count": 171,
     "metadata": {},
     "output_type": "execute_result"
    }
   ],
   "source": [
    "s=df.shape[0]\n",
    "rap_cor(anova_table,s)"
   ]
  },
  {
   "cell_type": "markdown",
   "id": "b4667f57",
   "metadata": {},
   "source": [
    "**La variable genre n'a pas d'impact significative sur la note par individu**"
   ]
  },
  {
   "cell_type": "code",
   "execution_count": 172,
   "id": "248d75cd",
   "metadata": {},
   "outputs": [
    {
     "data": {
      "text/plain": [
       "Genre\n",
       "Femme    28.367816\n",
       "Homme    30.936306\n",
       "Name: Pourboire, dtype: float64"
      ]
     },
     "execution_count": 172,
     "metadata": {},
     "output_type": "execute_result"
    }
   ],
   "source": [
    "df.groupby(\"Genre\")[\"Pourboire\"].mean()"
   ]
  },
  {
   "cell_type": "code",
   "execution_count": 173,
   "id": "9fd325c6",
   "metadata": {},
   "outputs": [
    {
     "name": "stdout",
     "output_type": "stream",
     "text": [
      "                sum_sq     df         F    PR(>F)\n",
      "Genre       369.304599    1.0  1.934386  0.165557\n",
      "Residual  46201.592942  242.0       NaN       NaN\n"
     ]
    }
   ],
   "source": [
    "import statsmodels.api as sm\n",
    "from statsmodels.formula.api import ols\n",
    "model = ols('Pourboire ~ Genre', data=df).fit()\n",
    "anova_table1 = sm.stats.anova_lm(model, typ=2)\n",
    "print(anova_table1)"
   ]
  },
  {
   "cell_type": "markdown",
   "id": "4d9809b5",
   "metadata": {},
   "source": [
    "**Il n'existe pas de difference entre les moyennes de pourboires selon le genre**"
   ]
  },
  {
   "cell_type": "code",
   "execution_count": 174,
   "id": "f3d6da6c",
   "metadata": {},
   "outputs": [],
   "source": [
    "def rap_cor(table_anova,n) :\n",
    "    VM=table_anova['sum_sq'][0]\n",
    "    MV=table_anova['sum_sq'][1]\n",
    "    rap_cor=round((VM/(VM+MV))**0.5,3)\n",
    "    return rap_cor"
   ]
  },
  {
   "cell_type": "code",
   "execution_count": 175,
   "id": "f36ff4f7",
   "metadata": {},
   "outputs": [
    {
     "data": {
      "text/plain": [
       "0.089"
      ]
     },
     "execution_count": 175,
     "metadata": {},
     "output_type": "execute_result"
    }
   ],
   "source": [
    "p=df.shape[0]\n",
    "rap_cor(anova_table1,p)"
   ]
  },
  {
   "cell_type": "markdown",
   "id": "0d1d0826",
   "metadata": {},
   "source": [
    "**La variable genre n'a pas d'impact significative sur le pourboire**"
   ]
  },
  {
   "cell_type": "code",
   "execution_count": 176,
   "id": "53dce285",
   "metadata": {},
   "outputs": [
    {
     "data": {
      "text/plain": [
       "Genre\n",
       "Femme    74.160920\n",
       "Homme    80.796178\n",
       "Name: f, dtype: float64"
      ]
     },
     "execution_count": 176,
     "metadata": {},
     "output_type": "execute_result"
    }
   ],
   "source": [
    "df.groupby(\"Genre\")[\"f\"].mean()"
   ]
  },
  {
   "cell_type": "code",
   "execution_count": 177,
   "id": "c217c20d",
   "metadata": {},
   "outputs": [
    {
     "name": "stdout",
     "output_type": "stream",
     "text": [
      "                 sum_sq     df         F    PR(>F)\n",
      "Genre       2464.590740    1.0  2.921945  0.088664\n",
      "Residual  204121.224833  242.0       NaN       NaN\n"
     ]
    }
   ],
   "source": [
    "model = ols('f ~ Genre', data=df).fit()\n",
    "anova_table2 = sm.stats.anova_lm(model, typ=2)\n",
    "print(anova_table2) # Je ne comprends pas pourquoi on m'affiche des erreurs, j'ai essayé  de mettre la variable entre parenthese mais on m'affiche une deuxieme erreur"
   ]
  },
  {
   "cell_type": "markdown",
   "id": "0e35baad",
   "metadata": {},
   "source": [
    "**Il n'existe pas de difference entre les moyennes de note par individu selon le genre**"
   ]
  },
  {
   "cell_type": "code",
   "execution_count": 184,
   "id": "cd6c91df",
   "metadata": {},
   "outputs": [],
   "source": [
    "def rap_cor(table_anova,l) :\n",
    "    VM=table_anova['sum_sq'][0]\n",
    "    MV=table_anova['sum_sq'][1]\n",
    "    rap_cor=round((VM/(VM+MV))**0.5,3)\n",
    "    return rap_cor "
   ]
  },
  {
   "cell_type": "code",
   "execution_count": 179,
   "id": "f3546486",
   "metadata": {},
   "outputs": [
    {
     "data": {
      "text/plain": [
       "0.109"
      ]
     },
     "execution_count": 179,
     "metadata": {},
     "output_type": "execute_result"
    }
   ],
   "source": [
    "l=df.shape[0]\n",
    "rap_cor(anova_table2,l)"
   ]
  },
  {
   "cell_type": "markdown",
   "id": "81074958",
   "metadata": {},
   "source": [
    "**La variable genre n'a pas d'impact significative sur la note par individu**"
   ]
  },
  {
   "cell_type": "code",
   "execution_count": 180,
   "id": "ea0b190c",
   "metadata": {},
   "outputs": [
    {
     "data": {
      "text/plain": [
       "Genre\n",
       "Femme    11.701149\n",
       "Homme    12.000000\n",
       "Name: g, dtype: float64"
      ]
     },
     "execution_count": 180,
     "metadata": {},
     "output_type": "execute_result"
    }
   ],
   "source": [
    "df.groupby(\"Genre\")[\"g\"].mean()"
   ]
  },
  {
   "cell_type": "code",
   "execution_count": 181,
   "id": "8c91aa16",
   "metadata": {},
   "outputs": [
    {
     "name": "stdout",
     "output_type": "stream",
     "text": [
      "               sum_sq     df       F    PR(>F)\n",
      "Genre        4.999623    1.0  0.2043  0.651677\n",
      "Residual  5922.229885  242.0     NaN       NaN\n"
     ]
    }
   ],
   "source": [
    "model = ols('g ~ Genre', data=df).fit()\n",
    "anova_table3 = sm.stats.anova_lm(model, typ=2)\n",
    "print(anova_table3)"
   ]
  },
  {
   "cell_type": "markdown",
   "id": "7638842e",
   "metadata": {},
   "source": [
    "**Il n'existe pas de difference entre les moyennes de pourboires par individu selon le genre**"
   ]
  },
  {
   "cell_type": "code",
   "execution_count": 182,
   "id": "ac7cf836",
   "metadata": {},
   "outputs": [],
   "source": [
    "def rap_cor(table_anova,m) :\n",
    "    VM=table_anova['sum_sq'][0]\n",
    "    MV=table_anova['sum_sq'][1]\n",
    "    rap_cor=round((VM/(VM+MV))**0.5,3)\n",
    "    return rap_cor"
   ]
  },
  {
   "cell_type": "code",
   "execution_count": 183,
   "id": "368b25cb",
   "metadata": {},
   "outputs": [
    {
     "data": {
      "text/plain": [
       "0.029"
      ]
     },
     "execution_count": 183,
     "metadata": {},
     "output_type": "execute_result"
    }
   ],
   "source": [
    "m=df.shape[0]\n",
    "rap_cor(anova_table3,m)"
   ]
  },
  {
   "cell_type": "markdown",
   "id": "abea1162",
   "metadata": {},
   "source": [
    "**La variable genre a un impact significative sur le pourboire par individu**"
   ]
  },
  {
   "cell_type": "code",
   "execution_count": null,
   "id": "e3d66e41",
   "metadata": {},
   "outputs": [],
   "source": []
  }
 ],
 "metadata": {
  "kernelspec": {
   "display_name": "Python 3 (ipykernel)",
   "language": "python",
   "name": "python3"
  },
  "language_info": {
   "codemirror_mode": {
    "name": "ipython",
    "version": 3
   },
   "file_extension": ".py",
   "mimetype": "text/x-python",
   "name": "python",
   "nbconvert_exporter": "python",
   "pygments_lexer": "ipython3",
   "version": "3.11.5"
  }
 },
 "nbformat": 4,
 "nbformat_minor": 5
}
