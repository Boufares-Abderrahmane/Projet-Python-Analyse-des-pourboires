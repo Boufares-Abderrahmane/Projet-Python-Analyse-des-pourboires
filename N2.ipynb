{
 "cells": [
  {
   "cell_type": "markdown",
   "id": "4b99ec3e-9f5a-461c-944b-94de2da71719",
   "metadata": {
    "tags": []
   },
   "source": [
    "# Importation d'un fichier de données et faire une analyse bivariée\n",
    "\n",
    "<div class=\"alert alert-block alert-info\">\n",
    "    <b>Nous allons pour l'instant importer un fichier .cvs  </b> \n",
    "\n",
    "<div class=\"alert alert-block alert-info\">\n",
    "\n",
    "Il est possible de créer une `DataFrame` à partir d'un fichier excel, csv, json, sql, stata ... Dans la cellule ci-dessous, écrire `pd.read` puis presser plusieurs fois la touche tabulation. Un ensemble de fonction de type `pd.read_XXX` s'affiche dans un menu déroulant. Choisir une méthode en faisant entrée ou en cliquant dessus et ajouter un point d'interrogation pour voir comment elle fonctionne.\n",
    "\n",
    "***\n",
    "\n"
   ]
  },
  {
   "cell_type": "markdown",
   "id": "1b16e44f-9eb9-4edd-bd6b-16a737d482e7",
   "metadata": {},
   "source": [
    "Nous devons importer les librairies `pandas` et `numpy.`"
   ]
  },
  {
   "cell_type": "code",
   "execution_count": 1,
   "id": "af82412d-bb0e-4b8a-99f1-582fc0d2532d",
   "metadata": {
    "tags": []
   },
   "outputs": [],
   "source": [
    "import pandas as pd \n",
    "import  numpy as np  \n",
    "import matplotlib.pyplot as plt\n",
    "import seaborn as sns\n",
    "import os\n",
    "# os.chdir('C:/Users/peron/Documents/Travail/Enseignement/NoteBooks/NoteBooksPY')"
   ]
  },
  {
   "cell_type": "code",
   "execution_count": 2,
   "id": "287537c6-ac04-4544-896d-2b5a4286e8c5",
   "metadata": {
    "tags": []
   },
   "outputs": [
    {
     "name": "stdout",
     "output_type": "stream",
     "text": [
      "\u001b[1m\u001b[93m C:\\Users\\peron\\Documents\\Travail\\Enseignement\\MasterCEEM\\Stat2\\2023-2024\\NoteBooksPY\n"
     ]
    }
   ],
   "source": [
    "print('\\033[1m'+'\\033[93m',os.getcwd())"
   ]
  },
  {
   "cell_type": "code",
   "execution_count": 3,
   "id": "e1e2187e-d73f-4e22-9000-5dc7cec5c176",
   "metadata": {
    "tags": []
   },
   "outputs": [],
   "source": [
    "#pd.read    # mettez vous à la fin de \"read\" et appuyer sur Tab"
   ]
  },
  {
   "cell_type": "markdown",
   "id": "62bdd0be-31a3-40e0-947a-92a54d730973",
   "metadata": {},
   "source": [
    "<div class=\"alert alert-success\">\n",
    "\n",
    "Regarder l'aide `pd.read_csv`. Aide assez longue....\n",
    "</div>"
   ]
  },
  {
   "cell_type": "markdown",
   "id": "e8ad4395-1c2a-41a5-9ccc-11c82a0b937c",
   "metadata": {},
   "source": [
    "Les fonctions `read_csv()` ou `read_excel()` présentent de nombreux arguments (paramètres) leur permettant de lire de façon souple, les fichiers excel ou csv.\n",
    "\n",
    "En particulier, les paramètres suivants sont importants :\n",
    "* `filepath_or_buffer` : le nom, le chemin ou une url vers le fichier à lire\n",
    "* `sep` : le caractère utilisé pour séparer les colonnes dans le fichier, habituellement `\",\"`, `\";\"` ou un espace (voir `delim_whitespace` dans ce cas).\n",
    "* `index_col` : le numéro de la colonne a utiliser en tant qu'index\n",
    "* `decimal` : indique le caractère utilisé pour les nombres décimaux. Par défaut c'est un ., mais si le fichier a été créé par un tableur en français, les nombres décimaux peuvent être écrit avec une vigule. Il faut alors préciser `decimal=\",\"`.\n",
    "* `usecols` : les numéros de colonnes à lire\n",
    "* `encoding` : précise l'encodage du fichier. Les plus courants sont `\"utf-8\"` ou `\"latin1\"` (sous windows).\n",
    "\n",
    "Dans le cas de la lecture d'un fichier excel, `sheet_name` vous permet de sélectionner la feuille du classeur à lire, en indiquant son nom ou son numéro.\n",
    "\n",
    "Prennez le temps de lire la documentation de ces fonctions pour apprécier les possibilités qu'elles offrent.\n",
    "\n",
    "Ci-dessous, voici un exemple de la lecture de ce fichier. Dans l'exemple ci-dessous, il se trouve dans le dossier `Donnee/`."
   ]
  },
  {
   "cell_type": "code",
   "execution_count": 4,
   "id": "f454cb72-9f9a-456a-9fbc-ce2a5418a288",
   "metadata": {
    "tags": []
   },
   "outputs": [
    {
     "data": {
      "text/html": [
       "<div>\n",
       "<style scoped>\n",
       "    .dataframe tbody tr th:only-of-type {\n",
       "        vertical-align: middle;\n",
       "    }\n",
       "\n",
       "    .dataframe tbody tr th {\n",
       "        vertical-align: top;\n",
       "    }\n",
       "\n",
       "    .dataframe thead th {\n",
       "        text-align: right;\n",
       "    }\n",
       "</style>\n",
       "<table border=\"1\" class=\"dataframe\">\n",
       "  <thead>\n",
       "    <tr style=\"text-align: right;\">\n",
       "      <th></th>\n",
       "      <th>Conduite accomp</th>\n",
       "      <th>Nombre heures AE</th>\n",
       "      <th>Sexe</th>\n",
       "      <th>Age</th>\n",
       "      <th>Auto-ecole</th>\n",
       "      <th>Resultat</th>\n",
       "    </tr>\n",
       "    <tr>\n",
       "      <th>Candidat</th>\n",
       "      <th></th>\n",
       "      <th></th>\n",
       "      <th></th>\n",
       "      <th></th>\n",
       "      <th></th>\n",
       "      <th></th>\n",
       "    </tr>\n",
       "  </thead>\n",
       "  <tbody>\n",
       "    <tr>\n",
       "      <th>E0001</th>\n",
       "      <td>Non</td>\n",
       "      <td>33</td>\n",
       "      <td>G</td>\n",
       "      <td>19</td>\n",
       "      <td>Blizz</td>\n",
       "      <td>Recalé</td>\n",
       "    </tr>\n",
       "    <tr>\n",
       "      <th>E0002</th>\n",
       "      <td>Non</td>\n",
       "      <td>26</td>\n",
       "      <td>G</td>\n",
       "      <td>18</td>\n",
       "      <td>Conduc</td>\n",
       "      <td>Recalé</td>\n",
       "    </tr>\n",
       "    <tr>\n",
       "      <th>E0003</th>\n",
       "      <td>Oui</td>\n",
       "      <td>21</td>\n",
       "      <td>F</td>\n",
       "      <td>18</td>\n",
       "      <td>Vincent</td>\n",
       "      <td>Admis</td>\n",
       "    </tr>\n",
       "    <tr>\n",
       "      <th>E0004</th>\n",
       "      <td>Non</td>\n",
       "      <td>27</td>\n",
       "      <td>F</td>\n",
       "      <td>20</td>\n",
       "      <td>Conduc</td>\n",
       "      <td>Recalé</td>\n",
       "    </tr>\n",
       "    <tr>\n",
       "      <th>E0005</th>\n",
       "      <td>Oui</td>\n",
       "      <td>21</td>\n",
       "      <td>F</td>\n",
       "      <td>18</td>\n",
       "      <td>Christian</td>\n",
       "      <td>Recalé</td>\n",
       "    </tr>\n",
       "  </tbody>\n",
       "</table>\n",
       "</div>"
      ],
      "text/plain": [
       "         Conduite accomp  Nombre heures AE Sexe  Age Auto-ecole Resultat\n",
       "Candidat                                                                \n",
       "E0001                Non                33    G   19      Blizz   Recalé\n",
       "E0002                Non                26    G   18     Conduc   Recalé\n",
       "E0003                Oui                21    F   18    Vincent    Admis\n",
       "E0004                Non                27    F   20     Conduc   Recalé\n",
       "E0005                Oui                21    F   18  Christian   Recalé"
      ]
     },
     "execution_count": 4,
     "metadata": {},
     "output_type": "execute_result"
    }
   ],
   "source": [
    "df=pd.read_csv(\"Donnees/Resultat_permis.csv\", sep=\";\", index_col=0, encoding=\"latin1\") #### sans le latin1 cela ne peut le lire en raison des accents\n",
    "df.head()"
   ]
  },
  {
   "cell_type": "markdown",
   "id": "966c7c5f-c657-4f72-9f9b-fde68d93b04e",
   "metadata": {},
   "source": [
    "Avec une fichier Excel :"
   ]
  },
  {
   "cell_type": "code",
   "execution_count": 5,
   "id": "26f06739-f28f-4fbd-96ac-571d7b270f6d",
   "metadata": {
    "tags": []
   },
   "outputs": [
    {
     "data": {
      "text/html": [
       "<div>\n",
       "<style scoped>\n",
       "    .dataframe tbody tr th:only-of-type {\n",
       "        vertical-align: middle;\n",
       "    }\n",
       "\n",
       "    .dataframe tbody tr th {\n",
       "        vertical-align: top;\n",
       "    }\n",
       "\n",
       "    .dataframe thead th {\n",
       "        text-align: right;\n",
       "    }\n",
       "</style>\n",
       "<table border=\"1\" class=\"dataframe\">\n",
       "  <thead>\n",
       "    <tr style=\"text-align: right;\">\n",
       "      <th></th>\n",
       "      <th>Conduite accomp</th>\n",
       "      <th>Nombre heures AE</th>\n",
       "      <th>Sexe</th>\n",
       "      <th>Age</th>\n",
       "      <th>Auto-ecole</th>\n",
       "      <th>Resultat</th>\n",
       "    </tr>\n",
       "    <tr>\n",
       "      <th>Candidat</th>\n",
       "      <th></th>\n",
       "      <th></th>\n",
       "      <th></th>\n",
       "      <th></th>\n",
       "      <th></th>\n",
       "      <th></th>\n",
       "    </tr>\n",
       "  </thead>\n",
       "  <tbody>\n",
       "    <tr>\n",
       "      <th>E0001</th>\n",
       "      <td>Non</td>\n",
       "      <td>33</td>\n",
       "      <td>G</td>\n",
       "      <td>19</td>\n",
       "      <td>Blizz</td>\n",
       "      <td>Recalé</td>\n",
       "    </tr>\n",
       "    <tr>\n",
       "      <th>E0002</th>\n",
       "      <td>Non</td>\n",
       "      <td>26</td>\n",
       "      <td>G</td>\n",
       "      <td>18</td>\n",
       "      <td>Conduc</td>\n",
       "      <td>Recalé</td>\n",
       "    </tr>\n",
       "    <tr>\n",
       "      <th>E0003</th>\n",
       "      <td>Oui</td>\n",
       "      <td>21</td>\n",
       "      <td>F</td>\n",
       "      <td>18</td>\n",
       "      <td>Vincent</td>\n",
       "      <td>Admis</td>\n",
       "    </tr>\n",
       "    <tr>\n",
       "      <th>E0004</th>\n",
       "      <td>Non</td>\n",
       "      <td>27</td>\n",
       "      <td>F</td>\n",
       "      <td>20</td>\n",
       "      <td>Conduc</td>\n",
       "      <td>Recalé</td>\n",
       "    </tr>\n",
       "    <tr>\n",
       "      <th>E0005</th>\n",
       "      <td>Oui</td>\n",
       "      <td>21</td>\n",
       "      <td>F</td>\n",
       "      <td>18</td>\n",
       "      <td>Christian</td>\n",
       "      <td>Recalé</td>\n",
       "    </tr>\n",
       "  </tbody>\n",
       "</table>\n",
       "</div>"
      ],
      "text/plain": [
       "         Conduite accomp  Nombre heures AE Sexe  Age Auto-ecole Resultat\n",
       "Candidat                                                                \n",
       "E0001                Non                33    G   19      Blizz   Recalé\n",
       "E0002                Non                26    G   18     Conduc   Recalé\n",
       "E0003                Oui                21    F   18    Vincent    Admis\n",
       "E0004                Non                27    F   20     Conduc   Recalé\n",
       "E0005                Oui                21    F   18  Christian   Recalé"
      ]
     },
     "execution_count": 5,
     "metadata": {},
     "output_type": "execute_result"
    }
   ],
   "source": [
    "df2=pd.read_excel(\"Donnees/Resultat_permis.xls\", sheet_name=\"Feuil1\",\n",
    "    usecols=(0,1, 2, 3, 4, 5, 6),index_col=0)\n",
    "df2.head()"
   ]
  },
  {
   "cell_type": "markdown",
   "id": "e3630034-862e-42fd-99b1-0c4d2a05082f",
   "metadata": {},
   "source": [
    "### Résumé du Data Fame\n",
    "\n",
    "<font color=\"#800080\">Dimension, intitulé des colonnes</font>."
   ]
  },
  {
   "cell_type": "code",
   "execution_count": 48,
   "id": "56e32268-2d60-4b32-a864-89dfde05449f",
   "metadata": {
    "tags": []
   },
   "outputs": [
    {
     "data": {
      "text/plain": [
       "1233"
      ]
     },
     "execution_count": 48,
     "metadata": {},
     "output_type": "execute_result"
    }
   ],
   "source": [
    "df.shape"
   ]
  },
  {
   "cell_type": "code",
   "execution_count": 7,
   "id": "4058f3ae-ad36-46a1-add3-ba16b2ec21bb",
   "metadata": {
    "tags": []
   },
   "outputs": [
    {
     "data": {
      "text/plain": [
       "Index(['Conduite accomp', 'Nombre heures AE', 'Sexe', 'Age', 'Auto-ecole',\n",
       "       'Resultat'],\n",
       "      dtype='object')"
      ]
     },
     "execution_count": 7,
     "metadata": {},
     "output_type": "execute_result"
    }
   ],
   "source": [
    "df.columns"
   ]
  },
  {
   "cell_type": "code",
   "execution_count": 8,
   "id": "6c0363bb-5dd9-4c09-ada0-16cfc6991499",
   "metadata": {
    "tags": []
   },
   "outputs": [
    {
     "data": {
      "text/plain": [
       "['Conduite accomp',\n",
       " 'Nombre heures AE',\n",
       " 'Sexe',\n",
       " 'Age',\n",
       " 'Auto-ecole',\n",
       " 'Resultat']"
      ]
     },
     "execution_count": 8,
     "metadata": {},
     "output_type": "execute_result"
    }
   ],
   "source": [
    "list(df.columns) "
   ]
  },
  {
   "cell_type": "markdown",
   "id": "a747b60f-b0e9-4664-bd30-14b39ca57486",
   "metadata": {},
   "source": [
    "<font color=\"#800080\">Modalités d'une variable qualitative </font>."
   ]
  },
  {
   "cell_type": "code",
   "execution_count": 9,
   "id": "fc06b629-7b7a-4486-a4ea-de76cf1f2ba4",
   "metadata": {
    "tags": []
   },
   "outputs": [
    {
     "data": {
      "text/plain": [
       "array(['G', 'F'], dtype=object)"
      ]
     },
     "execution_count": 9,
     "metadata": {},
     "output_type": "execute_result"
    }
   ],
   "source": [
    "df['Sexe'].unique()"
   ]
  },
  {
   "cell_type": "code",
   "execution_count": 10,
   "id": "d316fd17-abc4-4494-a434-ceff277593f0",
   "metadata": {
    "tags": []
   },
   "outputs": [
    {
     "data": {
      "text/plain": [
       "array(['Blizz', 'Conduc', 'Vincent', 'Christian', 'Pilote', 'Mireille'],\n",
       "      dtype=object)"
      ]
     },
     "execution_count": 10,
     "metadata": {},
     "output_type": "execute_result"
    }
   ],
   "source": [
    "df['Auto-ecole'].unique()"
   ]
  },
  {
   "cell_type": "code",
   "execution_count": 11,
   "id": "60095e3e-cd68-4d6f-8097-de2f42cc85a6",
   "metadata": {
    "tags": []
   },
   "outputs": [
    {
     "data": {
      "text/plain": [
       "array(['Blizz', 'Conduc', 'Vincent', 'Christian', 'Pilote', 'Mireille'],\n",
       "      dtype=object)"
      ]
     },
     "execution_count": 11,
     "metadata": {},
     "output_type": "execute_result"
    }
   ],
   "source": [
    "pd.unique(df['Auto-ecole'])"
   ]
  },
  {
   "cell_type": "markdown",
   "id": "e49b0e76-0b7e-466e-aba7-773d36588a67",
   "metadata": {},
   "source": [
    "<font color=\"#800080\">Statistiques</font>."
   ]
  },
  {
   "cell_type": "code",
   "execution_count": 12,
   "id": "b0e459aa-89e0-4ed6-b141-fe6d1530b277",
   "metadata": {
    "tags": []
   },
   "outputs": [
    {
     "data": {
      "text/html": [
       "<div>\n",
       "<style scoped>\n",
       "    .dataframe tbody tr th:only-of-type {\n",
       "        vertical-align: middle;\n",
       "    }\n",
       "\n",
       "    .dataframe tbody tr th {\n",
       "        vertical-align: top;\n",
       "    }\n",
       "\n",
       "    .dataframe thead th {\n",
       "        text-align: right;\n",
       "    }\n",
       "</style>\n",
       "<table border=\"1\" class=\"dataframe\">\n",
       "  <thead>\n",
       "    <tr style=\"text-align: right;\">\n",
       "      <th></th>\n",
       "      <th>Nombre heures AE</th>\n",
       "      <th>Age</th>\n",
       "    </tr>\n",
       "  </thead>\n",
       "  <tbody>\n",
       "    <tr>\n",
       "      <th>count</th>\n",
       "      <td>1233.000000</td>\n",
       "      <td>1233.000000</td>\n",
       "    </tr>\n",
       "    <tr>\n",
       "      <th>mean</th>\n",
       "      <td>23.939984</td>\n",
       "      <td>19.275750</td>\n",
       "    </tr>\n",
       "    <tr>\n",
       "      <th>std</th>\n",
       "      <td>3.621450</td>\n",
       "      <td>3.324965</td>\n",
       "    </tr>\n",
       "    <tr>\n",
       "      <th>min</th>\n",
       "      <td>20.000000</td>\n",
       "      <td>18.000000</td>\n",
       "    </tr>\n",
       "    <tr>\n",
       "      <th>25%</th>\n",
       "      <td>21.000000</td>\n",
       "      <td>18.000000</td>\n",
       "    </tr>\n",
       "    <tr>\n",
       "      <th>50%</th>\n",
       "      <td>23.000000</td>\n",
       "      <td>19.000000</td>\n",
       "    </tr>\n",
       "    <tr>\n",
       "      <th>75%</th>\n",
       "      <td>25.000000</td>\n",
       "      <td>19.000000</td>\n",
       "    </tr>\n",
       "    <tr>\n",
       "      <th>max</th>\n",
       "      <td>46.000000</td>\n",
       "      <td>62.000000</td>\n",
       "    </tr>\n",
       "  </tbody>\n",
       "</table>\n",
       "</div>"
      ],
      "text/plain": [
       "       Nombre heures AE          Age\n",
       "count       1233.000000  1233.000000\n",
       "mean          23.939984    19.275750\n",
       "std            3.621450     3.324965\n",
       "min           20.000000    18.000000\n",
       "25%           21.000000    18.000000\n",
       "50%           23.000000    19.000000\n",
       "75%           25.000000    19.000000\n",
       "max           46.000000    62.000000"
      ]
     },
     "execution_count": 12,
     "metadata": {},
     "output_type": "execute_result"
    }
   ],
   "source": [
    "df.describe()"
   ]
  },
  {
   "cell_type": "code",
   "execution_count": 13,
   "id": "3a64c0ab-a1a9-4791-9edc-5a8624facaa4",
   "metadata": {
    "tags": []
   },
   "outputs": [
    {
     "data": {
      "text/plain": [
       "30.0"
      ]
     },
     "execution_count": 13,
     "metadata": {},
     "output_type": "execute_result"
    }
   ],
   "source": [
    "np.percentile(df['Nombre heures AE'],95)"
   ]
  },
  {
   "cell_type": "code",
   "execution_count": 14,
   "id": "4996b7d4-bacc-48a4-a9fa-8159cc4720c8",
   "metadata": {
    "tags": []
   },
   "outputs": [
    {
     "data": {
      "text/html": [
       "<div>\n",
       "<style scoped>\n",
       "    .dataframe tbody tr th:only-of-type {\n",
       "        vertical-align: middle;\n",
       "    }\n",
       "\n",
       "    .dataframe tbody tr th {\n",
       "        vertical-align: top;\n",
       "    }\n",
       "\n",
       "    .dataframe thead th {\n",
       "        text-align: right;\n",
       "    }\n",
       "</style>\n",
       "<table border=\"1\" class=\"dataframe\">\n",
       "  <thead>\n",
       "    <tr style=\"text-align: right;\">\n",
       "      <th></th>\n",
       "      <th>Nombre heures AE</th>\n",
       "      <th>Age</th>\n",
       "    </tr>\n",
       "  </thead>\n",
       "  <tbody>\n",
       "    <tr>\n",
       "      <th>count</th>\n",
       "      <td>1233.000000</td>\n",
       "      <td>1233.000000</td>\n",
       "    </tr>\n",
       "    <tr>\n",
       "      <th>mean</th>\n",
       "      <td>23.939984</td>\n",
       "      <td>19.275750</td>\n",
       "    </tr>\n",
       "    <tr>\n",
       "      <th>std</th>\n",
       "      <td>3.621450</td>\n",
       "      <td>3.324965</td>\n",
       "    </tr>\n",
       "    <tr>\n",
       "      <th>min</th>\n",
       "      <td>20.000000</td>\n",
       "      <td>18.000000</td>\n",
       "    </tr>\n",
       "    <tr>\n",
       "      <th>10%</th>\n",
       "      <td>20.000000</td>\n",
       "      <td>18.000000</td>\n",
       "    </tr>\n",
       "    <tr>\n",
       "      <th>15%</th>\n",
       "      <td>21.000000</td>\n",
       "      <td>18.000000</td>\n",
       "    </tr>\n",
       "    <tr>\n",
       "      <th>50%</th>\n",
       "      <td>23.000000</td>\n",
       "      <td>19.000000</td>\n",
       "    </tr>\n",
       "    <tr>\n",
       "      <th>60%</th>\n",
       "      <td>24.000000</td>\n",
       "      <td>19.000000</td>\n",
       "    </tr>\n",
       "    <tr>\n",
       "      <th>90%</th>\n",
       "      <td>28.000000</td>\n",
       "      <td>20.000000</td>\n",
       "    </tr>\n",
       "    <tr>\n",
       "      <th>max</th>\n",
       "      <td>46.000000</td>\n",
       "      <td>62.000000</td>\n",
       "    </tr>\n",
       "  </tbody>\n",
       "</table>\n",
       "</div>"
      ],
      "text/plain": [
       "       Nombre heures AE          Age\n",
       "count       1233.000000  1233.000000\n",
       "mean          23.939984    19.275750\n",
       "std            3.621450     3.324965\n",
       "min           20.000000    18.000000\n",
       "10%           20.000000    18.000000\n",
       "15%           21.000000    18.000000\n",
       "50%           23.000000    19.000000\n",
       "60%           24.000000    19.000000\n",
       "90%           28.000000    20.000000\n",
       "max           46.000000    62.000000"
      ]
     },
     "execution_count": 14,
     "metadata": {},
     "output_type": "execute_result"
    }
   ],
   "source": [
    "df.describe(percentiles=[0.1,0.15,0.60,0.9])"
   ]
  },
  {
   "cell_type": "code",
   "execution_count": 15,
   "id": "3b21e111-8e3f-4e1f-a83a-56c0a7c6db6b",
   "metadata": {
    "tags": []
   },
   "outputs": [
    {
     "data": {
      "text/html": [
       "<div>\n",
       "<style scoped>\n",
       "    .dataframe tbody tr th:only-of-type {\n",
       "        vertical-align: middle;\n",
       "    }\n",
       "\n",
       "    .dataframe tbody tr th {\n",
       "        vertical-align: top;\n",
       "    }\n",
       "\n",
       "    .dataframe thead th {\n",
       "        text-align: right;\n",
       "    }\n",
       "</style>\n",
       "<table border=\"1\" class=\"dataframe\">\n",
       "  <thead>\n",
       "    <tr style=\"text-align: right;\">\n",
       "      <th></th>\n",
       "      <th>Conduite accomp</th>\n",
       "      <th>Sexe</th>\n",
       "      <th>Auto-ecole</th>\n",
       "      <th>Resultat</th>\n",
       "    </tr>\n",
       "  </thead>\n",
       "  <tbody>\n",
       "    <tr>\n",
       "      <th>count</th>\n",
       "      <td>1233</td>\n",
       "      <td>1233</td>\n",
       "      <td>1233</td>\n",
       "      <td>1233</td>\n",
       "    </tr>\n",
       "    <tr>\n",
       "      <th>unique</th>\n",
       "      <td>2</td>\n",
       "      <td>2</td>\n",
       "      <td>6</td>\n",
       "      <td>2</td>\n",
       "    </tr>\n",
       "    <tr>\n",
       "      <th>top</th>\n",
       "      <td>Non</td>\n",
       "      <td>G</td>\n",
       "      <td>Pilote</td>\n",
       "      <td>Admis</td>\n",
       "    </tr>\n",
       "    <tr>\n",
       "      <th>freq</th>\n",
       "      <td>660</td>\n",
       "      <td>653</td>\n",
       "      <td>245</td>\n",
       "      <td>672</td>\n",
       "    </tr>\n",
       "  </tbody>\n",
       "</table>\n",
       "</div>"
      ],
      "text/plain": [
       "       Conduite accomp  Sexe Auto-ecole Resultat\n",
       "count             1233  1233       1233     1233\n",
       "unique               2     2          6        2\n",
       "top                Non     G     Pilote    Admis\n",
       "freq               660   653        245      672"
      ]
     },
     "execution_count": 15,
     "metadata": {},
     "output_type": "execute_result"
    }
   ],
   "source": [
    "df.describe(include='O')  # Quelques résultats pour les var qualitatives"
   ]
  },
  {
   "cell_type": "code",
   "execution_count": 16,
   "id": "7f65e4fa-0d09-4a57-81f8-6b880af9aae8",
   "metadata": {
    "tags": []
   },
   "outputs": [
    {
     "data": {
      "text/plain": [
       "Resultat\n",
       "Admis     672\n",
       "Recalé    561\n",
       "Name: count, dtype: int64"
      ]
     },
     "execution_count": 16,
     "metadata": {},
     "output_type": "execute_result"
    }
   ],
   "source": [
    "df['Resultat'].value_counts()"
   ]
  },
  {
   "cell_type": "code",
   "execution_count": 17,
   "id": "8b412127-a094-4e9f-a137-0f70cb187f10",
   "metadata": {
    "tags": []
   },
   "outputs": [
    {
     "data": {
      "text/plain": [
       "Resultat\n",
       "Admis     0.545012\n",
       "Recalé    0.454988\n",
       "Name: proportion, dtype: float64"
      ]
     },
     "execution_count": 17,
     "metadata": {},
     "output_type": "execute_result"
    }
   ],
   "source": [
    "df['Resultat'].value_counts(normalize=True)"
   ]
  },
  {
   "cell_type": "code",
   "execution_count": 18,
   "id": "7a0b9047-c2dc-4f76-932f-5a1761ca7692",
   "metadata": {
    "tags": []
   },
   "outputs": [
    {
     "data": {
      "image/png": "[encoded data removed]",
      "text/plain": [
       "<Figure size 640x480 with 1 Axes>"
      ]
     },
     "metadata": {},
     "output_type": "display_data"
    }
   ],
   "source": [
    "df['Auto-ecole'].value_counts().plot(kind=\"barh\")\n",
    "plt.xlabel(\"Effectifs\")\n",
    "plt.show()"
   ]
  },
  {
   "cell_type": "markdown",
   "id": "bfaa4bb3-0101-4ac3-97f7-56a1c4f82f73",
   "metadata": {},
   "source": [
    "<div class=\"alert alert-success\">\n",
    "\n",
    "Regarder l'aide `df.plot`.\n",
    "</div>"
   ]
  },
  {
   "cell_type": "code",
   "execution_count": 19,
   "id": "956359ce-d3db-4f21-95b3-4030fe217029",
   "metadata": {
    "tags": []
   },
   "outputs": [
    {
     "data": {
      "image/png": "[encoded data removed]",
      "text/plain": [
       "<Figure size 640x480 with 1 Axes>"
      ]
     },
     "metadata": {},
     "output_type": "display_data"
    }
   ],
   "source": [
    "freq_Auto=df['Auto-ecole'].value_counts(normalize=True)\n",
    "freq_Auto.plot(kind=\"bar\", title=\"Repartion des individus selon l'auto-école\", ylabel=\"Fréquences\")\n",
    "plt.show()"
   ]
  },
  {
   "cell_type": "code",
   "execution_count": 20,
   "id": "ca44523d-0efc-4172-b2b2-2d6dccbd7815",
   "metadata": {
    "tags": []
   },
   "outputs": [
    {
     "data": {
      "image/png": "[encoded data removed]",
      "text/plain": [
       "<Figure size 640x480 with 1 Axes>"
      ]
     },
     "metadata": {},
     "output_type": "display_data"
    }
   ],
   "source": [
    "df['Nombre heures AE'].plot(kind=\"hist\",bins=20)\n",
    "plt.show()"
   ]
  },
  {
   "cell_type": "markdown",
   "id": "6d4ebbc4-be67-4785-bdea-16a3cb142603",
   "metadata": {},
   "source": [
    "<font color=\"#c70923\"><strong> On a vu précédemment d'autres graphiques qu'il faudra utiliser  </strong></font>"
   ]
  },
  {
   "cell_type": "markdown",
   "id": "146d7ae2-0dc6-44c1-bf33-cde1e9df282f",
   "metadata": {},
   "source": [
    "# Analyse bivariées\n",
    "\n",
    "Nous avons une variable importante, le résultat au pemis, une variable qualitative. Notre but est de voir la relation avec les autres variables.\n",
    "\n",
    "Deux cas de figures : \n",
    "\n",
    "    - Relation entre  deux variables qualitatives : Tableau de contingence, Frequences conditionnelles, test du khi-2 dans le cas d'un échantillon.\n",
    "    - Relation entre une variable qualitative et une variable quantitative : Comparaison de distribution, Boxplot, ANOVA dans le cas d'un échantillon.\n",
    "\n",
    "## Deux variables qualitatives\n",
    "\n",
    "**<font color=\"#800080\">Relation entre Resultat au permis et Sexe</font>.**\n",
    "\n",
    "**<font color=\" #1a09c7 \">Tableau de contingence </font>.**"
   ]
  },
  {
   "cell_type": "code",
   "execution_count": 21,
   "id": "fe1ebd39-6a45-47ff-a52d-db736b993415",
   "metadata": {
    "tags": []
   },
   "outputs": [
    {
     "data": {
      "text/html": [
       "<div>\n",
       "<style scoped>\n",
       "    .dataframe tbody tr th:only-of-type {\n",
       "        vertical-align: middle;\n",
       "    }\n",
       "\n",
       "    .dataframe tbody tr th {\n",
       "        vertical-align: top;\n",
       "    }\n",
       "\n",
       "    .dataframe thead th {\n",
       "        text-align: right;\n",
       "    }\n",
       "</style>\n",
       "<table border=\"1\" class=\"dataframe\">\n",
       "  <thead>\n",
       "    <tr style=\"text-align: right;\">\n",
       "      <th>Resultat</th>\n",
       "      <th>Admis</th>\n",
       "      <th>Recalé</th>\n",
       "    </tr>\n",
       "    <tr>\n",
       "      <th>Sexe</th>\n",
       "      <th></th>\n",
       "      <th></th>\n",
       "    </tr>\n",
       "  </thead>\n",
       "  <tbody>\n",
       "    <tr>\n",
       "      <th>F</th>\n",
       "      <td>315</td>\n",
       "      <td>265</td>\n",
       "    </tr>\n",
       "    <tr>\n",
       "      <th>G</th>\n",
       "      <td>357</td>\n",
       "      <td>296</td>\n",
       "    </tr>\n",
       "  </tbody>\n",
       "</table>\n",
       "</div>"
      ],
      "text/plain": [
       "Resultat  Admis  Recalé\n",
       "Sexe                   \n",
       "F           315     265\n",
       "G           357     296"
      ]
     },
     "execution_count": 21,
     "metadata": {},
     "output_type": "execute_result"
    }
   ],
   "source": [
    "tab1=pd.crosstab(df['Sexe'], df[\"Resultat\"])\n",
    "tab1\n"
   ]
  },
  {
   "cell_type": "code",
   "execution_count": 22,
   "id": "8f13d01b-7d3b-4bd0-8970-c85e5466b817",
   "metadata": {
    "tags": []
   },
   "outputs": [
    {
     "data": {
      "text/html": [
       "<div>\n",
       "<style scoped>\n",
       "    .dataframe tbody tr th:only-of-type {\n",
       "        vertical-align: middle;\n",
       "    }\n",
       "\n",
       "    .dataframe tbody tr th {\n",
       "        vertical-align: top;\n",
       "    }\n",
       "\n",
       "    .dataframe thead th {\n",
       "        text-align: right;\n",
       "    }\n",
       "</style>\n",
       "<table border=\"1\" class=\"dataframe\">\n",
       "  <thead>\n",
       "    <tr style=\"text-align: right;\">\n",
       "      <th>Resultat</th>\n",
       "      <th>Admis</th>\n",
       "      <th>Recalé</th>\n",
       "    </tr>\n",
       "    <tr>\n",
       "      <th>Sexe</th>\n",
       "      <th></th>\n",
       "      <th></th>\n",
       "    </tr>\n",
       "  </thead>\n",
       "  <tbody>\n",
       "    <tr>\n",
       "      <th>F</th>\n",
       "      <td>0.543103</td>\n",
       "      <td>0.456897</td>\n",
       "    </tr>\n",
       "    <tr>\n",
       "      <th>G</th>\n",
       "      <td>0.546708</td>\n",
       "      <td>0.453292</td>\n",
       "    </tr>\n",
       "  </tbody>\n",
       "</table>\n",
       "</div>"
      ],
      "text/plain": [
       "Resultat     Admis    Recalé\n",
       "Sexe                        \n",
       "F         0.543103  0.456897\n",
       "G         0.546708  0.453292"
      ]
     },
     "execution_count": 22,
     "metadata": {},
     "output_type": "execute_result"
    }
   ],
   "source": [
    "tab2=pd.crosstab(df['Sexe'], df[\"Resultat\"],normalize='index')\n",
    "tab2"
   ]
  },
  {
   "cell_type": "code",
   "execution_count": 23,
   "id": "9bbf6963-a2d8-4152-b549-1b5e23af25bb",
   "metadata": {
    "tags": []
   },
   "outputs": [
    {
     "data": {
      "text/html": [
       "<div>\n",
       "<style scoped>\n",
       "    .dataframe tbody tr th:only-of-type {\n",
       "        vertical-align: middle;\n",
       "    }\n",
       "\n",
       "    .dataframe tbody tr th {\n",
       "        vertical-align: top;\n",
       "    }\n",
       "\n",
       "    .dataframe thead th {\n",
       "        text-align: right;\n",
       "    }\n",
       "</style>\n",
       "<table border=\"1\" class=\"dataframe\">\n",
       "  <thead>\n",
       "    <tr style=\"text-align: right;\">\n",
       "      <th>Resultat</th>\n",
       "      <th>Admis</th>\n",
       "      <th>Recalé</th>\n",
       "    </tr>\n",
       "    <tr>\n",
       "      <th>Sexe</th>\n",
       "      <th></th>\n",
       "      <th></th>\n",
       "    </tr>\n",
       "  </thead>\n",
       "  <tbody>\n",
       "    <tr>\n",
       "      <th>F</th>\n",
       "      <td>0.46875</td>\n",
       "      <td>0.472371</td>\n",
       "    </tr>\n",
       "    <tr>\n",
       "      <th>G</th>\n",
       "      <td>0.53125</td>\n",
       "      <td>0.527629</td>\n",
       "    </tr>\n",
       "  </tbody>\n",
       "</table>\n",
       "</div>"
      ],
      "text/plain": [
       "Resultat    Admis    Recalé\n",
       "Sexe                       \n",
       "F         0.46875  0.472371\n",
       "G         0.53125  0.527629"
      ]
     },
     "execution_count": 23,
     "metadata": {},
     "output_type": "execute_result"
    }
   ],
   "source": [
    "tab3=pd.crosstab(df['Sexe'], df[\"Resultat\"],normalize='columns')\n",
    "tab3"
   ]
  },
  {
   "cell_type": "markdown",
   "id": "b768e299-e889-4b7b-b361-4b9affcec7bf",
   "metadata": {},
   "source": [
    "**C'est la tab2 qui est la plus intéressante puisqu'il est possible de voir la répartition des résultats conditionnés au Sexe.**"
   ]
  },
  {
   "cell_type": "code",
   "execution_count": 24,
   "id": "bff33637-0c6c-4109-8134-d32b375b33f4",
   "metadata": {
    "tags": []
   },
   "outputs": [
    {
     "data": {
      "text/html": [
       "<div>\n",
       "<style scoped>\n",
       "    .dataframe tbody tr th:only-of-type {\n",
       "        vertical-align: middle;\n",
       "    }\n",
       "\n",
       "    .dataframe tbody tr th {\n",
       "        vertical-align: top;\n",
       "    }\n",
       "\n",
       "    .dataframe thead th {\n",
       "        text-align: right;\n",
       "    }\n",
       "</style>\n",
       "<table border=\"1\" class=\"dataframe\">\n",
       "  <thead>\n",
       "    <tr style=\"text-align: right;\">\n",
       "      <th>Resultat</th>\n",
       "      <th>Admis</th>\n",
       "      <th>Recalé</th>\n",
       "    </tr>\n",
       "    <tr>\n",
       "      <th>Sexe</th>\n",
       "      <th></th>\n",
       "      <th></th>\n",
       "    </tr>\n",
       "  </thead>\n",
       "  <tbody>\n",
       "    <tr>\n",
       "      <th>F</th>\n",
       "      <td>54.31</td>\n",
       "      <td>45.69</td>\n",
       "    </tr>\n",
       "    <tr>\n",
       "      <th>G</th>\n",
       "      <td>54.67</td>\n",
       "      <td>45.33</td>\n",
       "    </tr>\n",
       "  </tbody>\n",
       "</table>\n",
       "</div>"
      ],
      "text/plain": [
       "Resultat  Admis  Recalé\n",
       "Sexe                   \n",
       "F         54.31   45.69\n",
       "G         54.67   45.33"
      ]
     },
     "execution_count": 24,
     "metadata": {},
     "output_type": "execute_result"
    }
   ],
   "source": [
    "round(100*tab2,2)"
   ]
  },
  {
   "cell_type": "code",
   "execution_count": null,
   "id": "28732828-f0ac-4083-800a-75c542dad925",
   "metadata": {
    "tags": []
   },
   "outputs": [],
   "source": []
  },
  {
   "cell_type": "markdown",
   "id": "a039139e-2244-4d75-987d-b04702e44ce5",
   "metadata": {},
   "source": [
    "<div class=\"alert alert-success\">\n",
    "\n",
    "**Exercice :** Faire les tableaux de contingence et les fréquences entre Résultats et Auto-Ecole, et entre Resutats et Conduite Accompagnée.\n",
    "</div>"
   ]
  },
  {
   "cell_type": "code",
   "execution_count": null,
   "id": "0c4958a5-2f1b-4272-8250-67552932c6ba",
   "metadata": {},
   "outputs": [],
   "source": []
  },
  {
   "cell_type": "code",
   "execution_count": null,
   "id": "99cc082e-c9a7-4156-88a7-232e0e97ea4c",
   "metadata": {},
   "outputs": [],
   "source": []
  },
  {
   "cell_type": "code",
   "execution_count": null,
   "id": "302a269b-6a8c-478c-9e5b-7a03f8389f4c",
   "metadata": {},
   "outputs": [],
   "source": []
  },
  {
   "cell_type": "code",
   "execution_count": null,
   "id": "c8890473-5d69-4687-8cac-e0d1085cea00",
   "metadata": {},
   "outputs": [],
   "source": []
  },
  {
   "cell_type": "code",
   "execution_count": null,
   "id": "334f46ff-6fb3-472a-851c-1e1b723d1123",
   "metadata": {
    "tags": []
   },
   "outputs": [],
   "source": []
  },
  {
   "cell_type": "markdown",
   "id": "91e68e1e-1deb-48ac-9e83-6cd3be11b5fe",
   "metadata": {},
   "source": [
    "**<font color=\" #1a09c7 \">Test d'indépendance </font>.**\n",
    "\n",
    "Nous allons importé une fonction de la library [Scipy](https://docs.scipy.org/doc/scipy/reference/main_namespace.html#) et de sont package [Scipy.stats](https://docs.scipy.org/doc/scipy/reference/stats.html).\n",
    "\n",
    "Cette fonction est `chi2_contingency`."
   ]
  },
  {
   "cell_type": "code",
   "execution_count": 25,
   "id": "1efedf27-9c48-4930-8985-0c4076b77e91",
   "metadata": {
    "tags": []
   },
   "outputs": [],
   "source": [
    "from scipy.stats import chi2_contingency"
   ]
  },
  {
   "cell_type": "markdown",
   "id": "d2546018-e6ab-4515-b213-52eba21bdbc4",
   "metadata": {},
   "source": [
    "<div class=\"alert alert-success\">\n",
    "\n",
    "Regarder l'aide `chi2_contingency`.\n",
    "</div>"
   ]
  },
  {
   "cell_type": "code",
   "execution_count": 26,
   "id": "0f85626d-fe76-4bc8-925e-dd6cd471c7f8",
   "metadata": {},
   "outputs": [],
   "source": [
    "#chi2_contingency?"
   ]
  },
  {
   "cell_type": "code",
   "execution_count": 27,
   "id": "178ba1f7-5884-4ddc-90c2-5b56d9bc43be",
   "metadata": {
    "tags": []
   },
   "outputs": [
    {
     "data": {
      "text/plain": [
       "(0.004838083692392125,\n",
       " 0.9445467926067196,\n",
       " 1,\n",
       " array([[316.10705596, 263.89294404],\n",
       "        [355.89294404, 297.10705596]]))"
      ]
     },
     "execution_count": 27,
     "metadata": {},
     "output_type": "execute_result"
    }
   ],
   "source": [
    "chi2_contingency(tab1)  ## Difficile à comprendre !"
   ]
  },
  {
   "cell_type": "code",
   "execution_count": 28,
   "id": "feb5790f-0ace-4a66-bdf8-2c32f23d1823",
   "metadata": {
    "tags": []
   },
   "outputs": [
    {
     "data": {
      "text/plain": [
       "0.004838083692392125"
      ]
     },
     "execution_count": 28,
     "metadata": {},
     "output_type": "execute_result"
    }
   ],
   "source": [
    "chi2_contingency(tab1)[0] # Valeur de la statistique du Khi-2"
   ]
  },
  {
   "cell_type": "code",
   "execution_count": 29,
   "id": "c1fde5e7-6b53-41e6-9a09-c7b45379c37c",
   "metadata": {
    "tags": []
   },
   "outputs": [
    {
     "data": {
      "text/plain": [
       "0.9445467926067196"
      ]
     },
     "execution_count": 29,
     "metadata": {},
     "output_type": "execute_result"
    }
   ],
   "source": [
    "chi2_contingency(tab1)[1] # La p-value associé au test"
   ]
  },
  {
   "cell_type": "code",
   "execution_count": 30,
   "id": "c7bb2063-4a41-4d2d-b980-03e0e2b1754d",
   "metadata": {
    "tags": []
   },
   "outputs": [
    {
     "data": {
      "text/plain": [
       "1"
      ]
     },
     "execution_count": 30,
     "metadata": {},
     "output_type": "execute_result"
    }
   ],
   "source": [
    "chi2_contingency(tab1)[2]  # lenombre de degré de liberté"
   ]
  },
  {
   "cell_type": "code",
   "execution_count": 31,
   "id": "7ba74549-26b8-4cda-8e2d-083519b80a7b",
   "metadata": {
    "tags": []
   },
   "outputs": [
    {
     "data": {
      "text/plain": [
       "array([[316.10705596, 263.89294404],\n",
       "       [355.89294404, 297.10705596]])"
      ]
     },
     "execution_count": 31,
     "metadata": {},
     "output_type": "execute_result"
    }
   ],
   "source": [
    "chi2_contingency(tab1)[3]  # Les effectifs attendus en cas d'indépendance"
   ]
  },
  {
   "cell_type": "code",
   "execution_count": 32,
   "id": "ee93266b-a409-4ce4-8828-9dbfce669bba",
   "metadata": {
    "tags": []
   },
   "outputs": [
    {
     "data": {
      "text/html": [
       "<div>\n",
       "<style scoped>\n",
       "    .dataframe tbody tr th:only-of-type {\n",
       "        vertical-align: middle;\n",
       "    }\n",
       "\n",
       "    .dataframe tbody tr th {\n",
       "        vertical-align: top;\n",
       "    }\n",
       "\n",
       "    .dataframe thead th {\n",
       "        text-align: right;\n",
       "    }\n",
       "</style>\n",
       "<table border=\"1\" class=\"dataframe\">\n",
       "  <thead>\n",
       "    <tr style=\"text-align: right;\">\n",
       "      <th>Resultat</th>\n",
       "      <th>Admis</th>\n",
       "      <th>Recalé</th>\n",
       "    </tr>\n",
       "    <tr>\n",
       "      <th>Sexe</th>\n",
       "      <th></th>\n",
       "      <th></th>\n",
       "    </tr>\n",
       "  </thead>\n",
       "  <tbody>\n",
       "    <tr>\n",
       "      <th>F</th>\n",
       "      <td>-1.107056</td>\n",
       "      <td>1.107056</td>\n",
       "    </tr>\n",
       "    <tr>\n",
       "      <th>G</th>\n",
       "      <td>1.107056</td>\n",
       "      <td>-1.107056</td>\n",
       "    </tr>\n",
       "  </tbody>\n",
       "</table>\n",
       "</div>"
      ],
      "text/plain": [
       "Resultat     Admis    Recalé\n",
       "Sexe                        \n",
       "F        -1.107056  1.107056\n",
       "G         1.107056 -1.107056"
      ]
     },
     "execution_count": 32,
     "metadata": {},
     "output_type": "execute_result"
    }
   ],
   "source": [
    "tab1-chi2_contingency(tab1)[3]  # les écarts entre les effectifs observés et les effecifs attendus en cas d'indépendance"
   ]
  },
  {
   "cell_type": "code",
   "execution_count": 33,
   "id": "4fc7c2ac-c46a-481a-8a06-fa593b0399a9",
   "metadata": {
    "tags": []
   },
   "outputs": [
    {
     "data": {
      "text/html": [
       "<div>\n",
       "<style scoped>\n",
       "    .dataframe tbody tr th:only-of-type {\n",
       "        vertical-align: middle;\n",
       "    }\n",
       "\n",
       "    .dataframe tbody tr th {\n",
       "        vertical-align: top;\n",
       "    }\n",
       "\n",
       "    .dataframe thead th {\n",
       "        text-align: right;\n",
       "    }\n",
       "</style>\n",
       "<table border=\"1\" class=\"dataframe\">\n",
       "  <thead>\n",
       "    <tr style=\"text-align: right;\">\n",
       "      <th>Resultat</th>\n",
       "      <th>Admis</th>\n",
       "      <th>Recalé</th>\n",
       "    </tr>\n",
       "    <tr>\n",
       "      <th>Sexe</th>\n",
       "      <th></th>\n",
       "      <th></th>\n",
       "    </tr>\n",
       "  </thead>\n",
       "  <tbody>\n",
       "    <tr>\n",
       "      <th>F</th>\n",
       "      <td>-0.062266</td>\n",
       "      <td>0.068148</td>\n",
       "    </tr>\n",
       "    <tr>\n",
       "      <th>G</th>\n",
       "      <td>0.058683</td>\n",
       "      <td>-0.064226</td>\n",
       "    </tr>\n",
       "  </tbody>\n",
       "</table>\n",
       "</div>"
      ],
      "text/plain": [
       "Resultat     Admis    Recalé\n",
       "Sexe                        \n",
       "F        -0.062266  0.068148\n",
       "G         0.058683 -0.064226"
      ]
     },
     "execution_count": 33,
     "metadata": {},
     "output_type": "execute_result"
    }
   ],
   "source": [
    "(tab1-chi2_contingency(tab1)[3])/np.sqrt(chi2_contingency(tab1)[3])  # les résidus de pearson"
   ]
  },
  {
   "cell_type": "markdown",
   "id": "a8559363-ce42-457c-bce1-f75e1344a71c",
   "metadata": {},
   "source": [
    "<div class=\"alert alert-success\">\n",
    "\n",
    "**Exercice :** Faire ce test entre Résultats et Auto-Ecole, et entre Resutats et Conduite Accompagnée.\n",
    "</div>"
   ]
  },
  {
   "cell_type": "markdown",
   "id": "9b206d9b-d93f-4eae-8b57-ae4f78113e82",
   "metadata": {},
   "source": [
    "**Generalement pour les tableaux de contingence 2*2 on devrait utiliser le test du Fisher**"
   ]
  },
  {
   "cell_type": "code",
   "execution_count": 34,
   "id": "47225e24-2017-47ea-9b79-253be8331fe7",
   "metadata": {},
   "outputs": [],
   "source": [
    "from scipy.stats import fisher_exact"
   ]
  },
  {
   "cell_type": "code",
   "execution_count": 35,
   "id": "31293b8b-3e4a-482f-8fac-719cbd070a62",
   "metadata": {},
   "outputs": [
    {
     "data": {
      "text/plain": [
       "0.908875302434766"
      ]
     },
     "execution_count": 35,
     "metadata": {},
     "output_type": "execute_result"
    }
   ],
   "source": [
    "fisher_exact(tab1)[1]"
   ]
  },
  {
   "cell_type": "markdown",
   "id": "d73d29ff-7a3c-4e7f-a67b-785741d15dc6",
   "metadata": {
    "tags": []
   },
   "source": []
  },
  {
   "cell_type": "code",
   "execution_count": null,
   "id": "0ff2d8fc-d4c2-4734-b4c4-6c9c627cb2a0",
   "metadata": {
    "tags": []
   },
   "outputs": [],
   "source": []
  },
  {
   "cell_type": "markdown",
   "id": "dee0d9b5-b436-45b8-a711-6b0da149d4e1",
   "metadata": {},
   "source": [
    "## Une variable qualitative et une variable quantitative\n",
    "\n",
    "**<font color=\"#800080\">Séparation des données selon les modalités de la variable qualitative </font>.**\n",
    "\n",
    "\n",
    "Nous allons utiliser la méthode `.groupby` qui permet  de séparer les données selon les modalités d'une variable qualitative."
   ]
  },
  {
   "cell_type": "code",
   "execution_count": 36,
   "id": "661524a2-be41-4aaa-bf41-1b21c1574a08",
   "metadata": {
    "tags": []
   },
   "outputs": [
    {
     "data": {
      "text/html": [
       "<div>\n",
       "<style scoped>\n",
       "    .dataframe tbody tr th:only-of-type {\n",
       "        vertical-align: middle;\n",
       "    }\n",
       "\n",
       "    .dataframe tbody tr th {\n",
       "        vertical-align: top;\n",
       "    }\n",
       "\n",
       "    .dataframe thead tr th {\n",
       "        text-align: left;\n",
       "    }\n",
       "\n",
       "    .dataframe thead tr:last-of-type th {\n",
       "        text-align: right;\n",
       "    }\n",
       "</style>\n",
       "<table border=\"1\" class=\"dataframe\">\n",
       "  <thead>\n",
       "    <tr>\n",
       "      <th></th>\n",
       "      <th colspan=\"8\" halign=\"left\">Nombre heures AE</th>\n",
       "      <th colspan=\"8\" halign=\"left\">Age</th>\n",
       "    </tr>\n",
       "    <tr>\n",
       "      <th></th>\n",
       "      <th>count</th>\n",
       "      <th>mean</th>\n",
       "      <th>std</th>\n",
       "      <th>min</th>\n",
       "      <th>25%</th>\n",
       "      <th>50%</th>\n",
       "      <th>75%</th>\n",
       "      <th>max</th>\n",
       "      <th>count</th>\n",
       "      <th>mean</th>\n",
       "      <th>std</th>\n",
       "      <th>min</th>\n",
       "      <th>25%</th>\n",
       "      <th>50%</th>\n",
       "      <th>75%</th>\n",
       "      <th>max</th>\n",
       "    </tr>\n",
       "    <tr>\n",
       "      <th>Resultat</th>\n",
       "      <th></th>\n",
       "      <th></th>\n",
       "      <th></th>\n",
       "      <th></th>\n",
       "      <th></th>\n",
       "      <th></th>\n",
       "      <th></th>\n",
       "      <th></th>\n",
       "      <th></th>\n",
       "      <th></th>\n",
       "      <th></th>\n",
       "      <th></th>\n",
       "      <th></th>\n",
       "      <th></th>\n",
       "      <th></th>\n",
       "      <th></th>\n",
       "    </tr>\n",
       "  </thead>\n",
       "  <tbody>\n",
       "    <tr>\n",
       "      <th>Admis</th>\n",
       "      <td>672.0</td>\n",
       "      <td>23.760417</td>\n",
       "      <td>3.178361</td>\n",
       "      <td>20.0</td>\n",
       "      <td>21.0</td>\n",
       "      <td>23.0</td>\n",
       "      <td>25.0</td>\n",
       "      <td>40.0</td>\n",
       "      <td>672.0</td>\n",
       "      <td>19.074405</td>\n",
       "      <td>1.778443</td>\n",
       "      <td>18.0</td>\n",
       "      <td>18.0</td>\n",
       "      <td>19.0</td>\n",
       "      <td>19.0</td>\n",
       "      <td>30.0</td>\n",
       "    </tr>\n",
       "    <tr>\n",
       "      <th>Recalé</th>\n",
       "      <td>561.0</td>\n",
       "      <td>24.155080</td>\n",
       "      <td>4.082084</td>\n",
       "      <td>20.0</td>\n",
       "      <td>21.0</td>\n",
       "      <td>23.0</td>\n",
       "      <td>26.0</td>\n",
       "      <td>46.0</td>\n",
       "      <td>561.0</td>\n",
       "      <td>19.516934</td>\n",
       "      <td>4.519420</td>\n",
       "      <td>18.0</td>\n",
       "      <td>18.0</td>\n",
       "      <td>19.0</td>\n",
       "      <td>20.0</td>\n",
       "      <td>62.0</td>\n",
       "    </tr>\n",
       "  </tbody>\n",
       "</table>\n",
       "</div>"
      ],
      "text/plain": [
       "         Nombre heures AE                                                     \\\n",
       "                    count       mean       std   min   25%   50%   75%   max   \n",
       "Resultat                                                                       \n",
       "Admis               672.0  23.760417  3.178361  20.0  21.0  23.0  25.0  40.0   \n",
       "Recalé              561.0  24.155080  4.082084  20.0  21.0  23.0  26.0  46.0   \n",
       "\n",
       "            Age                                                     \n",
       "          count       mean       std   min   25%   50%   75%   max  \n",
       "Resultat                                                            \n",
       "Admis     672.0  19.074405  1.778443  18.0  18.0  19.0  19.0  30.0  \n",
       "Recalé    561.0  19.516934  4.519420  18.0  18.0  19.0  20.0  62.0  "
      ]
     },
     "execution_count": 36,
     "metadata": {},
     "output_type": "execute_result"
    }
   ],
   "source": [
    "df_result=df.groupby(\"Resultat\")\n",
    "df_result.describe()"
   ]
  },
  {
   "cell_type": "markdown",
   "id": "cc899ed0-583c-4356-afe3-6e7368fea4da",
   "metadata": {},
   "source": [
    "**Ceci nous permet de voir les différentes caractéristiques de distribution de var qant. selon les modalités de la var. Qual.**"
   ]
  },
  {
   "cell_type": "code",
   "execution_count": 37,
   "id": "83573bcc-8bc3-4b47-b1ff-f4b59019fb63",
   "metadata": {
    "tags": []
   },
   "outputs": [],
   "source": [
    "df_result_age=df.groupby(\"Resultat\")[\"Age\"]"
   ]
  },
  {
   "cell_type": "code",
   "execution_count": 38,
   "id": "b3fc5e94-f185-43d2-babf-53fd05537120",
   "metadata": {
    "tags": []
   },
   "outputs": [
    {
     "data": {
      "text/html": [
       "<div>\n",
       "<style scoped>\n",
       "    .dataframe tbody tr th:only-of-type {\n",
       "        vertical-align: middle;\n",
       "    }\n",
       "\n",
       "    .dataframe tbody tr th {\n",
       "        vertical-align: top;\n",
       "    }\n",
       "\n",
       "    .dataframe thead th {\n",
       "        text-align: right;\n",
       "    }\n",
       "</style>\n",
       "<table border=\"1\" class=\"dataframe\">\n",
       "  <thead>\n",
       "    <tr style=\"text-align: right;\">\n",
       "      <th></th>\n",
       "      <th>count</th>\n",
       "      <th>mean</th>\n",
       "      <th>std</th>\n",
       "      <th>min</th>\n",
       "      <th>25%</th>\n",
       "      <th>50%</th>\n",
       "      <th>75%</th>\n",
       "      <th>max</th>\n",
       "    </tr>\n",
       "    <tr>\n",
       "      <th>Resultat</th>\n",
       "      <th></th>\n",
       "      <th></th>\n",
       "      <th></th>\n",
       "      <th></th>\n",
       "      <th></th>\n",
       "      <th></th>\n",
       "      <th></th>\n",
       "      <th></th>\n",
       "    </tr>\n",
       "  </thead>\n",
       "  <tbody>\n",
       "    <tr>\n",
       "      <th>Admis</th>\n",
       "      <td>672.0</td>\n",
       "      <td>19.074405</td>\n",
       "      <td>1.778443</td>\n",
       "      <td>18.0</td>\n",
       "      <td>18.0</td>\n",
       "      <td>19.0</td>\n",
       "      <td>19.0</td>\n",
       "      <td>30.0</td>\n",
       "    </tr>\n",
       "    <tr>\n",
       "      <th>Recalé</th>\n",
       "      <td>561.0</td>\n",
       "      <td>19.516934</td>\n",
       "      <td>4.519420</td>\n",
       "      <td>18.0</td>\n",
       "      <td>18.0</td>\n",
       "      <td>19.0</td>\n",
       "      <td>20.0</td>\n",
       "      <td>62.0</td>\n",
       "    </tr>\n",
       "  </tbody>\n",
       "</table>\n",
       "</div>"
      ],
      "text/plain": [
       "          count       mean       std   min   25%   50%   75%   max\n",
       "Resultat                                                          \n",
       "Admis     672.0  19.074405  1.778443  18.0  18.0  19.0  19.0  30.0\n",
       "Recalé    561.0  19.516934  4.519420  18.0  18.0  19.0  20.0  62.0"
      ]
     },
     "execution_count": 38,
     "metadata": {},
     "output_type": "execute_result"
    }
   ],
   "source": [
    "df_result_age.describe()"
   ]
  },
  {
   "cell_type": "code",
   "execution_count": 39,
   "id": "557a6ac2-54a6-4946-8a76-30db81a2ffa1",
   "metadata": {
    "tags": []
   },
   "outputs": [
    {
     "data": {
      "text/html": [
       "<div>\n",
       "<style scoped>\n",
       "    .dataframe tbody tr th:only-of-type {\n",
       "        vertical-align: middle;\n",
       "    }\n",
       "\n",
       "    .dataframe tbody tr th {\n",
       "        vertical-align: top;\n",
       "    }\n",
       "\n",
       "    .dataframe thead th {\n",
       "        text-align: right;\n",
       "    }\n",
       "</style>\n",
       "<table border=\"1\" class=\"dataframe\">\n",
       "  <thead>\n",
       "    <tr style=\"text-align: right;\">\n",
       "      <th></th>\n",
       "      <th>mean</th>\n",
       "      <th>std</th>\n",
       "      <th>min</th>\n",
       "      <th>max</th>\n",
       "    </tr>\n",
       "    <tr>\n",
       "      <th>Resultat</th>\n",
       "      <th></th>\n",
       "      <th></th>\n",
       "      <th></th>\n",
       "      <th></th>\n",
       "    </tr>\n",
       "  </thead>\n",
       "  <tbody>\n",
       "    <tr>\n",
       "      <th>Admis</th>\n",
       "      <td>19.074405</td>\n",
       "      <td>1.778443</td>\n",
       "      <td>18</td>\n",
       "      <td>30</td>\n",
       "    </tr>\n",
       "    <tr>\n",
       "      <th>Recalé</th>\n",
       "      <td>19.516934</td>\n",
       "      <td>4.519420</td>\n",
       "      <td>18</td>\n",
       "      <td>62</td>\n",
       "    </tr>\n",
       "  </tbody>\n",
       "</table>\n",
       "</div>"
      ],
      "text/plain": [
       "               mean       std  min  max\n",
       "Resultat                               \n",
       "Admis     19.074405  1.778443   18   30\n",
       "Recalé    19.516934  4.519420   18   62"
      ]
     },
     "execution_count": 39,
     "metadata": {},
     "output_type": "execute_result"
    }
   ],
   "source": [
    "df_result_age.agg([\"mean\", \"std\", \"min\", \"max\"])"
   ]
  },
  {
   "cell_type": "code",
   "execution_count": 40,
   "id": "a9edc217-0aad-4e84-837b-36a4edc72914",
   "metadata": {
    "tags": []
   },
   "outputs": [
    {
     "data": {
      "text/plain": [
       "Auto-ecole  Resultat\n",
       "Blizz       Admis       24.863014\n",
       "            Recalé      25.659722\n",
       "Christian   Admis       23.701031\n",
       "            Recalé      24.161017\n",
       "Conduc      Admis       24.255814\n",
       "            Recalé      23.739130\n",
       "Mireille    Admis       23.747899\n",
       "            Recalé      23.753623\n",
       "Pilote      Admis       23.649682\n",
       "            Recalé      23.181818\n",
       "Vincent     Admis       22.525773\n",
       "            Recalé      22.840000\n",
       "Name: Nombre heures AE, dtype: float64"
      ]
     },
     "execution_count": 40,
     "metadata": {},
     "output_type": "execute_result"
    }
   ],
   "source": [
    "df.groupby([\"Auto-ecole\", \"Resultat\"])['Nombre heures AE'].mean()  # on peut selectionner selon plusieurs var. qual."
   ]
  },
  {
   "cell_type": "markdown",
   "id": "842a061a-9f01-4853-af5c-052627170f0a",
   "metadata": {},
   "source": [
    "<div class=\"alert alert-success\">\n",
    "\n",
    "**Exercice :** Faire les statistiques descriptives de l'âge selon le resultat et le sexe.\n",
    "</div>"
   ]
  },
  {
   "cell_type": "markdown",
   "id": "968d8786-ddb6-4b2c-af4e-39115b1de492",
   "metadata": {},
   "source": [
    "Il est possible de faire d'appliquer de fonctions sur les données avec `apply`. **Il s'agit de fonction dites \"lambda\".**\n",
    "\n",
    "On veut avoir l'étendue du nombre d'heures à l'auto-école selon l'auto école."
   ]
  },
  {
   "cell_type": "code",
   "execution_count": 41,
   "id": "21d58569-6d28-4f95-bb3f-2641b2bc6772",
   "metadata": {
    "tags": []
   },
   "outputs": [
    {
     "data": {
      "text/plain": [
       "Auto-ecole\n",
       "Blizz        26\n",
       "Christian    20\n",
       "Conduc       17\n",
       "Mireille     13\n",
       "Pilote       13\n",
       "Vincent      11\n",
       "Name: Nombre heures AE, dtype: int64"
      ]
     },
     "execution_count": 41,
     "metadata": {},
     "output_type": "execute_result"
    }
   ],
   "source": [
    "df.groupby(\"Auto-ecole\")['Nombre heures AE'].apply(lambda x : x.max()-x.min())"
   ]
  },
  {
   "cell_type": "code",
   "execution_count": 42,
   "id": "88bb7205-2f5b-4710-b0db-2c684479ec14",
   "metadata": {
    "tags": []
   },
   "outputs": [
    {
     "data": {
      "text/html": [
       "<div>\n",
       "<style scoped>\n",
       "    .dataframe tbody tr th:only-of-type {\n",
       "        vertical-align: middle;\n",
       "    }\n",
       "\n",
       "    .dataframe tbody tr th {\n",
       "        vertical-align: top;\n",
       "    }\n",
       "\n",
       "    .dataframe thead th {\n",
       "        text-align: right;\n",
       "    }\n",
       "</style>\n",
       "<table border=\"1\" class=\"dataframe\">\n",
       "  <thead>\n",
       "    <tr style=\"text-align: right;\">\n",
       "      <th></th>\n",
       "      <th>count</th>\n",
       "      <th>mean</th>\n",
       "      <th>std</th>\n",
       "      <th>min</th>\n",
       "      <th>25%</th>\n",
       "      <th>50%</th>\n",
       "      <th>75%</th>\n",
       "      <th>max</th>\n",
       "    </tr>\n",
       "    <tr>\n",
       "      <th>Auto-ecole</th>\n",
       "      <th></th>\n",
       "      <th></th>\n",
       "      <th></th>\n",
       "      <th></th>\n",
       "      <th></th>\n",
       "      <th></th>\n",
       "      <th></th>\n",
       "      <th></th>\n",
       "    </tr>\n",
       "  </thead>\n",
       "  <tbody>\n",
       "    <tr>\n",
       "      <th>Blizz</th>\n",
       "      <td>217.0</td>\n",
       "      <td>25.391705</td>\n",
       "      <td>4.662550</td>\n",
       "      <td>20.0</td>\n",
       "      <td>22.0</td>\n",
       "      <td>25.0</td>\n",
       "      <td>27.0</td>\n",
       "      <td>46.0</td>\n",
       "    </tr>\n",
       "    <tr>\n",
       "      <th>Christian</th>\n",
       "      <td>215.0</td>\n",
       "      <td>23.953488</td>\n",
       "      <td>3.900356</td>\n",
       "      <td>20.0</td>\n",
       "      <td>21.0</td>\n",
       "      <td>23.0</td>\n",
       "      <td>25.0</td>\n",
       "      <td>40.0</td>\n",
       "    </tr>\n",
       "    <tr>\n",
       "      <th>Conduc</th>\n",
       "      <td>221.0</td>\n",
       "      <td>24.040724</td>\n",
       "      <td>3.488053</td>\n",
       "      <td>20.0</td>\n",
       "      <td>21.0</td>\n",
       "      <td>23.0</td>\n",
       "      <td>26.0</td>\n",
       "      <td>37.0</td>\n",
       "    </tr>\n",
       "    <tr>\n",
       "      <th>Mireille</th>\n",
       "      <td>188.0</td>\n",
       "      <td>23.750000</td>\n",
       "      <td>2.928059</td>\n",
       "      <td>20.0</td>\n",
       "      <td>21.0</td>\n",
       "      <td>23.0</td>\n",
       "      <td>25.0</td>\n",
       "      <td>33.0</td>\n",
       "    </tr>\n",
       "    <tr>\n",
       "      <th>Pilote</th>\n",
       "      <td>245.0</td>\n",
       "      <td>23.481633</td>\n",
       "      <td>3.002163</td>\n",
       "      <td>20.0</td>\n",
       "      <td>21.0</td>\n",
       "      <td>23.0</td>\n",
       "      <td>25.0</td>\n",
       "      <td>33.0</td>\n",
       "    </tr>\n",
       "    <tr>\n",
       "      <th>Vincent</th>\n",
       "      <td>147.0</td>\n",
       "      <td>22.632653</td>\n",
       "      <td>2.561789</td>\n",
       "      <td>20.0</td>\n",
       "      <td>21.0</td>\n",
       "      <td>22.0</td>\n",
       "      <td>24.0</td>\n",
       "      <td>31.0</td>\n",
       "    </tr>\n",
       "  </tbody>\n",
       "</table>\n",
       "</div>"
      ],
      "text/plain": [
       "            count       mean       std   min   25%   50%   75%   max\n",
       "Auto-ecole                                                          \n",
       "Blizz       217.0  25.391705  4.662550  20.0  22.0  25.0  27.0  46.0\n",
       "Christian   215.0  23.953488  3.900356  20.0  21.0  23.0  25.0  40.0\n",
       "Conduc      221.0  24.040724  3.488053  20.0  21.0  23.0  26.0  37.0\n",
       "Mireille    188.0  23.750000  2.928059  20.0  21.0  23.0  25.0  33.0\n",
       "Pilote      245.0  23.481633  3.002163  20.0  21.0  23.0  25.0  33.0\n",
       "Vincent     147.0  22.632653  2.561789  20.0  21.0  22.0  24.0  31.0"
      ]
     },
     "execution_count": 42,
     "metadata": {},
     "output_type": "execute_result"
    }
   ],
   "source": [
    "df.groupby(\"Auto-ecole\")['Nombre heures AE'].describe()   ## Pour vérifier l'exactitude de l'instruction précédente."
   ]
  },
  {
   "cell_type": "markdown",
   "id": "10a9204b-52c4-4717-9f9a-f5502f3149ed",
   "metadata": {},
   "source": [
    "**<font color=\"#800080\">Les boxplots </font>.**\n",
    "\n",
    "Afin de faire ces boxplot, nous allons utiliser deux librairies très importantes pour la data visualisation `matplotlib` et `seaborn`.\n",
    "\n",
    "La documentation en anglais est ici : [matplotlib](https://matplotlib.org/stable/), [seaborn](https://seaborn.pydata.org/)"
   ]
  },
  {
   "cell_type": "code",
   "execution_count": 43,
   "id": "89a1e9fc-34e9-4554-9c31-aa51bb034966",
   "metadata": {
    "tags": []
   },
   "outputs": [],
   "source": [
    "import matplotlib.pyplot as plt\n",
    "import seaborn as sns"
   ]
  },
  {
   "cell_type": "code",
   "execution_count": 44,
   "id": "25a93b95-3adf-449c-a3fe-187774ccd276",
   "metadata": {
    "tags": []
   },
   "outputs": [
    {
     "data": {
      "image/png": "[encoded data removed]",
      "text/plain": [
       "<Figure size 640x480 with 1 Axes>"
      ]
     },
     "metadata": {},
     "output_type": "display_data"
    }
   ],
   "source": [
    "sns.boxplot(data=df, x=\"Resultat\", y='Nombre heures AE')\n",
    "\n",
    "# nom des axes\n",
    "plt.xlabel(\"Réultats au permis\")\n",
    "plt.ylabel(\"Nombre d'heures auto-école\")\n",
    "# titre et sous-titre\n",
    "plt.suptitle(\"Resultat et nombre d'heures à l'auto-école\")\n",
    "# grille\n",
    "plt.grid()\n",
    "# Sauvegarder le graphique \n",
    "# plt.savefig(\"Boxplot1.png\")\n"
   ]
  },
  {
   "cell_type": "markdown",
   "id": "e3377dc8-daf6-4ae5-b3e3-45626d628b2b",
   "metadata": {},
   "source": [
    "**<font color=\"#800080\">Faire une ANOVA</font>.**\n",
    "\n",
    "Nous allons utiliser une librairie `statsmodels`.\n",
    "Docuentation : [statsmodels](https://www.statsmodels.org/stable/index.html).\n",
    "\n",
    "Nous allons voir si la moyenne de  l'àge est identique selon le résultat.\n",
    "\n"
   ]
  },
  {
   "cell_type": "code",
   "execution_count": 45,
   "id": "0b32dc5a-29ee-4cf5-9233-88d85560cbd1",
   "metadata": {},
   "outputs": [
    {
     "data": {
      "text/plain": [
       "Resultat\n",
       "Admis     19.074405\n",
       "Recalé    19.516934\n",
       "Name: Age, dtype: float64"
      ]
     },
     "execution_count": 45,
     "metadata": {},
     "output_type": "execute_result"
    }
   ],
   "source": [
    "df.groupby(\"Resultat\")[\"Age\"].mean()"
   ]
  },
  {
   "cell_type": "code",
   "execution_count": 46,
   "id": "ebeb2278-c10b-45d4-a79f-eef64341ab41",
   "metadata": {
    "tags": []
   },
   "outputs": [
    {
     "name": "stdout",
     "output_type": "stream",
     "text": [
      "                sum_sq      df         F    PR(>F)\n",
      "Resultat     59.876043     1.0  5.435502  0.019892\n",
      "Residual  13560.368888  1231.0       NaN       NaN\n"
     ]
    }
   ],
   "source": [
    "import statsmodels.api as sm\n",
    "from statsmodels.formula.api import ols\n",
    "model = ols('Age ~ Resultat', data=df).fit()\n",
    "anova_table = sm.stats.anova_lm(model, typ=2)\n",
    "print(anova_table)"
   ]
  },
  {
   "cell_type": "markdown",
   "id": "5423d579-25dd-4379-8069-ce87132d083e",
   "metadata": {},
   "source": [
    "**Calcul du rapport de corrélation**"
   ]
  },
  {
   "cell_type": "code",
   "execution_count": 67,
   "id": "c1a33c21-1adc-4dad-bcf2-22a6c9c27b68",
   "metadata": {
    "tags": []
   },
   "outputs": [],
   "source": [
    "def rap_cor(table_anova,n) :\n",
    "    VM=table_anova['sum_sq'][0]\n",
    "    MV=table_anova['sum_sq'][1]\n",
    "    rap_cor=round((VM/(VM+MV))**0.5,3)\n",
    "    return rap_cor"
   ]
  },
  {
   "cell_type": "code",
   "execution_count": 68,
   "id": "5c0ffc2b-a447-4086-9fd9-e8bd84d7da9a",
   "metadata": {
    "tags": []
   },
   "outputs": [
    {
     "data": {
      "text/plain": [
       "0.066"
      ]
     },
     "execution_count": 68,
     "metadata": {},
     "output_type": "execute_result"
    }
   ],
   "source": [
    "n=df.shape[0]\n",
    "rap_cor(anova_table,n)"
   ]
  },
  {
   "cell_type": "markdown",
   "id": "b72c4dd4-8000-4b72-9fdf-ad424eb7ede1",
   "metadata": {
    "tags": []
   },
   "source": [
    "<div class=\"alert alert-success\">\n",
    "\n",
    "**Exercice :** Faire la même chose entre les résultats et le nombre d'heures à l'auto-école.\n",
    "</div>"
   ]
  },
  {
   "cell_type": "markdown",
   "id": "89ca6eec-34ec-4500-9c91-6d80b54e8b22",
   "metadata": {},
   "source": [
    "<div class=\"alert alert-success\">\n",
    "\n",
    "**Exercice :** Faire un notebook avec les analyses statistiques et les commentaires concernant le fichier pourboire.\n",
    "</div>"
   ]
  },
  {
   "cell_type": "markdown",
   "id": "5eb4c2a5-a203-4de6-95c4-2836f4be1f12",
   "metadata": {},
   "source": [
    "<div class=\"alert alert-success\">\n",
    "\n",
    "**Exercice :** Faire une fonction qui calcule le coefficient de Cramer pour deux variables qualitatives\n",
    "</div>"
   ]
  },
  {
   "cell_type": "code",
   "execution_count": null,
   "id": "c071b19d-68f6-4644-a4f4-11311c4235ee",
   "metadata": {},
   "outputs": [],
   "source": []
  }
 ],
 "metadata": {
  "kernelspec": {
   "display_name": "Python 3 (ipykernel)",
   "language": "python",
   "name": "python3"
  },
  "language_info": {
   "codemirror_mode": {
    "name": "ipython",
    "version": 3
   },
   "file_extension": ".py",
   "mimetype": "text/x-python",
   "name": "python",
   "nbconvert_exporter": "python",
   "pygments_lexer": "ipython3",
   "version": "3.9.18"
  }
 },
 "nbformat": 4,
 "nbformat_minor": 5
}
