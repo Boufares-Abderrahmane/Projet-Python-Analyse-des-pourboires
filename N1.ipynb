{
 "cells": [
  {
   "cell_type": "markdown",
   "id": "afd5a577",
   "metadata": {
    "tags": []
   },
   "source": [
    "<div style=\"background-color:#96CDF2; padding:10px;color:#3B3C3E\">\n",
    "Licence <a rel=\"license\" href=\"http://creativecommons.org/licenses/by-sa/4.0/\">CC BY-SA</a>\n",
    "<a rel=\"license\" href=\"http://creativecommons.org/licenses/by-sa/4.0/\"><img alt=\"Licence Creative Commons\" style=\"border-width:0; float:right;\" src=\"https://i.creativecommons.org/l/by-sa/4.0/88x31.png\" /></a><br />\n",
    "Olivier Peron - <tt>olivier.peron@univ-pau.fr</tt> <br />\n",
    "<i><a href=\"https://tree.univ-pau.fr/fr/index.html\">TREE</a> / <a href=\"http://www.univ-pau.fr/\">Université de Pau et des Pays de l'Adour</a></i>\n",
    "</div>\n"
   ]
  },
  {
   "cell_type": "markdown",
   "id": "182ed6f5-9cda-41fc-bb1c-96eb680af69e",
   "metadata": {},
   "source": [
    "# Utilisation de Pandas et numpy\n",
    "\n",
    "<div class=\"alert alert-block alert-info\">\n",
    "\n",
    "\n",
    "Nombre de librairies sont nécesaires pour pouvoir structurer les  données, faire du calcul scientifique, faire des statistiques, faire du machine learning, ou encore faire de la data visualisation.\n",
    "Les principales librairies sont :\n",
    "    \n",
    "</div>\n",
    "\n",
    "    - Numpy : traitement numérique ;\n",
    "    - Pandas : utilisation des données ;\n",
    "    - Matplotlib et Seaborn : Visualisation de données ;\n",
    "    - ScyPi : calcul scientifique ;\n",
    "    - Statsmodel : analyse statistique ;\n",
    "    - Scikit_learn : faire du amchine learning.\n",
    "\n",
    "**Attention, pour les modules les plus courants, il existe une convention de *nommage***.\n",
    "\n",
    "***\n",
    "\n",
    "<div class=\"alert alert-block alert-info\">\n",
    "    <b>Nous allons pour l'instant utiliser <em>pandas et numpy</em> </b> \n",
    "</div>\n",
    "\n"
   ]
  },
  {
   "cell_type": "code",
   "execution_count": 1,
   "id": "e8f6ae06",
   "metadata": {
    "tags": []
   },
   "outputs": [],
   "source": [
    "import pandas as pd \n",
    "import  numpy as np  "
   ]
  },
  {
   "cell_type": "markdown",
   "id": "6d5797ae",
   "metadata": {},
   "source": [
    "<div class=\"alert alert-block alert-danger\">\n",
    "<b>Afin de sauver ce notebook votre environnement de travail, il est nécessaire de le changer.</b> \n",
    "<blockquote> Voici comment faire :</blockquote>\n",
    "</div>\n"
   ]
  },
  {
   "cell_type": "code",
   "execution_count": 2,
   "id": "48f23ea3",
   "metadata": {
    "tags": []
   },
   "outputs": [],
   "source": [
    "import os"
   ]
  },
  {
   "cell_type": "code",
   "execution_count": 3,
   "id": "b6ee1eba",
   "metadata": {
    "tags": []
   },
   "outputs": [],
   "source": [
    "def current_path():\n",
    "    print('\\033[1m',\"Actuellement votre répertoire de travail est :\",'\\033[0m'+'\\033[96m')\n",
    "    print(os.getcwd())\n",
    "    print()"
   ]
  },
  {
   "cell_type": "code",
   "execution_count": 4,
   "id": "29e5171a",
   "metadata": {
    "tags": []
   },
   "outputs": [
    {
     "name": "stdout",
     "output_type": "stream",
     "text": [
      "\u001b[1m Actuellement votre répertoire de travail est : \u001b[0m\u001b[96m\n",
      "C:\\Users\\peron\\Documents\\Travail\\Enseignement\\NoteBooks\\NoteBooksPY\n",
      "\n"
     ]
    }
   ],
   "source": [
    "current_path()"
   ]
  },
  {
   "cell_type": "markdown",
   "id": "dfe67368-972a-4eff-9971-453cca112305",
   "metadata": {},
   "source": [
    "Dans l'instruction ci-dessous, il va falloir changer votre répertoire de travail.\n",
    "\n",
    "J'ai mis le mien mais il faudra mettre le votre."
   ]
  },
  {
   "cell_type": "code",
   "execution_count": 5,
   "id": "42e85d10",
   "metadata": {
    "tags": []
   },
   "outputs": [],
   "source": [
    "# os.chdir('C:/Users/peron/Documents/Travail/Enseignement/NoteBooks/NoteBooksPY')"
   ]
  },
  {
   "cell_type": "code",
   "execution_count": 6,
   "id": "35837f81",
   "metadata": {
    "tags": []
   },
   "outputs": [
    {
     "name": "stdout",
     "output_type": "stream",
     "text": [
      "\u001b[1m Actuellement votre répertoire de travail est : \u001b[0m\u001b[96m\n",
      "C:\\Users\\peron\\Documents\\Travail\\Enseignement\\NoteBooks\\NoteBooksPY\n",
      "\n"
     ]
    }
   ],
   "source": [
    "# current_path() "
   ]
  },
  {
   "cell_type": "markdown",
   "id": "c592d424-03d7-4a6a-a259-b5437fddf055",
   "metadata": {},
   "source": [
    "### Les structures de données assez basiques\n",
    "\n",
    "Il y a :\n",
    "\n",
    "1. Les listes\n",
    "2. Les tuples\n",
    "3. Les dictionnaires\n"
   ]
  },
  {
   "cell_type": "markdown",
   "id": "cac37226-1d3c-46c3-997d-7b32a7797d9b",
   "metadata": {},
   "source": [
    "#### **Les listes**\n",
    "\n",
    "Il s'agit de conserver plusieurs données qui peuvent être de type différent (int, float, str ou bool).\n",
    "\n",
    "On utilise les crochets."
   ]
  },
  {
   "cell_type": "code",
   "execution_count": 7,
   "id": "a65a30c0-47be-4ebd-872a-151f47be3cb4",
   "metadata": {
    "tags": []
   },
   "outputs": [
    {
     "data": {
      "text/plain": [
       "([1, 2, 'GG', True, 8], list)"
      ]
     },
     "execution_count": 7,
     "metadata": {},
     "output_type": "execute_result"
    }
   ],
   "source": [
    "L1=[1,2,\"GG\",True, 8]  # Vous pouvez remarquer les crochets\n",
    "L1, type(L1)"
   ]
  },
  {
   "cell_type": "code",
   "execution_count": 8,
   "id": "536c0719-078e-4d30-9d9e-c01eea4702af",
   "metadata": {
    "tags": []
   },
   "outputs": [
    {
     "data": {
      "text/plain": [
       "1"
      ]
     },
     "execution_count": 8,
     "metadata": {},
     "output_type": "execute_result"
    }
   ],
   "source": [
    "L1[0]   # Le élements commencent toujours à 0"
   ]
  },
  {
   "cell_type": "code",
   "execution_count": 9,
   "id": "f6ef538a-c2f2-4ec7-affe-c41c8ff750cd",
   "metadata": {
    "tags": []
   },
   "outputs": [
    {
     "data": {
      "text/plain": [
       "['GG', True]"
      ]
     },
     "execution_count": 9,
     "metadata": {},
     "output_type": "execute_result"
    }
   ],
   "source": [
    "L1[2:4]   # Slicing, on ne tient pas compte du dernier"
   ]
  },
  {
   "cell_type": "code",
   "execution_count": 10,
   "id": "ecb48c7e-8241-422c-b8bb-c26494c428b4",
   "metadata": {
    "tags": []
   },
   "outputs": [
    {
     "data": {
      "text/plain": [
       "[1, 2]"
      ]
     },
     "execution_count": 10,
     "metadata": {},
     "output_type": "execute_result"
    }
   ],
   "source": [
    "L1[:2] # on ne tient pas compte du dernier"
   ]
  },
  {
   "cell_type": "code",
   "execution_count": 11,
   "id": "07def585-b901-4d67-aa6f-7955bc6e4fd8",
   "metadata": {
    "tags": []
   },
   "outputs": [
    {
     "data": {
      "text/plain": [
       "['GG', True, 8]"
      ]
     },
     "execution_count": 11,
     "metadata": {},
     "output_type": "execute_result"
    }
   ],
   "source": [
    "L1[2:]"
   ]
  },
  {
   "cell_type": "code",
   "execution_count": 12,
   "id": "2ef94490-3097-4567-8ab5-973b0f1b15b0",
   "metadata": {
    "tags": []
   },
   "outputs": [
    {
     "data": {
      "text/plain": [
       "8"
      ]
     },
     "execution_count": 12,
     "metadata": {},
     "output_type": "execute_result"
    }
   ],
   "source": [
    "L1[-1] # on part de la fn de la liste aec un nombre négatif"
   ]
  },
  {
   "cell_type": "code",
   "execution_count": 13,
   "id": "bb84c03c-a2ed-4d8b-a4a9-b8d7836995ae",
   "metadata": {
    "tags": []
   },
   "outputs": [
    {
     "data": {
      "text/plain": [
       "[1, 2, 'GG', True, 8, 'dd']"
      ]
     },
     "execution_count": 13,
     "metadata": {},
     "output_type": "execute_result"
    }
   ],
   "source": [
    "L1.append(\"dd\")  ## Permet d'ajouter un élément\n",
    "L1"
   ]
  },
  {
   "cell_type": "code",
   "execution_count": 14,
   "id": "1f485d5d-bdea-4c30-9fe3-750759c4d49b",
   "metadata": {
    "tags": []
   },
   "outputs": [
    {
     "data": {
      "text/plain": [
       "[1, 2, 'GG', 'PP', True, 8, 'dd']"
      ]
     },
     "execution_count": 14,
     "metadata": {},
     "output_type": "execute_result"
    }
   ],
   "source": [
    "L1.insert(3,\"PP\") ## Ajoute un élément où on lui dit de le mettre\n",
    "L1"
   ]
  },
  {
   "cell_type": "code",
   "execution_count": 15,
   "id": "5c4e9acc-305b-4e07-a4e4-a63e29b7d3d2",
   "metadata": {
    "tags": []
   },
   "outputs": [
    {
     "data": {
      "text/plain": [
       "[1, -1, 'GG', 'PP', True, 8, 'dd']"
      ]
     },
     "execution_count": 15,
     "metadata": {},
     "output_type": "execute_result"
    }
   ],
   "source": [
    "L1[1]=-1 ## Changement de valeur\n",
    "L1"
   ]
  },
  {
   "cell_type": "code",
   "execution_count": 16,
   "id": "833ddf8c-4080-4c15-97b9-89bc9fc959a6",
   "metadata": {
    "tags": []
   },
   "outputs": [
    {
     "data": {
      "text/plain": [
       "[1, -1, 'GG', 'PP', True]"
      ]
     },
     "execution_count": 16,
     "metadata": {},
     "output_type": "execute_result"
    }
   ],
   "source": [
    "L1[5:]=[] # Suppression de valeurs\n",
    "L1"
   ]
  },
  {
   "cell_type": "code",
   "execution_count": 17,
   "id": "1a6fae0d-716a-4458-9e6e-329d474522e0",
   "metadata": {
    "tags": []
   },
   "outputs": [
    {
     "data": {
      "text/plain": [
       "[1, -1, 'GG', True]"
      ]
     },
     "execution_count": 17,
     "metadata": {},
     "output_type": "execute_result"
    }
   ],
   "source": [
    "del L1[3]  # Permet de supprimer également\n",
    "L1"
   ]
  },
  {
   "cell_type": "markdown",
   "id": "3d1a6946-34d4-4cd8-94ab-630968ff3b29",
   "metadata": {},
   "source": [
    "#### **Les tuples**\n",
    "\n",
    "Il s'agit de conserver plusieurs données qui peuvent être de type différent (int, float, str ou bool).\n",
    "\n",
    "C'est presque comme une liste, mais il est impossible de le modifier.\n",
    "\n",
    "On utilise les parenthèses."
   ]
  },
  {
   "cell_type": "code",
   "execution_count": 18,
   "id": "55ee3f3a-0168-4688-83a8-5fc57e4c2b02",
   "metadata": {
    "tags": []
   },
   "outputs": [
    {
     "data": {
      "text/plain": [
       "((1, 2, 'GG', True, 8), tuple)"
      ]
     },
     "execution_count": 18,
     "metadata": {},
     "output_type": "execute_result"
    }
   ],
   "source": [
    "L2=(1,2,\"GG\",True, 8) # Vous pouvez remarquer les parenthèses\n",
    "L2, type(L2)"
   ]
  },
  {
   "cell_type": "markdown",
   "id": "24d27e3a-9c53-4056-8581-5341a55a9e2b",
   "metadata": {},
   "source": [
    "Un des avantages, c'est qu'il y a une assignation multiple"
   ]
  },
  {
   "cell_type": "code",
   "execution_count": 19,
   "id": "e8209f02-8001-4660-b37f-6435a8368568",
   "metadata": {
    "tags": []
   },
   "outputs": [
    {
     "data": {
      "text/plain": [
       "((1, 2, 3), ('pp', 'gg'))"
      ]
     },
     "execution_count": 19,
     "metadata": {},
     "output_type": "execute_result"
    }
   ],
   "source": [
    "L3,L4=((1,2,3),(\"pp\",\"gg\"))\n",
    "L3,L4"
   ]
  },
  {
   "cell_type": "code",
   "execution_count": 20,
   "id": "c0061a0a-ab9c-4c33-8df6-8a79e77d2880",
   "metadata": {
    "tags": []
   },
   "outputs": [
    {
     "data": {
      "text/plain": [
       "(1, 2, 3)"
      ]
     },
     "execution_count": 20,
     "metadata": {},
     "output_type": "execute_result"
    }
   ],
   "source": [
    "L3"
   ]
  },
  {
   "cell_type": "code",
   "execution_count": 21,
   "id": "4aecd358-9aa9-461c-9fdf-a5f4be9d1e48",
   "metadata": {
    "tags": []
   },
   "outputs": [],
   "source": [
    "# L2[1]=3"
   ]
  },
  {
   "cell_type": "markdown",
   "id": "821545ee-69e8-4bc6-b7ea-c3222e1f55f6",
   "metadata": {},
   "source": [
    "#### **Les dictionnaires**\n",
    "\n",
    "Il s'agit de conserver plusieurs données qui sont définies par une clé.\n",
    "\n",
    "On peut modifier, ajouter ou supprimer des éléments\n",
    "\n",
    "On utilise les accolades { }."
   ]
  },
  {
   "cell_type": "code",
   "execution_count": 22,
   "id": "a909b2a0-2415-479c-a0ef-d334e2bc5031",
   "metadata": {
    "tags": []
   },
   "outputs": [
    {
     "data": {
      "text/plain": [
       "{'PP': 8, 'GG': 47, 'RR': 'Inconnu'}"
      ]
     },
     "execution_count": 22,
     "metadata": {},
     "output_type": "execute_result"
    }
   ],
   "source": [
    "D1={\"PP\":8, \"GG\":47,\"RR\":\"Inconnu\"}  # Vous pouvez remarquer les accolades\n",
    "D1"
   ]
  },
  {
   "cell_type": "code",
   "execution_count": 23,
   "id": "d527e8f0-99c7-4fb3-b8b6-2f2db446bd46",
   "metadata": {
    "tags": []
   },
   "outputs": [
    {
     "name": "stdout",
     "output_type": "stream",
     "text": [
      "{'PP': 8, 'GG': 47, 'RR': 'Inconnu'}\n"
     ]
    },
    {
     "data": {
      "text/plain": [
       "dict"
      ]
     },
     "execution_count": 23,
     "metadata": {},
     "output_type": "execute_result"
    }
   ],
   "source": [
    "print(D1) ; type(D1)"
   ]
  },
  {
   "cell_type": "code",
   "execution_count": 24,
   "id": "07f63fc2-73fa-44d9-b37d-2491b09f729f",
   "metadata": {
    "tags": []
   },
   "outputs": [
    {
     "data": {
      "text/plain": [
       "'Inconnu'"
      ]
     },
     "execution_count": 24,
     "metadata": {},
     "output_type": "execute_result"
    }
   ],
   "source": [
    "D1[\"RR\"]"
   ]
  },
  {
   "cell_type": "code",
   "execution_count": 25,
   "id": "c2f763fc-6919-495e-bad7-cbde033af882",
   "metadata": {
    "tags": []
   },
   "outputs": [
    {
     "data": {
      "text/plain": [
       "{'PP': 8, 'GG': 47, 'RR': 'Inconnu', 'CC': 96}"
      ]
     },
     "execution_count": 25,
     "metadata": {},
     "output_type": "execute_result"
    }
   ],
   "source": [
    "D1[\"CC\"]=96   # Permet de rajouter\n",
    "D1"
   ]
  },
  {
   "cell_type": "code",
   "execution_count": 26,
   "id": "edfcdfe0-41bd-4166-b960-0f32c867773f",
   "metadata": {
    "tags": []
   },
   "outputs": [
    {
     "data": {
      "text/plain": [
       "{'PP': 8, 'RR': 'Inconnu', 'CC': 96}"
      ]
     },
     "execution_count": 26,
     "metadata": {},
     "output_type": "execute_result"
    }
   ],
   "source": [
    "del D1['GG']\n",
    "D1"
   ]
  },
  {
   "cell_type": "code",
   "execution_count": 27,
   "id": "b9587602-fbc6-42bd-ba32-f49e241d26b8",
   "metadata": {
    "tags": []
   },
   "outputs": [
    {
     "data": {
      "text/plain": [
       "dict_items([('PP', 8), ('RR', 'Inconnu'), ('CC', 96)])"
      ]
     },
     "execution_count": 27,
     "metadata": {},
     "output_type": "execute_result"
    }
   ],
   "source": [
    "D1.items()"
   ]
  },
  {
   "cell_type": "code",
   "execution_count": 28,
   "id": "260a81bd-ed94-4f1b-9788-48a9b6008ec3",
   "metadata": {
    "tags": []
   },
   "outputs": [
    {
     "name": "stdout",
     "output_type": "stream",
     "text": [
      "PP 8\n",
      "RR Inconnu\n",
      "CC 96\n"
     ]
    }
   ],
   "source": [
    "for C,V in D1.items() :print(C,V)  ## C est la clé et V la valeur."
   ]
  },
  {
   "cell_type": "markdown",
   "id": "9c701ed6-db6f-493f-b49e-dc49c8a29177",
   "metadata": {},
   "source": [
    "### **Utilisation de pandas**\n",
    "\n",
    "La [documentation officielle](https://pandas.pydata.org/pandas-docs/stable/index.html) de Pandas est le point de départ pour l'apprentissage de la librairie. En particulier vous pouvez consulter la page [10 minutes to pandas (en)](https://pandas.pydata.org/pandas-docs/stable/user_guide/10min.html) qui est une introduction à la librairie.\n",
    "\n",
    "Les structures de données que nous allons utilisées sont les `séries`et les `data frame`.\n",
    "\n",
    "\n",
    "**Les séries**\n",
    "\n",
    "Ce sont tout simplement des vecteurs colonnes. Chaque élément peut être repéré par son ``index``."
   ]
  },
  {
   "cell_type": "code",
   "execution_count": 29,
   "id": "e165f090-12f4-41b6-85fa-803b8d57cf0d",
   "metadata": {
    "tags": []
   },
   "outputs": [],
   "source": [
    "S1=pd.Series([1,2,3,4])    # # Vous pouvez remarquer les crochets pour faire la liste des éléments"
   ]
  },
  {
   "cell_type": "code",
   "execution_count": 30,
   "id": "e9966748-4452-4fd4-97f4-2e896ee7a498",
   "metadata": {
    "tags": []
   },
   "outputs": [
    {
     "data": {
      "text/plain": [
       "(0    1\n",
       " 1    2\n",
       " 2    3\n",
       " 3    4\n",
       " dtype: int64,\n",
       " pandas.core.series.Series)"
      ]
     },
     "execution_count": 30,
     "metadata": {},
     "output_type": "execute_result"
    }
   ],
   "source": [
    "S1 , type(S1)"
   ]
  },
  {
   "cell_type": "markdown",
   "id": "f9d9e1ae-5c51-42dc-bb03-fd8376cd79e8",
   "metadata": {},
   "source": [
    "Vous pouvez voir apparaître les index pour chaque élément.\n",
    "\n",
    "Il est possibe de donner un nom et de changer les index."
   ]
  },
  {
   "cell_type": "code",
   "execution_count": 31,
   "id": "edb52d9c-f8ac-4fcd-a638-e3d03a2674ed",
   "metadata": {
    "tags": []
   },
   "outputs": [],
   "source": [
    "S1=pd.Series([39,38,45,80],\n",
    "             index=[\"Martin\",\"Alicia\",\"Manal\",\"Sacha\"])"
   ]
  },
  {
   "cell_type": "code",
   "execution_count": 32,
   "id": "4517c93a-d35c-4529-8943-bdf842f92347",
   "metadata": {
    "tags": []
   },
   "outputs": [
    {
     "data": {
      "text/plain": [
       "Martin    39\n",
       "Alicia    38\n",
       "Manal     45\n",
       "Sacha     80\n",
       "dtype: int64"
      ]
     },
     "execution_count": 32,
     "metadata": {},
     "output_type": "execute_result"
    }
   ],
   "source": [
    "S1"
   ]
  },
  {
   "cell_type": "code",
   "execution_count": 33,
   "id": "d90640a3-7938-4071-a986-324b06eab9f9",
   "metadata": {
    "tags": []
   },
   "outputs": [
    {
     "data": {
      "text/plain": [
       "4"
      ]
     },
     "execution_count": 33,
     "metadata": {},
     "output_type": "execute_result"
    }
   ],
   "source": [
    "S1.size  ## size est un attribut associé à une liste, comme values ou index"
   ]
  },
  {
   "cell_type": "markdown",
   "id": "483f72ea-5484-44a9-9627-c90f6293a824",
   "metadata": {},
   "source": [
    "Cette fonction `size` permet de connaître le nombre d'éléments."
   ]
  },
  {
   "cell_type": "code",
   "execution_count": 34,
   "id": "58fb52e8-0998-46c1-9afb-0808bb2a08aa",
   "metadata": {
    "tags": []
   },
   "outputs": [
    {
     "data": {
      "text/plain": [
       "array([39, 38, 45, 80], dtype=int64)"
      ]
     },
     "execution_count": 34,
     "metadata": {},
     "output_type": "execute_result"
    }
   ],
   "source": [
    "S1.values"
   ]
  },
  {
   "cell_type": "code",
   "execution_count": 35,
   "id": "dfd11edf-a877-4d4f-a7a8-243bdebb248b",
   "metadata": {
    "tags": []
   },
   "outputs": [
    {
     "data": {
      "text/plain": [
       "Index(['Martin', 'Alicia', 'Manal', 'Sacha'], dtype='object')"
      ]
     },
     "execution_count": 35,
     "metadata": {},
     "output_type": "execute_result"
    }
   ],
   "source": [
    "S1.index"
   ]
  },
  {
   "cell_type": "markdown",
   "id": "e4e1d679-1f5b-4456-a90c-eb7a4b1c992a",
   "metadata": {},
   "source": [
    "Les différents éléments sont numérotés de 0 au nombre d'élements."
   ]
  },
  {
   "cell_type": "code",
   "execution_count": 36,
   "id": "c26fec76-1603-499e-b0eb-9d3c9839bdc2",
   "metadata": {
    "tags": []
   },
   "outputs": [
    {
     "data": {
      "text/plain": [
       "39"
      ]
     },
     "execution_count": 36,
     "metadata": {},
     "output_type": "execute_result"
    }
   ],
   "source": [
    "S1[0]   # Vous pouvez remarquer les crochets"
   ]
  },
  {
   "cell_type": "markdown",
   "id": "47d72ce5-1746-4834-945d-45d795d3d858",
   "metadata": {},
   "source": [
    "On aura la même chose avec l'index."
   ]
  },
  {
   "cell_type": "code",
   "execution_count": 37,
   "id": "bdd3a634-59b0-41ee-ac66-a2782051c7d7",
   "metadata": {
    "tags": []
   },
   "outputs": [
    {
     "data": {
      "text/plain": [
       "39"
      ]
     },
     "execution_count": 37,
     "metadata": {},
     "output_type": "execute_result"
    }
   ],
   "source": [
    "S1['Martin']"
   ]
  },
  {
   "cell_type": "code",
   "execution_count": 38,
   "id": "15845aac-d664-47af-9104-d9baec01f2cd",
   "metadata": {
    "tags": []
   },
   "outputs": [
    {
     "data": {
      "text/plain": [
       "Martin    39\n",
       "Alicia    38\n",
       "Manal     45\n",
       "dtype: int64"
      ]
     },
     "execution_count": 38,
     "metadata": {},
     "output_type": "execute_result"
    }
   ],
   "source": [
    "S1[0:3]"
   ]
  },
  {
   "cell_type": "markdown",
   "id": "1a533483-bed7-45ab-b274-9ce632eedfc6",
   "metadata": {},
   "source": [
    "Il prend le premier et il enlève le quatrième."
   ]
  },
  {
   "cell_type": "code",
   "execution_count": 39,
   "id": "03ed387b-e90c-4198-aa32-36a650723d2e",
   "metadata": {
    "tags": []
   },
   "outputs": [
    {
     "data": {
      "text/plain": [
       "Alicia    38\n",
       "Manal     45\n",
       "dtype: int64"
      ]
     },
     "execution_count": 39,
     "metadata": {},
     "output_type": "execute_result"
    }
   ],
   "source": [
    "S1[1:3]"
   ]
  },
  {
   "cell_type": "markdown",
   "id": "364377f0-f575-4ce5-804a-2d07b98a77a5",
   "metadata": {},
   "source": [
    "Quelques éléments de statistiques avec `mean` et ``median``."
   ]
  },
  {
   "cell_type": "code",
   "execution_count": 40,
   "id": "926ba302-ff58-440e-b5b3-9349a304a39a",
   "metadata": {
    "tags": []
   },
   "outputs": [
    {
     "data": {
      "text/plain": [
       "50.5"
      ]
     },
     "execution_count": 40,
     "metadata": {},
     "output_type": "execute_result"
    }
   ],
   "source": [
    "S1.mean() # Utilisez comment ceci,\"mean\" est une méthode de l'objet S1.\n",
    "            #Les méthodes sont des fonctions définies à l'intérieur de la classe\n",
    "            # et sont utilisées pour définir le comportement de la classe."
   ]
  },
  {
   "cell_type": "code",
   "execution_count": 41,
   "id": "8df27471-bbb7-44f2-9182-844efc836dee",
   "metadata": {
    "tags": []
   },
   "outputs": [
    {
     "data": {
      "text/plain": [
       "50.5"
      ]
     },
     "execution_count": 41,
     "metadata": {},
     "output_type": "execute_result"
    }
   ],
   "source": [
    "np.mean(S1)  # De cette manière, on utilise un fonction appliquée à l'objet S1."
   ]
  },
  {
   "cell_type": "code",
   "execution_count": 42,
   "id": "fc5c512a-f1c7-447f-b1f0-e987e078b663",
   "metadata": {
    "tags": []
   },
   "outputs": [
    {
     "data": {
      "text/plain": [
       "42.0"
      ]
     },
     "execution_count": 42,
     "metadata": {},
     "output_type": "execute_result"
    }
   ],
   "source": [
    "S1.median()"
   ]
  },
  {
   "cell_type": "markdown",
   "id": "b3033e81-cf7b-452b-aae2-f7134e8b64a3",
   "metadata": {},
   "source": [
    "<div class=\"alert alert-info\">\n",
    "\n",
    "**Remarque :** En python le `.` permet de faire une action ou obtenir une information sur ce qui le précède. La syntaxe `S1.median()` se lit : \"Donne moi la mediane de S1 ?\". Ce qui est à droite du point agit ou est contenu dans ce qui est à gauche du point. On utilisera souvent cette syntaxe. C'est une <b>méthode</b>.\n",
    "</div>"
   ]
  },
  {
   "cell_type": "markdown",
   "id": "abd045d9-b57c-4f61-9d75-941559adbb47",
   "metadata": {},
   "source": [
    "Il y a des opérateurs booléens <font color=\"#800080\">True et False</font>."
   ]
  },
  {
   "cell_type": "code",
   "execution_count": 43,
   "id": "18c3562a-d978-471c-86c4-40d6c8a113b1",
   "metadata": {
    "tags": []
   },
   "outputs": [],
   "source": [
    "S2=S1>S1.median()"
   ]
  },
  {
   "cell_type": "code",
   "execution_count": 44,
   "id": "8edc7284-12d1-4f09-bb7d-844b26811971",
   "metadata": {
    "tags": []
   },
   "outputs": [
    {
     "data": {
      "text/plain": [
       "Martin    False\n",
       "Alicia    False\n",
       "Manal      True\n",
       "Sacha      True\n",
       "dtype: bool"
      ]
     },
     "execution_count": 44,
     "metadata": {},
     "output_type": "execute_result"
    }
   ],
   "source": [
    "S2"
   ]
  },
  {
   "cell_type": "code",
   "execution_count": 45,
   "id": "3fd2861c-eed5-4dc2-966c-e9a4ef3da688",
   "metadata": {
    "tags": []
   },
   "outputs": [],
   "source": [
    "S3=S1[S2]"
   ]
  },
  {
   "cell_type": "code",
   "execution_count": 46,
   "id": "2e02c817-a9d4-4520-8f52-3f31b9dd8cc4",
   "metadata": {
    "tags": []
   },
   "outputs": [
    {
     "data": {
      "text/plain": [
       "Manal    45\n",
       "Sacha    80\n",
       "dtype: int64"
      ]
     },
     "execution_count": 46,
     "metadata": {},
     "output_type": "execute_result"
    }
   ],
   "source": [
    "S3"
   ]
  },
  {
   "cell_type": "code",
   "execution_count": 47,
   "id": "62b8de51-a450-4fad-a727-edc85ace4e69",
   "metadata": {
    "tags": []
   },
   "outputs": [
    {
     "data": {
      "text/plain": [
       "Martin    False\n",
       "Alicia    False\n",
       "Manal      True\n",
       "Sacha      True\n",
       "dtype: bool"
      ]
     },
     "execution_count": 47,
     "metadata": {},
     "output_type": "execute_result"
    }
   ],
   "source": [
    "S1>42"
   ]
  },
  {
   "cell_type": "code",
   "execution_count": 48,
   "id": "f503ec55-27ad-458d-bad9-a7b99fb357c9",
   "metadata": {
    "tags": []
   },
   "outputs": [
    {
     "data": {
      "text/plain": [
       "Manal    45\n",
       "Sacha    80\n",
       "dtype: int64"
      ]
     },
     "execution_count": 48,
     "metadata": {},
     "output_type": "execute_result"
    }
   ],
   "source": [
    "S1[S1>42]"
   ]
  },
  {
   "cell_type": "markdown",
   "id": "c53ab6c0-aa1f-4a18-bb20-eca824810d99",
   "metadata": {},
   "source": [
    "**Quelques opérations avec les séries**"
   ]
  },
  {
   "cell_type": "code",
   "execution_count": 49,
   "id": "9ec1ece4-726e-4aa2-aa23-d53c44b1989f",
   "metadata": {
    "tags": []
   },
   "outputs": [
    {
     "data": {
      "text/plain": [
       "Martin     78\n",
       "Alicia     76\n",
       "Manal      90\n",
       "Sacha     160\n",
       "dtype: int64"
      ]
     },
     "execution_count": 49,
     "metadata": {},
     "output_type": "execute_result"
    }
   ],
   "source": [
    "2*S1"
   ]
  },
  {
   "cell_type": "code",
   "execution_count": 50,
   "id": "9ecc36f1-73cb-4692-a0dc-e82852cadbb1",
   "metadata": {
    "tags": []
   },
   "outputs": [
    {
     "data": {
      "text/plain": [
       "Martin    8.659340e+16\n",
       "Alicia    3.185593e+16\n",
       "Manal     3.493427e+19\n",
       "Sacha     5.540622e+34\n",
       "dtype: float64"
      ]
     },
     "execution_count": 50,
     "metadata": {},
     "output_type": "execute_result"
    }
   ],
   "source": [
    "np.exp(S1)"
   ]
  },
  {
   "cell_type": "code",
   "execution_count": 51,
   "id": "fccc7c5f-cdf2-4673-b86d-e0053352847d",
   "metadata": {
    "tags": []
   },
   "outputs": [
    {
     "data": {
      "text/plain": [
       "True"
      ]
     },
     "execution_count": 51,
     "metadata": {},
     "output_type": "execute_result"
    }
   ],
   "source": [
    "'Martin' in S1 "
   ]
  },
  {
   "cell_type": "code",
   "execution_count": 52,
   "id": "9d33ffb0-1caf-49cd-8288-8b0586b9862a",
   "metadata": {
    "tags": []
   },
   "outputs": [
    {
     "data": {
      "text/plain": [
       "False"
      ]
     },
     "execution_count": 52,
     "metadata": {},
     "output_type": "execute_result"
    }
   ],
   "source": [
    "'Joe' in S1"
   ]
  },
  {
   "cell_type": "code",
   "execution_count": 53,
   "id": "36c77cb1-8e1d-420f-b54c-3705b69e8013",
   "metadata": {
    "tags": []
   },
   "outputs": [],
   "source": [
    "Noms=['Martin', 'Alicia', 'Olivier','Sacha']\n",
    "S4=pd.Series(S1,index=Noms)"
   ]
  },
  {
   "cell_type": "code",
   "execution_count": 54,
   "id": "f216ca37-140c-43a0-a4d5-2414a1b52a92",
   "metadata": {
    "tags": []
   },
   "outputs": [
    {
     "data": {
      "text/plain": [
       "Martin     39.0\n",
       "Alicia     38.0\n",
       "Olivier     NaN\n",
       "Sacha      80.0\n",
       "dtype: float64"
      ]
     },
     "execution_count": 54,
     "metadata": {},
     "output_type": "execute_result"
    }
   ],
   "source": [
    "S4"
   ]
  },
  {
   "cell_type": "code",
   "execution_count": 55,
   "id": "f51827e6-d0b4-4c37-844c-9ca033f40bb4",
   "metadata": {
    "tags": []
   },
   "outputs": [
    {
     "data": {
      "text/plain": [
       "Martin      True\n",
       "Alicia      True\n",
       "Olivier    False\n",
       "Sacha       True\n",
       "dtype: bool"
      ]
     },
     "execution_count": 55,
     "metadata": {},
     "output_type": "execute_result"
    }
   ],
   "source": [
    "pd.notnull(S4)"
   ]
  },
  {
   "cell_type": "code",
   "execution_count": 56,
   "id": "5e5b4abe-2693-4750-ad27-4f752aff2b78",
   "metadata": {
    "tags": []
   },
   "outputs": [
    {
     "data": {
      "text/plain": [
       "Martin     False\n",
       "Alicia     False\n",
       "Olivier     True\n",
       "Sacha      False\n",
       "dtype: bool"
      ]
     },
     "execution_count": 56,
     "metadata": {},
     "output_type": "execute_result"
    }
   ],
   "source": [
    "pd.isnull(S4)"
   ]
  },
  {
   "cell_type": "code",
   "execution_count": 57,
   "id": "a9c78dae-9989-458f-b23f-6d975426f07d",
   "metadata": {
    "tags": []
   },
   "outputs": [
    {
     "data": {
      "text/plain": [
       "Alicia      76.0\n",
       "Manal        NaN\n",
       "Martin      78.0\n",
       "Olivier      NaN\n",
       "Sacha      160.0\n",
       "dtype: float64"
      ]
     },
     "execution_count": 57,
     "metadata": {},
     "output_type": "execute_result"
    }
   ],
   "source": [
    "S1+S4"
   ]
  },
  {
   "cell_type": "code",
   "execution_count": 58,
   "id": "04f9c573-5974-49e2-af0d-beb9f9174a25",
   "metadata": {
    "tags": []
   },
   "outputs": [
    {
     "data": {
      "text/plain": [
       "Martin    39.0\n",
       "Alicia    38.0\n",
       "Sacha     80.0\n",
       "dtype: float64"
      ]
     },
     "execution_count": 58,
     "metadata": {},
     "output_type": "execute_result"
    }
   ],
   "source": [
    "S5=S4[pd.notnull(S4)]\n",
    "S5"
   ]
  },
  {
   "cell_type": "code",
   "execution_count": 59,
   "id": "5ed15dde-9ee5-4aa3-8171-5991e02efabb",
   "metadata": {
    "tags": []
   },
   "outputs": [
    {
     "data": {
      "text/plain": [
       "M    39.0\n",
       "A    38.0\n",
       "S    80.0\n",
       "dtype: float64"
      ]
     },
     "execution_count": 59,
     "metadata": {},
     "output_type": "execute_result"
    }
   ],
   "source": [
    "S5.index=['M','A','S']  # Permet de changer l'index\n",
    "S5"
   ]
  },
  {
   "cell_type": "markdown",
   "id": "f84bea1b-12b5-4c3b-b751-9be723235e53",
   "metadata": {},
   "source": [
    "<div class=\"alert alert-success\">\n",
    "\n",
    "<strong> Exercice </strong> : \n",
    "\n",
    "   Il est temps pour vous de créer une série avec 10 éléments. \n",
    "   Faites avec des index, trouver les valeurs qui sont supérieures à une valeur et faire une autre série ayant des valeurs inférieures.\n",
    "    Trouver la médiane et la moyenne de cette série. Faire une autre serie avec d'autres index et notamment avec des valeurs inconnues. \n",
    "\n",
    "Si vous avez besoin de ligne en plus, taper sur le `+` dans le menu au dessus\n",
    "</div>\n",
    "\n",
    "\n",
    "\n"
   ]
  },
  {
   "cell_type": "code",
   "execution_count": null,
   "id": "fb062afc-5fdc-43b8-9771-824d479d0a0f",
   "metadata": {},
   "outputs": [],
   "source": []
  },
  {
   "cell_type": "code",
   "execution_count": null,
   "id": "6c8f4039-a5a4-4fab-aaa5-b81f1b81b418",
   "metadata": {},
   "outputs": [],
   "source": []
  },
  {
   "cell_type": "code",
   "execution_count": null,
   "id": "40c8b6b1-71d0-48f2-b332-07e1fa74422a",
   "metadata": {},
   "outputs": [],
   "source": []
  },
  {
   "cell_type": "code",
   "execution_count": null,
   "id": "a8e50f5d-607c-4955-9ef1-f100737994f5",
   "metadata": {},
   "outputs": [],
   "source": []
  },
  {
   "cell_type": "markdown",
   "id": "b623c6e0-e37b-4e4b-b1b6-c044d19c51f1",
   "metadata": {},
   "source": [
    "**Les tableaux ou `DataFrame`**\n",
    "\n",
    "Les `DataFrame` sont les tableaux pandas. C'est un tableau rectangulaire de donnes avec une collection de colonne. Comme pour les séries, l'index est le nom des lignes du tableau. \n",
    "\n",
    "Nous allons commencer par créer la `DataFrame` à la main. Généralement, et c'est que sera par la suite, un `DataFrame` sera créé en lisant des données dans un fichier.\n",
    "\n",
    "Pour créer un `DataFrame` il est possible d'utiliser un dictionnaire comme celui-ci :\n",
    "\n",
    "```py\n",
    "{\n",
    "    \"col1\": [1, 2, 3, 4],\n",
    "    \"col2\": [\"a\", \"b\", \"c\", \"d\"],\n",
    "    \"col3\": [1.1, 1.2, 1.3, 1.4]\n",
    "}\n",
    "```\n",
    "\n",
    "Les clefs du dictionnaire seront les noms des colonnes du tableau. Les valeurs du dictionnaire seront le contenu du tableau.\n",
    "\n"
   ]
  },
  {
   "cell_type": "code",
   "execution_count": 83,
   "id": "fe4311da-0ee8-4c3d-9f36-ba1280214e49",
   "metadata": {
    "tags": []
   },
   "outputs": [],
   "source": [
    "data={\n",
    "\"col1\": [18, 24, 35, 44],\n",
    "\"col2\": [\"a\", \"b\", \"c\", \"b\"],\n",
    "\"col3\": [1.1, 1.2, 1.3, 1.4]}\n",
    "\n"
   ]
  },
  {
   "cell_type": "code",
   "execution_count": 84,
   "id": "820c432b-7d3f-4056-8d5c-0852c85c9ff5",
   "metadata": {
    "tags": []
   },
   "outputs": [
    {
     "data": {
      "text/plain": [
       "dict"
      ]
     },
     "execution_count": 84,
     "metadata": {},
     "output_type": "execute_result"
    }
   ],
   "source": [
    "type(data)"
   ]
  },
  {
   "cell_type": "code",
   "execution_count": 85,
   "id": "562578b4-b581-4c13-a2b1-2b8cc81126ec",
   "metadata": {
    "tags": []
   },
   "outputs": [
    {
     "data": {
      "text/plain": [
       "[18, 24, 35, 44]"
      ]
     },
     "execution_count": 85,
     "metadata": {},
     "output_type": "execute_result"
    }
   ],
   "source": [
    "data[\"col1\"]"
   ]
  },
  {
   "cell_type": "code",
   "execution_count": 86,
   "id": "7e5345cb-3fc4-47d5-9826-84fc99f4fe3e",
   "metadata": {
    "tags": []
   },
   "outputs": [
    {
     "data": {
      "text/html": [
       "<div>\n",
       "<style scoped>\n",
       "    .dataframe tbody tr th:only-of-type {\n",
       "        vertical-align: middle;\n",
       "    }\n",
       "\n",
       "    .dataframe tbody tr th {\n",
       "        vertical-align: top;\n",
       "    }\n",
       "\n",
       "    .dataframe thead th {\n",
       "        text-align: right;\n",
       "    }\n",
       "</style>\n",
       "<table border=\"1\" class=\"dataframe\">\n",
       "  <thead>\n",
       "    <tr style=\"text-align: right;\">\n",
       "      <th></th>\n",
       "      <th>col1</th>\n",
       "      <th>col2</th>\n",
       "      <th>col3</th>\n",
       "    </tr>\n",
       "  </thead>\n",
       "  <tbody>\n",
       "    <tr>\n",
       "      <th>0</th>\n",
       "      <td>18</td>\n",
       "      <td>a</td>\n",
       "      <td>1.1</td>\n",
       "    </tr>\n",
       "    <tr>\n",
       "      <th>1</th>\n",
       "      <td>24</td>\n",
       "      <td>b</td>\n",
       "      <td>1.2</td>\n",
       "    </tr>\n",
       "    <tr>\n",
       "      <th>2</th>\n",
       "      <td>35</td>\n",
       "      <td>c</td>\n",
       "      <td>1.3</td>\n",
       "    </tr>\n",
       "    <tr>\n",
       "      <th>3</th>\n",
       "      <td>44</td>\n",
       "      <td>b</td>\n",
       "      <td>1.4</td>\n",
       "    </tr>\n",
       "  </tbody>\n",
       "</table>\n",
       "</div>"
      ],
      "text/plain": [
       "   col1 col2  col3\n",
       "0    18    a   1.1\n",
       "1    24    b   1.2\n",
       "2    35    c   1.3\n",
       "3    44    b   1.4"
      ]
     },
     "execution_count": 86,
     "metadata": {},
     "output_type": "execute_result"
    }
   ],
   "source": [
    "df=pd.DataFrame(data)\n",
    "df"
   ]
  },
  {
   "cell_type": "markdown",
   "id": "ea550276-5d72-4fc0-a17a-4c46883e383c",
   "metadata": {},
   "source": [
    "On peut changer l'ordre de colonnes."
   ]
  },
  {
   "cell_type": "code",
   "execution_count": 87,
   "id": "2237efdc-f8ec-414c-94ee-8d24f1266340",
   "metadata": {
    "tags": []
   },
   "outputs": [
    {
     "data": {
      "text/html": [
       "<div>\n",
       "<style scoped>\n",
       "    .dataframe tbody tr th:only-of-type {\n",
       "        vertical-align: middle;\n",
       "    }\n",
       "\n",
       "    .dataframe tbody tr th {\n",
       "        vertical-align: top;\n",
       "    }\n",
       "\n",
       "    .dataframe thead th {\n",
       "        text-align: right;\n",
       "    }\n",
       "</style>\n",
       "<table border=\"1\" class=\"dataframe\">\n",
       "  <thead>\n",
       "    <tr style=\"text-align: right;\">\n",
       "      <th></th>\n",
       "      <th>col3</th>\n",
       "      <th>col1</th>\n",
       "      <th>col2</th>\n",
       "    </tr>\n",
       "  </thead>\n",
       "  <tbody>\n",
       "    <tr>\n",
       "      <th>0</th>\n",
       "      <td>1.1</td>\n",
       "      <td>18</td>\n",
       "      <td>a</td>\n",
       "    </tr>\n",
       "    <tr>\n",
       "      <th>1</th>\n",
       "      <td>1.2</td>\n",
       "      <td>24</td>\n",
       "      <td>b</td>\n",
       "    </tr>\n",
       "    <tr>\n",
       "      <th>2</th>\n",
       "      <td>1.3</td>\n",
       "      <td>35</td>\n",
       "      <td>c</td>\n",
       "    </tr>\n",
       "    <tr>\n",
       "      <th>3</th>\n",
       "      <td>1.4</td>\n",
       "      <td>44</td>\n",
       "      <td>b</td>\n",
       "    </tr>\n",
       "  </tbody>\n",
       "</table>\n",
       "</div>"
      ],
      "text/plain": [
       "   col3  col1 col2\n",
       "0   1.1    18    a\n",
       "1   1.2    24    b\n",
       "2   1.3    35    c\n",
       "3   1.4    44    b"
      ]
     },
     "execution_count": 87,
     "metadata": {},
     "output_type": "execute_result"
    }
   ],
   "source": [
    "pd.DataFrame(data,columns=['col3','col1','col2'])"
   ]
  },
  {
   "cell_type": "markdown",
   "id": "be5ec7b5-c599-42a3-816b-87e157678957",
   "metadata": {},
   "source": [
    "**Deux manières de récupérer une colonne (comme un dictionnaire ou comme un attribut).**"
   ]
  },
  {
   "cell_type": "code",
   "execution_count": 99,
   "id": "3f82fbeb-0834-4a90-affb-84446a7e8346",
   "metadata": {
    "tags": []
   },
   "outputs": [
    {
     "data": {
      "text/plain": [
       "0    a\n",
       "1    b\n",
       "2    c\n",
       "3    b\n",
       "Name: col2, dtype: object"
      ]
     },
     "execution_count": 99,
     "metadata": {},
     "output_type": "execute_result"
    }
   ],
   "source": [
    "df['col2']"
   ]
  },
  {
   "cell_type": "code",
   "execution_count": 100,
   "id": "82146e67-804c-490f-ae26-2202c0277ad2",
   "metadata": {
    "tags": []
   },
   "outputs": [
    {
     "data": {
      "text/plain": [
       "pandas.core.series.Series"
      ]
     },
     "execution_count": 100,
     "metadata": {},
     "output_type": "execute_result"
    }
   ],
   "source": [
    "type(df['col2'])"
   ]
  },
  {
   "cell_type": "code",
   "execution_count": 98,
   "id": "f5ba8c4d-bb9d-4b07-9999-2e7d0bba5e3f",
   "metadata": {
    "tags": []
   },
   "outputs": [
    {
     "data": {
      "text/html": [
       "<div>\n",
       "<style scoped>\n",
       "    .dataframe tbody tr th:only-of-type {\n",
       "        vertical-align: middle;\n",
       "    }\n",
       "\n",
       "    .dataframe tbody tr th {\n",
       "        vertical-align: top;\n",
       "    }\n",
       "\n",
       "    .dataframe thead th {\n",
       "        text-align: right;\n",
       "    }\n",
       "</style>\n",
       "<table border=\"1\" class=\"dataframe\">\n",
       "  <thead>\n",
       "    <tr style=\"text-align: right;\">\n",
       "      <th></th>\n",
       "      <th>col2</th>\n",
       "    </tr>\n",
       "  </thead>\n",
       "  <tbody>\n",
       "    <tr>\n",
       "      <th>0</th>\n",
       "      <td>a</td>\n",
       "    </tr>\n",
       "    <tr>\n",
       "      <th>1</th>\n",
       "      <td>b</td>\n",
       "    </tr>\n",
       "    <tr>\n",
       "      <th>2</th>\n",
       "      <td>c</td>\n",
       "    </tr>\n",
       "    <tr>\n",
       "      <th>3</th>\n",
       "      <td>b</td>\n",
       "    </tr>\n",
       "  </tbody>\n",
       "</table>\n",
       "</div>"
      ],
      "text/plain": [
       "  col2\n",
       "0    a\n",
       "1    b\n",
       "2    c\n",
       "3    b"
      ]
     },
     "execution_count": 98,
     "metadata": {},
     "output_type": "execute_result"
    }
   ],
   "source": [
    "df[['col2']]"
   ]
  },
  {
   "cell_type": "code",
   "execution_count": 89,
   "id": "64db63a0-64af-4bd9-a61f-0fddd16c739c",
   "metadata": {
    "tags": []
   },
   "outputs": [
    {
     "data": {
      "text/plain": [
       "0    18\n",
       "1    24\n",
       "2    35\n",
       "3    44\n",
       "Name: col1, dtype: int64"
      ]
     },
     "execution_count": 89,
     "metadata": {},
     "output_type": "execute_result"
    }
   ],
   "source": [
    "df.col1"
   ]
  },
  {
   "cell_type": "markdown",
   "id": "e74eca89-5d04-4735-95df-887ac7e8daf4",
   "metadata": {},
   "source": [
    "**On peut récupérer les lignes  de ctte manière avec l'attribut `loc`.**"
   ]
  },
  {
   "cell_type": "code",
   "execution_count": 90,
   "id": "b839a447-47f3-4422-b3d0-8e4d1e02ba9d",
   "metadata": {
    "tags": []
   },
   "outputs": [
    {
     "data": {
      "text/plain": [
       "col1     35\n",
       "col2      c\n",
       "col3    1.3\n",
       "Name: 2, dtype: object"
      ]
     },
     "execution_count": 90,
     "metadata": {},
     "output_type": "execute_result"
    }
   ],
   "source": [
    "df.loc[2]"
   ]
  },
  {
   "cell_type": "code",
   "execution_count": 91,
   "id": "7a749972-812e-47c8-884a-9e32cc711975",
   "metadata": {
    "tags": []
   },
   "outputs": [
    {
     "data": {
      "text/html": [
       "<div>\n",
       "<style scoped>\n",
       "    .dataframe tbody tr th:only-of-type {\n",
       "        vertical-align: middle;\n",
       "    }\n",
       "\n",
       "    .dataframe tbody tr th {\n",
       "        vertical-align: top;\n",
       "    }\n",
       "\n",
       "    .dataframe thead th {\n",
       "        text-align: right;\n",
       "    }\n",
       "</style>\n",
       "<table border=\"1\" class=\"dataframe\">\n",
       "  <thead>\n",
       "    <tr style=\"text-align: right;\">\n",
       "      <th></th>\n",
       "      <th>col1</th>\n",
       "      <th>col2</th>\n",
       "      <th>col3</th>\n",
       "    </tr>\n",
       "  </thead>\n",
       "  <tbody>\n",
       "    <tr>\n",
       "      <th>2</th>\n",
       "      <td>35</td>\n",
       "      <td>c</td>\n",
       "      <td>1.3</td>\n",
       "    </tr>\n",
       "    <tr>\n",
       "      <th>3</th>\n",
       "      <td>44</td>\n",
       "      <td>b</td>\n",
       "      <td>1.4</td>\n",
       "    </tr>\n",
       "  </tbody>\n",
       "</table>\n",
       "</div>"
      ],
      "text/plain": [
       "   col1 col2  col3\n",
       "2    35    c   1.3\n",
       "3    44    b   1.4"
      ]
     },
     "execution_count": 91,
     "metadata": {},
     "output_type": "execute_result"
    }
   ],
   "source": [
    "df.loc[2:4]"
   ]
  },
  {
   "cell_type": "code",
   "execution_count": 92,
   "id": "e56fa14d-b00d-444d-a619-42f23984d346",
   "metadata": {
    "tags": []
   },
   "outputs": [
    {
     "data": {
      "text/html": [
       "<div>\n",
       "<style scoped>\n",
       "    .dataframe tbody tr th:only-of-type {\n",
       "        vertical-align: middle;\n",
       "    }\n",
       "\n",
       "    .dataframe tbody tr th {\n",
       "        vertical-align: top;\n",
       "    }\n",
       "\n",
       "    .dataframe thead th {\n",
       "        text-align: right;\n",
       "    }\n",
       "</style>\n",
       "<table border=\"1\" class=\"dataframe\">\n",
       "  <thead>\n",
       "    <tr style=\"text-align: right;\">\n",
       "      <th></th>\n",
       "      <th>col1</th>\n",
       "    </tr>\n",
       "  </thead>\n",
       "  <tbody>\n",
       "    <tr>\n",
       "      <th>2</th>\n",
       "      <td>35</td>\n",
       "    </tr>\n",
       "    <tr>\n",
       "      <th>3</th>\n",
       "      <td>44</td>\n",
       "    </tr>\n",
       "  </tbody>\n",
       "</table>\n",
       "</div>"
      ],
      "text/plain": [
       "   col1\n",
       "2    35\n",
       "3    44"
      ]
     },
     "execution_count": 92,
     "metadata": {},
     "output_type": "execute_result"
    }
   ],
   "source": [
    "df.loc[2:4,[\"col1\"]]"
   ]
  },
  {
   "cell_type": "code",
   "execution_count": 93,
   "id": "6c94b7c4-2486-49d4-8552-c9a98e9e2434",
   "metadata": {
    "tags": []
   },
   "outputs": [
    {
     "data": {
      "text/plain": [
       "array([[18, 'a', 1.1],\n",
       "       [24, 'b', 1.2],\n",
       "       [35, 'c', 1.3],\n",
       "       [44, 'b', 1.4]], dtype=object)"
      ]
     },
     "execution_count": 93,
     "metadata": {},
     "output_type": "execute_result"
    }
   ],
   "source": [
    "df.values"
   ]
  },
  {
   "cell_type": "markdown",
   "id": "d13eba53-159b-4ae8-916e-18f9fd1f35df",
   "metadata": {},
   "source": [
    "<font color=\"#805555\"><b>Un peu de statistiques.</b></font>"
   ]
  },
  {
   "cell_type": "code",
   "execution_count": 94,
   "id": "d76036c5-c5f4-4194-bd8b-17e3f287a5ad",
   "metadata": {
    "tags": []
   },
   "outputs": [
    {
     "data": {
      "text/plain": [
       "array(['a', 'b', 'c'], dtype=object)"
      ]
     },
     "execution_count": 94,
     "metadata": {},
     "output_type": "execute_result"
    }
   ],
   "source": [
    "pd.unique(df.col2)"
   ]
  },
  {
   "cell_type": "code",
   "execution_count": 95,
   "id": "4b4bfa61-a424-45d2-afd1-286a8d0d7217",
   "metadata": {
    "tags": []
   },
   "outputs": [
    {
     "data": {
      "text/plain": [
       "30.25"
      ]
     },
     "execution_count": 95,
     "metadata": {},
     "output_type": "execute_result"
    }
   ],
   "source": [
    "df.col1.mean()"
   ]
  },
  {
   "cell_type": "code",
   "execution_count": 96,
   "id": "e354f0eb-4ecc-491f-81e7-e8ed00380fdf",
   "metadata": {
    "tags": []
   },
   "outputs": [
    {
     "data": {
      "text/plain": [
       "29.5"
      ]
     },
     "execution_count": 96,
     "metadata": {},
     "output_type": "execute_result"
    }
   ],
   "source": [
    "df.col1.median()"
   ]
  },
  {
   "cell_type": "code",
   "execution_count": 97,
   "id": "8f6c7f36-fdaa-4ddd-b6d4-028eca2d007c",
   "metadata": {
    "tags": []
   },
   "outputs": [
    {
     "data": {
      "text/html": [
       "<div>\n",
       "<style scoped>\n",
       "    .dataframe tbody tr th:only-of-type {\n",
       "        vertical-align: middle;\n",
       "    }\n",
       "\n",
       "    .dataframe tbody tr th {\n",
       "        vertical-align: top;\n",
       "    }\n",
       "\n",
       "    .dataframe thead th {\n",
       "        text-align: right;\n",
       "    }\n",
       "</style>\n",
       "<table border=\"1\" class=\"dataframe\">\n",
       "  <thead>\n",
       "    <tr style=\"text-align: right;\">\n",
       "      <th></th>\n",
       "      <th>col1</th>\n",
       "      <th>col3</th>\n",
       "    </tr>\n",
       "  </thead>\n",
       "  <tbody>\n",
       "    <tr>\n",
       "      <th>count</th>\n",
       "      <td>4.000000</td>\n",
       "      <td>4.000000</td>\n",
       "    </tr>\n",
       "    <tr>\n",
       "      <th>mean</th>\n",
       "      <td>30.250000</td>\n",
       "      <td>1.250000</td>\n",
       "    </tr>\n",
       "    <tr>\n",
       "      <th>std</th>\n",
       "      <td>11.557826</td>\n",
       "      <td>0.129099</td>\n",
       "    </tr>\n",
       "    <tr>\n",
       "      <th>min</th>\n",
       "      <td>18.000000</td>\n",
       "      <td>1.100000</td>\n",
       "    </tr>\n",
       "    <tr>\n",
       "      <th>25%</th>\n",
       "      <td>22.500000</td>\n",
       "      <td>1.175000</td>\n",
       "    </tr>\n",
       "    <tr>\n",
       "      <th>50%</th>\n",
       "      <td>29.500000</td>\n",
       "      <td>1.250000</td>\n",
       "    </tr>\n",
       "    <tr>\n",
       "      <th>75%</th>\n",
       "      <td>37.250000</td>\n",
       "      <td>1.325000</td>\n",
       "    </tr>\n",
       "    <tr>\n",
       "      <th>max</th>\n",
       "      <td>44.000000</td>\n",
       "      <td>1.400000</td>\n",
       "    </tr>\n",
       "  </tbody>\n",
       "</table>\n",
       "</div>"
      ],
      "text/plain": [
       "            col1      col3\n",
       "count   4.000000  4.000000\n",
       "mean   30.250000  1.250000\n",
       "std    11.557826  0.129099\n",
       "min    18.000000  1.100000\n",
       "25%    22.500000  1.175000\n",
       "50%    29.500000  1.250000\n",
       "75%    37.250000  1.325000\n",
       "max    44.000000  1.400000"
      ]
     },
     "execution_count": 97,
     "metadata": {},
     "output_type": "execute_result"
    }
   ],
   "source": [
    "df.describe()"
   ]
  },
  {
   "cell_type": "markdown",
   "id": "17264593-0d23-498e-82c7-7a09e4787f1e",
   "metadata": {},
   "source": [
    "<font color=\"#805555\"><b>Data Frame avec des générations de nombres aléatoires, des range et autres. </b></font>"
   ]
  },
  {
   "cell_type": "code",
   "execution_count": null,
   "id": "2bd64d9c-0092-479c-88ec-828930fd1783",
   "metadata": {
    "tags": []
   },
   "outputs": [],
   "source": [
    "list(\"abcde\")   # pour vous montrer que l'on peut faire des listes de cette manière"
   ]
  },
  {
   "cell_type": "code",
   "execution_count": null,
   "id": "ab18bf7d-c609-42aa-bb15-fd969b573ef0",
   "metadata": {
    "tags": []
   },
   "outputs": [],
   "source": [
    "list(range(1,7)) # permet de faire de séquences de chiffres"
   ]
  },
  {
   "cell_type": "markdown",
   "id": "74b46327-3016-422e-a148-2790fe17a278",
   "metadata": {},
   "source": [
    "<div class=\"alert alert-success\">\n",
    "    \n",
    "Utiliser cette fonction `range`.\n",
    "</div>\n"
   ]
  },
  {
   "cell_type": "code",
   "execution_count": null,
   "id": "cd784b2d-dd6f-4458-8c7a-ca3d097b3850",
   "metadata": {},
   "outputs": [],
   "source": []
  },
  {
   "cell_type": "markdown",
   "id": "857b77b4-e28e-4ddb-bbb6-080e0735fcc2",
   "metadata": {},
   "source": [
    "Maintenant on générer des nombres aléatoires avec le package `numpy`. Nous avons `np.random.randint` pour une loi uniforme, ou `np.random.randn` pour une loi normale."
   ]
  },
  {
   "cell_type": "code",
   "execution_count": null,
   "id": "dd5ae00a-1b78-483f-8181-5297bffb8ab9",
   "metadata": {
    "tags": []
   },
   "outputs": [],
   "source": [
    "np.random.randint(0,10,5)"
   ]
  },
  {
   "cell_type": "code",
   "execution_count": null,
   "id": "b9a32384-fc16-4575-88ec-0e98a2ffe4d1",
   "metadata": {
    "tags": []
   },
   "outputs": [],
   "source": [
    "np.random.normal(10,3,6)"
   ]
  },
  {
   "cell_type": "code",
   "execution_count": null,
   "id": "e91cfe95-a7af-45c8-85c9-c74979d3cc9e",
   "metadata": {
    "tags": []
   },
   "outputs": [],
   "source": [
    "np.random.randn(10,2)"
   ]
  },
  {
   "cell_type": "markdown",
   "id": "db33c1b4-8d3b-40c8-bad8-03825fccb1d8",
   "metadata": {},
   "source": [
    "**Utilisez ci-dessous `np.random.randint?` et ensuite `np.random.normal?`.**"
   ]
  },
  {
   "cell_type": "code",
   "execution_count": null,
   "id": "807f2328-e0e8-4c8a-9a5b-b60f4d5d0276",
   "metadata": {},
   "outputs": [],
   "source": []
  },
  {
   "cell_type": "code",
   "execution_count": null,
   "id": "f686ff9c-6082-4f6e-bde7-9d0fb3412067",
   "metadata": {},
   "outputs": [],
   "source": []
  },
  {
   "cell_type": "markdown",
   "id": "1ad80585-387f-4157-ad29-da7ef875e824",
   "metadata": {},
   "source": [
    "<div class=\"alert alert-success\">\n",
    "\n",
    "<strong> Exercice </strong> : \n",
    "\n",
    "Essayer de trouver les fonctions permettant de calculer les probabilités, les quantiles pour la loi binomiale et pour la loi normale. Regarder la page de <b>scipy.stats</b>\n",
    "</div>"
   ]
  },
  {
   "cell_type": "code",
   "execution_count": null,
   "id": "7614c574-ef3d-4264-b3fc-b3afa6ea05f9",
   "metadata": {},
   "outputs": [],
   "source": []
  },
  {
   "cell_type": "code",
   "execution_count": null,
   "id": "4e8ebb33-2fc6-4140-82fa-0ae7834101a8",
   "metadata": {},
   "outputs": [],
   "source": []
  },
  {
   "cell_type": "code",
   "execution_count": null,
   "id": "5ba7db32-bc31-4981-9f99-8d1d7655a79b",
   "metadata": {},
   "outputs": [],
   "source": []
  },
  {
   "cell_type": "markdown",
   "id": "9336a087-4862-491f-b070-e101283d6284",
   "metadata": {},
   "source": [
    "<font color=\"#805555\"><b>Nous allons créer un data-frame un peu plus conséquent et faire des manipulations</b></font>"
   ]
  },
  {
   "cell_type": "code",
   "execution_count": null,
   "id": "7cdad852-cbb8-4a5c-af59-7f029fe3b748",
   "metadata": {
    "tags": []
   },
   "outputs": [],
   "source": [
    "df2 = pd.DataFrame(\n",
    "    {f\"Var_{k}\": np.random.normal(100,20,30) for k in range(4)}\n",
    ")\n",
    "df2.head(10)"
   ]
  },
  {
   "cell_type": "code",
   "execution_count": null,
   "id": "591645c0-81ee-442b-b4e6-b3665369145b",
   "metadata": {
    "tags": []
   },
   "outputs": [],
   "source": [
    "df2.size"
   ]
  },
  {
   "cell_type": "code",
   "execution_count": null,
   "id": "d5063f93-320d-4ffb-af48-9248ce5bb8eb",
   "metadata": {
    "tags": []
   },
   "outputs": [],
   "source": [
    "lignes = len(df2.axes[0]) \n",
    "cols = len(df2.axes[1])\n",
    "print(\"Nombre de lignes : \", lignes)\n",
    "print(\"Nombre de colonnes: \", cols)"
   ]
  },
  {
   "cell_type": "code",
   "execution_count": null,
   "id": "b53cc6d7-b9c3-49e5-8184-21a0bdec7a6e",
   "metadata": {
    "tags": []
   },
   "outputs": [],
   "source": [
    "df2.shape"
   ]
  },
  {
   "cell_type": "code",
   "execution_count": null,
   "id": "889ef857-4baa-4a2c-b2c7-119339625e51",
   "metadata": {
    "tags": []
   },
   "outputs": [],
   "source": [
    "df2.tail(10)"
   ]
  },
  {
   "cell_type": "code",
   "execution_count": null,
   "id": "9237f105-6d4f-432c-b92f-329e82475bb1",
   "metadata": {
    "tags": []
   },
   "outputs": [],
   "source": [
    "df2.describe()"
   ]
  },
  {
   "cell_type": "code",
   "execution_count": null,
   "id": "2404afa2-4177-4a4e-840c-5829ee023d95",
   "metadata": {
    "tags": []
   },
   "outputs": [],
   "source": [
    "df2.columns "
   ]
  },
  {
   "cell_type": "markdown",
   "id": "0b41f9a8-4f70-454e-bc26-c7dccecebafc",
   "metadata": {},
   "source": [
    "<font color=\"#805555\"><b>Modifier l'ordre des colonnes</b></font>"
   ]
  },
  {
   "cell_type": "code",
   "execution_count": null,
   "id": "1938ea68-f22f-40bb-8176-cfebc628702c",
   "metadata": {
    "tags": []
   },
   "outputs": [],
   "source": [
    "df2.columns"
   ]
  },
  {
   "cell_type": "code",
   "execution_count": null,
   "id": "ad53c491-f3ac-471c-a619-4673fcda2641",
   "metadata": {
    "tags": []
   },
   "outputs": [],
   "source": [
    "df2[['Var_1','Var_0','Var_2', 'Var_3']].head(2)"
   ]
  },
  {
   "cell_type": "code",
   "execution_count": null,
   "id": "ea4a45d7-cedf-41a5-9108-be7c24463946",
   "metadata": {
    "tags": []
   },
   "outputs": [],
   "source": [
    "df2.head(2)   ## Cela ne modifie pas le DF d'origine"
   ]
  },
  {
   "cell_type": "markdown",
   "id": "ecd708fe-fde2-4eda-8deb-c9291a7865d5",
   "metadata": {},
   "source": [
    "Nous devons absolumet créer un objet pour récupérer les resultats de l'instruction."
   ]
  },
  {
   "cell_type": "code",
   "execution_count": null,
   "id": "385f951c-09ca-483c-8132-7b8e5fcf42b4",
   "metadata": {
    "tags": []
   },
   "outputs": [],
   "source": [
    "df3=df2[['Var_1','Var_0','Var_2', 'Var_3']]\n",
    "df3.head(2)"
   ]
  },
  {
   "cell_type": "markdown",
   "id": "7b8a6dce-eaa0-4210-b855-6cb117419570",
   "metadata": {
    "tags": []
   },
   "source": [
    "## Accéder aux données et manipuler les données\n",
    "\n",
    "Pour accéder au données, plusieurs manières :\n",
    "\n",
    "    - Avec le nom de la ligne ou l'intitulé de la colonnes ;\n",
    "    - Avec les index de différents éléments.\n",
    "\n",
    "### Acceder aux lignes et colonnes : utilisation de `loc` et `iloc`"
   ]
  },
  {
   "cell_type": "code",
   "execution_count": null,
   "id": "a73cdfa0-a6bc-4bc3-9dd8-e30d3a652a1e",
   "metadata": {
    "tags": []
   },
   "outputs": [],
   "source": [
    "df2.loc[0]"
   ]
  },
  {
   "cell_type": "code",
   "execution_count": null,
   "id": "8a503820-db2a-4651-b3d8-f52f9b1d6775",
   "metadata": {
    "tags": []
   },
   "outputs": [],
   "source": [
    "df3=df2.loc[2:10]"
   ]
  },
  {
   "cell_type": "markdown",
   "id": "3edad98e-0da7-4342-81c7-479cec384c2f",
   "metadata": {},
   "source": [
    "<div class=\"alert alert-info\">\n",
    "    \n",
    "**Rappel :** en python les listes s'écrivent entre crochets\n",
    "</div>"
   ]
  },
  {
   "cell_type": "code",
   "execution_count": null,
   "id": "f60767f8-4cd3-46d1-894e-0d13375be40e",
   "metadata": {
    "tags": []
   },
   "outputs": [],
   "source": [
    "df3"
   ]
  },
  {
   "cell_type": "code",
   "execution_count": null,
   "id": "db67ccf5-3645-45c0-a82d-3710d121333e",
   "metadata": {
    "tags": []
   },
   "outputs": [],
   "source": [
    "df3.shape"
   ]
  },
  {
   "cell_type": "code",
   "execution_count": null,
   "id": "e8e3a4f2-ff86-45fb-ab6f-83c852fbbadb",
   "metadata": {
    "tags": []
   },
   "outputs": [],
   "source": [
    "df2.loc[[1,6]]"
   ]
  },
  {
   "cell_type": "code",
   "execution_count": null,
   "id": "6c07c190-5663-4343-afbc-b107723454f0",
   "metadata": {
    "tags": []
   },
   "outputs": [],
   "source": [
    "df2[\"Var_0\"].head(2)"
   ]
  },
  {
   "cell_type": "code",
   "execution_count": null,
   "id": "35b15e2d-5896-4c4b-acbc-961f542db733",
   "metadata": {
    "tags": []
   },
   "outputs": [],
   "source": [
    "df2.Var_0.head(2)"
   ]
  },
  {
   "cell_type": "code",
   "execution_count": null,
   "id": "9b15daf3-8857-4461-8927-744cb30aeeb2",
   "metadata": {
    "tags": []
   },
   "outputs": [],
   "source": [
    "df2.Var_0.describe()"
   ]
  },
  {
   "cell_type": "code",
   "execution_count": null,
   "id": "50c71a3f-3bb6-44e8-97af-d8a7c10b0573",
   "metadata": {
    "tags": []
   },
   "outputs": [],
   "source": [
    "df2.loc[:,[\"Var_1\",\"Var_3\"]].head(2)     # les : veut dire que l'on accède à toutes les lignes"
   ]
  },
  {
   "cell_type": "markdown",
   "id": "e4ca0884-b2e0-4572-b342-de1cd3e48d05",
   "metadata": {
    "tags": []
   },
   "source": [
    "<div class=\"alert alert-info\">\n",
    "    \n",
    "Attention à l'utilisation du script pour que ce soit un DF\n",
    "</div>\n"
   ]
  },
  {
   "cell_type": "code",
   "execution_count": null,
   "id": "f82ac970-afbc-40a2-960f-50699f05875a",
   "metadata": {
    "tags": []
   },
   "outputs": [],
   "source": [
    "type(df2[\"Var_0\"])"
   ]
  },
  {
   "cell_type": "code",
   "execution_count": null,
   "id": "34321e04-8816-4fc1-ad4e-e62492372e0f",
   "metadata": {
    "tags": []
   },
   "outputs": [],
   "source": [
    "df4=df2.loc[0:9,[\"Var_0\"]]\n",
    "df4"
   ]
  },
  {
   "cell_type": "markdown",
   "id": "ff8abe45-1138-4052-8b29-4e0b972e047f",
   "metadata": {},
   "source": [
    "#### Changer le nom d'une colonne ####"
   ]
  },
  {
   "cell_type": "code",
   "execution_count": null,
   "id": "1625e416-38fd-436d-9571-2c3dde6a1567",
   "metadata": {},
   "outputs": [],
   "source": [
    "df4.rename(columns={df4.columns[0]: 'V0'})"
   ]
  },
  {
   "cell_type": "code",
   "execution_count": null,
   "id": "e966ea2f-12ab-4c56-917d-4f70a4b0f5d5",
   "metadata": {},
   "outputs": [],
   "source": [
    "df4"
   ]
  },
  {
   "cell_type": "code",
   "execution_count": null,
   "id": "053442b3-b6b0-47c8-bece-884264167953",
   "metadata": {
    "tags": []
   },
   "outputs": [],
   "source": [
    "df4.rename(columns={df4.columns[0]: 'V0'},inplace=True)\n",
    "df4"
   ]
  },
  {
   "cell_type": "markdown",
   "id": "f948bbd5-a96d-4d96-b3fc-907bc5b849fa",
   "metadata": {},
   "source": [
    "**Utilisation de `iloc` pour utilisation des positions de éléments (des entiers).**"
   ]
  },
  {
   "cell_type": "code",
   "execution_count": null,
   "id": "f8b870ba-f092-46d0-81b3-7adb2582a06b",
   "metadata": {
    "tags": []
   },
   "outputs": [],
   "source": [
    "df2.iloc[:,[1,3]].head(2)"
   ]
  },
  {
   "cell_type": "code",
   "execution_count": null,
   "id": "b80d7e39-5902-41ca-a263-428a2a6b1596",
   "metadata": {
    "tags": []
   },
   "outputs": [],
   "source": [
    "df2.iloc[0,0]"
   ]
  },
  {
   "cell_type": "code",
   "execution_count": null,
   "id": "7a43072e-a165-4998-a92d-3f9f56692ec5",
   "metadata": {
    "tags": []
   },
   "outputs": [],
   "source": [
    "df2.iloc[[1,2],3]"
   ]
  },
  {
   "cell_type": "markdown",
   "id": "8877abb0-1330-4aaf-abf1-21c2f5863b61",
   "metadata": {},
   "source": [
    "### Selection d'une seule valeur\n",
    "\n",
    "* En utilisant les noms : `df.at[nom_ligne, nom_colonne]`\n",
    "* En utilisant les indices : `df.iat[i, j]`"
   ]
  },
  {
   "cell_type": "code",
   "execution_count": null,
   "id": "97340ade-12f9-4d0e-bf03-2c3ad9d54904",
   "metadata": {
    "tags": []
   },
   "outputs": [],
   "source": [
    "df2.iat[0,0]"
   ]
  },
  {
   "cell_type": "code",
   "execution_count": null,
   "id": "960744b4-56ba-48f9-b35f-96c730bb3d9d",
   "metadata": {
    "tags": []
   },
   "outputs": [],
   "source": [
    "df2.at[ 0,\"Var_0\"]"
   ]
  },
  {
   "cell_type": "markdown",
   "id": "db192c0e-22f1-4743-bbb5-2c1438efe034",
   "metadata": {},
   "source": [
    "<div class=\"alert alert-success\">\n",
    "\n",
    "**Exercice :** Affichez le sous tableaux contenant les lignes 4, 8 et 30 et les colonnes 1 et 3. Utiliser `loc` et `iloc`.\n",
    "</div>"
   ]
  },
  {
   "cell_type": "code",
   "execution_count": null,
   "id": "f7bba00c-5e4a-4080-81b5-cdab374a7326",
   "metadata": {},
   "outputs": [],
   "source": []
  },
  {
   "cell_type": "code",
   "execution_count": null,
   "id": "dedb4369-343a-477c-961d-ba223c53603d",
   "metadata": {},
   "outputs": [],
   "source": []
  },
  {
   "cell_type": "markdown",
   "id": "70e628e6-d8c4-4060-bd3e-ccc088774607",
   "metadata": {},
   "source": [
    "<div class=\"alert alert-success\">\n",
    "\n",
    "**Exercice** : extraire de manière aléatoire 20 % des données de df2 puis 15 éléments de df2.\n",
    "</div>"
   ]
  },
  {
   "cell_type": "markdown",
   "id": "c7f5165d-62c9-420c-80b3-507b6c15c3e8",
   "metadata": {},
   "source": [
    "### Utiliser des `slices` (intervalles)\n",
    "\n",
    "La syntaxe consiste à indiquer le point de départ, le point d'arrivé (inclu) et le pas, séparés par `:`.\n",
    "\n",
    "La syntaxe générale est la suivante \n",
    "\n",
    "    depart: fin: pas\n",
    "\n",
    "Par défaut, si le départ est absent, l'intervalle commence au début. Si la fin est absente, l'intervalle se termine à la fin. Le pas par défaut est de 1.\n"
   ]
  },
  {
   "cell_type": "code",
   "execution_count": null,
   "id": "921493d7-7942-436d-8e1b-9ef54db186be",
   "metadata": {
    "tags": []
   },
   "outputs": [],
   "source": [
    "df2.loc[:3]"
   ]
  },
  {
   "cell_type": "code",
   "execution_count": null,
   "id": "d44a837b-bb45-4ef4-bc61-0433b2601330",
   "metadata": {
    "tags": []
   },
   "outputs": [],
   "source": [
    "df2.loc[0:10:2]"
   ]
  },
  {
   "cell_type": "code",
   "execution_count": null,
   "id": "fcec1266-9122-4568-a9c6-9359b44c0b5d",
   "metadata": {
    "tags": []
   },
   "outputs": [],
   "source": [
    "df2.loc[10:0:-1]"
   ]
  },
  {
   "cell_type": "code",
   "execution_count": null,
   "id": "d0a996b6-403e-490a-8af7-0734e8074fb7",
   "metadata": {
    "tags": []
   },
   "outputs": [],
   "source": [
    "df2.loc[25:]"
   ]
  },
  {
   "cell_type": "code",
   "execution_count": null,
   "id": "60e19987-7dd9-48e4-98c8-1bf754cb5ed6",
   "metadata": {
    "tags": []
   },
   "outputs": [],
   "source": [
    "df2.loc[25:, \"Var_2\":]"
   ]
  },
  {
   "cell_type": "markdown",
   "id": "ffe8fe2a-a202-41cd-b4e9-0e3d5085de13",
   "metadata": {},
   "source": [
    "### Conditions sur les valeurs\n",
    "\n",
    "Nous allons récupérer des données du data frame a condition que certaines valeurs respectent une ou des conditions.\n",
    "\n"
   ]
  },
  {
   "cell_type": "code",
   "execution_count": null,
   "id": "ad406c57-989b-4175-9cb7-0c23f6c7e81e",
   "metadata": {
    "tags": []
   },
   "outputs": [],
   "source": [
    "df2.describe()"
   ]
  },
  {
   "cell_type": "code",
   "execution_count": null,
   "id": "63b4352c-3507-4bf7-b04e-1d8b9ec4ff2f",
   "metadata": {
    "tags": []
   },
   "outputs": [],
   "source": [
    "df2[(df2.Var_0>110)]"
   ]
  },
  {
   "cell_type": "code",
   "execution_count": null,
   "id": "042ed4ed-a5cd-46d7-90bb-7ab770964867",
   "metadata": {
    "tags": []
   },
   "outputs": [],
   "source": [
    "df2[(df2.Var_0>100) & (df2.Var_2<90)]"
   ]
  },
  {
   "cell_type": "code",
   "execution_count": null,
   "id": "b5b2ec51-ad80-48a5-86c4-f3fc82a2b752",
   "metadata": {
    "tags": []
   },
   "outputs": [],
   "source": [
    "df2[(df2.Var_0>120) | (df2.Var_2<80)]"
   ]
  },
  {
   "cell_type": "markdown",
   "id": "f0314af1-002a-4382-92c1-1443541115f9",
   "metadata": {},
   "source": [
    "### Supprimer Ligne/Colonnes\n",
    "\n",
    "Utilisation de `drop`\n",
    "\n"
   ]
  },
  {
   "cell_type": "markdown",
   "id": "99d69c45-a278-475b-bf43-929f4a0d7839",
   "metadata": {},
   "source": [
    "Pour supprimer des colonnes on utilisera :\n",
    "\n",
    "```py\n",
    "df2.drop(columns=\"Var_O\")\n",
    "df2.drop(columns=[\"Var_1\", \"Var_0\"])\n",
    "```\n",
    "\n",
    "Pour supprimer des lignes, on fera de la même manière en précisant qu'il s'agit de l'index :\n",
    "\n",
    "```py\n",
    "df2.drop(index=1)\n",
    "df2.drop(index=[1,3,6])\n",
    "```\n",
    "\n",
    "<div class=\"alert alert-info\">\n",
    "\n",
    "Notez le paramètre `inplace` de la méthode `drop()`. C'est un paramètre que l'on retrouve dans de nombreuses opérations `pandas` et qui peut prendre la valeur `True` ou `False`.\n",
    "    \n",
    "* `inplace=True` aura pour effet de modifier la `DataFrame`\n",
    "* `inplace=False`, le plus souvent la valeur par défaut, aura pour effet de renvoyer un nouveau tableau sans modifier celui d'origine.\n",
    "    \n",
    "Ce paramètre permet de sécuriser les opérations afin d'éviter de perdre des données.\n",
    "</div>"
   ]
  },
  {
   "cell_type": "markdown",
   "id": "7e0cd774-33b7-44b8-b351-b47a6c89b81e",
   "metadata": {},
   "source": [
    "<div class=\"alert alert-success\">\n",
    "\n",
    "Regarder l'aide `DataFrame.drop`.\n",
    "</div>"
   ]
  },
  {
   "cell_type": "code",
   "execution_count": null,
   "id": "52758fc7-7155-4b95-bdf8-f54432c992c8",
   "metadata": {
    "tags": []
   },
   "outputs": [],
   "source": [
    "# pd.DataFrame.drop?"
   ]
  },
  {
   "cell_type": "code",
   "execution_count": null,
   "id": "4d267f8a-0e25-4a21-8bf2-0fbee50df051",
   "metadata": {
    "tags": []
   },
   "outputs": [],
   "source": [
    "df2.drop(columns=[\"Var_1\", \"Var_0\"]).head(2)"
   ]
  },
  {
   "cell_type": "code",
   "execution_count": null,
   "id": "a2bd2c20-2db7-4c3e-9355-0610a60d33e5",
   "metadata": {
    "tags": []
   },
   "outputs": [],
   "source": [
    "df2.drop(index=1).head(5)"
   ]
  },
  {
   "cell_type": "code",
   "execution_count": null,
   "id": "c956ce4c-7c97-4cec-b517-ee6ade91a2df",
   "metadata": {
    "tags": []
   },
   "outputs": [],
   "source": [
    "df2.drop(index=[1,3,6]).head(8)"
   ]
  },
  {
   "cell_type": "markdown",
   "id": "dbe65c74-fcd6-43da-9d00-7f396b9a1508",
   "metadata": {},
   "source": [
    "#### Modifier une données : uilisation de iloc !"
   ]
  },
  {
   "cell_type": "code",
   "execution_count": null,
   "id": "eb73b373-6ea2-4707-8809-18259d719d11",
   "metadata": {
    "tags": []
   },
   "outputs": [],
   "source": [
    "df2.iloc[0,0]=130"
   ]
  },
  {
   "cell_type": "code",
   "execution_count": null,
   "id": "d9922c3b-1fa2-47bb-9928-8eb6d95c5f46",
   "metadata": {
    "tags": []
   },
   "outputs": [],
   "source": [
    "df2.head(2)"
   ]
  },
  {
   "cell_type": "markdown",
   "id": "2983f4e8-413d-4ead-a6f0-03543d15a002",
   "metadata": {},
   "source": [
    "### Insérer une colonne\n",
    "\n",
    "On peut le faire avec <b>les autres colonnes</b> (en faisant des opérations) ou à partir **d'une série**. \n",
    "\n",
    "Il ya également la méthode `insert` qui permet demettre la colonne où on ledésire."
   ]
  },
  {
   "cell_type": "code",
   "execution_count": null,
   "id": "bd90c723-7427-45a8-a198-15aef5636725",
   "metadata": {
    "tags": []
   },
   "outputs": [],
   "source": [
    "df2[\"Var_4\"]=df2[\"Var_0\"] +df2[\"Var_2\"]\n",
    "df2.head(2)"
   ]
  },
  {
   "cell_type": "code",
   "execution_count": null,
   "id": "7701fbe5-4da9-44d2-8fc2-6d4a23b43d30",
   "metadata": {
    "tags": []
   },
   "outputs": [],
   "source": [
    "df2[\"Var_4\"]=np.cos(df2.Var_0) +2*np.exp(df2[\"Var_2\"]/50)\n",
    "df2.head(2)"
   ]
  },
  {
   "cell_type": "code",
   "execution_count": null,
   "id": "f1e201b1-d568-432a-a812-2b7d2134cc4e",
   "metadata": {
    "tags": []
   },
   "outputs": [],
   "source": [
    "serie1=np.random.normal(25,2,30)  ## Il faut que le nombre de doonées soit identique\n",
    "df2[\"Var_5\"]=serie1\n",
    "df2.head(3)"
   ]
  },
  {
   "cell_type": "code",
   "execution_count": null,
   "id": "08b07909-2064-4e42-83dd-c0b82f4ec483",
   "metadata": {
    "tags": []
   },
   "outputs": [],
   "source": [
    "df2.insert(loc=0, column=\"Var_6\", value=serie1)\n",
    "df2.head(2)"
   ]
  },
  {
   "cell_type": "markdown",
   "id": "2135a040-739d-491c-84eb-f65ffb6c144a",
   "metadata": {},
   "source": [
    "<div class=\"alert alert-success\">\n",
    "\n",
    "Regarder l'aide `DataFrame.insert`.\n",
    "</div>"
   ]
  },
  {
   "cell_type": "code",
   "execution_count": null,
   "id": "0a4575f5-7394-43e0-9ddd-abf08fa015cf",
   "metadata": {},
   "outputs": [],
   "source": []
  },
  {
   "cell_type": "markdown",
   "id": "94add03c-dc45-4258-baa4-7996cfef21b3",
   "metadata": {},
   "source": [
    "### Insérer de nouvelles lignes.\n",
    "\n",
    "    - avec une liste ou des opérations avec d'autres lignes ;\n",
    "    - Avec des séries ;\n",
    "    - Ou avec la méthode \"append\". "
   ]
  },
  {
   "cell_type": "markdown",
   "id": "5b624090-4ee6-4e34-ae7e-acfc59769464",
   "metadata": {},
   "source": [
    "Nouveau Data Frame."
   ]
  },
  {
   "cell_type": "code",
   "execution_count": 113,
   "id": "724426fb-027e-4e33-81a4-39888b1b6268",
   "metadata": {
    "tags": []
   },
   "outputs": [
    {
     "data": {
      "text/html": [
       "<div>\n",
       "<style scoped>\n",
       "    .dataframe tbody tr th:only-of-type {\n",
       "        vertical-align: middle;\n",
       "    }\n",
       "\n",
       "    .dataframe tbody tr th {\n",
       "        vertical-align: top;\n",
       "    }\n",
       "\n",
       "    .dataframe thead th {\n",
       "        text-align: right;\n",
       "    }\n",
       "</style>\n",
       "<table border=\"1\" class=\"dataframe\">\n",
       "  <thead>\n",
       "    <tr style=\"text-align: right;\">\n",
       "      <th></th>\n",
       "      <th>Var_0</th>\n",
       "      <th>Var_1</th>\n",
       "      <th>Var_2</th>\n",
       "    </tr>\n",
       "  </thead>\n",
       "  <tbody>\n",
       "    <tr>\n",
       "      <th>0</th>\n",
       "      <td>122.268017</td>\n",
       "      <td>117.723465</td>\n",
       "      <td>80.857089</td>\n",
       "    </tr>\n",
       "    <tr>\n",
       "      <th>1</th>\n",
       "      <td>130.279666</td>\n",
       "      <td>94.901192</td>\n",
       "      <td>108.710077</td>\n",
       "    </tr>\n",
       "    <tr>\n",
       "      <th>2</th>\n",
       "      <td>79.619077</td>\n",
       "      <td>131.730736</td>\n",
       "      <td>97.706410</td>\n",
       "    </tr>\n",
       "    <tr>\n",
       "      <th>3</th>\n",
       "      <td>109.581761</td>\n",
       "      <td>97.753559</td>\n",
       "      <td>120.507588</td>\n",
       "    </tr>\n",
       "    <tr>\n",
       "      <th>4</th>\n",
       "      <td>118.880410</td>\n",
       "      <td>96.620241</td>\n",
       "      <td>103.720817</td>\n",
       "    </tr>\n",
       "  </tbody>\n",
       "</table>\n",
       "</div>"
      ],
      "text/plain": [
       "        Var_0       Var_1       Var_2\n",
       "0  122.268017  117.723465   80.857089\n",
       "1  130.279666   94.901192  108.710077\n",
       "2   79.619077  131.730736   97.706410\n",
       "3  109.581761   97.753559  120.507588\n",
       "4  118.880410   96.620241  103.720817"
      ]
     },
     "execution_count": 113,
     "metadata": {},
     "output_type": "execute_result"
    }
   ],
   "source": [
    "df3 = pd.DataFrame(\n",
    "    {f\"Var_{k}\": np.random.normal(100,20,5) for k in range(3)}\n",
    ")\n",
    "df3"
   ]
  },
  {
   "cell_type": "code",
   "execution_count": 114,
   "id": "5310821b-11dc-4356-aa7c-a8d52958a9b6",
   "metadata": {
    "tags": []
   },
   "outputs": [],
   "source": [
    "df3.loc[5]=[100,200,300]"
   ]
  },
  {
   "cell_type": "code",
   "execution_count": 115,
   "id": "4f24a459-3179-4220-8e61-d2160a74090f",
   "metadata": {
    "tags": []
   },
   "outputs": [
    {
     "data": {
      "text/html": [
       "<div>\n",
       "<style scoped>\n",
       "    .dataframe tbody tr th:only-of-type {\n",
       "        vertical-align: middle;\n",
       "    }\n",
       "\n",
       "    .dataframe tbody tr th {\n",
       "        vertical-align: top;\n",
       "    }\n",
       "\n",
       "    .dataframe thead th {\n",
       "        text-align: right;\n",
       "    }\n",
       "</style>\n",
       "<table border=\"1\" class=\"dataframe\">\n",
       "  <thead>\n",
       "    <tr style=\"text-align: right;\">\n",
       "      <th></th>\n",
       "      <th>Var_0</th>\n",
       "      <th>Var_1</th>\n",
       "      <th>Var_2</th>\n",
       "    </tr>\n",
       "  </thead>\n",
       "  <tbody>\n",
       "    <tr>\n",
       "      <th>0</th>\n",
       "      <td>122.268017</td>\n",
       "      <td>117.723465</td>\n",
       "      <td>80.857089</td>\n",
       "    </tr>\n",
       "    <tr>\n",
       "      <th>1</th>\n",
       "      <td>130.279666</td>\n",
       "      <td>94.901192</td>\n",
       "      <td>108.710077</td>\n",
       "    </tr>\n",
       "    <tr>\n",
       "      <th>2</th>\n",
       "      <td>79.619077</td>\n",
       "      <td>131.730736</td>\n",
       "      <td>97.706410</td>\n",
       "    </tr>\n",
       "    <tr>\n",
       "      <th>3</th>\n",
       "      <td>109.581761</td>\n",
       "      <td>97.753559</td>\n",
       "      <td>120.507588</td>\n",
       "    </tr>\n",
       "    <tr>\n",
       "      <th>4</th>\n",
       "      <td>118.880410</td>\n",
       "      <td>96.620241</td>\n",
       "      <td>103.720817</td>\n",
       "    </tr>\n",
       "    <tr>\n",
       "      <th>5</th>\n",
       "      <td>100.000000</td>\n",
       "      <td>200.000000</td>\n",
       "      <td>300.000000</td>\n",
       "    </tr>\n",
       "  </tbody>\n",
       "</table>\n",
       "</div>"
      ],
      "text/plain": [
       "        Var_0       Var_1       Var_2\n",
       "0  122.268017  117.723465   80.857089\n",
       "1  130.279666   94.901192  108.710077\n",
       "2   79.619077  131.730736   97.706410\n",
       "3  109.581761   97.753559  120.507588\n",
       "4  118.880410   96.620241  103.720817\n",
       "5  100.000000  200.000000  300.000000"
      ]
     },
     "execution_count": 115,
     "metadata": {},
     "output_type": "execute_result"
    }
   ],
   "source": [
    "df3"
   ]
  },
  {
   "cell_type": "code",
   "execution_count": 116,
   "id": "56b713b6-9c6e-4fce-af8f-75f30fbbce0f",
   "metadata": {
    "tags": []
   },
   "outputs": [
    {
     "data": {
      "text/html": [
       "<div>\n",
       "<style scoped>\n",
       "    .dataframe tbody tr th:only-of-type {\n",
       "        vertical-align: middle;\n",
       "    }\n",
       "\n",
       "    .dataframe tbody tr th {\n",
       "        vertical-align: top;\n",
       "    }\n",
       "\n",
       "    .dataframe thead th {\n",
       "        text-align: right;\n",
       "    }\n",
       "</style>\n",
       "<table border=\"1\" class=\"dataframe\">\n",
       "  <thead>\n",
       "    <tr style=\"text-align: right;\">\n",
       "      <th></th>\n",
       "      <th>Var_0</th>\n",
       "      <th>Var_1</th>\n",
       "      <th>Var_2</th>\n",
       "    </tr>\n",
       "  </thead>\n",
       "  <tbody>\n",
       "    <tr>\n",
       "      <th>0</th>\n",
       "      <td>122.268017</td>\n",
       "      <td>117.723465</td>\n",
       "      <td>80.857089</td>\n",
       "    </tr>\n",
       "    <tr>\n",
       "      <th>1</th>\n",
       "      <td>130.279666</td>\n",
       "      <td>94.901192</td>\n",
       "      <td>108.710077</td>\n",
       "    </tr>\n",
       "    <tr>\n",
       "      <th>2</th>\n",
       "      <td>79.619077</td>\n",
       "      <td>131.730736</td>\n",
       "      <td>97.706410</td>\n",
       "    </tr>\n",
       "    <tr>\n",
       "      <th>3</th>\n",
       "      <td>109.581761</td>\n",
       "      <td>97.753559</td>\n",
       "      <td>120.507588</td>\n",
       "    </tr>\n",
       "    <tr>\n",
       "      <th>4</th>\n",
       "      <td>118.880410</td>\n",
       "      <td>96.620241</td>\n",
       "      <td>103.720817</td>\n",
       "    </tr>\n",
       "    <tr>\n",
       "      <th>5</th>\n",
       "      <td>100.000000</td>\n",
       "      <td>200.000000</td>\n",
       "      <td>300.000000</td>\n",
       "    </tr>\n",
       "    <tr>\n",
       "      <th>6</th>\n",
       "      <td>100.877529</td>\n",
       "      <td>199.281485</td>\n",
       "      <td>299.001164</td>\n",
       "    </tr>\n",
       "  </tbody>\n",
       "</table>\n",
       "</div>"
      ],
      "text/plain": [
       "        Var_0       Var_1       Var_2\n",
       "0  122.268017  117.723465   80.857089\n",
       "1  130.279666   94.901192  108.710077\n",
       "2   79.619077  131.730736   97.706410\n",
       "3  109.581761   97.753559  120.507588\n",
       "4  118.880410   96.620241  103.720817\n",
       "5  100.000000  200.000000  300.000000\n",
       "6  100.877529  199.281485  299.001164"
      ]
     },
     "execution_count": 116,
     "metadata": {},
     "output_type": "execute_result"
    }
   ],
   "source": [
    "df3.loc[6]=df3.loc[5]+np.cos(df3.loc[4])\n",
    "df3"
   ]
  },
  {
   "cell_type": "code",
   "execution_count": 117,
   "id": "8996166f-452b-4c9d-89a0-c5e08479d8b8",
   "metadata": {
    "tags": []
   },
   "outputs": [
    {
     "data": {
      "text/html": [
       "<div>\n",
       "<style scoped>\n",
       "    .dataframe tbody tr th:only-of-type {\n",
       "        vertical-align: middle;\n",
       "    }\n",
       "\n",
       "    .dataframe tbody tr th {\n",
       "        vertical-align: top;\n",
       "    }\n",
       "\n",
       "    .dataframe thead th {\n",
       "        text-align: right;\n",
       "    }\n",
       "</style>\n",
       "<table border=\"1\" class=\"dataframe\">\n",
       "  <thead>\n",
       "    <tr style=\"text-align: right;\">\n",
       "      <th></th>\n",
       "      <th>Var_0</th>\n",
       "      <th>Var_1</th>\n",
       "      <th>Var_2</th>\n",
       "    </tr>\n",
       "  </thead>\n",
       "  <tbody>\n",
       "    <tr>\n",
       "      <th>0</th>\n",
       "      <td>122.268017</td>\n",
       "      <td>117.723465</td>\n",
       "      <td>80.857089</td>\n",
       "    </tr>\n",
       "    <tr>\n",
       "      <th>1</th>\n",
       "      <td>130.279666</td>\n",
       "      <td>94.901192</td>\n",
       "      <td>108.710077</td>\n",
       "    </tr>\n",
       "    <tr>\n",
       "      <th>2</th>\n",
       "      <td>79.619077</td>\n",
       "      <td>131.730736</td>\n",
       "      <td>97.706410</td>\n",
       "    </tr>\n",
       "    <tr>\n",
       "      <th>3</th>\n",
       "      <td>109.581761</td>\n",
       "      <td>97.753559</td>\n",
       "      <td>120.507588</td>\n",
       "    </tr>\n",
       "    <tr>\n",
       "      <th>4</th>\n",
       "      <td>118.880410</td>\n",
       "      <td>96.620241</td>\n",
       "      <td>103.720817</td>\n",
       "    </tr>\n",
       "    <tr>\n",
       "      <th>5</th>\n",
       "      <td>100.000000</td>\n",
       "      <td>200.000000</td>\n",
       "      <td>300.000000</td>\n",
       "    </tr>\n",
       "    <tr>\n",
       "      <th>6</th>\n",
       "      <td>100.877529</td>\n",
       "      <td>199.281485</td>\n",
       "      <td>299.001164</td>\n",
       "    </tr>\n",
       "    <tr>\n",
       "      <th>7</th>\n",
       "      <td>100.000000</td>\n",
       "      <td>NaN</td>\n",
       "      <td>200.000000</td>\n",
       "    </tr>\n",
       "  </tbody>\n",
       "</table>\n",
       "</div>"
      ],
      "text/plain": [
       "        Var_0       Var_1       Var_2\n",
       "0  122.268017  117.723465   80.857089\n",
       "1  130.279666   94.901192  108.710077\n",
       "2   79.619077  131.730736   97.706410\n",
       "3  109.581761   97.753559  120.507588\n",
       "4  118.880410   96.620241  103.720817\n",
       "5  100.000000  200.000000  300.000000\n",
       "6  100.877529  199.281485  299.001164\n",
       "7  100.000000         NaN  200.000000"
      ]
     },
     "execution_count": 117,
     "metadata": {},
     "output_type": "execute_result"
    }
   ],
   "source": [
    "df3.loc[7] = pd.Series([100, 200], index=[\"Var_0\", \"Var_2\"])\n",
    "df3"
   ]
  },
  {
   "cell_type": "code",
   "execution_count": 118,
   "id": "a4799f40-6a4d-4b1b-a7f3-781d4f4a94d6",
   "metadata": {
    "tags": []
   },
   "outputs": [
    {
     "data": {
      "text/html": [
       "<div>\n",
       "<style scoped>\n",
       "    .dataframe tbody tr th:only-of-type {\n",
       "        vertical-align: middle;\n",
       "    }\n",
       "\n",
       "    .dataframe tbody tr th {\n",
       "        vertical-align: top;\n",
       "    }\n",
       "\n",
       "    .dataframe thead th {\n",
       "        text-align: right;\n",
       "    }\n",
       "</style>\n",
       "<table border=\"1\" class=\"dataframe\">\n",
       "  <thead>\n",
       "    <tr style=\"text-align: right;\">\n",
       "      <th></th>\n",
       "      <th>Var_0</th>\n",
       "      <th>Var_1</th>\n",
       "      <th>Var_2</th>\n",
       "    </tr>\n",
       "  </thead>\n",
       "  <tbody>\n",
       "    <tr>\n",
       "      <th>0</th>\n",
       "      <td>122.268017</td>\n",
       "      <td>117.723465</td>\n",
       "      <td>80.857089</td>\n",
       "    </tr>\n",
       "    <tr>\n",
       "      <th>1</th>\n",
       "      <td>130.279666</td>\n",
       "      <td>94.901192</td>\n",
       "      <td>108.710077</td>\n",
       "    </tr>\n",
       "    <tr>\n",
       "      <th>2</th>\n",
       "      <td>79.619077</td>\n",
       "      <td>131.730736</td>\n",
       "      <td>97.706410</td>\n",
       "    </tr>\n",
       "    <tr>\n",
       "      <th>3</th>\n",
       "      <td>109.581761</td>\n",
       "      <td>97.753559</td>\n",
       "      <td>120.507588</td>\n",
       "    </tr>\n",
       "    <tr>\n",
       "      <th>4</th>\n",
       "      <td>118.880410</td>\n",
       "      <td>96.620241</td>\n",
       "      <td>103.720817</td>\n",
       "    </tr>\n",
       "    <tr>\n",
       "      <th>5</th>\n",
       "      <td>100.000000</td>\n",
       "      <td>200.000000</td>\n",
       "      <td>300.000000</td>\n",
       "    </tr>\n",
       "    <tr>\n",
       "      <th>6</th>\n",
       "      <td>100.877529</td>\n",
       "      <td>199.281485</td>\n",
       "      <td>299.001164</td>\n",
       "    </tr>\n",
       "    <tr>\n",
       "      <th>7</th>\n",
       "      <td>100.000000</td>\n",
       "      <td>50.000000</td>\n",
       "      <td>200.000000</td>\n",
       "    </tr>\n",
       "  </tbody>\n",
       "</table>\n",
       "</div>"
      ],
      "text/plain": [
       "        Var_0       Var_1       Var_2\n",
       "0  122.268017  117.723465   80.857089\n",
       "1  130.279666   94.901192  108.710077\n",
       "2   79.619077  131.730736   97.706410\n",
       "3  109.581761   97.753559  120.507588\n",
       "4  118.880410   96.620241  103.720817\n",
       "5  100.000000  200.000000  300.000000\n",
       "6  100.877529  199.281485  299.001164\n",
       "7  100.000000   50.000000  200.000000"
      ]
     },
     "execution_count": 118,
     "metadata": {},
     "output_type": "execute_result"
    }
   ],
   "source": [
    "df3.loc[7,\"Var_1\"]=50\n",
    "df3"
   ]
  },
  {
   "cell_type": "code",
   "execution_count": 119,
   "id": "9dc7a4c0-538f-48a0-b5b3-324d93fa4382",
   "metadata": {
    "tags": []
   },
   "outputs": [
    {
     "data": {
      "text/html": [
       "<div>\n",
       "<style scoped>\n",
       "    .dataframe tbody tr th:only-of-type {\n",
       "        vertical-align: middle;\n",
       "    }\n",
       "\n",
       "    .dataframe tbody tr th {\n",
       "        vertical-align: top;\n",
       "    }\n",
       "\n",
       "    .dataframe thead th {\n",
       "        text-align: right;\n",
       "    }\n",
       "</style>\n",
       "<table border=\"1\" class=\"dataframe\">\n",
       "  <thead>\n",
       "    <tr style=\"text-align: right;\">\n",
       "      <th></th>\n",
       "      <th>Var_0</th>\n",
       "      <th>Var_1</th>\n",
       "      <th>Var_2</th>\n",
       "    </tr>\n",
       "  </thead>\n",
       "  <tbody>\n",
       "    <tr>\n",
       "      <th>0</th>\n",
       "      <td>122.268017</td>\n",
       "      <td>117.723465</td>\n",
       "      <td>80.857089</td>\n",
       "    </tr>\n",
       "    <tr>\n",
       "      <th>1</th>\n",
       "      <td>130.279666</td>\n",
       "      <td>94.901192</td>\n",
       "      <td>108.710077</td>\n",
       "    </tr>\n",
       "    <tr>\n",
       "      <th>2</th>\n",
       "      <td>79.619077</td>\n",
       "      <td>131.730736</td>\n",
       "      <td>97.706410</td>\n",
       "    </tr>\n",
       "    <tr>\n",
       "      <th>3</th>\n",
       "      <td>109.581761</td>\n",
       "      <td>97.753559</td>\n",
       "      <td>120.507588</td>\n",
       "    </tr>\n",
       "    <tr>\n",
       "      <th>4</th>\n",
       "      <td>118.880410</td>\n",
       "      <td>96.620241</td>\n",
       "      <td>103.720817</td>\n",
       "    </tr>\n",
       "    <tr>\n",
       "      <th>5</th>\n",
       "      <td>100.000000</td>\n",
       "      <td>200.000000</td>\n",
       "      <td>300.000000</td>\n",
       "    </tr>\n",
       "    <tr>\n",
       "      <th>6</th>\n",
       "      <td>100.877529</td>\n",
       "      <td>199.281485</td>\n",
       "      <td>299.001164</td>\n",
       "    </tr>\n",
       "    <tr>\n",
       "      <th>7</th>\n",
       "      <td>100.000000</td>\n",
       "      <td>50.000000</td>\n",
       "      <td>200.000000</td>\n",
       "    </tr>\n",
       "    <tr>\n",
       "      <th>8</th>\n",
       "      <td>NaN</td>\n",
       "      <td>88.000000</td>\n",
       "      <td>NaN</td>\n",
       "    </tr>\n",
       "  </tbody>\n",
       "</table>\n",
       "</div>"
      ],
      "text/plain": [
       "        Var_0       Var_1       Var_2\n",
       "0  122.268017  117.723465   80.857089\n",
       "1  130.279666   94.901192  108.710077\n",
       "2   79.619077  131.730736   97.706410\n",
       "3  109.581761   97.753559  120.507588\n",
       "4  118.880410   96.620241  103.720817\n",
       "5  100.000000  200.000000  300.000000\n",
       "6  100.877529  199.281485  299.001164\n",
       "7  100.000000   50.000000  200.000000\n",
       "8         NaN   88.000000         NaN"
      ]
     },
     "execution_count": 119,
     "metadata": {},
     "output_type": "execute_result"
    }
   ],
   "source": [
    "df3.loc[8]={\"Var_1\":88}\n",
    "df3"
   ]
  },
  {
   "cell_type": "markdown",
   "id": "b0ed4ff8-0c81-4b7f-915b-6273e64dd9db",
   "metadata": {},
   "source": [
    "**Deux méthodes pour les valeurs inconnues**"
   ]
  },
  {
   "cell_type": "code",
   "execution_count": 171,
   "id": "2e8a34ed-0edb-496a-bef7-07a96de20de6",
   "metadata": {
    "tags": []
   },
   "outputs": [
    {
     "data": {
      "text/html": [
       "<div>\n",
       "<style scoped>\n",
       "    .dataframe tbody tr th:only-of-type {\n",
       "        vertical-align: middle;\n",
       "    }\n",
       "\n",
       "    .dataframe tbody tr th {\n",
       "        vertical-align: top;\n",
       "    }\n",
       "\n",
       "    .dataframe thead th {\n",
       "        text-align: right;\n",
       "    }\n",
       "</style>\n",
       "<table border=\"1\" class=\"dataframe\">\n",
       "  <thead>\n",
       "    <tr style=\"text-align: right;\">\n",
       "      <th></th>\n",
       "      <th>Var_0</th>\n",
       "      <th>Var_1</th>\n",
       "      <th>Var_2</th>\n",
       "    </tr>\n",
       "  </thead>\n",
       "  <tbody>\n",
       "    <tr>\n",
       "      <th>0</th>\n",
       "      <td>122.268017</td>\n",
       "      <td>117.723465</td>\n",
       "      <td>80.857089</td>\n",
       "    </tr>\n",
       "    <tr>\n",
       "      <th>1</th>\n",
       "      <td>130.279666</td>\n",
       "      <td>94.901192</td>\n",
       "      <td>108.710077</td>\n",
       "    </tr>\n",
       "    <tr>\n",
       "      <th>2</th>\n",
       "      <td>79.619077</td>\n",
       "      <td>131.730736</td>\n",
       "      <td>97.706410</td>\n",
       "    </tr>\n",
       "    <tr>\n",
       "      <th>3</th>\n",
       "      <td>109.581761</td>\n",
       "      <td>97.753559</td>\n",
       "      <td>120.507588</td>\n",
       "    </tr>\n",
       "    <tr>\n",
       "      <th>4</th>\n",
       "      <td>118.880410</td>\n",
       "      <td>96.620241</td>\n",
       "      <td>103.720817</td>\n",
       "    </tr>\n",
       "    <tr>\n",
       "      <th>5</th>\n",
       "      <td>100.000000</td>\n",
       "      <td>200.000000</td>\n",
       "      <td>300.000000</td>\n",
       "    </tr>\n",
       "    <tr>\n",
       "      <th>6</th>\n",
       "      <td>100.877529</td>\n",
       "      <td>199.281485</td>\n",
       "      <td>299.001164</td>\n",
       "    </tr>\n",
       "    <tr>\n",
       "      <th>7</th>\n",
       "      <td>100.000000</td>\n",
       "      <td>50.000000</td>\n",
       "      <td>200.000000</td>\n",
       "    </tr>\n",
       "  </tbody>\n",
       "</table>\n",
       "</div>"
      ],
      "text/plain": [
       "        Var_0       Var_1       Var_2\n",
       "0  122.268017  117.723465   80.857089\n",
       "1  130.279666   94.901192  108.710077\n",
       "2   79.619077  131.730736   97.706410\n",
       "3  109.581761   97.753559  120.507588\n",
       "4  118.880410   96.620241  103.720817\n",
       "5  100.000000  200.000000  300.000000\n",
       "6  100.877529  199.281485  299.001164\n",
       "7  100.000000   50.000000  200.000000"
      ]
     },
     "execution_count": 171,
     "metadata": {},
     "output_type": "execute_result"
    }
   ],
   "source": [
    "df3.dropna()"
   ]
  },
  {
   "cell_type": "code",
   "execution_count": 172,
   "id": "70c4ce45-f675-45a3-836a-596c11ba3c52",
   "metadata": {
    "tags": []
   },
   "outputs": [
    {
     "data": {
      "text/html": [
       "<div>\n",
       "<style scoped>\n",
       "    .dataframe tbody tr th:only-of-type {\n",
       "        vertical-align: middle;\n",
       "    }\n",
       "\n",
       "    .dataframe tbody tr th {\n",
       "        vertical-align: top;\n",
       "    }\n",
       "\n",
       "    .dataframe thead th {\n",
       "        text-align: right;\n",
       "    }\n",
       "</style>\n",
       "<table border=\"1\" class=\"dataframe\">\n",
       "  <thead>\n",
       "    <tr style=\"text-align: right;\">\n",
       "      <th></th>\n",
       "      <th>Var_0</th>\n",
       "      <th>Var_1</th>\n",
       "      <th>Var_2</th>\n",
       "    </tr>\n",
       "  </thead>\n",
       "  <tbody>\n",
       "    <tr>\n",
       "      <th>0</th>\n",
       "      <td>122.268017</td>\n",
       "      <td>117.723465</td>\n",
       "      <td>80.857089</td>\n",
       "    </tr>\n",
       "    <tr>\n",
       "      <th>1</th>\n",
       "      <td>130.279666</td>\n",
       "      <td>94.901192</td>\n",
       "      <td>108.710077</td>\n",
       "    </tr>\n",
       "    <tr>\n",
       "      <th>2</th>\n",
       "      <td>79.619077</td>\n",
       "      <td>131.730736</td>\n",
       "      <td>97.706410</td>\n",
       "    </tr>\n",
       "    <tr>\n",
       "      <th>3</th>\n",
       "      <td>109.581761</td>\n",
       "      <td>97.753559</td>\n",
       "      <td>120.507588</td>\n",
       "    </tr>\n",
       "    <tr>\n",
       "      <th>4</th>\n",
       "      <td>118.880410</td>\n",
       "      <td>96.620241</td>\n",
       "      <td>103.720817</td>\n",
       "    </tr>\n",
       "    <tr>\n",
       "      <th>5</th>\n",
       "      <td>100.000000</td>\n",
       "      <td>200.000000</td>\n",
       "      <td>300.000000</td>\n",
       "    </tr>\n",
       "    <tr>\n",
       "      <th>6</th>\n",
       "      <td>100.877529</td>\n",
       "      <td>199.281485</td>\n",
       "      <td>299.001164</td>\n",
       "    </tr>\n",
       "    <tr>\n",
       "      <th>7</th>\n",
       "      <td>100.000000</td>\n",
       "      <td>50.000000</td>\n",
       "      <td>200.000000</td>\n",
       "    </tr>\n",
       "    <tr>\n",
       "      <th>8</th>\n",
       "      <td>100.000000</td>\n",
       "      <td>88.000000</td>\n",
       "      <td>100.000000</td>\n",
       "    </tr>\n",
       "  </tbody>\n",
       "</table>\n",
       "</div>"
      ],
      "text/plain": [
       "        Var_0       Var_1       Var_2\n",
       "0  122.268017  117.723465   80.857089\n",
       "1  130.279666   94.901192  108.710077\n",
       "2   79.619077  131.730736   97.706410\n",
       "3  109.581761   97.753559  120.507588\n",
       "4  118.880410   96.620241  103.720817\n",
       "5  100.000000  200.000000  300.000000\n",
       "6  100.877529  199.281485  299.001164\n",
       "7  100.000000   50.000000  200.000000\n",
       "8  100.000000   88.000000  100.000000"
      ]
     },
     "execution_count": 172,
     "metadata": {},
     "output_type": "execute_result"
    }
   ],
   "source": [
    "df3.fillna(100)"
   ]
  },
  {
   "cell_type": "markdown",
   "id": "6814578d-dcb2-41b9-9e3d-97ee66a3dce9",
   "metadata": {},
   "source": [
    "<div class=\"alert alert-success\">\n",
    "\n",
    "Regarder l'aide `DataFrame.concat`.\n",
    "</div>"
   ]
  },
  {
   "cell_type": "code",
   "execution_count": 120,
   "id": "6417624f-e08c-4a82-8b20-4cb9b521a567",
   "metadata": {
    "tags": []
   },
   "outputs": [],
   "source": [
    "#pd.concat?"
   ]
  },
  {
   "cell_type": "code",
   "execution_count": 121,
   "id": "62f9f9fe-5c0e-4b58-ae65-ccd3dae757df",
   "metadata": {
    "tags": []
   },
   "outputs": [
    {
     "data": {
      "text/html": [
       "<div>\n",
       "<style scoped>\n",
       "    .dataframe tbody tr th:only-of-type {\n",
       "        vertical-align: middle;\n",
       "    }\n",
       "\n",
       "    .dataframe tbody tr th {\n",
       "        vertical-align: top;\n",
       "    }\n",
       "\n",
       "    .dataframe thead th {\n",
       "        text-align: right;\n",
       "    }\n",
       "</style>\n",
       "<table border=\"1\" class=\"dataframe\">\n",
       "  <thead>\n",
       "    <tr style=\"text-align: right;\">\n",
       "      <th></th>\n",
       "      <th>Var_0</th>\n",
       "      <th>Var_1</th>\n",
       "      <th>Var_2</th>\n",
       "    </tr>\n",
       "  </thead>\n",
       "  <tbody>\n",
       "    <tr>\n",
       "      <th>a</th>\n",
       "      <td>134.819491</td>\n",
       "      <td>88.849290</td>\n",
       "      <td>116.883038</td>\n",
       "    </tr>\n",
       "    <tr>\n",
       "      <th>b</th>\n",
       "      <td>124.642426</td>\n",
       "      <td>84.516784</td>\n",
       "      <td>101.999250</td>\n",
       "    </tr>\n",
       "    <tr>\n",
       "      <th>c</th>\n",
       "      <td>114.016530</td>\n",
       "      <td>127.992008</td>\n",
       "      <td>114.396766</td>\n",
       "    </tr>\n",
       "  </tbody>\n",
       "</table>\n",
       "</div>"
      ],
      "text/plain": [
       "        Var_0       Var_1       Var_2\n",
       "a  134.819491   88.849290  116.883038\n",
       "b  124.642426   84.516784  101.999250\n",
       "c  114.016530  127.992008  114.396766"
      ]
     },
     "execution_count": 121,
     "metadata": {},
     "output_type": "execute_result"
    }
   ],
   "source": [
    "df4 = pd.DataFrame(\n",
    "    {f\"Var_{k}\": np.random.normal(100,20,3) for k in range(3)}, index=list(\"abc\")\n",
    ")\n",
    "df4"
   ]
  },
  {
   "cell_type": "code",
   "execution_count": 122,
   "id": "5f205fae-00ff-443b-9e89-db9889fdb26c",
   "metadata": {
    "tags": []
   },
   "outputs": [
    {
     "data": {
      "text/html": [
       "<div>\n",
       "<style scoped>\n",
       "    .dataframe tbody tr th:only-of-type {\n",
       "        vertical-align: middle;\n",
       "    }\n",
       "\n",
       "    .dataframe tbody tr th {\n",
       "        vertical-align: top;\n",
       "    }\n",
       "\n",
       "    .dataframe thead th {\n",
       "        text-align: right;\n",
       "    }\n",
       "</style>\n",
       "<table border=\"1\" class=\"dataframe\">\n",
       "  <thead>\n",
       "    <tr style=\"text-align: right;\">\n",
       "      <th></th>\n",
       "      <th>Var_0</th>\n",
       "      <th>Var_1</th>\n",
       "      <th>Var_2</th>\n",
       "    </tr>\n",
       "  </thead>\n",
       "  <tbody>\n",
       "    <tr>\n",
       "      <th>a</th>\n",
       "      <td>99.262841</td>\n",
       "      <td>104.738162</td>\n",
       "      <td>119.276983</td>\n",
       "    </tr>\n",
       "    <tr>\n",
       "      <th>b</th>\n",
       "      <td>73.424861</td>\n",
       "      <td>120.299374</td>\n",
       "      <td>108.526331</td>\n",
       "    </tr>\n",
       "    <tr>\n",
       "      <th>c</th>\n",
       "      <td>69.110731</td>\n",
       "      <td>77.445815</td>\n",
       "      <td>120.044204</td>\n",
       "    </tr>\n",
       "    <tr>\n",
       "      <th>d</th>\n",
       "      <td>111.835868</td>\n",
       "      <td>70.397120</td>\n",
       "      <td>71.647683</td>\n",
       "    </tr>\n",
       "    <tr>\n",
       "      <th>e</th>\n",
       "      <td>118.699032</td>\n",
       "      <td>61.711751</td>\n",
       "      <td>141.056478</td>\n",
       "    </tr>\n",
       "  </tbody>\n",
       "</table>\n",
       "</div>"
      ],
      "text/plain": [
       "        Var_0       Var_1       Var_2\n",
       "a   99.262841  104.738162  119.276983\n",
       "b   73.424861  120.299374  108.526331\n",
       "c   69.110731   77.445815  120.044204\n",
       "d  111.835868   70.397120   71.647683\n",
       "e  118.699032   61.711751  141.056478"
      ]
     },
     "execution_count": 122,
     "metadata": {},
     "output_type": "execute_result"
    }
   ],
   "source": [
    "df5 = pd.DataFrame(\n",
    "    {f\"Var_{k}\": np.random.normal(100,20,5) for k in range(3)}, index=list(\"abcde\")\n",
    ")\n",
    "df5"
   ]
  },
  {
   "cell_type": "code",
   "execution_count": 123,
   "id": "54b1133a-fab0-490a-93b1-d6fbc7cd512d",
   "metadata": {
    "tags": []
   },
   "outputs": [
    {
     "data": {
      "text/html": [
       "<div>\n",
       "<style scoped>\n",
       "    .dataframe tbody tr th:only-of-type {\n",
       "        vertical-align: middle;\n",
       "    }\n",
       "\n",
       "    .dataframe tbody tr th {\n",
       "        vertical-align: top;\n",
       "    }\n",
       "\n",
       "    .dataframe thead th {\n",
       "        text-align: right;\n",
       "    }\n",
       "</style>\n",
       "<table border=\"1\" class=\"dataframe\">\n",
       "  <thead>\n",
       "    <tr style=\"text-align: right;\">\n",
       "      <th></th>\n",
       "      <th>Var_0</th>\n",
       "      <th>Var_1</th>\n",
       "      <th>Var_2</th>\n",
       "    </tr>\n",
       "  </thead>\n",
       "  <tbody>\n",
       "    <tr>\n",
       "      <th>a</th>\n",
       "      <td>134.819491</td>\n",
       "      <td>88.849290</td>\n",
       "      <td>116.883038</td>\n",
       "    </tr>\n",
       "    <tr>\n",
       "      <th>b</th>\n",
       "      <td>124.642426</td>\n",
       "      <td>84.516784</td>\n",
       "      <td>101.999250</td>\n",
       "    </tr>\n",
       "    <tr>\n",
       "      <th>c</th>\n",
       "      <td>114.016530</td>\n",
       "      <td>127.992008</td>\n",
       "      <td>114.396766</td>\n",
       "    </tr>\n",
       "    <tr>\n",
       "      <th>a</th>\n",
       "      <td>99.262841</td>\n",
       "      <td>104.738162</td>\n",
       "      <td>119.276983</td>\n",
       "    </tr>\n",
       "    <tr>\n",
       "      <th>b</th>\n",
       "      <td>73.424861</td>\n",
       "      <td>120.299374</td>\n",
       "      <td>108.526331</td>\n",
       "    </tr>\n",
       "    <tr>\n",
       "      <th>c</th>\n",
       "      <td>69.110731</td>\n",
       "      <td>77.445815</td>\n",
       "      <td>120.044204</td>\n",
       "    </tr>\n",
       "    <tr>\n",
       "      <th>d</th>\n",
       "      <td>111.835868</td>\n",
       "      <td>70.397120</td>\n",
       "      <td>71.647683</td>\n",
       "    </tr>\n",
       "    <tr>\n",
       "      <th>e</th>\n",
       "      <td>118.699032</td>\n",
       "      <td>61.711751</td>\n",
       "      <td>141.056478</td>\n",
       "    </tr>\n",
       "  </tbody>\n",
       "</table>\n",
       "</div>"
      ],
      "text/plain": [
       "        Var_0       Var_1       Var_2\n",
       "a  134.819491   88.849290  116.883038\n",
       "b  124.642426   84.516784  101.999250\n",
       "c  114.016530  127.992008  114.396766\n",
       "a   99.262841  104.738162  119.276983\n",
       "b   73.424861  120.299374  108.526331\n",
       "c   69.110731   77.445815  120.044204\n",
       "d  111.835868   70.397120   71.647683\n",
       "e  118.699032   61.711751  141.056478"
      ]
     },
     "execution_count": 123,
     "metadata": {},
     "output_type": "execute_result"
    }
   ],
   "source": [
    "df6 = pd.concat([df4, df5], axis=0)  # Concaténer le long des lignes (par défaut)\n",
    "df6"
   ]
  },
  {
   "cell_type": "code",
   "execution_count": 124,
   "id": "11e38209-bcc3-4a38-85d9-b28bb49f6b39",
   "metadata": {
    "tags": []
   },
   "outputs": [
    {
     "data": {
      "text/html": [
       "<div>\n",
       "<style scoped>\n",
       "    .dataframe tbody tr th:only-of-type {\n",
       "        vertical-align: middle;\n",
       "    }\n",
       "\n",
       "    .dataframe tbody tr th {\n",
       "        vertical-align: top;\n",
       "    }\n",
       "\n",
       "    .dataframe thead th {\n",
       "        text-align: right;\n",
       "    }\n",
       "</style>\n",
       "<table border=\"1\" class=\"dataframe\">\n",
       "  <thead>\n",
       "    <tr style=\"text-align: right;\">\n",
       "      <th></th>\n",
       "      <th>Var_0</th>\n",
       "      <th>Var_1</th>\n",
       "      <th>Var_2</th>\n",
       "    </tr>\n",
       "  </thead>\n",
       "  <tbody>\n",
       "    <tr>\n",
       "      <th>0</th>\n",
       "      <td>134.819491</td>\n",
       "      <td>88.849290</td>\n",
       "      <td>116.883038</td>\n",
       "    </tr>\n",
       "    <tr>\n",
       "      <th>1</th>\n",
       "      <td>124.642426</td>\n",
       "      <td>84.516784</td>\n",
       "      <td>101.999250</td>\n",
       "    </tr>\n",
       "    <tr>\n",
       "      <th>2</th>\n",
       "      <td>114.016530</td>\n",
       "      <td>127.992008</td>\n",
       "      <td>114.396766</td>\n",
       "    </tr>\n",
       "    <tr>\n",
       "      <th>3</th>\n",
       "      <td>99.262841</td>\n",
       "      <td>104.738162</td>\n",
       "      <td>119.276983</td>\n",
       "    </tr>\n",
       "    <tr>\n",
       "      <th>4</th>\n",
       "      <td>73.424861</td>\n",
       "      <td>120.299374</td>\n",
       "      <td>108.526331</td>\n",
       "    </tr>\n",
       "    <tr>\n",
       "      <th>5</th>\n",
       "      <td>69.110731</td>\n",
       "      <td>77.445815</td>\n",
       "      <td>120.044204</td>\n",
       "    </tr>\n",
       "    <tr>\n",
       "      <th>6</th>\n",
       "      <td>111.835868</td>\n",
       "      <td>70.397120</td>\n",
       "      <td>71.647683</td>\n",
       "    </tr>\n",
       "    <tr>\n",
       "      <th>7</th>\n",
       "      <td>118.699032</td>\n",
       "      <td>61.711751</td>\n",
       "      <td>141.056478</td>\n",
       "    </tr>\n",
       "  </tbody>\n",
       "</table>\n",
       "</div>"
      ],
      "text/plain": [
       "        Var_0       Var_1       Var_2\n",
       "0  134.819491   88.849290  116.883038\n",
       "1  124.642426   84.516784  101.999250\n",
       "2  114.016530  127.992008  114.396766\n",
       "3   99.262841  104.738162  119.276983\n",
       "4   73.424861  120.299374  108.526331\n",
       "5   69.110731   77.445815  120.044204\n",
       "6  111.835868   70.397120   71.647683\n",
       "7  118.699032   61.711751  141.056478"
      ]
     },
     "execution_count": 124,
     "metadata": {},
     "output_type": "execute_result"
    }
   ],
   "source": [
    "df7 = pd.concat([df4, df5], ignore_index=True)  \n",
    "df7"
   ]
  },
  {
   "cell_type": "markdown",
   "id": "adb864d7-bf9a-4572-bc07-d0b8d17172d4",
   "metadata": {},
   "source": [
    "<div class=\"alert alert-success\">\n",
    "\n",
    "Regarder à quoi servent les méthodes : 'nlargest' et 'nsmallest' et ensuite 'query'.\n",
    "</div>"
   ]
  },
  {
   "cell_type": "code",
   "execution_count": null,
   "id": "5f3b141a-b8ea-4274-a13f-a0028655b734",
   "metadata": {
    "tags": []
   },
   "outputs": [],
   "source": []
  },
  {
   "cell_type": "code",
   "execution_count": null,
   "id": "c34e7db5-480e-484a-abba-11520cfa6c68",
   "metadata": {},
   "outputs": [],
   "source": []
  },
  {
   "cell_type": "code",
   "execution_count": null,
   "id": "570ef954-303f-41d3-8053-c125a1064a1d",
   "metadata": {},
   "outputs": [],
   "source": []
  },
  {
   "cell_type": "markdown",
   "id": "4e6fe56a-7006-48dd-8659-d34aade677e8",
   "metadata": {
    "tags": []
   },
   "source": [
    "<div class=\"alert alert-success\">\n",
    "\n",
    "Regarder à quoi sert la méthodes : sort_values\n",
    "</div>"
   ]
  },
  {
   "cell_type": "code",
   "execution_count": null,
   "id": "ef8bb6e3-e2bf-41e7-9adf-25d17c23d7ed",
   "metadata": {
    "tags": []
   },
   "outputs": [],
   "source": []
  },
  {
   "cell_type": "code",
   "execution_count": null,
   "id": "d5a8fb48-737a-47c0-8c8f-9ad99dd46168",
   "metadata": {},
   "outputs": [],
   "source": []
  },
  {
   "cell_type": "code",
   "execution_count": null,
   "id": "2b616c07-5815-446a-b49a-a65abf6768e7",
   "metadata": {
    "tags": []
   },
   "outputs": [],
   "source": []
  },
  {
   "cell_type": "markdown",
   "id": "d92e0cfd-c4f9-4b44-8eb1-dbfbd0d55e44",
   "metadata": {},
   "source": [
    "## **Importations des données** ##\n",
    "\n",
    "Nous allons importer des données en CVS.\n",
    "\n",
    "Regarder d'abord dans Excel ces données.\n",
    "\n"
   ]
  },
  {
   "cell_type": "code",
   "execution_count": 102,
   "id": "a65cf537-f69a-4d2a-bfbe-3c2c06c4e58a",
   "metadata": {
    "tags": []
   },
   "outputs": [
    {
     "data": {
      "text/html": [
       "<div>\n",
       "<style scoped>\n",
       "    .dataframe tbody tr th:only-of-type {\n",
       "        vertical-align: middle;\n",
       "    }\n",
       "\n",
       "    .dataframe tbody tr th {\n",
       "        vertical-align: top;\n",
       "    }\n",
       "\n",
       "    .dataframe thead th {\n",
       "        text-align: right;\n",
       "    }\n",
       "</style>\n",
       "<table border=\"1\" class=\"dataframe\">\n",
       "  <thead>\n",
       "    <tr style=\"text-align: right;\">\n",
       "      <th></th>\n",
       "      <th>Var1</th>\n",
       "      <th>Var2</th>\n",
       "      <th>Var3</th>\n",
       "      <th>Var4</th>\n",
       "      <th>Var5</th>\n",
       "    </tr>\n",
       "  </thead>\n",
       "  <tbody>\n",
       "    <tr>\n",
       "      <th>0</th>\n",
       "      <td>167</td>\n",
       "      <td>94,5</td>\n",
       "      <td>G1</td>\n",
       "      <td>C1</td>\n",
       "      <td>3</td>\n",
       "    </tr>\n",
       "    <tr>\n",
       "      <th>1</th>\n",
       "      <td>110</td>\n",
       "      <td>65</td>\n",
       "      <td>G2</td>\n",
       "      <td>C2</td>\n",
       "      <td>4</td>\n",
       "    </tr>\n",
       "    <tr>\n",
       "      <th>2</th>\n",
       "      <td>132</td>\n",
       "      <td>87</td>\n",
       "      <td>G1</td>\n",
       "      <td>C2</td>\n",
       "      <td>1</td>\n",
       "    </tr>\n",
       "    <tr>\n",
       "      <th>3</th>\n",
       "      <td>189</td>\n",
       "      <td>119,5</td>\n",
       "      <td>G1</td>\n",
       "      <td>C2</td>\n",
       "      <td>1</td>\n",
       "    </tr>\n",
       "    <tr>\n",
       "      <th>4</th>\n",
       "      <td>152</td>\n",
       "      <td>94</td>\n",
       "      <td>G2</td>\n",
       "      <td>C3</td>\n",
       "      <td>1</td>\n",
       "    </tr>\n",
       "  </tbody>\n",
       "</table>\n",
       "</div>"
      ],
      "text/plain": [
       "   Var1   Var2 Var3 Var4  Var5\n",
       "0   167   94,5   G1   C1     3\n",
       "1   110     65   G2   C2     4\n",
       "2   132     87   G1   C2     1\n",
       "3   189  119,5   G1   C2     1\n",
       "4   152     94   G2   C3     1"
      ]
     },
     "execution_count": 102,
     "metadata": {},
     "output_type": "execute_result"
    }
   ],
   "source": [
    "df=pd.read_csv(\"Donnees/DataFrame1.csv\", sep=\";\", encoding=\"latin1\") #### sans le latin1 cela ne peut le lire en raison des accents\n",
    "df.head()"
   ]
  },
  {
   "cell_type": "code",
   "execution_count": 103,
   "id": "b22179f7-fd1f-457e-a017-ce78725d106a",
   "metadata": {
    "tags": []
   },
   "outputs": [
    {
     "data": {
      "text/plain": [
       "count       50\n",
       "unique      41\n",
       "top       82,5\n",
       "freq         3\n",
       "Name: Var2, dtype: object"
      ]
     },
     "execution_count": 103,
     "metadata": {},
     "output_type": "execute_result"
    }
   ],
   "source": [
    "df['Var2'].describe()"
   ]
  },
  {
   "cell_type": "markdown",
   "id": "b7f81553-8772-46b5-9b58-d4dacee037ca",
   "metadata": {},
   "source": [
    "*Vous pouvez remarquer que la variable Var2 a une décimale avec une virgule et Python considère de ce fait qu'il s'agit d'un caractère. Il est important lors de l'importation des données de préciser la manière dont sont indiquées les décimales.*"
   ]
  },
  {
   "cell_type": "code",
   "execution_count": null,
   "id": "47dea021-211e-4d1c-a2cd-2b075c655aa3",
   "metadata": {},
   "outputs": [],
   "source": [
    "#?pd.read_csv"
   ]
  },
  {
   "cell_type": "code",
   "execution_count": 104,
   "id": "7339ff10-7fa7-45e1-bead-5ea44a76e461",
   "metadata": {
    "tags": []
   },
   "outputs": [
    {
     "data": {
      "text/html": [
       "<div>\n",
       "<style scoped>\n",
       "    .dataframe tbody tr th:only-of-type {\n",
       "        vertical-align: middle;\n",
       "    }\n",
       "\n",
       "    .dataframe tbody tr th {\n",
       "        vertical-align: top;\n",
       "    }\n",
       "\n",
       "    .dataframe thead th {\n",
       "        text-align: right;\n",
       "    }\n",
       "</style>\n",
       "<table border=\"1\" class=\"dataframe\">\n",
       "  <thead>\n",
       "    <tr style=\"text-align: right;\">\n",
       "      <th></th>\n",
       "      <th>Var1</th>\n",
       "      <th>Var2</th>\n",
       "      <th>Var3</th>\n",
       "      <th>Var4</th>\n",
       "      <th>Var5</th>\n",
       "    </tr>\n",
       "  </thead>\n",
       "  <tbody>\n",
       "    <tr>\n",
       "      <th>0</th>\n",
       "      <td>167</td>\n",
       "      <td>94.5</td>\n",
       "      <td>G1</td>\n",
       "      <td>C1</td>\n",
       "      <td>3</td>\n",
       "    </tr>\n",
       "    <tr>\n",
       "      <th>1</th>\n",
       "      <td>110</td>\n",
       "      <td>65.0</td>\n",
       "      <td>G2</td>\n",
       "      <td>C2</td>\n",
       "      <td>4</td>\n",
       "    </tr>\n",
       "    <tr>\n",
       "      <th>2</th>\n",
       "      <td>132</td>\n",
       "      <td>87.0</td>\n",
       "      <td>G1</td>\n",
       "      <td>C2</td>\n",
       "      <td>1</td>\n",
       "    </tr>\n",
       "    <tr>\n",
       "      <th>3</th>\n",
       "      <td>189</td>\n",
       "      <td>119.5</td>\n",
       "      <td>G1</td>\n",
       "      <td>C2</td>\n",
       "      <td>1</td>\n",
       "    </tr>\n",
       "    <tr>\n",
       "      <th>4</th>\n",
       "      <td>152</td>\n",
       "      <td>94.0</td>\n",
       "      <td>G2</td>\n",
       "      <td>C3</td>\n",
       "      <td>1</td>\n",
       "    </tr>\n",
       "  </tbody>\n",
       "</table>\n",
       "</div>"
      ],
      "text/plain": [
       "   Var1   Var2 Var3 Var4  Var5\n",
       "0   167   94.5   G1   C1     3\n",
       "1   110   65.0   G2   C2     4\n",
       "2   132   87.0   G1   C2     1\n",
       "3   189  119.5   G1   C2     1\n",
       "4   152   94.0   G2   C3     1"
      ]
     },
     "execution_count": 104,
     "metadata": {},
     "output_type": "execute_result"
    }
   ],
   "source": [
    "df=pd.read_csv(\"Donnees/DataFrame1.csv\", decimal=',',sep=\";\", encoding=\"latin1\") #### sans le latin1 cela ne peut le lire en raison des accents\n",
    "df.head()"
   ]
  },
  {
   "cell_type": "code",
   "execution_count": 105,
   "id": "293d031d-ad57-4671-b1b0-fe66bef4e012",
   "metadata": {
    "tags": []
   },
   "outputs": [
    {
     "data": {
      "text/plain": [
       "count     50.000000\n",
       "mean      92.030000\n",
       "std       15.379356\n",
       "min       64.000000\n",
       "25%       81.750000\n",
       "50%       92.750000\n",
       "75%      102.500000\n",
       "max      122.000000\n",
       "Name: Var2, dtype: float64"
      ]
     },
     "execution_count": 105,
     "metadata": {},
     "output_type": "execute_result"
    }
   ],
   "source": [
    "df['Var2'].describe()"
   ]
  },
  {
   "cell_type": "code",
   "execution_count": 106,
   "id": "135af370-924c-4850-9f82-726d672f46c2",
   "metadata": {
    "tags": []
   },
   "outputs": [
    {
     "data": {
      "text/html": [
       "<div>\n",
       "<style scoped>\n",
       "    .dataframe tbody tr th:only-of-type {\n",
       "        vertical-align: middle;\n",
       "    }\n",
       "\n",
       "    .dataframe tbody tr th {\n",
       "        vertical-align: top;\n",
       "    }\n",
       "\n",
       "    .dataframe thead th {\n",
       "        text-align: right;\n",
       "    }\n",
       "</style>\n",
       "<table border=\"1\" class=\"dataframe\">\n",
       "  <thead>\n",
       "    <tr style=\"text-align: right;\">\n",
       "      <th></th>\n",
       "      <th>Var1</th>\n",
       "      <th>Var2</th>\n",
       "      <th>Var5</th>\n",
       "    </tr>\n",
       "  </thead>\n",
       "  <tbody>\n",
       "    <tr>\n",
       "      <th>count</th>\n",
       "      <td>50.000000</td>\n",
       "      <td>50.000000</td>\n",
       "      <td>50.000000</td>\n",
       "    </tr>\n",
       "    <tr>\n",
       "      <th>mean</th>\n",
       "      <td>147.340000</td>\n",
       "      <td>92.030000</td>\n",
       "      <td>3.020000</td>\n",
       "    </tr>\n",
       "    <tr>\n",
       "      <th>std</th>\n",
       "      <td>28.065965</td>\n",
       "      <td>15.379356</td>\n",
       "      <td>1.518458</td>\n",
       "    </tr>\n",
       "    <tr>\n",
       "      <th>min</th>\n",
       "      <td>100.000000</td>\n",
       "      <td>64.000000</td>\n",
       "      <td>1.000000</td>\n",
       "    </tr>\n",
       "    <tr>\n",
       "      <th>25%</th>\n",
       "      <td>121.500000</td>\n",
       "      <td>81.750000</td>\n",
       "      <td>2.000000</td>\n",
       "    </tr>\n",
       "    <tr>\n",
       "      <th>50%</th>\n",
       "      <td>147.500000</td>\n",
       "      <td>92.750000</td>\n",
       "      <td>3.000000</td>\n",
       "    </tr>\n",
       "    <tr>\n",
       "      <th>75%</th>\n",
       "      <td>170.250000</td>\n",
       "      <td>102.500000</td>\n",
       "      <td>4.000000</td>\n",
       "    </tr>\n",
       "    <tr>\n",
       "      <th>max</th>\n",
       "      <td>199.000000</td>\n",
       "      <td>122.000000</td>\n",
       "      <td>5.000000</td>\n",
       "    </tr>\n",
       "  </tbody>\n",
       "</table>\n",
       "</div>"
      ],
      "text/plain": [
       "             Var1        Var2       Var5\n",
       "count   50.000000   50.000000  50.000000\n",
       "mean   147.340000   92.030000   3.020000\n",
       "std     28.065965   15.379356   1.518458\n",
       "min    100.000000   64.000000   1.000000\n",
       "25%    121.500000   81.750000   2.000000\n",
       "50%    147.500000   92.750000   3.000000\n",
       "75%    170.250000  102.500000   4.000000\n",
       "max    199.000000  122.000000   5.000000"
      ]
     },
     "execution_count": 106,
     "metadata": {},
     "output_type": "execute_result"
    }
   ],
   "source": [
    "df.describe()"
   ]
  },
  {
   "cell_type": "code",
   "execution_count": 109,
   "id": "e77bd5c5-441d-4356-9010-359ff92c1efc",
   "metadata": {
    "tags": []
   },
   "outputs": [
    {
     "data": {
      "text/html": [
       "<div>\n",
       "<style scoped>\n",
       "    .dataframe tbody tr th:only-of-type {\n",
       "        vertical-align: middle;\n",
       "    }\n",
       "\n",
       "    .dataframe tbody tr th {\n",
       "        vertical-align: top;\n",
       "    }\n",
       "\n",
       "    .dataframe thead th {\n",
       "        text-align: right;\n",
       "    }\n",
       "</style>\n",
       "<table border=\"1\" class=\"dataframe\">\n",
       "  <thead>\n",
       "    <tr style=\"text-align: right;\">\n",
       "      <th></th>\n",
       "      <th>Var1</th>\n",
       "      <th>Var2</th>\n",
       "      <th>Var3</th>\n",
       "      <th>Var4</th>\n",
       "      <th>Var5</th>\n",
       "    </tr>\n",
       "  </thead>\n",
       "  <tbody>\n",
       "    <tr>\n",
       "      <th>count</th>\n",
       "      <td>50.000000</td>\n",
       "      <td>50.000000</td>\n",
       "      <td>50</td>\n",
       "      <td>50</td>\n",
       "      <td>50.000000</td>\n",
       "    </tr>\n",
       "    <tr>\n",
       "      <th>unique</th>\n",
       "      <td>NaN</td>\n",
       "      <td>NaN</td>\n",
       "      <td>2</td>\n",
       "      <td>3</td>\n",
       "      <td>NaN</td>\n",
       "    </tr>\n",
       "    <tr>\n",
       "      <th>top</th>\n",
       "      <td>NaN</td>\n",
       "      <td>NaN</td>\n",
       "      <td>G2</td>\n",
       "      <td>C2</td>\n",
       "      <td>NaN</td>\n",
       "    </tr>\n",
       "    <tr>\n",
       "      <th>freq</th>\n",
       "      <td>NaN</td>\n",
       "      <td>NaN</td>\n",
       "      <td>28</td>\n",
       "      <td>27</td>\n",
       "      <td>NaN</td>\n",
       "    </tr>\n",
       "    <tr>\n",
       "      <th>mean</th>\n",
       "      <td>147.340000</td>\n",
       "      <td>92.030000</td>\n",
       "      <td>NaN</td>\n",
       "      <td>NaN</td>\n",
       "      <td>3.020000</td>\n",
       "    </tr>\n",
       "    <tr>\n",
       "      <th>std</th>\n",
       "      <td>28.065965</td>\n",
       "      <td>15.379356</td>\n",
       "      <td>NaN</td>\n",
       "      <td>NaN</td>\n",
       "      <td>1.518458</td>\n",
       "    </tr>\n",
       "    <tr>\n",
       "      <th>min</th>\n",
       "      <td>100.000000</td>\n",
       "      <td>64.000000</td>\n",
       "      <td>NaN</td>\n",
       "      <td>NaN</td>\n",
       "      <td>1.000000</td>\n",
       "    </tr>\n",
       "    <tr>\n",
       "      <th>25%</th>\n",
       "      <td>121.500000</td>\n",
       "      <td>81.750000</td>\n",
       "      <td>NaN</td>\n",
       "      <td>NaN</td>\n",
       "      <td>2.000000</td>\n",
       "    </tr>\n",
       "    <tr>\n",
       "      <th>50%</th>\n",
       "      <td>147.500000</td>\n",
       "      <td>92.750000</td>\n",
       "      <td>NaN</td>\n",
       "      <td>NaN</td>\n",
       "      <td>3.000000</td>\n",
       "    </tr>\n",
       "    <tr>\n",
       "      <th>75%</th>\n",
       "      <td>170.250000</td>\n",
       "      <td>102.500000</td>\n",
       "      <td>NaN</td>\n",
       "      <td>NaN</td>\n",
       "      <td>4.000000</td>\n",
       "    </tr>\n",
       "    <tr>\n",
       "      <th>max</th>\n",
       "      <td>199.000000</td>\n",
       "      <td>122.000000</td>\n",
       "      <td>NaN</td>\n",
       "      <td>NaN</td>\n",
       "      <td>5.000000</td>\n",
       "    </tr>\n",
       "  </tbody>\n",
       "</table>\n",
       "</div>"
      ],
      "text/plain": [
       "              Var1        Var2 Var3 Var4       Var5\n",
       "count    50.000000   50.000000   50   50  50.000000\n",
       "unique         NaN         NaN    2    3        NaN\n",
       "top            NaN         NaN   G2   C2        NaN\n",
       "freq           NaN         NaN   28   27        NaN\n",
       "mean    147.340000   92.030000  NaN  NaN   3.020000\n",
       "std      28.065965   15.379356  NaN  NaN   1.518458\n",
       "min     100.000000   64.000000  NaN  NaN   1.000000\n",
       "25%     121.500000   81.750000  NaN  NaN   2.000000\n",
       "50%     147.500000   92.750000  NaN  NaN   3.000000\n",
       "75%     170.250000  102.500000  NaN  NaN   4.000000\n",
       "max     199.000000  122.000000  NaN  NaN   5.000000"
      ]
     },
     "execution_count": 109,
     "metadata": {},
     "output_type": "execute_result"
    }
   ],
   "source": [
    "df.describe(include=\"all\")"
   ]
  },
  {
   "cell_type": "code",
   "execution_count": 107,
   "id": "9b1c55cb-68c8-4a0e-8962-4dcdbfc7c2d0",
   "metadata": {
    "tags": []
   },
   "outputs": [
    {
     "data": {
      "text/plain": [
       "Index(['Var1', 'Var2', 'Var3', 'Var4', 'Var5'], dtype='object')"
      ]
     },
     "execution_count": 107,
     "metadata": {},
     "output_type": "execute_result"
    }
   ],
   "source": [
    "df.columns"
   ]
  },
  {
   "cell_type": "markdown",
   "id": "859a2aa5-7f62-446f-bfa6-0ea4fd2c3059",
   "metadata": {},
   "source": [
    "\n",
    "#### **Fréqences et effectifs pour variables qualitatives** ####"
   ]
  },
  {
   "cell_type": "code",
   "execution_count": 110,
   "id": "98280028-60c1-40d0-8fb8-eaae24d72e69",
   "metadata": {
    "tags": []
   },
   "outputs": [
    {
     "data": {
      "text/plain": [
       "(Var3\n",
       " G2    28\n",
       " G1    22\n",
       " Name: count, dtype: int64,\n",
       " Var3\n",
       " G2    0.56\n",
       " G1    0.44\n",
       " Name: proportion, dtype: float64)"
      ]
     },
     "execution_count": 110,
     "metadata": {},
     "output_type": "execute_result"
    }
   ],
   "source": [
    "df['Var3'].value_counts() , df['Var3'].value_counts(normalize=True)"
   ]
  },
  {
   "cell_type": "code",
   "execution_count": null,
   "id": "ebee7e0d-a4a2-465a-8965-d0d7db2c598f",
   "metadata": {},
   "outputs": [],
   "source": []
  },
  {
   "cell_type": "markdown",
   "id": "d15b6a8a-c290-4998-b507-345b839216e6",
   "metadata": {},
   "source": [
    "*Dans les commentaires, il est possible de faire des tableaux avec Markdown :*\n",
    "\n",
    "| Modalité | Effectifs | Fréquences   |\n",
    "|----------|-----------|--------------|\n",
    "| G1<br>G2 | 28<br>22  | 56 %<br>44 % |\n",
    "\n",
    "Regarder ici : [Faire des tableaux avec Rmarkdown](https://www.tablesgenerator.com/markdown_tables)"
   ]
  },
  {
   "cell_type": "code",
   "execution_count": 111,
   "id": "d10a8f14-f7d9-477a-a74a-ed60b13dba15",
   "metadata": {
    "tags": []
   },
   "outputs": [
    {
     "data": {
      "text/plain": [
       "(Var4\n",
       " C2    27\n",
       " C1    17\n",
       " C3     6\n",
       " Name: count, dtype: int64,\n",
       " Var4\n",
       " C2    0.54\n",
       " C1    0.34\n",
       " C3    0.12\n",
       " Name: proportion, dtype: float64)"
      ]
     },
     "execution_count": 111,
     "metadata": {},
     "output_type": "execute_result"
    }
   ],
   "source": [
    "df['Var4'].value_counts() , df['Var4'].value_counts(normalize=True)"
   ]
  },
  {
   "cell_type": "code",
   "execution_count": 112,
   "id": "31fdc98c-b311-43e0-b556-155eda045a83",
   "metadata": {
    "tags": []
   },
   "outputs": [
    {
     "data": {
      "text/plain": [
       "array([3, 4, 1, 2, 5], dtype=int64)"
      ]
     },
     "execution_count": 112,
     "metadata": {},
     "output_type": "execute_result"
    }
   ],
   "source": [
    "df['Var5'].unique()"
   ]
  },
  {
   "cell_type": "markdown",
   "id": "ff607555-f95d-465f-b978-fb8a06bf4a84",
   "metadata": {},
   "source": [
    "#### **Selection des variables selon un filtre**\n"
   ]
  },
  {
   "cell_type": "code",
   "execution_count": 135,
   "id": "9cf49e24-6572-4c81-a02a-fa18c0dd8c11",
   "metadata": {
    "tags": []
   },
   "outputs": [
    {
     "data": {
      "text/plain": [
       "(111.8, 182.70000000000002)"
      ]
     },
     "execution_count": 135,
     "metadata": {},
     "output_type": "execute_result"
    }
   ],
   "source": [
    "## Si on veut prendre les 10 % des notes les plus élévées et \n",
    "# les 10 % les moins élévées.\n",
    "\n",
    "n10, n90 = np.percentile(df['Var1'], [10,90])\n",
    "n10, n90"
   ]
  },
  {
   "cell_type": "code",
   "execution_count": 136,
   "id": "57ec9532-f23e-47c6-9932-36a2516c7f58",
   "metadata": {
    "tags": []
   },
   "outputs": [],
   "source": [
    "df10=df[df['Var1']<=n10]\n",
    "df90=df[df['Var1']>n90]\n"
   ]
  },
  {
   "cell_type": "code",
   "execution_count": 137,
   "id": "cb83ef90-1a2a-4351-8341-bb05c5dd64a3",
   "metadata": {
    "tags": []
   },
   "outputs": [
    {
     "data": {
      "text/html": [
       "<div>\n",
       "<style scoped>\n",
       "    .dataframe tbody tr th:only-of-type {\n",
       "        vertical-align: middle;\n",
       "    }\n",
       "\n",
       "    .dataframe tbody tr th {\n",
       "        vertical-align: top;\n",
       "    }\n",
       "\n",
       "    .dataframe thead th {\n",
       "        text-align: right;\n",
       "    }\n",
       "</style>\n",
       "<table border=\"1\" class=\"dataframe\">\n",
       "  <thead>\n",
       "    <tr style=\"text-align: right;\">\n",
       "      <th></th>\n",
       "      <th>Var1</th>\n",
       "      <th>Var2</th>\n",
       "      <th>Var5</th>\n",
       "    </tr>\n",
       "  </thead>\n",
       "  <tbody>\n",
       "    <tr>\n",
       "      <th>count</th>\n",
       "      <td>5.000000</td>\n",
       "      <td>5.000000</td>\n",
       "      <td>5.000000</td>\n",
       "    </tr>\n",
       "    <tr>\n",
       "      <th>mean</th>\n",
       "      <td>106.800000</td>\n",
       "      <td>68.400000</td>\n",
       "      <td>2.400000</td>\n",
       "    </tr>\n",
       "    <tr>\n",
       "      <th>std</th>\n",
       "      <td>4.604346</td>\n",
       "      <td>5.683309</td>\n",
       "      <td>1.949359</td>\n",
       "    </tr>\n",
       "    <tr>\n",
       "      <th>min</th>\n",
       "      <td>100.000000</td>\n",
       "      <td>64.000000</td>\n",
       "      <td>1.000000</td>\n",
       "    </tr>\n",
       "    <tr>\n",
       "      <th>25%</th>\n",
       "      <td>104.000000</td>\n",
       "      <td>65.000000</td>\n",
       "      <td>1.000000</td>\n",
       "    </tr>\n",
       "    <tr>\n",
       "      <th>50%</th>\n",
       "      <td>110.000000</td>\n",
       "      <td>66.000000</td>\n",
       "      <td>1.000000</td>\n",
       "    </tr>\n",
       "    <tr>\n",
       "      <th>75%</th>\n",
       "      <td>110.000000</td>\n",
       "      <td>69.000000</td>\n",
       "      <td>4.000000</td>\n",
       "    </tr>\n",
       "    <tr>\n",
       "      <th>max</th>\n",
       "      <td>110.000000</td>\n",
       "      <td>78.000000</td>\n",
       "      <td>5.000000</td>\n",
       "    </tr>\n",
       "  </tbody>\n",
       "</table>\n",
       "</div>"
      ],
      "text/plain": [
       "             Var1       Var2      Var5\n",
       "count    5.000000   5.000000  5.000000\n",
       "mean   106.800000  68.400000  2.400000\n",
       "std      4.604346   5.683309  1.949359\n",
       "min    100.000000  64.000000  1.000000\n",
       "25%    104.000000  65.000000  1.000000\n",
       "50%    110.000000  66.000000  1.000000\n",
       "75%    110.000000  69.000000  4.000000\n",
       "max    110.000000  78.000000  5.000000"
      ]
     },
     "execution_count": 137,
     "metadata": {},
     "output_type": "execute_result"
    }
   ],
   "source": [
    "df10.describe()"
   ]
  },
  {
   "cell_type": "code",
   "execution_count": 138,
   "id": "6f9a3511-b622-48a8-a64f-50d6aca70164",
   "metadata": {
    "tags": []
   },
   "outputs": [
    {
     "data": {
      "text/plain": [
       "(Var4\n",
       " C2    3\n",
       " C3    1\n",
       " C1    1\n",
       " Name: count, dtype: int64,\n",
       " Var4\n",
       " C2    0.6\n",
       " C3    0.2\n",
       " C1    0.2\n",
       " Name: proportion, dtype: float64)"
      ]
     },
     "execution_count": 138,
     "metadata": {},
     "output_type": "execute_result"
    }
   ],
   "source": [
    "df10['Var4'].value_counts() , df10['Var4'].value_counts(normalize=True)"
   ]
  },
  {
   "cell_type": "code",
   "execution_count": 139,
   "id": "d3c03e5d-b942-4294-9bdf-f34b2fc1eda3",
   "metadata": {
    "tags": []
   },
   "outputs": [
    {
     "data": {
      "text/html": [
       "<div>\n",
       "<style scoped>\n",
       "    .dataframe tbody tr th:only-of-type {\n",
       "        vertical-align: middle;\n",
       "    }\n",
       "\n",
       "    .dataframe tbody tr th {\n",
       "        vertical-align: top;\n",
       "    }\n",
       "\n",
       "    .dataframe thead th {\n",
       "        text-align: right;\n",
       "    }\n",
       "</style>\n",
       "<table border=\"1\" class=\"dataframe\">\n",
       "  <thead>\n",
       "    <tr style=\"text-align: right;\">\n",
       "      <th></th>\n",
       "      <th>Var1</th>\n",
       "      <th>Var2</th>\n",
       "      <th>Var5</th>\n",
       "    </tr>\n",
       "  </thead>\n",
       "  <tbody>\n",
       "    <tr>\n",
       "      <th>count</th>\n",
       "      <td>5.000000</td>\n",
       "      <td>5.000000</td>\n",
       "      <td>5.0</td>\n",
       "    </tr>\n",
       "    <tr>\n",
       "      <th>mean</th>\n",
       "      <td>194.600000</td>\n",
       "      <td>116.700000</td>\n",
       "      <td>3.0</td>\n",
       "    </tr>\n",
       "    <tr>\n",
       "      <th>std</th>\n",
       "      <td>3.781534</td>\n",
       "      <td>5.574495</td>\n",
       "      <td>2.0</td>\n",
       "    </tr>\n",
       "    <tr>\n",
       "      <th>min</th>\n",
       "      <td>189.000000</td>\n",
       "      <td>109.500000</td>\n",
       "      <td>1.0</td>\n",
       "    </tr>\n",
       "    <tr>\n",
       "      <th>25%</th>\n",
       "      <td>194.000000</td>\n",
       "      <td>112.000000</td>\n",
       "      <td>1.0</td>\n",
       "    </tr>\n",
       "    <tr>\n",
       "      <th>50%</th>\n",
       "      <td>194.000000</td>\n",
       "      <td>119.500000</td>\n",
       "      <td>3.0</td>\n",
       "    </tr>\n",
       "    <tr>\n",
       "      <th>75%</th>\n",
       "      <td>197.000000</td>\n",
       "      <td>120.500000</td>\n",
       "      <td>5.0</td>\n",
       "    </tr>\n",
       "    <tr>\n",
       "      <th>max</th>\n",
       "      <td>199.000000</td>\n",
       "      <td>122.000000</td>\n",
       "      <td>5.0</td>\n",
       "    </tr>\n",
       "  </tbody>\n",
       "</table>\n",
       "</div>"
      ],
      "text/plain": [
       "             Var1        Var2  Var5\n",
       "count    5.000000    5.000000   5.0\n",
       "mean   194.600000  116.700000   3.0\n",
       "std      3.781534    5.574495   2.0\n",
       "min    189.000000  109.500000   1.0\n",
       "25%    194.000000  112.000000   1.0\n",
       "50%    194.000000  119.500000   3.0\n",
       "75%    197.000000  120.500000   5.0\n",
       "max    199.000000  122.000000   5.0"
      ]
     },
     "execution_count": 139,
     "metadata": {},
     "output_type": "execute_result"
    }
   ],
   "source": [
    "df90.describe()"
   ]
  },
  {
   "cell_type": "code",
   "execution_count": 140,
   "id": "67c3db5b-73be-4fc6-a1b0-44960917e29f",
   "metadata": {
    "tags": []
   },
   "outputs": [
    {
     "data": {
      "text/plain": [
       "(Var4\n",
       " C1    3\n",
       " C2    2\n",
       " Name: count, dtype: int64,\n",
       " Var4\n",
       " C1    0.6\n",
       " C2    0.4\n",
       " Name: proportion, dtype: float64)"
      ]
     },
     "execution_count": 140,
     "metadata": {},
     "output_type": "execute_result"
    }
   ],
   "source": [
    "df90['Var4'].value_counts() , df90['Var4'].value_counts(normalize=True)"
   ]
  },
  {
   "cell_type": "code",
   "execution_count": 141,
   "id": "35c93a12-2416-4662-83bc-8791d0f11dbc",
   "metadata": {
    "tags": []
   },
   "outputs": [
    {
     "data": {
      "text/html": [
       "<div>\n",
       "<style scoped>\n",
       "    .dataframe tbody tr th:only-of-type {\n",
       "        vertical-align: middle;\n",
       "    }\n",
       "\n",
       "    .dataframe tbody tr th {\n",
       "        vertical-align: top;\n",
       "    }\n",
       "\n",
       "    .dataframe thead th {\n",
       "        text-align: right;\n",
       "    }\n",
       "</style>\n",
       "<table border=\"1\" class=\"dataframe\">\n",
       "  <thead>\n",
       "    <tr style=\"text-align: right;\">\n",
       "      <th></th>\n",
       "      <th>Var1</th>\n",
       "      <th>Var2</th>\n",
       "      <th>Var5</th>\n",
       "    </tr>\n",
       "  </thead>\n",
       "  <tbody>\n",
       "    <tr>\n",
       "      <th>mean</th>\n",
       "      <td>147.166667</td>\n",
       "      <td>91.666667</td>\n",
       "      <td>1.0</td>\n",
       "    </tr>\n",
       "    <tr>\n",
       "      <th>max</th>\n",
       "      <td>194.000000</td>\n",
       "      <td>120.500000</td>\n",
       "      <td>1.0</td>\n",
       "    </tr>\n",
       "    <tr>\n",
       "      <th>min</th>\n",
       "      <td>104.000000</td>\n",
       "      <td>64.000000</td>\n",
       "      <td>1.0</td>\n",
       "    </tr>\n",
       "    <tr>\n",
       "      <th>50%</th>\n",
       "      <td>144.500000</td>\n",
       "      <td>90.750000</td>\n",
       "      <td>1.0</td>\n",
       "    </tr>\n",
       "  </tbody>\n",
       "</table>\n",
       "</div>"
      ],
      "text/plain": [
       "            Var1        Var2  Var5\n",
       "mean  147.166667   91.666667   1.0\n",
       "max   194.000000  120.500000   1.0\n",
       "min   104.000000   64.000000   1.0\n",
       "50%   144.500000   90.750000   1.0"
      ]
     },
     "execution_count": 141,
     "metadata": {},
     "output_type": "execute_result"
    }
   ],
   "source": [
    "df[df['Var5']==1].describe().loc[['mean','max','min','50%']]"
   ]
  },
  {
   "cell_type": "code",
   "execution_count": 142,
   "id": "ec0dffb5-96b5-4e55-9bd4-a9b8130c4693",
   "metadata": {
    "tags": []
   },
   "outputs": [
    {
     "data": {
      "text/html": [
       "<div>\n",
       "<style scoped>\n",
       "    .dataframe tbody tr th:only-of-type {\n",
       "        vertical-align: middle;\n",
       "    }\n",
       "\n",
       "    .dataframe tbody tr th {\n",
       "        vertical-align: top;\n",
       "    }\n",
       "\n",
       "    .dataframe thead th {\n",
       "        text-align: right;\n",
       "    }\n",
       "</style>\n",
       "<table border=\"1\" class=\"dataframe\">\n",
       "  <thead>\n",
       "    <tr style=\"text-align: right;\">\n",
       "      <th></th>\n",
       "      <th>Var1</th>\n",
       "      <th>Var2</th>\n",
       "      <th>Var5</th>\n",
       "    </tr>\n",
       "  </thead>\n",
       "  <tbody>\n",
       "    <tr>\n",
       "      <th>mean</th>\n",
       "      <td>150.909091</td>\n",
       "      <td>93.727273</td>\n",
       "      <td>5.0</td>\n",
       "    </tr>\n",
       "    <tr>\n",
       "      <th>max</th>\n",
       "      <td>197.000000</td>\n",
       "      <td>122.000000</td>\n",
       "      <td>5.0</td>\n",
       "    </tr>\n",
       "    <tr>\n",
       "      <th>min</th>\n",
       "      <td>100.000000</td>\n",
       "      <td>69.000000</td>\n",
       "      <td>5.0</td>\n",
       "    </tr>\n",
       "    <tr>\n",
       "      <th>50%</th>\n",
       "      <td>149.000000</td>\n",
       "      <td>94.500000</td>\n",
       "      <td>5.0</td>\n",
       "    </tr>\n",
       "  </tbody>\n",
       "</table>\n",
       "</div>"
      ],
      "text/plain": [
       "            Var1        Var2  Var5\n",
       "mean  150.909091   93.727273   5.0\n",
       "max   197.000000  122.000000   5.0\n",
       "min   100.000000   69.000000   5.0\n",
       "50%   149.000000   94.500000   5.0"
      ]
     },
     "execution_count": 142,
     "metadata": {},
     "output_type": "execute_result"
    }
   ],
   "source": [
    "df[df['Var5']==5].describe().loc[['mean','max','min','50%']]"
   ]
  },
  {
   "cell_type": "code",
   "execution_count": 143,
   "id": "00118af4-5e1e-4489-a755-223ec05f52da",
   "metadata": {
    "tags": []
   },
   "outputs": [
    {
     "data": {
      "text/html": [
       "<div>\n",
       "<style scoped>\n",
       "    .dataframe tbody tr th:only-of-type {\n",
       "        vertical-align: middle;\n",
       "    }\n",
       "\n",
       "    .dataframe tbody tr th {\n",
       "        vertical-align: top;\n",
       "    }\n",
       "\n",
       "    .dataframe thead th {\n",
       "        text-align: right;\n",
       "    }\n",
       "</style>\n",
       "<table border=\"1\" class=\"dataframe\">\n",
       "  <thead>\n",
       "    <tr style=\"text-align: right;\">\n",
       "      <th></th>\n",
       "      <th>Var1</th>\n",
       "      <th>Var2</th>\n",
       "      <th>Var5</th>\n",
       "    </tr>\n",
       "  </thead>\n",
       "  <tbody>\n",
       "    <tr>\n",
       "      <th>mean</th>\n",
       "      <td>199.0</td>\n",
       "      <td>120.5</td>\n",
       "      <td>3.0</td>\n",
       "    </tr>\n",
       "    <tr>\n",
       "      <th>max</th>\n",
       "      <td>199.0</td>\n",
       "      <td>120.5</td>\n",
       "      <td>3.0</td>\n",
       "    </tr>\n",
       "    <tr>\n",
       "      <th>min</th>\n",
       "      <td>199.0</td>\n",
       "      <td>120.5</td>\n",
       "      <td>3.0</td>\n",
       "    </tr>\n",
       "    <tr>\n",
       "      <th>50%</th>\n",
       "      <td>199.0</td>\n",
       "      <td>120.5</td>\n",
       "      <td>3.0</td>\n",
       "    </tr>\n",
       "  </tbody>\n",
       "</table>\n",
       "</div>"
      ],
      "text/plain": [
       "       Var1   Var2  Var5\n",
       "mean  199.0  120.5   3.0\n",
       "max   199.0  120.5   3.0\n",
       "min   199.0  120.5   3.0\n",
       "50%   199.0  120.5   3.0"
      ]
     },
     "execution_count": 143,
     "metadata": {},
     "output_type": "execute_result"
    }
   ],
   "source": [
    "pour_max=df['Var1'].max()\n",
    "df[df['Var1']==pour_max].describe().loc[['mean','max','min','50%']]"
   ]
  },
  {
   "cell_type": "code",
   "execution_count": 144,
   "id": "d42b9d7e-c0c7-4d3c-ab73-90f60ee60299",
   "metadata": {
    "tags": []
   },
   "outputs": [
    {
     "data": {
      "text/html": [
       "<div>\n",
       "<style scoped>\n",
       "    .dataframe tbody tr th:only-of-type {\n",
       "        vertical-align: middle;\n",
       "    }\n",
       "\n",
       "    .dataframe tbody tr th {\n",
       "        vertical-align: top;\n",
       "    }\n",
       "\n",
       "    .dataframe thead th {\n",
       "        text-align: right;\n",
       "    }\n",
       "</style>\n",
       "<table border=\"1\" class=\"dataframe\">\n",
       "  <thead>\n",
       "    <tr style=\"text-align: right;\">\n",
       "      <th></th>\n",
       "      <th>Var1</th>\n",
       "      <th>Var2</th>\n",
       "      <th>Var5</th>\n",
       "    </tr>\n",
       "  </thead>\n",
       "  <tbody>\n",
       "    <tr>\n",
       "      <th>mean</th>\n",
       "      <td>100.0</td>\n",
       "      <td>69.0</td>\n",
       "      <td>5.0</td>\n",
       "    </tr>\n",
       "    <tr>\n",
       "      <th>max</th>\n",
       "      <td>100.0</td>\n",
       "      <td>69.0</td>\n",
       "      <td>5.0</td>\n",
       "    </tr>\n",
       "    <tr>\n",
       "      <th>min</th>\n",
       "      <td>100.0</td>\n",
       "      <td>69.0</td>\n",
       "      <td>5.0</td>\n",
       "    </tr>\n",
       "    <tr>\n",
       "      <th>50%</th>\n",
       "      <td>100.0</td>\n",
       "      <td>69.0</td>\n",
       "      <td>5.0</td>\n",
       "    </tr>\n",
       "  </tbody>\n",
       "</table>\n",
       "</div>"
      ],
      "text/plain": [
       "       Var1  Var2  Var5\n",
       "mean  100.0  69.0   5.0\n",
       "max   100.0  69.0   5.0\n",
       "min   100.0  69.0   5.0\n",
       "50%   100.0  69.0   5.0"
      ]
     },
     "execution_count": 144,
     "metadata": {},
     "output_type": "execute_result"
    }
   ],
   "source": [
    "pour_min=df['Var1'].min()\n",
    "df[df['Var1']==pour_min].describe().loc[['mean','max','min','50%']]"
   ]
  },
  {
   "cell_type": "code",
   "execution_count": 145,
   "id": "b137908e-e89e-4101-b54d-08d36840a877",
   "metadata": {
    "tags": []
   },
   "outputs": [
    {
     "data": {
      "text/plain": [
       "mean    152.363636\n",
       "max     199.000000\n",
       "min     110.000000\n",
       "50%     158.000000\n",
       "Name: Var1, dtype: float64"
      ]
     },
     "execution_count": 145,
     "metadata": {},
     "output_type": "execute_result"
    }
   ],
   "source": [
    "df['Var1'][df['Var3']=='G1'].describe().loc[['mean','max','min','50%']]"
   ]
  },
  {
   "cell_type": "code",
   "execution_count": 146,
   "id": "d9842573-48ec-469a-89b0-ec721d1d9fc0",
   "metadata": {
    "tags": []
   },
   "outputs": [
    {
     "data": {
      "text/plain": [
       "mean    143.392857\n",
       "max     194.000000\n",
       "min     100.000000\n",
       "50%     144.000000\n",
       "Name: Var1, dtype: float64"
      ]
     },
     "execution_count": 146,
     "metadata": {},
     "output_type": "execute_result"
    }
   ],
   "source": [
    "df['Var1'][df['Var3']=='G2'].describe().loc[['mean','max','min','50%']]"
   ]
  },
  {
   "cell_type": "code",
   "execution_count": 147,
   "id": "88594e70-7394-4782-8cc6-d86e98d094ad",
   "metadata": {
    "tags": []
   },
   "outputs": [
    {
     "data": {
      "text/html": [
       "<div>\n",
       "<style scoped>\n",
       "    .dataframe tbody tr th:only-of-type {\n",
       "        vertical-align: middle;\n",
       "    }\n",
       "\n",
       "    .dataframe tbody tr th {\n",
       "        vertical-align: top;\n",
       "    }\n",
       "\n",
       "    .dataframe thead th {\n",
       "        text-align: right;\n",
       "    }\n",
       "</style>\n",
       "<table border=\"1\" class=\"dataframe\">\n",
       "  <thead>\n",
       "    <tr style=\"text-align: right;\">\n",
       "      <th></th>\n",
       "      <th>Var1</th>\n",
       "      <th>Var2</th>\n",
       "      <th>Var5</th>\n",
       "    </tr>\n",
       "  </thead>\n",
       "  <tbody>\n",
       "    <tr>\n",
       "      <th>mean</th>\n",
       "      <td>146.615385</td>\n",
       "      <td>92.692308</td>\n",
       "      <td>3.538462</td>\n",
       "    </tr>\n",
       "    <tr>\n",
       "      <th>max</th>\n",
       "      <td>197.000000</td>\n",
       "      <td>122.000000</td>\n",
       "      <td>5.000000</td>\n",
       "    </tr>\n",
       "    <tr>\n",
       "      <th>min</th>\n",
       "      <td>110.000000</td>\n",
       "      <td>66.000000</td>\n",
       "      <td>1.000000</td>\n",
       "    </tr>\n",
       "    <tr>\n",
       "      <th>50%</th>\n",
       "      <td>155.000000</td>\n",
       "      <td>94.500000</td>\n",
       "      <td>4.000000</td>\n",
       "    </tr>\n",
       "  </tbody>\n",
       "</table>\n",
       "</div>"
      ],
      "text/plain": [
       "            Var1        Var2      Var5\n",
       "mean  146.615385   92.692308  3.538462\n",
       "max   197.000000  122.000000  5.000000\n",
       "min   110.000000   66.000000  1.000000\n",
       "50%   155.000000   94.500000  4.000000"
      ]
     },
     "execution_count": 147,
     "metadata": {},
     "output_type": "execute_result"
    }
   ],
   "source": [
    "## Plusieurs conditions : 3 manières\n",
    "# Manière 1\n",
    "df.loc[(df['Var3']=='G1') & (df['Var4']=='C1')].describe().loc[['mean','max','min','50%']]"
   ]
  },
  {
   "cell_type": "code",
   "execution_count": 148,
   "id": "cac8d023-b180-4efb-a710-2002b8ee2803",
   "metadata": {
    "tags": []
   },
   "outputs": [
    {
     "data": {
      "text/html": [
       "<div>\n",
       "<style scoped>\n",
       "    .dataframe tbody tr th:only-of-type {\n",
       "        vertical-align: middle;\n",
       "    }\n",
       "\n",
       "    .dataframe tbody tr th {\n",
       "        vertical-align: top;\n",
       "    }\n",
       "\n",
       "    .dataframe thead th {\n",
       "        text-align: right;\n",
       "    }\n",
       "</style>\n",
       "<table border=\"1\" class=\"dataframe\">\n",
       "  <thead>\n",
       "    <tr style=\"text-align: right;\">\n",
       "      <th></th>\n",
       "      <th>Var1</th>\n",
       "      <th>Var2</th>\n",
       "      <th>Var5</th>\n",
       "    </tr>\n",
       "  </thead>\n",
       "  <tbody>\n",
       "    <tr>\n",
       "      <th>mean</th>\n",
       "      <td>146.615385</td>\n",
       "      <td>92.692308</td>\n",
       "      <td>3.538462</td>\n",
       "    </tr>\n",
       "    <tr>\n",
       "      <th>max</th>\n",
       "      <td>197.000000</td>\n",
       "      <td>122.000000</td>\n",
       "      <td>5.000000</td>\n",
       "    </tr>\n",
       "    <tr>\n",
       "      <th>min</th>\n",
       "      <td>110.000000</td>\n",
       "      <td>66.000000</td>\n",
       "      <td>1.000000</td>\n",
       "    </tr>\n",
       "    <tr>\n",
       "      <th>50%</th>\n",
       "      <td>155.000000</td>\n",
       "      <td>94.500000</td>\n",
       "      <td>4.000000</td>\n",
       "    </tr>\n",
       "  </tbody>\n",
       "</table>\n",
       "</div>"
      ],
      "text/plain": [
       "            Var1        Var2      Var5\n",
       "mean  146.615385   92.692308  3.538462\n",
       "max   197.000000  122.000000  5.000000\n",
       "min   110.000000   66.000000  1.000000\n",
       "50%   155.000000   94.500000  4.000000"
      ]
     },
     "execution_count": 148,
     "metadata": {},
     "output_type": "execute_result"
    }
   ],
   "source": [
    "# Manière 2\n",
    "df[(df.Var3== 'G1')& (df.Var4=='C1')].describe().loc[['mean','max','min','50%']]"
   ]
  },
  {
   "cell_type": "code",
   "execution_count": 149,
   "id": "45966edc-9c49-4c3e-b3b3-a7e937c8f5b4",
   "metadata": {
    "tags": []
   },
   "outputs": [
    {
     "data": {
      "text/html": [
       "<div>\n",
       "<style scoped>\n",
       "    .dataframe tbody tr th:only-of-type {\n",
       "        vertical-align: middle;\n",
       "    }\n",
       "\n",
       "    .dataframe tbody tr th {\n",
       "        vertical-align: top;\n",
       "    }\n",
       "\n",
       "    .dataframe thead th {\n",
       "        text-align: right;\n",
       "    }\n",
       "</style>\n",
       "<table border=\"1\" class=\"dataframe\">\n",
       "  <thead>\n",
       "    <tr style=\"text-align: right;\">\n",
       "      <th></th>\n",
       "      <th>Var1</th>\n",
       "      <th>Var2</th>\n",
       "      <th>Var5</th>\n",
       "    </tr>\n",
       "  </thead>\n",
       "  <tbody>\n",
       "    <tr>\n",
       "      <th>mean</th>\n",
       "      <td>146.615385</td>\n",
       "      <td>92.692308</td>\n",
       "      <td>3.538462</td>\n",
       "    </tr>\n",
       "    <tr>\n",
       "      <th>max</th>\n",
       "      <td>197.000000</td>\n",
       "      <td>122.000000</td>\n",
       "      <td>5.000000</td>\n",
       "    </tr>\n",
       "    <tr>\n",
       "      <th>min</th>\n",
       "      <td>110.000000</td>\n",
       "      <td>66.000000</td>\n",
       "      <td>1.000000</td>\n",
       "    </tr>\n",
       "    <tr>\n",
       "      <th>50%</th>\n",
       "      <td>155.000000</td>\n",
       "      <td>94.500000</td>\n",
       "      <td>4.000000</td>\n",
       "    </tr>\n",
       "  </tbody>\n",
       "</table>\n",
       "</div>"
      ],
      "text/plain": [
       "            Var1        Var2      Var5\n",
       "mean  146.615385   92.692308  3.538462\n",
       "max   197.000000  122.000000  5.000000\n",
       "min   110.000000   66.000000  1.000000\n",
       "50%   155.000000   94.500000  4.000000"
      ]
     },
     "execution_count": 149,
     "metadata": {},
     "output_type": "execute_result"
    }
   ],
   "source": [
    "# Manière 3\n",
    "G1=df['Var3']=='G1'\n",
    "C1=df['Var4']=='C1'\n",
    "\n",
    "df[G1 & C1].describe().loc[['mean','max','min','50%']]"
   ]
  },
  {
   "cell_type": "markdown",
   "id": "ddc1be2c-f111-47dc-a73e-0501ba65379e",
   "metadata": {
    "tags": []
   },
   "source": [
    "## Des graphiques importants ##"
   ]
  },
  {
   "cell_type": "code",
   "execution_count": 150,
   "id": "26919d5a-f1af-4f46-af29-3f938d333247",
   "metadata": {
    "tags": []
   },
   "outputs": [],
   "source": [
    "import matplotlib.pyplot as plt\n",
    "import seaborn as sns"
   ]
  },
  {
   "cell_type": "markdown",
   "id": "77da7ff4-0d9b-4f40-917a-f907b20f3b2c",
   "metadata": {},
   "source": [
    "Il y a des sites pour ses deux librairies"
   ]
  },
  {
   "cell_type": "markdown",
   "id": "0cce0c66-3814-4202-9324-ab3081c5799b",
   "metadata": {},
   "source": [
    "<font color=\"#800080\"><h4> Histogramme et densités </h4></font>"
   ]
  },
  {
   "cell_type": "code",
   "execution_count": 151,
   "id": "e9669d3b-9201-422e-9e4b-9d2535d041be",
   "metadata": {
    "tags": []
   },
   "outputs": [
    {
     "data": {
      "image/png": "[encoded data removed]",
      "text/plain": [
       "<Figure size 3000x1500 with 1 Axes>"
      ]
     },
     "metadata": {},
     "output_type": "display_data"
    }
   ],
   "source": [
    "df['Var1'].hist(figsize=(30,15),bins=10, density=True, alpha=0.5, color='b')\n",
    "plt.xlabel(\"Var1\",fontsize=30)\n",
    "plt.xticks(fontsize=15)\n",
    "plt.ylabel(\"Densité\",fontsize=30)\n",
    "plt.yticks(fontsize=15)\n",
    "# titre et sous-titre\n",
    "plt.suptitle(\"Histogramme de Var1\",fontsize=50)\n",
    "sns.kdeplot(df['Var1'], color='r', linestyle='--')\n",
    "# plt.savefig(\"hist.png\")\n",
    "plt.show()"
   ]
  },
  {
   "cell_type": "markdown",
   "id": "61ddb10a-f41f-4aa4-9103-6e3f0438aa0f",
   "metadata": {
    "tags": []
   },
   "source": [
    "<font color=\"#800080\"><h4> Plusieurs densités </h4></font>"
   ]
  },
  {
   "cell_type": "code",
   "execution_count": 152,
   "id": "12da5790-518d-4bd3-9aeb-7a0e085b25b9",
   "metadata": {
    "tags": []
   },
   "outputs": [
    {
     "name": "stderr",
     "output_type": "stream",
     "text": [
      "C:\\Users\\peron\\Anaconda3\\lib\\site-packages\\seaborn\\axisgrid.py:118: UserWarning: The figure layout has changed to tight\n",
      "  self._figure.tight_layout(*args, **kwargs)\n"
     ]
    },
    {
     "data": {
      "image/png": "[encoded data removed]",
      "text/plain": [
       "<Figure size 869.625x800 with 1 Axes>"
      ]
     },
     "metadata": {},
     "output_type": "display_data"
    }
   ],
   "source": [
    "sns.displot(data=df, x='Var1', hue=\"Var3\", kind=\"kde\",height=8)\n",
    "plt.xlabel(\"Var 1\",fontsize=15)\n",
    "plt.xticks(fontsize=15)\n",
    "plt.ylabel(\"Densité\",fontsize=15)\n",
    "plt.yticks(fontsize=8)\n",
    "# titre et sous-titre\n",
    "plt.title(\"Histogramme de Var1 selon Var3\",fontsize=15)\n",
    "#plt.savefig(\"kde.png\")\n",
    "plt.show()"
   ]
  },
  {
   "cell_type": "markdown",
   "id": "cc08c19e-3c18-4980-bb77-60e98a55cb3f",
   "metadata": {
    "tags": []
   },
   "source": [
    "<font color=\"#800080\"><h4> Les Boxplots </h4></font>"
   ]
  },
  {
   "cell_type": "code",
   "execution_count": 153,
   "id": "680449bd-9ce2-40bd-a4ad-4ba23cbedf9e",
   "metadata": {
    "tags": []
   },
   "outputs": [
    {
     "data": {
      "image/png": "[encoded data removed]",
      "text/plain": [
       "<Figure size 640x480 with 1 Axes>"
      ]
     },
     "metadata": {},
     "output_type": "display_data"
    }
   ],
   "source": [
    "sns.boxplot(data=df,x=\"Var1\")\n",
    "\n",
    "# nom des axes\n",
    "plt.xlabel(\"Var1\")\n",
    "\n",
    "# titre et sous-titre\n",
    "plt.suptitle(\"Boxplot de Var1\")\n",
    "# grille\n",
    "plt.grid()\n",
    "# Sauvegarder le graphique \n",
    "# plt.savefig(\"Boxplot1.png\")"
   ]
  },
  {
   "cell_type": "code",
   "execution_count": null,
   "id": "b398a5ce-c3ff-43a2-9d1f-70d1f4cbf627",
   "metadata": {},
   "outputs": [],
   "source": []
  },
  {
   "cell_type": "code",
   "execution_count": 154,
   "id": "b916e49f-4679-4100-acce-0c3e229947be",
   "metadata": {
    "tags": []
   },
   "outputs": [
    {
     "data": {
      "image/png": "[encoded data removed]",
      "text/plain": [
       "<Figure size 640x480 with 1 Axes>"
      ]
     },
     "metadata": {},
     "output_type": "display_data"
    }
   ],
   "source": [
    "sns.boxplot(data=df,x=\"Var1\",y=\"Var4\")\n",
    "\n",
    "# nom des axes\n",
    "plt.xlabel(\"Var1\")\n",
    "plt.ylabel(\"Var4\")\n",
    "# titre et sous-titre\n",
    "plt.suptitle(\"Var1 selon Var4\")\n",
    "# grille\n",
    "plt.grid()\n",
    "# Sauvegarder le graphique \n",
    "# plt.savefig(\"Boxplot1.png\")\n"
   ]
  },
  {
   "cell_type": "code",
   "execution_count": 155,
   "id": "1cf9e9f1-0ce9-4d90-925e-dbeeb3cc1d64",
   "metadata": {
    "tags": []
   },
   "outputs": [
    {
     "data": {
      "image/png": "[encoded data removed]",
      "text/plain": [
       "<Figure size 640x480 with 1 Axes>"
      ]
     },
     "metadata": {},
     "output_type": "display_data"
    }
   ],
   "source": [
    "sns.boxplot(data=df,y=\"Var1\",x=\"Var3\")\n",
    "\n",
    "# nom des axes\n",
    "plt.xlabel(\"Var3\")\n",
    "plt.ylabel(\"Var1\")\n",
    "# titre et sous-titre\n",
    "plt.suptitle(\"Var1 selon Var3\")\n",
    "# grille\n",
    "plt.grid()\n",
    "# Sauvegarder le graphique \n",
    "# plt.savefig(\"Boxplot1.png\")"
   ]
  },
  {
   "cell_type": "markdown",
   "id": "2b88dccc-b665-4497-81fd-10656e3ba855",
   "metadata": {
    "tags": []
   },
   "source": [
    "<font color=\"#800080\"><h4> Nuage de points </h4></font>"
   ]
  },
  {
   "cell_type": "code",
   "execution_count": 156,
   "id": "04288ebb-6855-4518-8505-c6949c2367ba",
   "metadata": {
    "tags": []
   },
   "outputs": [
    {
     "data": {
      "image/png": "[encoded data removed]",
      "text/plain": [
       "<Figure size 640x480 with 1 Axes>"
      ]
     },
     "metadata": {},
     "output_type": "display_data"
    }
   ],
   "source": [
    "plt.plot(\"Var1\", 'Var2',data=df, marker=\"o\",linestyle=\"\")\n",
    "plt.xlabel(\"Var1\")\n",
    "plt.ylabel(\"Var2\")\n",
    "plt.title(\"Relation entre Var1 et Var2\")\n",
    "plt.show()"
   ]
  },
  {
   "cell_type": "code",
   "execution_count": 157,
   "id": "a6a0aeb8-f759-4f84-b0d0-25c7ad740f03",
   "metadata": {
    "tags": []
   },
   "outputs": [
    {
     "name": "stderr",
     "output_type": "stream",
     "text": [
      "C:\\Users\\peron\\Anaconda3\\lib\\site-packages\\seaborn\\axisgrid.py:118: UserWarning: The figure layout has changed to tight\n",
      "  self._figure.tight_layout(*args, **kwargs)\n"
     ]
    },
    {
     "data": {
      "image/png": "[encoded data removed]",
      "text/plain": [
       "<Figure size 569.625x500 with 1 Axes>"
      ]
     },
     "metadata": {},
     "output_type": "display_data"
    }
   ],
   "source": [
    "#import warnings\n",
    "#warnings.filterwarnings('ignore', category=UserWarning)\n",
    "sns.lmplot(data=df, x=\"Var1\", y='Var2', hue=\"Var3\")\n",
    "plt.title(\"Relation entre Var1 et Var2 selon Var3\")\n",
    "plt.show()"
   ]
  },
  {
   "cell_type": "code",
   "execution_count": 158,
   "id": "022f01e0-c790-4c81-9888-89ba19908983",
   "metadata": {
    "tags": []
   },
   "outputs": [
    {
     "name": "stderr",
     "output_type": "stream",
     "text": [
      "C:\\Users\\peron\\Anaconda3\\lib\\site-packages\\seaborn\\axisgrid.py:118: UserWarning: The figure layout has changed to tight\n",
      "  self._figure.tight_layout(*args, **kwargs)\n"
     ]
    },
    {
     "data": {
      "image/png": "[encoded data removed]",
      "text/plain": [
       "<Figure size 1000x500 with 2 Axes>"
      ]
     },
     "metadata": {},
     "output_type": "display_data"
    }
   ],
   "source": [
    "sns.lmplot(x=\"Var1\", y='Var2',data=df,col=\"Var3\")\n",
    "plt.show()"
   ]
  },
  {
   "cell_type": "code",
   "execution_count": 162,
   "id": "03ac96e2-da1f-4be0-8d8e-43fcd90d6774",
   "metadata": {
    "tags": []
   },
   "outputs": [
    {
     "data": {
      "image/png": "[encoded data removed]",
      "text/plain": [
       "<Figure size 600x600 with 3 Axes>"
      ]
     },
     "metadata": {},
     "output_type": "display_data"
    }
   ],
   "source": [
    "sns.jointplot(x=\"Var1\", y='Var2',data=df,hue=\"Var3\")\n",
    "\n",
    "plt.suptitle(\"Relation entre Var1 et Var2 selon Var3\", y=1.02)\n",
    "plt.show()"
   ]
  },
  {
   "cell_type": "code",
   "execution_count": 163,
   "id": "566fd32a-9fb4-458b-9ca2-f455305ce0c4",
   "metadata": {
    "tags": []
   },
   "outputs": [
    {
     "data": {
      "image/png": "[encoded data removed]",
      "text/plain": [
       "<Figure size 600x600 with 3 Axes>"
      ]
     },
     "metadata": {},
     "output_type": "display_data"
    }
   ],
   "source": [
    "sns.jointplot(x=\"Var1\", y='Var2',data=df, kind=\"reg\")\n",
    "plt.suptitle(\"Relation entre Var1 et Var2 selon Var3\", y=1.02)\n",
    "plt.show()"
   ]
  },
  {
   "cell_type": "markdown",
   "id": "d347946d-2fe7-4acc-adb8-926ebc67ef43",
   "metadata": {
    "tags": []
   },
   "source": [
    "<font color=\"#800080\"><h4> Les diagrammes en barres </h4></font>"
   ]
  },
  {
   "cell_type": "code",
   "execution_count": 167,
   "id": "70ffa17a-d2e1-4dc3-91ac-e951debad976",
   "metadata": {
    "tags": []
   },
   "outputs": [
    {
     "data": {
      "image/png": "[encoded data removed]",
      "text/plain": [
       "<Figure size 640x480 with 1 Axes>"
      ]
     },
     "metadata": {},
     "output_type": "display_data"
    }
   ],
   "source": [
    "nbj=df['Var4'].value_counts()\n",
    "Jr=df['Var4'].value_counts().keys()\n",
    "plt.bar(Jr,nbj,data=df)\n",
    "plt.suptitle(\"Repartition selon Var4\", y=1)\n",
    "plt.xlabel(\"Var4\")\n",
    "plt.ylabel(\"Effectifs\")\n",
    "plt.grid(axis='y')\n",
    "plt.show()"
   ]
  },
  {
   "cell_type": "markdown",
   "id": "2b40f4c0-b4f6-4aed-b5c4-d647d05f26cb",
   "metadata": {
    "tags": []
   },
   "source": [
    "<div class=\"alert alert-success\">\n",
    "\n",
    "**Exercice** : Faire la même chose que précédemment mais avec les fréquences.\n",
    "</div>"
   ]
  },
  {
   "cell_type": "code",
   "execution_count": 165,
   "id": "40e05c50-4562-4eb7-8e82-2a0f0519335b",
   "metadata": {
    "tags": []
   },
   "outputs": [
    {
     "data": {
      "image/png": "[encoded data removed]",
      "text/plain": [
       "<Figure size 640x480 with 1 Axes>"
      ]
     },
     "metadata": {},
     "output_type": "display_data"
    }
   ],
   "source": [
    "sns.countplot(data=df, x='Var4',order=['C1','C2','C3'],palette='Set1')\n",
    "plt.xlabel(\"Var4\")\n",
    "plt.ylabel(\"Effectifs\")\n",
    "plt.suptitle(\"Repartition selon Var4\")\n",
    "plt.show()"
   ]
  },
  {
   "cell_type": "code",
   "execution_count": 168,
   "id": "42e70d15-85c9-42d6-b953-5759cc5b61e6",
   "metadata": {
    "tags": []
   },
   "outputs": [
    {
     "data": {
      "image/png": "[encoded data removed]",
      "text/plain": [
       "<Figure size 640x480 with 1 Axes>"
      ]
     },
     "metadata": {},
     "output_type": "display_data"
    }
   ],
   "source": [
    "\n",
    "sns.countplot(data=df, x='Var4',hue='Var5',order=['C1','C2','C3'],palette='Set2')\n",
    "plt.xlabel(\"Var4\")\n",
    "plt.ylabel(\"Effectifs\")\n",
    "plt.suptitle(\"Repartition selon Var4\")\n",
    "plt.show()"
   ]
  },
  {
   "cell_type": "markdown",
   "id": "95a2ac60-92bd-47cc-94d1-3de11f48260a",
   "metadata": {},
   "source": [
    "### Pour un diagrammes avec les fréquences"
   ]
  },
  {
   "cell_type": "code",
   "execution_count": 177,
   "id": "5c2ea69e-cf3c-4bbe-8596-3dc8434a663c",
   "metadata": {
    "tags": []
   },
   "outputs": [
    {
     "data": {
      "text/plain": [
       "Var4  Var3\n",
       "C1    G1      13\n",
       "      G2       4\n",
       "C2    G1       8\n",
       "      G2      19\n",
       "C3    G1       1\n",
       "      G2       5\n",
       "dtype: int64"
      ]
     },
     "execution_count": 177,
     "metadata": {},
     "output_type": "execute_result"
    }
   ],
   "source": [
    "df.groupby(['Var4', 'Var3']).size()"
   ]
  },
  {
   "cell_type": "code",
   "execution_count": 178,
   "id": "ad43247c-8b66-42cd-bc9a-2093a0c70ea9",
   "metadata": {
    "tags": []
   },
   "outputs": [
    {
     "data": {
      "text/html": [
       "<div>\n",
       "<style scoped>\n",
       "    .dataframe tbody tr th:only-of-type {\n",
       "        vertical-align: middle;\n",
       "    }\n",
       "\n",
       "    .dataframe tbody tr th {\n",
       "        vertical-align: top;\n",
       "    }\n",
       "\n",
       "    .dataframe thead th {\n",
       "        text-align: right;\n",
       "    }\n",
       "</style>\n",
       "<table border=\"1\" class=\"dataframe\">\n",
       "  <thead>\n",
       "    <tr style=\"text-align: right;\">\n",
       "      <th></th>\n",
       "      <th>Var4</th>\n",
       "      <th>Var3</th>\n",
       "      <th>Eff</th>\n",
       "    </tr>\n",
       "  </thead>\n",
       "  <tbody>\n",
       "    <tr>\n",
       "      <th>0</th>\n",
       "      <td>C1</td>\n",
       "      <td>G1</td>\n",
       "      <td>13</td>\n",
       "    </tr>\n",
       "    <tr>\n",
       "      <th>1</th>\n",
       "      <td>C1</td>\n",
       "      <td>G2</td>\n",
       "      <td>4</td>\n",
       "    </tr>\n",
       "    <tr>\n",
       "      <th>2</th>\n",
       "      <td>C2</td>\n",
       "      <td>G1</td>\n",
       "      <td>8</td>\n",
       "    </tr>\n",
       "    <tr>\n",
       "      <th>3</th>\n",
       "      <td>C2</td>\n",
       "      <td>G2</td>\n",
       "      <td>19</td>\n",
       "    </tr>\n",
       "    <tr>\n",
       "      <th>4</th>\n",
       "      <td>C3</td>\n",
       "      <td>G1</td>\n",
       "      <td>1</td>\n",
       "    </tr>\n",
       "    <tr>\n",
       "      <th>5</th>\n",
       "      <td>C3</td>\n",
       "      <td>G2</td>\n",
       "      <td>5</td>\n",
       "    </tr>\n",
       "  </tbody>\n",
       "</table>\n",
       "</div>"
      ],
      "text/plain": [
       "  Var4 Var3  Eff\n",
       "0   C1   G1   13\n",
       "1   C1   G2    4\n",
       "2   C2   G1    8\n",
       "3   C2   G2   19\n",
       "4   C3   G1    1\n",
       "5   C3   G2    5"
      ]
     },
     "execution_count": 178,
     "metadata": {},
     "output_type": "execute_result"
    }
   ],
   "source": [
    "df.groupby(['Var4', 'Var3']).size().reset_index(name='Eff')"
   ]
  },
  {
   "cell_type": "code",
   "execution_count": 183,
   "id": "5aaf5d0e-50ea-4ab6-8c10-7c7876d29c29",
   "metadata": {
    "tags": []
   },
   "outputs": [
    {
     "data": {
      "text/plain": [
       "0    0.764706\n",
       "1    0.235294\n",
       "2    0.296296\n",
       "3    0.703704\n",
       "4    0.166667\n",
       "5    0.833333\n",
       "Name: Eff, dtype: float64"
      ]
     },
     "execution_count": 183,
     "metadata": {},
     "output_type": "execute_result"
    }
   ],
   "source": [
    "Tableau_eff.groupby('Var4')['Eff'].transform(lambda x: x / x.sum())"
   ]
  },
  {
   "cell_type": "code",
   "execution_count": 169,
   "id": "a4d7fac8-3514-4feb-9cce-bd63ac01c272",
   "metadata": {
    "tags": []
   },
   "outputs": [
    {
     "data": {
      "text/html": [
       "<div>\n",
       "<style scoped>\n",
       "    .dataframe tbody tr th:only-of-type {\n",
       "        vertical-align: middle;\n",
       "    }\n",
       "\n",
       "    .dataframe tbody tr th {\n",
       "        vertical-align: top;\n",
       "    }\n",
       "\n",
       "    .dataframe thead th {\n",
       "        text-align: right;\n",
       "    }\n",
       "</style>\n",
       "<table border=\"1\" class=\"dataframe\">\n",
       "  <thead>\n",
       "    <tr style=\"text-align: right;\">\n",
       "      <th></th>\n",
       "      <th>Var4</th>\n",
       "      <th>Var3</th>\n",
       "      <th>Eff</th>\n",
       "      <th>Frequence</th>\n",
       "    </tr>\n",
       "  </thead>\n",
       "  <tbody>\n",
       "    <tr>\n",
       "      <th>0</th>\n",
       "      <td>C1</td>\n",
       "      <td>G1</td>\n",
       "      <td>13</td>\n",
       "      <td>0.764706</td>\n",
       "    </tr>\n",
       "    <tr>\n",
       "      <th>1</th>\n",
       "      <td>C1</td>\n",
       "      <td>G2</td>\n",
       "      <td>4</td>\n",
       "      <td>0.235294</td>\n",
       "    </tr>\n",
       "    <tr>\n",
       "      <th>2</th>\n",
       "      <td>C2</td>\n",
       "      <td>G1</td>\n",
       "      <td>8</td>\n",
       "      <td>0.296296</td>\n",
       "    </tr>\n",
       "    <tr>\n",
       "      <th>3</th>\n",
       "      <td>C2</td>\n",
       "      <td>G2</td>\n",
       "      <td>19</td>\n",
       "      <td>0.703704</td>\n",
       "    </tr>\n",
       "    <tr>\n",
       "      <th>4</th>\n",
       "      <td>C3</td>\n",
       "      <td>G1</td>\n",
       "      <td>1</td>\n",
       "      <td>0.166667</td>\n",
       "    </tr>\n",
       "    <tr>\n",
       "      <th>5</th>\n",
       "      <td>C3</td>\n",
       "      <td>G2</td>\n",
       "      <td>5</td>\n",
       "      <td>0.833333</td>\n",
       "    </tr>\n",
       "  </tbody>\n",
       "</table>\n",
       "</div>"
      ],
      "text/plain": [
       "  Var4 Var3  Eff  Frequence\n",
       "0   C1   G1   13   0.764706\n",
       "1   C1   G2    4   0.235294\n",
       "2   C2   G1    8   0.296296\n",
       "3   C2   G2   19   0.703704\n",
       "4   C3   G1    1   0.166667\n",
       "5   C3   G2    5   0.833333"
      ]
     },
     "execution_count": 169,
     "metadata": {},
     "output_type": "execute_result"
    }
   ],
   "source": [
    "Tableau_eff = df.groupby(['Var4', 'Var3']).size().reset_index(name='Eff')\n",
    "Tableau_eff['Frequence'] = Tableau_eff.groupby('Var4')['Eff'].transform(lambda x: x / x.sum())\n",
    "Tableau_eff"
   ]
  },
  {
   "cell_type": "code",
   "execution_count": 170,
   "id": "85a7f676-8239-4004-8851-8e0bc6de7471",
   "metadata": {},
   "outputs": [
    {
     "data": {
      "image/png": "[encoded data removed]",
      "text/plain": [
       "<Figure size 640x480 with 1 Axes>"
      ]
     },
     "metadata": {},
     "output_type": "display_data"
    }
   ],
   "source": [
    "sns.barplot(data=Tableau_eff, x='Var4', y='Frequence',hue='Var3',palette='Set2')\n",
    "plt.xlabel(\"Var4\")\n",
    "plt.ylabel(\"Fréquences\")\n",
    "plt.suptitle(\"Distribution de Var4 selon Var3\")\n",
    "plt.legend(bbox_to_anchor=(1, 1), loc='upper left')\n",
    "plt.show()"
   ]
  },
  {
   "cell_type": "code",
   "execution_count": null,
   "id": "afad1681-c018-4d13-a49b-4d1394d98f2a",
   "metadata": {},
   "outputs": [],
   "source": []
  }
 ],
 "metadata": {
  "kernelspec": {
   "display_name": "Python 3 (ipykernel)",
   "language": "python",
   "name": "python3"
  },
  "language_info": {
   "codemirror_mode": {
    "name": "ipython",
    "version": 3
   },
   "file_extension": ".py",
   "mimetype": "text/x-python",
   "name": "python",
   "nbconvert_exporter": "python",
   "pygments_lexer": "ipython3",
   "version": "3.9.18"
  }
 },
 "nbformat": 4,
 "nbformat_minor": 5
}
